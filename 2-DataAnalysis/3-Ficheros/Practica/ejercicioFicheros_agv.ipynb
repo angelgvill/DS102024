{
 "cells": [
  {
   "cell_type": "markdown",
   "metadata": {},
   "source": [
    "# AutoImporter para Importaciones Simplificadas"
   ]
  },
  {
   "cell_type": "markdown",
   "metadata": {},
   "source": [
    "# Objetivo:\n",
    "\n",
    "Crear una clase en Python que, al ser importada y utilizada al inicio de un notebook o script, permita importar módulos directamente utilizando solo el nombre del archivo, sin necesidad de especificar rutas relativas o absolutas.\n",
    "\n",
    "# Descripción:\n",
    "En proyectos con estructuras de directorios complejas, es común tener que escribir rutas largas y complicadas para importar módulos ubicados en carpetas profundas. Esto puede hacer que el código sea menos legible y más propenso a errores. Para simplificar este proceso, se te pide que implementes una clase llamada AutoImporter que modifique dinámicamente el entorno de importaciones de Python.\n",
    "\n",
    "# Requisitos:\n",
    "\n",
    "1. Clase AutoImporter:\n",
    "\n",
    "    - Debe estar implementada en un archivo Python, por ejemplo, auto_importer.py.\n",
    "    - Al instanciar esta clase, debe:\n",
    "        - Añadir automáticamente al sys.path todos los subdirectorios del directorio base especificado, permitiendo que Python pueda encontrar y cargar módulos desde cualquier subdirectorio.\n",
    "        - Si no se especifica un directorio base, debe utilizar el directorio actual desde donde se ejecuta el notebook o script (Path.cwd()).\n",
    "\n",
    "2. Métodos de la Clase:\n",
    "\n",
    "    - **__init__(self, base_dir=None)**: Constructor que acepta un parámetro opcional base_dir. Si se proporciona, este será el directorio base para buscar subdirectorios; si no, se utilizará el directorio actual.\n",
    "    - **add_to_sys_path(self)**: Método que recorre recursivamente todos los subdirectorios del base_dir y los añade a sys.path.\n",
    "\n",
    "2. Uso de la Clase:\n",
    "\n",
    "    - Una vez creada la instancia de la clase AutoImporter en un notebook o script, debe ser posible importar cualquier archivo ubicado en las subcarpetas del base_dir sin necesidad de escribir la ruta completa, usando únicamente import nombre_modulo."
   ]
  },
  {
   "cell_type": "markdown",
   "metadata": {},
   "source": [
    "## Ejemplo de Uso:\n",
    "\n",
    "Supongamos que tienes la siguiente estructura de carpetas:"
   ]
  },
  {
   "cell_type": "markdown",
   "metadata": {},
   "source": [
    "````/mi_proyecto\n",
    "│\n",
    "├── /src\n",
    "│   ├── /utils\n",
    "│   │   └── mi_utilidad.py\n",
    "│   └── /models\n",
    "│       └── mi_modelo.py\n",
    "└── main.py"
   ]
  },
  {
   "cell_type": "markdown",
   "metadata": {},
   "source": [
    "Si utilizas la clase AutoImporter al inicio de main.py, podrías importar los módulos mi_utilidad.py y mi_modelo.py directamente en el código de la siguiente manera:"
   ]
  },
  {
   "cell_type": "markdown",
   "metadata": {
    "vscode": {
     "languageId": "plaintext"
    }
   },
   "source": [
    "```python\n",
    "from auto_importer import AutoImporter\n",
    "\n",
    "# Inicializa el AutoImporter, utilizando la carpeta 'src' como base\n",
    "auto_importer = AutoImporter(base_dir='src')\n",
    "\n",
    "# Ahora puedes importar los módulos directamente por su nombre\n",
    "import mi_utilidad\n",
    "import mi_modelo"
   ]
  },
  {
   "cell_type": "markdown",
   "metadata": {},
   "source": [
    "Con esta clase, ya no será necesario especificar rutas como from utils.mi_utilidad import ... o from models.mi_modelo import ..., lo que simplifica el proceso de importación en proyectos con estructuras de carpetas complejas."
   ]
  },
  {
   "cell_type": "code",
   "execution_count": 6,
   "metadata": {},
   "outputs": [],
   "source": [
    "import sys\n",
    "from pathlib import Path\n",
    "\n",
    "class AutoImporter:\n",
    "    def __init__(self, base_dir=None):\n",
    "        \"\"\"\n",
    "        Inicializa la clase AutoImporter y añade automáticamente\n",
    "        todos los subdirectorios de `base_dir` al sys.path.\n",
    "\n",
    "        :param base_dir: Directorio base desde donde buscar subdirectorios.\n",
    "                         Si no se especifica, utiliza el directorio actual (Path.cwd()).\n",
    "        \"\"\"\n",
    "        self.base_dir = Path(base_dir) if base_dir else Path.cwd()\n",
    "        self._add_subdirectories_to_sys_path()\n",
    "\n",
    "    def _add_subdirectories_to_sys_path(self):\n",
    "        \"\"\"\n",
    "        Añade todos los subdirectorios de `self.base_dir` a sys.path.\n",
    "        \"\"\"\n",
    "        for subdir in self.base_dir.rglob('*'):\n",
    "            if subdir.is_dir() and str(subdir) not in sys.path:\n",
    "                sys.path.append(str(subdir))\n"
   ]
  },
  {
   "cell_type": "code",
   "execution_count": 24,
   "metadata": {},
   "outputs": [],
   "source": [
    "sys.path = [str(Path.cwd())]"
   ]
  },
  {
   "cell_type": "code",
   "execution_count": 25,
   "metadata": {},
   "outputs": [
    {
     "data": {
      "text/plain": [
       "['/Users/angelg.villanueva/Documents/04 DATA-CB-PROGRAM/DS1024_2/2-DataAnalysis/3-Ficheros/Practica']"
      ]
     },
     "execution_count": 25,
     "metadata": {},
     "output_type": "execute_result"
    }
   ],
   "source": [
    "sys.path"
   ]
  },
  {
   "cell_type": "code",
   "execution_count": 19,
   "metadata": {},
   "outputs": [],
   "source": [
    "importer = AutoImporter()\n"
   ]
  },
  {
   "cell_type": "code",
   "execution_count": 20,
   "metadata": {},
   "outputs": [
    {
     "data": {
      "text/plain": [
       "['/Users/angelg.villanueva/Documents/04 DATA-CB-PROGRAM/DS1024_2/2-DataAnalysis/3-Ficheros/Practica',\n",
       " '/Users/angelg.villanueva/Documents/04 DATA-CB-PROGRAM/DS1024_2/2-DataAnalysis/3-Ficheros/Practica/src',\n",
       " '/Users/angelg.villanueva/Documents/04 DATA-CB-PROGRAM/DS1024_2/2-DataAnalysis/3-Ficheros/Practica/src/utils',\n",
       " '/Users/angelg.villanueva/Documents/04 DATA-CB-PROGRAM/DS1024_2/2-DataAnalysis/3-Ficheros/Practica/src/models',\n",
       " '/Users/angelg.villanueva/Documents/04 DATA-CB-PROGRAM/DS1024_2/2-DataAnalysis/3-Ficheros/Practica/src/utils/text']"
      ]
     },
     "execution_count": 20,
     "metadata": {},
     "output_type": "execute_result"
    }
   ],
   "source": [
    "sys.path"
   ]
  },
  {
   "cell_type": "code",
   "execution_count": 28,
   "metadata": {},
   "outputs": [],
   "source": [
    "importer = AutoImporter(\"/Users/angelg.villanueva/Documents/04 DATA-CB-PROGRAM/DS1024_2/2-DataAnalysis/10-EDA\")"
   ]
  },
  {
   "cell_type": "code",
   "execution_count": 29,
   "metadata": {},
   "outputs": [
    {
     "data": {
      "text/plain": [
       "['/Users/angelg.villanueva/Documents/04 DATA-CB-PROGRAM/DS1024_2/2-DataAnalysis/3-Ficheros/Practica',\n",
       " '/Users/angelg.villanueva/Documents/04 DATA-CB-PROGRAM/DS1024_2/2-DataAnalysis/10-EDA/EDA_Ronald',\n",
       " '/Users/angelg.villanueva/Documents/04 DATA-CB-PROGRAM/DS1024_2/2-DataAnalysis/10-EDA/data',\n",
       " '/Users/angelg.villanueva/Documents/04 DATA-CB-PROGRAM/DS1024_2/2-DataAnalysis/10-EDA/raw',\n",
       " '/Users/angelg.villanueva/Documents/04 DATA-CB-PROGRAM/DS1024_2/2-DataAnalysis/10-EDA/EDA_Ronald/input',\n",
       " '/Users/angelg.villanueva/Documents/04 DATA-CB-PROGRAM/DS1024_2/2-DataAnalysis/10-EDA/data/raw']"
      ]
     },
     "execution_count": 29,
     "metadata": {},
     "output_type": "execute_result"
    }
   ],
   "source": [
    "sys.path"
   ]
  }
 ],
 "metadata": {
  "kernelspec": {
   "display_name": ".venv",
   "language": "python",
   "name": "python3"
  },
  "language_info": {
   "codemirror_mode": {
    "name": "ipython",
    "version": 3
   },
   "file_extension": ".py",
   "mimetype": "text/x-python",
   "name": "python",
   "nbconvert_exporter": "python",
   "pygments_lexer": "ipython3",
   "version": "3.13.0"
  }
 },
 "nbformat": 4,
 "nbformat_minor": 2
}
