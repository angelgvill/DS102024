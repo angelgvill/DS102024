{
 "cells": [
  {
   "cell_type": "code",
   "execution_count": 1,
   "metadata": {},
   "outputs": [
    {
     "name": "stdout",
     "output_type": "stream",
     "text": [
      "[[ 20.  70.  60.]\n",
      " [ 80.  70. 120.]]\n"
     ]
    }
   ],
   "source": [
    "import numpy as np\n",
    "\n",
    "def suma_matrices(A, B):\n",
    "    # Verificar si las matrices tienen las mismas dimensiones\n",
    "    if A.shape != B.shape:\n",
    "        print(\"Las matrices tienen que tener la misma dimensión para sumarse\")\n",
    "        return None\n",
    "\n",
    "    suma = np.array([])  # Inicializar un arreglo vacío\n",
    "\n",
    "    # Sumar elementos ítem a ítem\n",
    "    for i in range(A.shape[0]):\n",
    "        for j in range(A.shape[1]):\n",
    "            suma = np.append(suma, A[i, j] + B[i, j])  # Agregar el resultado al arreglo\n",
    "\n",
    "    # Ajustar la forma al tamaño de las matrices originales\n",
    "    suma = suma.reshape(A.shape[0], A.shape[1])\n",
    "\n",
    "    return suma\n",
    "\n",
    "# Ejemplo de uso\n",
    "A = np.array([\n",
    "    [10, 20, 30],\n",
    "    [40, 50, 60]\n",
    "])\n",
    "\n",
    "B = np.array([\n",
    "    [10, 50, 30],\n",
    "    [40, 20, 60]\n",
    "])\n",
    "\n",
    "print(suma_matrices(A, B))\n"
   ]
  },
  {
   "cell_type": "code",
   "execution_count": 2,
   "metadata": {},
   "outputs": [
    {
     "name": "stdout",
     "output_type": "stream",
     "text": [
      "Tu función suma_matrices está excelente\n"
     ]
    }
   ],
   "source": [
    "import numpy as np\n",
    "\n",
    "def suma_matrices(A, B):\n",
    "    suma = np.array([])  # Inicializar un arreglo vacío\n",
    "\n",
    "    # Validar si las dimensiones son compatibles\n",
    "    if A.shape != B.shape:\n",
    "        raise ValueError(\"Las matrices tienen que tener la misma dimensión para sumarse\")  # Lanzar excepción\n",
    "\n",
    "    # Sumar elementos de ambas matrices ítem a ítem\n",
    "    for i in range(A.shape[0]):\n",
    "        for j in range(A.shape[1]):\n",
    "            suma = np.append(suma, A[i, j] + B[i, j])\n",
    "\n",
    "    # Cambiar la forma del arreglo al final\n",
    "    suma = suma.reshape(A.shape[0], A.shape[1])\n",
    "\n",
    "    return suma\n",
    "\n",
    "# Matrices de prueba\n",
    "A = np.array([\n",
    "    [10, 20, 30],\n",
    "    [40, 50, 60]\n",
    "])\n",
    "\n",
    "B = np.array([\n",
    "    [10, 50, 30],\n",
    "    [40, 20, 60]\n",
    "])\n",
    "\n",
    "C = np.array([\n",
    "    [2, 3, 5, -8],\n",
    "    [4, 13, 17, -19],\n",
    "    [23, 15, 31, 0]\n",
    "])\n",
    "\n",
    "D = np.array([\n",
    "    [2, 3, 5, 7],\n",
    "    [11, 13, 17, 19],\n",
    "    [23, 29, 31, 37]\n",
    "])\n",
    "\n",
    "# Test function\n",
    "def test_suma(A, B, C, D):\n",
    "    if not (suma_matrices(A, B) == A + B).all():\n",
    "        raise ValueError(\"La suma entre A y B falla\")\n",
    "    try:\n",
    "        suma_matrices(C, A)\n",
    "        print(\"Tu función no contempla tamaños incompatibles a la hora de sumar\")\n",
    "    except ValueError:\n",
    "        print(\"Tu función suma_matrices está excelente\")\n",
    "\n",
    "test_suma(A, B, C, D)\n"
   ]
  }
 ],
 "metadata": {
  "kernelspec": {
   "display_name": "bootcamp-ds-k6V7HxYL-py3.13",
   "language": "python",
   "name": "python3"
  },
  "language_info": {
   "codemirror_mode": {
    "name": "ipython",
    "version": 3
   },
   "file_extension": ".py",
   "mimetype": "text/x-python",
   "name": "python",
   "nbconvert_exporter": "python",
   "pygments_lexer": "ipython3",
   "version": "3.13.0"
  }
 },
 "nbformat": 4,
 "nbformat_minor": 2
}
