{
  "cells": [
    {
      "cell_type": "markdown",
      "metadata": {
        "id": "AOe1_suhwZNN"
      },
      "source": [
        "### Ejercicio 1: Suma Matrices\n",
        "Complete la implementación de la función suma_matrices para que devuelva como resultado la suma entre las dos matrices (arreglos numpy) pasados como parámetro (recuerda verificar que los tamaños sean compatibles). "
      ]
    },
    {
      "cell_type": "code",
      "execution_count": 2,
      "metadata": {},
      "outputs": [],
      "source": [
        "import numpy as np"
      ]
    },
    {
      "cell_type": "code",
      "execution_count": 109,
      "metadata": {
        "id": "CkVRd7MMwZNP"
      },
      "outputs": [],
      "source": [
        "def suma_matrices(A, B):\n",
        "  suma = np.array([])\n",
        "  #complete con su código aquí\n",
        "  if A.shape != B.shape:\n",
        "    raise ValueError (\"las matrices tienen que tener la misma dimensión para sumarse\")\n",
        "  #pass #este pass, ¿hace algo?\n",
        "\n",
        "  #sumar elementos de ambas matrices item a item.\n",
        "  for i in range(A.shape[0]):\n",
        "    for j in range(A.shape[1]):\n",
        "      suma = np.append(suma, A[i,j] + B[i,j])\n",
        "\n",
        "  suma = suma.reshape(A.shape[0], A.shape[1])\n",
        "      \n",
        "  return suma\n"
      ]
    },
    {
      "cell_type": "code",
      "execution_count": null,
      "metadata": {
        "cellView": "form",
        "id": "YYxIsuAswZNR"
      },
      "outputs": [],
      "source": [
        "#@title Ejecuta esta celda para evaluar tu función\n",
        "import numpy as np\n",
        "A = np.array([\n",
        "    [10,20,30],\n",
        "    [40,50,60]\n",
        "])\n",
        "\n",
        "B = np.array([\n",
        "    [10,50,30],\n",
        "    [40,20,60]\n",
        "])\n",
        "\n",
        "C = np.array([\n",
        "        [ 2,  3,  5,  -8],\n",
        "        [4, 13, 17, -19],\n",
        "        [23, 15, 31, 0]\n",
        "])\n",
        "\n",
        "D = np.array([\n",
        "        [ 2,  3,  5,  7],\n",
        "        [11, 13, 17, 19],\n",
        "        [23, 29, 31, 37]\n",
        "    ])\n",
        "\n",
        "def test_suma(A,B,C,D):\n",
        "  if( not (suma_matrices(A, B) == A + B).all()): raise ValueError(\"La suma entre A y B falla\")\n",
        "  try:\n",
        "    suma_matrices(C, A)\n",
        "    print(\"Tu función no contempla tamaños incompatibles a la hora de sumar\" )\n",
        "  except ValueError:\n",
        "    print(\"Tu función suma_matrices está excelente\")\n",
        "\n",
        "test_suma(A,B,C,D)"
      ]
    },
    {
      "cell_type": "markdown",
      "metadata": {
        "id": "deUSjqihk0Fk"
      },
      "source": [
        "### Ejercicio 2\n",
        "Complete la implementación de las funciones es_triangular_superior(), es_triangular_inferior() y es_diagonal() para que devuelvan verdadero o falso según corresponda. "
      ]
    },
    {
      "cell_type": "code",
      "execution_count": 12,
      "metadata": {
        "id": "EEYgk4_7p71E"
      },
      "outputs": [],
      "source": [
        "def es_triangular_superior_items (A):\n",
        "  #complete con su código aquí\n",
        "  if A.shape[0] != A.shape[1]:\n",
        "    raise ValueError (\"las matriz no es cuadrada (con lo que no puede ser triangular)\")\n",
        "  for i in range(1, A.shape[0]):\n",
        "      for j in range(0,i):\n",
        "        if A[i,j] == 0: continue\n",
        "        else:\n",
        "          return False\n",
        "  print (f'La matriz es triangular superior')\n",
        "  return True                 \n",
        "\n",
        "\n",
        "def es_triangular_inferior_items (A):\n",
        "  if A.shape[0] != A.shape[1]:\n",
        "    raise ValueError (\"las matriz no es cuadrada (con lo que no puede ser triangular)\")\n",
        "  for i in range(A.shape[0]):\n",
        "      for j in range(i+1,A.shape[1]):\n",
        "        if A[i,j] == 0: continue\n",
        "        else:\n",
        "          return False\n",
        "  print (f'La matriz es triangular inferior')      \n",
        "  return True \n",
        "#   #complete con su código aquí \n",
        "   \n",
        "\n",
        "# def es_diagonal(A):\n",
        "#   #complete con su código aquí"
      ]
    },
    {
      "cell_type": "code",
      "execution_count": null,
      "metadata": {},
      "outputs": [],
      "source": [
        "A = np.array ([[ 1, 2, 0, 5],\n",
        "                [0, 3, 2, 4],\n",
        "                [0, 0, 9, 9],\n",
        "                [0, 0, 0, 1]])\n",
        "print (A)\n",
        "print (A.shape)\n",
        "\n",
        "es_triangular_superior_items (A)\n"
      ]
    },
    {
      "cell_type": "code",
      "execution_count": null,
      "metadata": {},
      "outputs": [],
      "source": [
        "A = np.array ([[ 1, 0, 0, 0],\n",
        "                [0, 3, 0, 0],\n",
        "                [8, 0, 9, 0],\n",
        "                [9, 0, 8, 1]])\n",
        "print (A)\n",
        "print (A.shape)\n",
        "\n",
        "es_triangular_inferior_items (A)\n"
      ]
    },
    {
      "cell_type": "code",
      "execution_count": 15,
      "metadata": {},
      "outputs": [],
      "source": [
        "#investigar triu y tril\n",
        "def es_triangular_superior(A):\n",
        "  #complete con su código aquí\n",
        "  if A.shape[0] != A.shape[1]:\n",
        "    raise ValueError (f'la matriz{A} no es cuadrada (con lo que no puede ser triangular)')\n",
        "  if (A == np.triu(A)).all(): \n",
        "    print (f'La matriz {A} es triangular superior')\n",
        "    return  True \n",
        "  else: print (f'La matriz {A} no es triangular superior')\n",
        "  return False\n",
        "\n",
        "\n",
        "def es_triangular_inferior(A):\n",
        "  #complete con su código aquí \n",
        "  if A.shape[0] != A.shape[1]:\n",
        "    raise ValueError (\"la matriz no es cuadrada (con lo que no puede ser triangular)\")\n",
        "  if (A == np.tril(A)).all(): \n",
        "      print ('La matriz es triangular inferior')\n",
        "      return  True\n",
        "  else: print ('La matriz no es triangular inferior')\n",
        "  return False\n",
        "\n",
        "def es_diagonal(A):\n",
        "  #complete con su código aquí\n",
        "  if A.shape[0] != A.shape[1]:\n",
        "      raise ValueError (\"la matriz no es cuadrada (con lo que no puede ser triangular)\")\n",
        "  if (A == np.triu(A)).all() and (A == np.tril(A)).all():\n",
        "      print ('La matriz es matriz diagonal')\n",
        "      return True\n",
        "  else: print ('La matriz no es diagonal')\n",
        "  return False\n",
        "\n",
        "\n"
      ]
    },
    {
      "cell_type": "code",
      "execution_count": null,
      "metadata": {
        "cellView": "form",
        "id": "h_OQM9pfsCMR"
      },
      "outputs": [],
      "source": [
        "#@title Ejecuta esta celda para evaluar tu función\n",
        "import numpy as np\n",
        "A = np.array([[4, 1, 0],\n",
        "       [0, 5, 0],\n",
        "       [0, 0, 6]])\n",
        "\n",
        "B = np.array([[4, 0, 0],\n",
        "       [1, 5, 0],\n",
        "       [3, 0, 6]])\n",
        "\n",
        "C = np.array([[4, 0, 0],\n",
        "       [0, 5, 0],\n",
        "       [0, 0, 6]])\n",
        "\n",
        "D = np.array([\n",
        "        [ 2,  3,  5,  7],\n",
        "        [11, 13, 17, 19],\n",
        "        [23, 29, 31, 37]\n",
        "    ])\n",
        "\n",
        "def test(A,B,C,D):\n",
        "  if not es_triangular_superior(A): raise ValueError(\"tu función falla al detectar matrices triangulares superiores\")\n",
        "  if not es_triangular_inferior(B): raise ValueError(\"tu función falla al detectar matrices triangulares inferiores\")\n",
        "  if not es_diagonal(C): raise ValueError(\"tu función falla al detectar matrices diagonales\")\n",
        "  if es_triangular_superior(B) or es_triangular_superior(D): raise ValueError(\"tu función indica como matrices triangulares superiores algunas matrices que no lo son\")\n",
        "  if es_triangular_inferior(A) or es_triangular_inferior(D): raise ValueError(\"tu función indica como matrices triangulares inferiores algunas matrices que no lo son\")\n",
        "  if es_diagonal(A) or es_diagonal(D) or es_diagonal(B): raise ValueError(\"tu función indica como matrices diagonales algunas matrices que no lo son\")\n",
        "  print(\"Las tres funciones están excelentes!\")\n",
        "test(A,B,C,D)"
      ]
    },
    {
      "cell_type": "markdown",
      "metadata": {
        "id": "HhxxLQZlsmAI"
      },
      "source": [
        "### Ejercicio 3\n",
        "Complete la implementación de la función producto_matrices para que devuelva como resultado la multiplicación entre las dos matrices (arreglos numpy) pasados como parámetro (recuerda verificar que los tamaños sean compatibles). "
      ]
    },
    {
      "cell_type": "code",
      "execution_count": 116,
      "metadata": {
        "id": "C-4XY7pniJbl"
      },
      "outputs": [],
      "source": [
        "def producto_matrices(a, b):\n",
        "  \n",
        "  #complete con su código aquí\n",
        "  if a.shape[1] != b.shape[0]:\n",
        "    raise ValueError (f'no se pueden multiplicar matrices cuya dimensión no coincida m x n, n x q')\n",
        "  producto = np.array([])\n",
        "  \n",
        "  for i in range(a.shape[0]):\n",
        "    for k in range (b.shape[1]):\n",
        "      x=0\n",
        "      for j in range (a.shape[1]):\n",
        "        x= x+ (a[i,j]*b[j,k])\n",
        "      # print (x)\n",
        "      producto = np.append(producto, x)\n",
        "     \n",
        "  print (producto)\n",
        "  producto = np.reshape (producto,(a.shape[0],b.shape[1]))\n",
        "  return producto"
      ]
    },
    {
      "cell_type": "code",
      "execution_count": null,
      "metadata": {},
      "outputs": [],
      "source": [
        "a = np.array([\n",
        "    [1,2,9],\n",
        "    [3,4,9],\n",
        "    [5,6,9]\n",
        "    ])\n",
        "b = np.array([\n",
        "            [1, 2, 3, 4],\n",
        "            [5, 6, 7, 8]\n",
        "            ])\n",
        "a\n",
        "\n",
        "#Ejecutar la función para verificar que funcione correctamente\n",
        "producto_matrices(a, b)\n"
      ]
    },
    {
      "cell_type": "code",
      "execution_count": null,
      "metadata": {
        "cellView": "form",
        "id": "__42ho37iYNr"
      },
      "outputs": [],
      "source": [
        "#@title Ejecuta esta celda para evaluar tu función\n",
        "import numpy as np\n",
        "A = np.array([\n",
        "    [10,20,30],\n",
        "    [40,50,60]\n",
        "])\n",
        "\n",
        "B = np.array([\n",
        "    [10,50,30],\n",
        "    [40,20,60]\n",
        "])\n",
        "\n",
        "C = np.array([\n",
        "        [ 2,  3,  5,  -8],\n",
        "        [4, 13, 17, -19],\n",
        "        [23, 15, 31, 0]\n",
        "])\n",
        "\n",
        "D = np.array([\n",
        "        [ 2,  3,  5,  7],\n",
        "        [11, 13, 17, 19],\n",
        "        [23, 29, 31, 37]\n",
        "    ])\n",
        "def test_producto(A,B,C,D):\n",
        "  if( not (producto_matrices(A, C) == A.dot(C)).all()): raise ValueError(\"La multiplicación entre A y C falla\")\n",
        "  try:\n",
        "    producto_matrices(C, A)\n",
        "    print(\"Tu función no contempla tamaños incompatibles a la hora de multiplicar\" )\n",
        "  except ValueError:\n",
        "    print(\"Tu función producto_matrices está excelente\")\n",
        "\n",
        "test_producto(A,B,C,D)\n",
        "\n",
        "def test_suma(A,B,C,D):\n",
        "  if( not (suma_matrices(A, B) == A + B).all()): raise ValueError(\"La suma entre A y B falla\")\n",
        "  try:\n",
        "    producto_matrices(C, A)\n",
        "    print(\"Tu función no contempla tamaños incompatibles a la hora de sumar\" )\n",
        "  except ValueError:\n",
        "    print(\"Tu función suma_matrices está excelente\")"
      ]
    }
  ],
  "metadata": {
    "colab": {
      "collapsed_sections": [
        "deUSjqihk0Fk",
        "HhxxLQZlsmAI"
      ],
      "name": "Ejercicios_Matrices",
      "provenance": []
    },
    "kernelspec": {
      "display_name": "bootcamp-ds-k6V7HxYL-py3.13",
      "language": "python",
      "name": "python3"
    },
    "language_info": {
      "codemirror_mode": {
        "name": "ipython",
        "version": 3
      },
      "file_extension": ".py",
      "mimetype": "text/x-python",
      "name": "python",
      "nbconvert_exporter": "python",
      "pygments_lexer": "ipython3",
      "version": "3.13.0"
    }
  },
  "nbformat": 4,
  "nbformat_minor": 0
}
