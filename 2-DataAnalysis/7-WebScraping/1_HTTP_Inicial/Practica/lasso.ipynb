{
 "cells": [
  {
   "cell_type": "markdown",
   "metadata": {},
   "source": [
    "# Ejercicio Scraping\n",
    "\n",
    "Descargar letras de canciones\n",
    "\n",
    "Utilizando beautiful soup descargar todas las canciones de [Lasso](https://es.wikipedia.org/wiki/Lasso_(cantante)) que hay en [letras.com](https://www.letras.com/lasso/)"
   ]
  },
  {
   "cell_type": "code",
   "execution_count": 1,
   "metadata": {},
   "outputs": [
    {
     "ename": "IndentationError",
     "evalue": "expected an indented block after 'for' statement on line 19 (3909667455.py, line 22)",
     "output_type": "error",
     "traceback": [
      "\u001b[0;36m  Cell \u001b[0;32mIn[1], line 22\u001b[0;36m\u001b[0m\n\u001b[0;31m    titulo_cancion = container.find('div', class_='textStyle --type-title --size-medium --weight-strong ')\u001b[0m\n\u001b[0m    ^\u001b[0m\n\u001b[0;31mIndentationError\u001b[0m\u001b[0;31m:\u001b[0m expected an indented block after 'for' statement on line 19\n"
     ]
    },
    {
     "ename": "NameError",
     "evalue": "name 'container' is not defined",
     "output_type": "error",
     "traceback": [
      "\u001b[0;31m---------------------------------------------------------------------------\u001b[0m",
      "\u001b[0;31mNameError\u001b[0m                                 Traceback (most recent call last)",
      "Cell \u001b[0;32mIn[2], line 31\u001b[0m\n\u001b[1;32m     28\u001b[0m     \u001b[38;5;28;01mreturn\u001b[39;00m\n\u001b[1;32m     30\u001b[0m artista \u001b[38;5;241m=\u001b[39m \u001b[38;5;124m\"\u001b[39m\u001b[38;5;124mlasso\u001b[39m\u001b[38;5;124m\"\u001b[39m\n\u001b[0;32m---> 31\u001b[0m \u001b[43mdescargar_letras\u001b[49m\u001b[43m(\u001b[49m\u001b[43martista\u001b[49m\u001b[43m)\u001b[49m\n\u001b[1;32m     33\u001b[0m \u001b[38;5;66;03m# Creamos un DataFrame con los resultados\u001b[39;00m\n\u001b[1;32m     34\u001b[0m df \u001b[38;5;241m=\u001b[39m pd\u001b[38;5;241m.\u001b[39mDataFrame({\n\u001b[1;32m     35\u001b[0m     \u001b[38;5;124m'\u001b[39m\u001b[38;5;124mTitulo\u001b[39m\u001b[38;5;124m'\u001b[39m: titulo_cancion,\n\u001b[1;32m     36\u001b[0m     \u001b[38;5;124m'\u001b[39m\u001b[38;5;124mLetra\u001b[39m\u001b[38;5;124m'\u001b[39m: letra\n\u001b[1;32m     37\u001b[0m })\n",
      "Cell \u001b[0;32mIn[2], line 21\u001b[0m, in \u001b[0;36mdescargar_letras\u001b[0;34m(artista)\u001b[0m\n\u001b[1;32m     17\u001b[0m canciones \u001b[38;5;241m=\u001b[39m soup\u001b[38;5;241m.\u001b[39mfind_all(\u001b[38;5;124m'\u001b[39m\u001b[38;5;124mdiv\u001b[39m\u001b[38;5;124m'\u001b[39m, class_\u001b[38;5;241m=\u001b[39m\u001b[38;5;124m'\u001b[39m\u001b[38;5;124mjs-lyric-content\u001b[39m\u001b[38;5;124m'\u001b[39m)\n\u001b[1;32m     20\u001b[0m \u001b[38;5;66;03m# Extraemos el título de la canción\u001b[39;00m\n\u001b[0;32m---> 21\u001b[0m titulo_cancion \u001b[38;5;241m=\u001b[39m \u001b[43mcontainer\u001b[49m\u001b[38;5;241m.\u001b[39mfind(\u001b[38;5;124m'\u001b[39m\u001b[38;5;124mdiv\u001b[39m\u001b[38;5;124m'\u001b[39m, class_\u001b[38;5;241m=\u001b[39m\u001b[38;5;124m'\u001b[39m\u001b[38;5;124mtextStyle --type-title --size-medium --weight-strong \u001b[39m\u001b[38;5;124m'\u001b[39m)\n\u001b[1;32m     22\u001b[0m titulo_cancion\u001b[38;5;241m.\u001b[39mappend(titulo_cancion\u001b[38;5;241m.\u001b[39mtext\u001b[38;5;241m.\u001b[39mstrip())\n\u001b[1;32m     24\u001b[0m \u001b[38;5;66;03m# Extraemos la letra de la canción\u001b[39;00m\n",
      "\u001b[0;31mNameError\u001b[0m: name 'container' is not defined"
     ]
    }
   ],
   "source": [
    "from bs4 import BeautifulSoup\n",
    "import requests\n",
    "import os\n",
    "\n",
    "letras_url = \"https://www.letras.com\"\n",
    "\n",
    "def descargar_letras(artista):\n",
    "    # COMPLETAR\n",
    "    # Realizamos la solicitud GET para obtener el contenido de la página\n",
    "    html_obtenido = requests.get(letras_url)\n",
    "    soup = BeautifulSoup(html_obtenido.text, \"html.parser\")\n",
    "\n",
    "    # Inicializamos listas para los títulos y puntajes\n",
    "    titulo_cancion = []\n",
    "    letra = []\n",
    "    # Buscamos todos los contenedores de mangas en la página\n",
    "    canciones = soup.find_all('div', class_='js-lyric-content')\n",
    "\n",
    "\n",
    "    # Extraemos el título de la canción\n",
    "    titulo_cancion = container.find('div', class_='textStyle --type-title --size-medium --weight-strong ')\n",
    "    titulo_cancion.append(titulo_cancion.text.strip())\n",
    "\n",
    "    # Extraemos la letra de la canción\n",
    "    letra = letra.find('div', class_='lyric-original')\n",
    "    letra.append(letra.text.strip())\n",
    "\n",
    "    return\n",
    "        \n",
    "artista = \"lasso\"\n",
    "descargar_letras(artista)\n",
    "\n",
    "# Creamos un DataFrame con los resultados\n",
    "df = pd.DataFrame({\n",
    "    'Titulo': titulo_cancion,\n",
    "    'Letra': letra\n",
    "})\n",
    "\n",
    "df"
   ]
  }
 ],
 "metadata": {
  "instance_type": "ml.t3.medium",
  "kernelspec": {
   "display_name": ".venv",
   "language": "python",
   "name": "python3"
  },
  "language_info": {
   "codemirror_mode": {
    "name": "ipython",
    "version": 3
   },
   "file_extension": ".py",
   "mimetype": "text/x-python",
   "name": "python",
   "nbconvert_exporter": "python",
   "pygments_lexer": "ipython3",
   "version": "3.13.0"
  }
 },
 "nbformat": 4,
 "nbformat_minor": 4
}
