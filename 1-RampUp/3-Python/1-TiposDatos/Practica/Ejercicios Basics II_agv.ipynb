{
 "cells": [
  {
   "cell_type": "markdown",
   "metadata": {},
   "source": [
    "![imagen](./img/ejercicios.png)"
   ]
  },
  {
   "cell_type": "markdown",
   "metadata": {},
   "source": [
    "# Ejercicios Python Basics II"
   ]
  },
  {
   "cell_type": "markdown",
   "metadata": {},
   "source": [
    ">>**agv_Comentario, este ejercicio está hecho con los conocimientos que se deben de tener en el momento del curso, sin usar conocimientos más avanzados**"
   ]
  },
  {
   "cell_type": "markdown",
   "metadata": {},
   "source": [
    "## Ejercicio 1\n",
    "* Crea dos variables numericas: un `int` y un `float`\n",
    "* Comprueba sus tipos\n",
    "* Sumalas en otra nueva\n",
    "* ¿De qué tipo es la nueva variable?\n",
    "* Elimina las dos primeras variables creadas"
   ]
  },
  {
   "cell_type": "code",
   "execution_count": null,
   "metadata": {},
   "outputs": [],
   "source": [
    "var_int = 20\n",
    "var_float = 20.5\n",
    "print (type(var_int))\n",
    "print (type(var_float))\n",
    "suma =  var_int + var_float\n",
    "print (suma)\n",
    "print (type(suma))\n",
    "del var_int\n",
    "del var_float\n",
    "var_float #ahora esto dará un error porque no está definida\n",
    "\n"
   ]
  },
  {
   "cell_type": "markdown",
   "metadata": {},
   "source": [
    "## Ejercicio 2\n",
    "Escribe un programa para pasar de grados a radianes. Hay que usar `input`. Recuerda que la conversión se realiza mediante\n",
    "\n",
    "radianes = grados*(pi/180)"
   ]
  },
  {
   "cell_type": "code",
   "execution_count": null,
   "metadata": {},
   "outputs": [],
   "source": [
    "import math\n",
    "grad = input ('Introduce grados: ')\n",
    "print(type(grad))\n",
    "grad=int(grad)  \n",
    "radianes = (grad * math.pi / 180)\n",
    "\n",
    "radianes"
   ]
  },
  {
   "cell_type": "markdown",
   "metadata": {},
   "source": [
    "## Ejercicio 3\n",
    "Escribe un programa que calcule el area de un paralelogramo (base x altura). También con `input`"
   ]
  },
  {
   "cell_type": "code",
   "execution_count": null,
   "metadata": {},
   "outputs": [],
   "source": [
    "lado1 = input('Lado 1: ')\n",
    "lado1 = int(lado1)\n",
    "lado2 = input('Lado 2: ')\n",
    "lado2 = int(lado2)\n",
    "area = lado1 * lado2\n",
    "print (area)\n"
   ]
  },
  {
   "cell_type": "markdown",
   "metadata": {},
   "source": [
    "## Ejercicio 4\n",
    "Tenemos las siguientes variables:\n",
    "\n",
    "```Python\n",
    "A = 4\n",
    "B = \"Text\"\n",
    "C = 4.1\n",
    "```\n",
    "\n",
    "Comprueba:\n",
    "1. Si A y B son equivalentes\n",
    "2. Si A y C NO son equivalentes\n",
    "3. Si A es mayor que C \n",
    "4. Si C es menor o igual que A\n",
    "5. Si B NO es equivalente a C"
   ]
  },
  {
   "cell_type": "code",
   "execution_count": null,
   "metadata": {},
   "outputs": [],
   "source": [
    "a = 4\n",
    "b = 'text'\n",
    "c = 4.81\n",
    "print (a == b)\n",
    "print (a != c)\n",
    "print (a > c)\n",
    "print (c <= a)\n",
    "print (b != c)\n",
    "\n"
   ]
  },
  {
   "cell_type": "markdown",
   "metadata": {},
   "source": [
    "## Ejercicio 5\n",
    "Crea un programa donde se recojan dos inputs del usuario, y el output del programa sea si esos inputs son iguales o no"
   ]
  },
  {
   "cell_type": "code",
   "execution_count": null,
   "metadata": {},
   "outputs": [],
   "source": [
    "a = input ('introduce un valor: ') \n",
    "b = input ('introduce otro valor: ')\n",
    "cond = (a == b) \n",
    "print ('primer número',a,'; segundo número',b)\n",
    "print ('¿son iguales?', cond)\n",
    "\n"
   ]
  },
  {
   "cell_type": "markdown",
   "metadata": {},
   "source": [
    "## Ejercicio 6\n",
    "Mismo programa que en 5, pero en esta ocasión tienen que ser tres inputs y dos salidas. Una de las salidas que nos indique si todos son iguales, y la otra si al menos dos inputs sí que lo son"
   ]
  },
  {
   "cell_type": "code",
   "execution_count": null,
   "metadata": {},
   "outputs": [],
   "source": [
    "a = input ('introduce un valor: ') \n",
    "b = input ('introduce un segundo valor: ')\n",
    "c = input ('introduce un tercer valor: ')\n",
    "\n",
    "cond1 = (a == b) and (b == c)\n",
    "print ('primer número',a,'; segundo número',b, '; tercer número',c)\n",
    "print ('todos los números son iguales', cond1)\n",
    "\n",
    "cond2 = (a == b) or (b == c)\n",
    "print ('dos de los números son iguales', cond2)\n"
   ]
  },
  {
   "cell_type": "markdown",
   "metadata": {},
   "source": [
    "## Ejercicio 7\n",
    "Crea un programa que recoja dos inputs. Tiene que comprobar si su suma es igual, superior o inferior a 10"
   ]
  },
  {
   "cell_type": "code",
   "execution_count": 4,
   "metadata": {},
   "outputs": [
    {
     "name": "stdout",
     "output_type": "stream",
     "text": [
      "primer número 4 ; segundo número 9\n",
      "suma de los números 13\n",
      "suma números es mayor que 10 True\n",
      "suma números es igual a 10 False\n",
      "suma números es menor que 10 False\n"
     ]
    }
   ],
   "source": [
    "d = input ('introduce un valor: ') \n",
    "d = int (d)\n",
    "e = input ('introduce otro valor: ')\n",
    "e =  int (e)\n",
    "cond1 = (d+e) > 10\n",
    "print ('primer número',d,'; segundo número',e)\n",
    "print ('suma de los números', d+e)\n",
    "print ('suma números es mayor que 10',cond1)\n",
    "\n",
    "cond2 = (d+e) == 10\n",
    "print ('suma números es igual a 10',cond2)\n",
    "\n",
    "cond3 = (d+e) < 10\n",
    "print ('suma números es menor que 10',cond3)\n",
    "\n"
   ]
  },
  {
   "cell_type": "markdown",
   "metadata": {},
   "source": [
    "## Ejercicio 8\n",
    "Razona sin ejecutar código el output que obtendremos de las siguientes sentencias\n",
    "1. True and True and False\n",
    "2. not ((True or False) and (True or False))\n",
    "3. (False or False or False or True) and False\n",
    "4. not False and True and not True"
   ]
  },
  {
   "cell_type": "markdown",
   "metadata": {},
   "source": [
    "1. False\n",
    "2. False\n",
    "3. False\n",
    "4. False"
   ]
  },
  {
   "cell_type": "markdown",
   "metadata": {},
   "source": [
    "1. False No pueden darse las tres condiciones a la vez\n",
    "2. False, not True y True no pueden darse a la vez\n",
    "3. False, True y False no pueden darse a la vez\n",
    "4. False, True y True y False no pueden darse a la vez"
   ]
  },
  {
   "cell_type": "code",
   "execution_count": null,
   "metadata": {},
   "outputs": [],
   "source": []
  },
  {
   "cell_type": "markdown",
   "metadata": {},
   "source": [
    "## Ejercicio 9\n",
    "Para este ejercicio vamos a poner en práctica [las funciones built in](https://docs.python.org/3/library/functions.html).\n",
    "\n",
    "1. Calcula el máximo de la lista: [4, 6, 8, -1]\n",
    "2. Suma todos los elementos de la lista anterior\n",
    "3. Redondea este float a 3 dígitos decimales: 63.451256965\n",
    "4. Valor absoluto de: -74"
   ]
  },
  {
   "cell_type": "code",
   "execution_count": 37,
   "metadata": {},
   "outputs": [
    {
     "name": "stdout",
     "output_type": "stream",
     "text": [
      "8\n"
     ]
    },
    {
     "ename": "TypeError",
     "evalue": "'builtin_function_or_method' object is not subscriptable",
     "output_type": "error",
     "traceback": [
      "\u001b[0;31m---------------------------------------------------------------------------\u001b[0m",
      "\u001b[0;31mTypeError\u001b[0m                                 Traceback (most recent call last)",
      "Cell \u001b[0;32mIn[37], line 3\u001b[0m\n\u001b[1;32m      1\u001b[0m lista \u001b[38;5;241m=\u001b[39m (\u001b[38;5;241m4\u001b[39m,\u001b[38;5;241m6\u001b[39m,\u001b[38;5;241m8\u001b[39m,\u001b[38;5;241m-\u001b[39m\u001b[38;5;241m1\u001b[39m)\n\u001b[1;32m      2\u001b[0m \u001b[38;5;28mprint\u001b[39m(\u001b[38;5;28mmax\u001b[39m (lista))\n\u001b[0;32m----> 3\u001b[0m \u001b[38;5;28mprint\u001b[39m(\u001b[38;5;28;43mmax\u001b[39;49m\u001b[43m \u001b[49m\u001b[43m[\u001b[49m\u001b[38;5;241;43m4\u001b[39;49m\u001b[43m,\u001b[49m\u001b[38;5;241;43m6\u001b[39;49m\u001b[43m,\u001b[49m\u001b[38;5;241;43m8\u001b[39;49m\u001b[43m,\u001b[49m\u001b[38;5;241;43m-\u001b[39;49m\u001b[38;5;241;43m1\u001b[39;49m\u001b[43m]\u001b[49m) \u001b[38;5;66;03m# por qué no funciona esto?\u001b[39;00m\n\u001b[1;32m      5\u001b[0m \u001b[38;5;28msum\u001b[39m (lista)\n\u001b[1;32m      6\u001b[0m \u001b[38;5;28mprint\u001b[39m (\u001b[38;5;28msum\u001b[39m ((\u001b[38;5;241m4\u001b[39m,\u001b[38;5;241m6\u001b[39m,\u001b[38;5;241m8\u001b[39m,\u001b[38;5;241m-\u001b[39m\u001b[38;5;241m1\u001b[39m)))\n",
      "\u001b[0;31mTypeError\u001b[0m: 'builtin_function_or_method' object is not subscriptable"
     ]
    }
   ],
   "source": [
    "lista = (4,6,8,-1)\n",
    "print(max (lista))\n",
    "#print(max [4,6,8,-1]) # por qué no funciona esto?\n",
    "\n",
    "sum (lista)\n",
    "print (sum ((4,6,8,-1)))\n",
    "\n",
    "print (round (63.451256965, 3))\n",
    "\n",
    "abs (-74)\n"
   ]
  },
  {
   "cell_type": "markdown",
   "metadata": {},
   "source": [
    "## Ejercicio 10\n",
    "Para el siguiente string se pide imprimir por pantalla los siguientes casos\n",
    "\n",
    "    \"A quien madruga, dios le ayuda\"\n",
    "\n",
    "1. Pasarlo todo a mayusculas\n",
    "2. Pasarlo todo a minusculas\n",
    "3. Pasar a mayusculas solo las iniciales de las palabras\n",
    "4. Crea una lista dividiendolo por sus espacios\n",
    "5. Sustituye las comas `,` por puntos y comas `;`\n",
    "6. Elimina las `a` minusculas"
   ]
  },
  {
   "cell_type": "code",
   "execution_count": 36,
   "metadata": {},
   "outputs": [
    {
     "name": "stdout",
     "output_type": "stream",
     "text": [
      "1. A QUIEN MADRUGA, DIOS LE AYUDA\n",
      "2. a quien madruga, dios le ayuda\n",
      "3. A Quien Madruga, Dios Le Ayuda\n",
      "4. ['A', 'quien', 'madruga,', 'dios', 'le', 'ayuda']\n",
      "5. A quien madruga; dios le ayuda\n",
      "6. A quien m_drug_, dios le _yud_\n",
      "a QUIEN MADRUGA, DIOS LE AYUDA\n"
     ]
    }
   ],
   "source": [
    "string_ejemplo = \"A quien madruga, dios le ayuda\"\n",
    "\n",
    "print('1.', string_ejemplo.upper())\n",
    "\n",
    "print('2.', string_ejemplo.lower())\n",
    "\n",
    "print('3.', string_ejemplo.title())\n",
    "\n",
    "print('4.', string_ejemplo.split(' '))\n",
    "\n",
    "print('5.', string_ejemplo.replace(',',';'))\n",
    "\n",
    "print('6.', string_ejemplo.replace('a','_')) #¿o se buscaba otro metodo en vez de replace?\n",
    "\n",
    "print(string_ejemplo.swapcase())"
   ]
  },
  {
   "cell_type": "markdown",
   "metadata": {},
   "source": [
    "## Ejercicio 11\n",
    "1. Crea una lista con 3 elementos numéricos\n",
    "2. Añade un cuarto elemento\n",
    "3. Calcula la suma de todos\n",
    "4. Elimina el segundo elemento de la lista\n",
    "5. Añade otro elemento en la posicion 3 de la lista\n",
    "6. Crea otra lista con 4 elementos y concaténala a la que ya tenías."
   ]
  },
  {
   "cell_type": "code",
   "execution_count": 71,
   "metadata": {},
   "outputs": [
    {
     "name": "stdout",
     "output_type": "stream",
     "text": [
      "None\n",
      "[1, 2, 3, 4]\n",
      "10\n",
      "2\n",
      "[1, 3, 4]\n",
      "None\n",
      "[1, 3, 5, 4]\n",
      "[1, 3, 5, 4, 10, 11, 12, 13]\n",
      "<class 'list'>\n",
      "None\n"
     ]
    }
   ],
   "source": [
    "lista11 = [1,2,3]\n",
    "\n",
    "print (lista11.append (4))\n",
    "print (lista11)\n",
    "\n",
    "print(sum(lista11))\n",
    "\n",
    "#del lista11[1]\n",
    "#print (lista11)\n",
    "\n",
    "print(lista11.pop (1))\n",
    "print (lista11)\n",
    "\n",
    "print(lista11.insert (2, 5))\n",
    "print (lista11)\n",
    "\n",
    "lista_mas = [10, 11, 12, 13]\n",
    "lista11 =lista11+lista_mas\n",
    "print (lista11)\n",
    "print(type(lista11))\n",
    "\n",
    "lista_mas = [10, 11, 12, 13]\n",
    "lista11=lista11.extend([lista_mas]) #esto no funciona, no entiendo por qué...\n",
    "print (lista11)\n"
   ]
  }
 ],
 "metadata": {
  "kernelspec": {
   "display_name": "Python 3",
   "language": "python",
   "name": "python3"
  },
  "language_info": {
   "codemirror_mode": {
    "name": "ipython",
    "version": 3
   },
   "file_extension": ".py",
   "mimetype": "text/x-python",
   "name": "python",
   "nbconvert_exporter": "python",
   "pygments_lexer": "ipython3",
   "version": "3.13.0"
  },
  "nbTranslate": {
   "displayLangs": [
    "*"
   ],
   "hotkey": "alt-t",
   "langInMainMenu": true,
   "sourceLang": "en",
   "targetLang": "fr",
   "useGoogleTranslate": true
  },
  "varInspector": {
   "cols": {
    "lenName": 16,
    "lenType": 16,
    "lenVar": 40
   },
   "kernels_config": {
    "python": {
     "delete_cmd_postfix": "",
     "delete_cmd_prefix": "del ",
     "library": "var_list.py",
     "varRefreshCmd": "print(var_dic_list())"
    },
    "r": {
     "delete_cmd_postfix": ") ",
     "delete_cmd_prefix": "rm(",
     "library": "var_list.r",
     "varRefreshCmd": "cat(var_dic_list()) "
    }
   },
   "types_to_exclude": [
    "module",
    "function",
    "builtin_function_or_method",
    "instance",
    "_Feature"
   ],
   "window_display": false
  }
 },
 "nbformat": 4,
 "nbformat_minor": 4
}
