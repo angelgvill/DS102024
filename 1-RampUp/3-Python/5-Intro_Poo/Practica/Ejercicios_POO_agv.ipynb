{
 "cells": [
  {
   "cell_type": "markdown",
   "metadata": {},
   "source": [
    "# Ejercicios POO IV\n",
    "\n",
    "## Programación orientada a objetos\n",
    "\n",
    "En este ejercicio vamos a programar un carrito de compras.\n",
    "\n",
    "Para esto vamos a escribir dos clases: Carrito e Item.\n",
    "\n",
    "El ítem va a tener como propiedades un nombre, un precio y una url de la imágen que lo representa. Por default, la url se inicializa en blanco.\n",
    "\n",
    "El Carrito tiene como propiedad una lista de diccionarios, la variable _lineas. \n",
    "\n",
    "Los carritos se inicializan vacíos y luego se agregan líneas utilizando el método agregar_línea(). Cada línea es un diccionario con dos claves: \"ítem\" que contiene un objeto de tipo ítem y \"cantidad\" según la cantidad que queremos agregar al carrito.\n",
    "\n",
    "Por último los carritos tienen un método get_total() que devuelve la suma de los precios de los ítems, multiplicados por las cantidades que hay en cada línea."
   ]
  },
  {
   "cell_type": "code",
   "execution_count": 14,
   "metadata": {},
   "outputs": [],
   "source": [
    "# Clase Item\n",
    "class Item():\n",
    "    def __init__(self, nombre:str, precio:int, url:str = None):\n",
    "        self.nombre = nombre\n",
    "        self.precio = precio\n",
    "        if url is None:\n",
    "            self.url = ''\n",
    "        else:\n",
    "            self.url = url"
   ]
  },
  {
   "cell_type": "code",
   "execution_count": 15,
   "metadata": {},
   "outputs": [],
   "source": [
    "# Crear los ítems harina de $1.50 y peperoni de $1.84\n",
    "harina = Item ('harina', 1.50, 'www.google.com')\n",
    "peperoni = Item ('peperoni',1.84)"
   ]
  },
  {
   "cell_type": "code",
   "execution_count": null,
   "metadata": {},
   "outputs": [],
   "source": [
    "harina.precio"
   ]
  },
  {
   "cell_type": "code",
   "execution_count": 25,
   "metadata": {},
   "outputs": [],
   "source": [
    "# Crear la clase Carrito\n",
    "class Carrito():\n",
    "    def __init__(self, lineas:dict = None):      \n",
    "        self.lineas = lineas\n",
    "        if lineas is None:\n",
    "            self.lineas = []\n",
    "        else:\n",
    "            self.lineas = lineas\n",
    "    \n",
    "    # def agregar_linea(self, item:dict):\n",
    "    #     self.item = item\n",
    "    #     self.lineas.append(item) #contiene un diccionario con nombre y cantidad de producto\n",
    "    #     print(f'Se agregó la cantidad del producto {item}')\n",
    "    \n",
    "    def agregar_linea(self, item:str, cantidad:int):\n",
    "        linea = {\"item\": item, \"cantidad\": cantidad}\n",
    "        self.lineas.append(linea)\n",
    "\n",
    "    def contenido_carrito(self):\n",
    "        for a in self.lineas:\n",
    "            print (a)\n",
    "\n",
    "    def get_total(self):\n",
    "        precio = 0\n",
    "        for compra in self.lineas:\n",
    "            #item = compra.get ('nombre')\n",
    "                #faltaría un bucle condicional para verificar si la compra está en la lista de items creados\n",
    "                \n",
    "            cantidad = compra['cantidad']\n",
    "            precio_unidad = compra['item'].precio\n",
    "            precio = precio + (precio_unidad * cantidad)\n",
    "        return precio"
   ]
  },
  {
   "cell_type": "markdown",
   "metadata": {},
   "source": [
    "Ahora vamos a instanciar el carrito y agregarle una \"línea\" con dos kilos de harina y otra con tres peperonis."
   ]
  },
  {
   "cell_type": "markdown",
   "metadata": {},
   "source": []
  },
  {
   "cell_type": "code",
   "execution_count": 18,
   "metadata": {},
   "outputs": [],
   "source": [
    "# Instancias el carrito\n",
    "mi_carrito = Carrito()\n",
    "\n",
    "mi_carrito.contenido_carrito()"
   ]
  },
  {
   "cell_type": "code",
   "execution_count": 19,
   "metadata": {},
   "outputs": [],
   "source": [
    "# Agregar harina\n",
    "mi_carrito.agregar_linea ('harina',2)"
   ]
  },
  {
   "cell_type": "code",
   "execution_count": 20,
   "metadata": {},
   "outputs": [],
   "source": [
    "# Agregar peperoni\n",
    "mi_carrito.agregar_linea ('peperoni',3)"
   ]
  },
  {
   "cell_type": "code",
   "execution_count": null,
   "metadata": {},
   "outputs": [],
   "source": [
    "mi_carrito.contenido_carrito()"
   ]
  },
  {
   "cell_type": "code",
   "execution_count": 22,
   "metadata": {},
   "outputs": [],
   "source": [
    "# Agregar más peperoni\n",
    "mi_carrito.agregar_linea ('peperoni',9)"
   ]
  },
  {
   "cell_type": "code",
   "execution_count": null,
   "metadata": {},
   "outputs": [],
   "source": [
    "#ver mi carrito con más peperoni\n",
    "mi_carrito.contenido_carrito()"
   ]
  },
  {
   "cell_type": "code",
   "execution_count": null,
   "metadata": {},
   "outputs": [],
   "source": [
    "# Obtener el total\n",
    "mi_carrito.get_total()"
   ]
  },
  {
   "cell_type": "markdown",
   "metadata": {},
   "source": [
    "**No consigo que me funcione... pruebo a ver lo que hace una IA, y le funciona (a la maldita iA)... pero no logro entender por qué a mi me da ese error.**"
   ]
  },
  {
   "cell_type": "code",
   "execution_count": 73,
   "metadata": {},
   "outputs": [],
   "source": [
    "class Item:\n",
    "    def __init__(self, nombre, precio, url_imagen=\"\"):\n",
    "        self.nombre = nombre\n",
    "        self.precio = precio\n",
    "        self.url_imagen = url_imagen\n",
    "\n",
    "class Carrito:\n",
    "    def __init__(self):\n",
    "        self._lineas = []\n",
    "\n",
    "    def agregar_linea(self, item, cantidad):\n",
    "        linea = {\"item\": item, \"cantidad\": cantidad}\n",
    "        self._lineas.append(linea)\n",
    "\n",
    "    def get_total(self):\n",
    "        total = sum(linea[\"item\"].precio * linea[\"cantidad\"] for linea in self._lineas)\n",
    "        return total"
   ]
  },
  {
   "cell_type": "code",
   "execution_count": null,
   "metadata": {},
   "outputs": [],
   "source": [
    "item1 = Item(\"Manzana\", 0.5)\n",
    "item2 = Item(\"Leche\", 1.2)\n",
    "item3 = Item(\"Pan\", 1.0)"
   ]
  },
  {
   "cell_type": "code",
   "execution_count": null,
   "metadata": {},
   "outputs": [],
   "source": [
    "carrito = Carrito()\n",
    "\n",
    "# Agregar ítems al carrito\n",
    "carrito.agregar_linea(item1, 3)  # 3 manzanas\n",
    "carrito.agregar_linea(item2, 1)  # 1 leche\n",
    "carrito.agregar_linea(item3, 2)  # 2 panes\n",
    "\n",
    "# Calcular el total\n",
    "print(\"Total del carrito:\", carrito.get_total())"
   ]
  },
  {
   "cell_type": "markdown",
   "metadata": {},
   "source": [
    "## Ejercicio II\n",
    "\n",
    "Ahora vamos a crear dos clases. Primero una clase Réctangulo con los métodos area y base. Y luego una clase más específica que sea la Clase Cuadrado que herede los métodos de la clase Rectángulo. \n",
    "\n",
    "Una vez logrado esto vamos a crear una Tercera clase llamada Cubo cuya clase base va a responder a Cuadrado. En esta clase vas a agregar un método que sea volumen utilizando el método Área de su clase base o madre. "
   ]
  },
  {
   "cell_type": "code",
   "execution_count": 34,
   "metadata": {},
   "outputs": [],
   "source": [
    "class Rectan():\n",
    "    def __init__(self, base:int, altura:int):\n",
    "        self.base = base\n",
    "        self.altura = altura\n",
    "\n",
    "    def area(self):\n",
    "        #self.area = area\n",
    "        return self.base * self.altura\n",
    "    \n",
    "    def get_base(self):\n",
    "        return self.base"
   ]
  },
  {
   "cell_type": "code",
   "execution_count": null,
   "metadata": {},
   "outputs": [],
   "source": [
    "rect1 = Rectan(4,8)\n",
    "print (rect1.area())\n"
   ]
  },
  {
   "cell_type": "code",
   "execution_count": null,
   "metadata": {},
   "outputs": [],
   "source": [
    "print (rect1.get_base())"
   ]
  },
  {
   "cell_type": "code",
   "execution_count": 50,
   "metadata": {},
   "outputs": [],
   "source": [
    "class Cuadrado(Rectan):\n",
    "    def __init__(self, lado:int):\n",
    "        super().__init__(lado,lado)\n",
    "    \n",
    "    def get_lado(self):\n",
    "        return self.base\n",
    "\n"
   ]
  },
  {
   "cell_type": "code",
   "execution_count": null,
   "metadata": {},
   "outputs": [],
   "source": [
    "cua1 = Cuadrado(8)\n",
    "print (cua1.area())"
   ]
  },
  {
   "cell_type": "code",
   "execution_count": null,
   "metadata": {},
   "outputs": [],
   "source": [
    "print (cua1.get_lado())\n"
   ]
  }
 ],
 "metadata": {
  "kernelspec": {
   "display_name": "Python 3",
   "language": "python",
   "name": "python3"
  },
  "language_info": {
   "codemirror_mode": {
    "name": "ipython",
    "version": 3
   },
   "file_extension": ".py",
   "mimetype": "text/x-python",
   "name": "python",
   "nbconvert_exporter": "python",
   "pygments_lexer": "ipython3",
   "version": "3.11.9"
  }
 },
 "nbformat": 4,
 "nbformat_minor": 4
}
