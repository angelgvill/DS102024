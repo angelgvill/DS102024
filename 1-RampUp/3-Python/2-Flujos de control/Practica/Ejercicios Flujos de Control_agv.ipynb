{
 "cells": [
  {
   "cell_type": "markdown",
   "metadata": {},
   "source": [
    "![imagen](./img/ejercicios.png)"
   ]
  },
  {
   "cell_type": "markdown",
   "metadata": {},
   "source": [
    "# Ejercicios Flujos de control"
   ]
  },
  {
   "cell_type": "markdown",
   "metadata": {},
   "source": [
    "## Ejercicio 1\n",
    "Declara una variable numérica que será una hora cualquiera del día. Implementa mediante sentencias `if/elif/else` la siguiente casuística:\n",
    "\n",
    "* Si es entre las 0 y las 8, print \"Durmiendo\"\n",
    "* Si es entre las 9 y las 18, print \"Trabajando\"\n",
    "* Si es entre las 19 y las 21, print \"Clase\"\n",
    "* Si es entre las 22 y las 24, print \"Descanso\"\n",
    "* En cualquier otro caso, print \"Transporte o error\""
   ]
  },
  {
   "cell_type": "code",
   "execution_count": null,
   "metadata": {},
   "outputs": [],
   "source": [
    "hora = 23\n",
    "if 0 <= hora <= 8:\n",
    "    print ('durmiendo')\n",
    "elif 9 <= hora <= 18:\n",
    "    print ('trabajando')\n",
    "elif 19 <= hora <= 21:\n",
    "    print ('clase')\n",
    "elif 22 <= hora <= 24:\n",
    "    print ('descanso')\n",
    "else:\n",
    "    print ('transporte o error')"
   ]
  },
  {
   "cell_type": "markdown",
   "metadata": {},
   "source": [
    "## Ejercicio 2\n",
    "En este ejercicio vamos a implementar un calculador de precios de casas muy sencillo. Tenemos las siguientes variables:\n",
    "\n",
    "> superficie\n",
    ">\n",
    "> distrito\n",
    "\n",
    "Implementa mediante sentencias `if/elif/else` la siguiente casuística:\n",
    "\n",
    "1. Si el distrito es \"Moncloa\" o \"Centro\", y además la superficie es superior a 100 metros cuadrados, el precio de la casa es de 1000\n",
    "2. Si el distrito es \"Salamanca\", y además la superficie de la casa es al menos de 150 metros, el precio de la casa es de 1500\n",
    "3. Si el distrito no es \"Retiro\" y la superficie está entre 60 y 80 metros, el precio es de 600\n",
    "4. En cualquier otro caso, el precio será de 0"
   ]
  },
  {
   "cell_type": "code",
   "execution_count": null,
   "metadata": {},
   "outputs": [],
   "source": [
    "superficie = 100\n",
    "distrito = 'Moncloa'\n",
    "if (distrito == 'Moncloa' or distrito == 'Centro') and superficie >= 100:\n",
    "    print ('El precio de la casa es 1000€')\n",
    "elif distrito == 'Salamanca'and superficie >= 150:\n",
    "    print ('El precio de la casa es 1500€')\n",
    "elif distrito != 'Retiro'and 60 <= superficie <= 80:\n",
    "    print ('El precio de la casa es 600€')\n",
    "else:\n",
    "    print ('El precio es 0')"
   ]
  },
  {
   "cell_type": "markdown",
   "metadata": {},
   "source": [
    "## Ejercicio 3\n",
    "En este ejercicio vamos a realizar un programa muy parecido. Para este caso queremos que se cumplan las siguientes condiciones:\n",
    "\n",
    "1. Primero se compruebe si el distrito es \"Retiro\". Si es asi, que imprima \"Distrito Retiro\", y si no, \"Otro distrito\"\n",
    "2. Si el distrito es \"Retiro\", comprueba si si la superficie es mayor de 100 metros cuadrados. En tal caso, que imprima un precio de 1000, y si no, de 500.\n",
    "\n",
    "Hay que usar `ifs` anidados"
   ]
  },
  {
   "cell_type": "code",
   "execution_count": null,
   "metadata": {},
   "outputs": [],
   "source": [
    "superficie = 99\n",
    "distrito = 'Retiro'\n",
    "if distrito == 'Retiro':\n",
    "    print ('Distrito Retiro')\n",
    "    if superficie >=100:\n",
    "        print ('El precio de la casa es 1000€')\n",
    "    else:\n",
    "         print ('El precio de la casa es 500€')\n",
    "else:\n",
    "    print ('Otro distrito')"
   ]
  },
  {
   "cell_type": "markdown",
   "metadata": {},
   "source": [
    "## Ejercicio 4\n",
    "Escribe un programa que tenga dos variables: un numero, y una lista numérica. El programa debe recorrer la lista e imprimir por pantalla cada elemento de la lista multiplicado por el número"
   ]
  },
  {
   "cell_type": "code",
   "execution_count": null,
   "metadata": {},
   "outputs": [],
   "source": [
    "var1 = 4\n",
    "var2 = (4, 5, 6, 7, 9)\n",
    "for i in range(len(var2)):\n",
    "    resultado = var1 * var2[i]\n",
    "    print (resultado)"
   ]
  },
  {
   "cell_type": "markdown",
   "metadata": {},
   "source": [
    "## Ejercicio 5\n",
    "Imprime por pantalla cada número del -10 al -1. En ese orden. Consulta [la documentación](https://www.w3schools.com/python/ref_func_range.asp) de `range`"
   ]
  },
  {
   "cell_type": "code",
   "execution_count": null,
   "metadata": {},
   "outputs": [],
   "source": [
    "x = range(-10,0)\n",
    "for n in x:\n",
    "    print (n)"
   ]
  },
  {
   "cell_type": "markdown",
   "metadata": {},
   "source": [
    "## Ejercicio 6\n",
    "Dada la siguiente lista:\n",
    "\n",
    "> list1 = [12, 15, 32, 42, 55, 75, 122, 132, 150, 180, 200]\n",
    "\n",
    "Implementa un programa que los recorra e imprima por pantalla todos los divisibles por 5. Si nos encontramos con alguno que sea mayor que 150, detener el bucle."
   ]
  },
  {
   "cell_type": "code",
   "execution_count": null,
   "metadata": {},
   "outputs": [],
   "source": [
    "list1 = (12, 15, 32, 42, 55, 75, 122, 132, 150, 180, 200)\n",
    "for i in range(len(list1)):\n",
    "    #print (i)\n",
    "    resultado = list1[i]\n",
    "    #print (type(resultado))\n",
    "    if resultado > 150:\n",
    "        print ('Numero mayor 150. Fin')\n",
    "        break\n",
    "    if (resultado % 5) == 0:\n",
    "        print (resultado)\n",
    "    \n"
   ]
  },
  {
   "cell_type": "markdown",
   "metadata": {},
   "source": [
    "## Ejercicio 7\n",
    "Escribe un programa en Python que imprima por pantalla todos los números divisibles por 5 y divisibles por 7, dentro del rango de valores (150, 350)"
   ]
  },
  {
   "cell_type": "code",
   "execution_count": null,
   "metadata": {},
   "outputs": [],
   "source": [
    "list2 = range(150,351) # genera la lista, y la almacena bajo nombre de variable\n",
    "for i in range(len(list2)):\n",
    "    posicion = list2[i]     #recorre las posiciones de la lista\n",
    "    if posicion % 5 == 0 or posicion % 7 == 0: #evalua el criterio matemático\n",
    "        print (posicion)\n"
   ]
  },
  {
   "cell_type": "markdown",
   "metadata": {},
   "source": [
    "## Ejercicio 8\n",
    "Implementa un programa que imprima por pantalla el siguiente patrón\n",
    "\n",
    "5 4 3 2 1 \n",
    "\n",
    "4 3 2 1 \n",
    "\n",
    "3 2 1 \n",
    "\n",
    "2 1 \n",
    "\n",
    "1\n",
    "\n",
    "NOTA: NO hay lineas en blanco entre una línea y otra."
   ]
  },
  {
   "cell_type": "code",
   "execution_count": null,
   "metadata": {},
   "outputs": [],
   "source": [
    "#probando para conseguir el resultado\n",
    "list3 = range (5,0,-1)\n",
    "for i in range(len(list3)):\n",
    "    #print (i)\n",
    "    resultado = list3[i]\n",
    "    \n",
    "    n = resultado\n",
    "    while n >= 1:\n",
    "        print (n, end=' ')\n",
    "        n = n - 1 # i += 1 \n",
    "    print(\"Fin del dibujo\")"
   ]
  },
  {
   "cell_type": "code",
   "execution_count": null,
   "metadata": {},
   "outputs": [
    {
     "ename": "",
     "evalue": "",
     "output_type": "error",
     "traceback": [
      "\u001b[1;31mThe Kernel crashed while executing code in the current cell or a previous cell. \n",
      "\u001b[1;31mPlease review the code in the cell(s) to identify a possible cause of the failure. \n",
      "\u001b[1;31mClick <a href='https://aka.ms/vscodeJupyterKernelCrash'>here</a> for more info. \n",
      "\u001b[1;31mView Jupyter <a href='command:jupyter.viewOutput'>log</a> for further details."
     ]
    }
   ],
   "source": [
    "list3 = range (5,0,-1)\n",
    "for i in range(len(list3)):\n",
    "    #print (i)\n",
    "    resultado = list3[i]\n",
    "    \n",
    "    while resultado >= 1:\n",
    "        print (resultado, end=' ')\n",
    "        resultado = resultado - 1 # i += 1 \n",
    "    #print('\\n')\n",
    "    print()\n",
    "print(\"Fin del dibujo\")"
   ]
  },
  {
   "cell_type": "markdown",
   "metadata": {},
   "source": [
    "## Ejercicio 9\n",
    "En este ejercicio vamos a crear un pequeño juego. Se trata de intentar adivinar un numero del 1 al 5. Tenemos dos intentos para acertar. Pasos a seguir:\n",
    "\n",
    "1. Ya viene implementado cómo obtener un número aleatorio del 1 al 5\n",
    "2. Tendrás que declarar en una variable el numero de vidas, y mediante un bucle while, comprobar que todavia quedan vidas.\n",
    "3. Dentro del bucle, obtener el valor del usuario y comprobar si es ese el numero a adivinar. Si no, actualizar las vidas.\n",
    "4. Si acertamos, salimos del bucle e imprimimos por pantalla \"You win\". Y si perdemos también salimos del bucle, pero en este caso imprimimos por pantalla \"You lose\".\n",
    "\n",
    "TIP: te puede resultar útil usar la sentencia `else` cuando acabe el bucle `while`. Lo que haya dentro de ese `else` se ejecutará una vez acabe la ejecución del `while`. Lo podrás usar para cuando pierdas."
   ]
  },
  {
   "cell_type": "code",
   "execution_count": 1,
   "metadata": {},
   "outputs": [
    {
     "name": "stdout",
     "output_type": "stream",
     "text": [
      "he generado un número entre el 1 y el 5. Trata de adivinarlo\n",
      "tienes 2 vidas/ oportunidades\n",
      "introduce un número entre 1 y 5:\n",
      "tu número ha sido el 4\n",
      "no adivinaste\n",
      "introduce un número entre 1 y 5:\n",
      "tu número ha sido el 5\n",
      "¡acertaste!\n"
     ]
    }
   ],
   "source": [
    "import random\n",
    "\n",
    "num = random.randint (1,5)\n",
    "print ('he generado un número entre el 1 y el 5. Trata de adivinarlo')\n",
    "#print (num) #esta linea no vale usarla, que desvela el número\n",
    "#num = 1 #esta linea la he usado para probar el código\n",
    "\n",
    "vidas = 2\n",
    "print ('tienes', vidas, 'vidas/ oportunidades')\n",
    "\n",
    "while vidas!= 0:\n",
    "    print ('introduce un número entre 1 y 5:')\n",
    "    num_usuario = int(input('Introduce numero entero'))\n",
    "    print ('tu número ha sido el', num_usuario)\n",
    "    vidas = vidas - 1\n",
    "    if num_usuario == num:\n",
    "        print ('¡acertaste!') \n",
    "        break\n",
    "    else: print('no adivinaste')\n",
    "    #print(\"has perdido\")\n",
    "else: print('¡Fin! te quedaste sin oportunidades')\n",
    "\n"
   ]
  }
 ],
 "metadata": {
  "kernelspec": {
   "display_name": "Python 3",
   "language": "python",
   "name": "python3"
  },
  "language_info": {
   "codemirror_mode": {
    "name": "ipython",
    "version": 3
   },
   "file_extension": ".py",
   "mimetype": "text/x-python",
   "name": "python",
   "nbconvert_exporter": "python",
   "pygments_lexer": "ipython3",
   "version": "3.11.9"
  }
 },
 "nbformat": 4,
 "nbformat_minor": 4
}
