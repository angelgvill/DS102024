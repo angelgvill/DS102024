{
 "cells": [
  {
   "cell_type": "markdown",
   "metadata": {},
   "source": [
    "![imagen](./img/ejercicios.png)"
   ]
  },
  {
   "cell_type": "markdown",
   "metadata": {},
   "source": [
    "# Ejercicios funciones\n",
    "## Ejercicio 1\n",
    "Escribe una función que convierta números del 1 al 7 en nombres de los dias de la semana. La función constará de un único argumento numérico y una salida de tipo string"
   ]
  },
  {
   "cell_type": "code",
   "execution_count": null,
   "metadata": {},
   "outputs": [],
   "source": [
    "def dias_semana(num):\n",
    "    if num == 1:\n",
    "        return \"Lunes\"\n",
    "    elif num == 2:\n",
    "        return \"Martes\"\n",
    "    elif num == 3:\n",
    "        return \"Miercoles\"\n",
    "    elif num == 4:\n",
    "        return \"Jueves\"\n",
    "    elif num == 5:\n",
    "        return \"Viernes\"\n",
    "    elif num == 6:\n",
    "        return \"Sabado\"\n",
    "    elif num == 7:\n",
    "        return \"Domingo\"\n",
    "    elif num >=7 or num <= 0:\n",
    "        return \"No es un dia de la semana\"\n",
    "    \n",
    "dias_semana(2)"
   ]
  },
  {
   "cell_type": "code",
   "execution_count": null,
   "metadata": {},
   "outputs": [],
   "source": [
    "dias_semana(1)"
   ]
  },
  {
   "cell_type": "code",
   "execution_count": null,
   "metadata": {},
   "outputs": [],
   "source": [
    "dias_semana(5)"
   ]
  },
  {
   "cell_type": "code",
   "execution_count": null,
   "metadata": {},
   "outputs": [],
   "source": [
    "dias_semana(9)"
   ]
  },
  {
   "cell_type": "markdown",
   "metadata": {},
   "source": [
    "## Ejercicio 2\n",
    "En el ejercicio 8 de bucles, creábamos una pirámide invertida, cuyo número de pisos venía determinado por un input del usuario. Crea una función que replique el comportamiento de la pirámide, y utiliza un único parámetro de entrada de la función para determinar el número de filas de la pirámide, es decir, elimina la sentencia input."
   ]
  },
  {
   "cell_type": "code",
   "execution_count": null,
   "metadata": {},
   "outputs": [],
   "source": [
    "#ejercicio original 8 de Flujos de control\n",
    "input_n = int(input(\"Introduce el numero de filas de la piramide: \"))\n",
    "list3 = range (input_n,0,-1)\n",
    "for i in range(len(list3)):\n",
    "    resultado = list3[i]\n",
    "    \n",
    "    while resultado >= 1:\n",
    "        print (resultado, end=' ')\n",
    "        resultado = resultado - 1 # i += 1 \n",
    "    print()\n",
    "print(\"Fin del dibujo\")"
   ]
  },
  {
   "cell_type": "code",
   "execution_count": 19,
   "metadata": {},
   "outputs": [],
   "source": [
    "\n",
    "def piramide(input_n):\n",
    "    list3 = range (input_n,0,-1)\n",
    "    for i in range(len(list3)):\n",
    "        resultado = list3[i]\n",
    "        while resultado >= 1:\n",
    "            print (resultado, end=' ')\n",
    "            resultado = resultado - 1 # i += 1 \n",
    "        print()\n",
    "    print(\"Fin del dibujo\")"
   ]
  },
  {
   "cell_type": "code",
   "execution_count": null,
   "metadata": {},
   "outputs": [],
   "source": [
    "piramide(7)"
   ]
  },
  {
   "cell_type": "markdown",
   "metadata": {},
   "source": [
    "## Ejercicio 3\n",
    "Escibe una función que compare dos números. La función tiene dos argumentos y hay tres salidas posibles: que sean iguales, que el primero se  mayor que el segundo, o que el segundo sea mayor que el primero"
   ]
  },
  {
   "cell_type": "code",
   "execution_count": 22,
   "metadata": {},
   "outputs": [],
   "source": [
    "def compara(num1,num2):\n",
    "    if num1 == num2:\n",
    "        return \"Son iguales\"\n",
    "    elif num1 > num2:\n",
    "        return \"El primer numero es mayor\"\n",
    "    elif num2 > num1:\n",
    "        return \"El segundo numero es mayor\"\n",
    "    "
   ]
  },
  {
   "cell_type": "code",
   "execution_count": null,
   "metadata": {},
   "outputs": [],
   "source": [
    "compara (3,3)"
   ]
  },
  {
   "cell_type": "markdown",
   "metadata": {},
   "source": [
    "## Ejercicio 4\n",
    "Escribe una función que sea un contador de letras. En el primer argumento tienes que introducir un texto, y el segundo que sea la letra a contar. La función tiene que devolver un entero con el número de veces que aparece esa letra, tanto mayuscula, como minúscula"
   ]
  },
  {
   "cell_type": "code",
   "execution_count": null,
   "metadata": {},
   "outputs": [],
   "source": [
    "def contador_letras(texto,letra):\n",
    "    texto = texto.lower()\n",
    "    letra = letra.lower()\n",
    "    contador = 0\n",
    "    for i in texto:\n",
    "        if i == letra:\n",
    "            contador += 1\n",
    "    return contador\n",
    "\n",
    "contador_letras(\"abcdefghijklmnopqrstuvxyz\",\"a\")"
   ]
  },
  {
   "cell_type": "code",
   "execution_count": null,
   "metadata": {},
   "outputs": [],
   "source": [
    "contador_letras(\"bienvenido a Python\",\"z\")"
   ]
  },
  {
   "cell_type": "markdown",
   "metadata": {},
   "source": [
    "## Ejercicio 5\n",
    "Escribe una función que tenga un único argumento, un string. La salida de la función tiene que ser un diccionario con el conteo de todas las letras de ese string."
   ]
  },
  {
   "cell_type": "code",
   "execution_count": 39,
   "metadata": {},
   "outputs": [],
   "source": [
    "def contador_letras_dicc(texto):\n",
    "    texto = texto.lower()\n",
    "    lista = []\n",
    "    for i in texto:\n",
    "        lista.append(i)\n",
    "    diccionario = {}\n",
    "    for i in lista:\n",
    "        if i in diccionario:\n",
    "            diccionario[i] += 1\n",
    "        else:\n",
    "            diccionario[i] = 1\n",
    "    return diccionario\n"
   ]
  },
  {
   "cell_type": "code",
   "execution_count": null,
   "metadata": {},
   "outputs": [],
   "source": [
    "contador_letras_dicc(\"abcdefghijklmnopqrstuvxyz\")"
   ]
  },
  {
   "cell_type": "code",
   "execution_count": null,
   "metadata": {},
   "outputs": [],
   "source": [
    "contador_letras_dicc(\"hipopótamo\")"
   ]
  },
  {
   "cell_type": "markdown",
   "metadata": {},
   "source": [
    "## Ejercicio 6\n",
    "Escribir una función que añada o elimine elementos en una lista. La función necesita los siguientes argumentos:\n",
    "* lista: la lista donde se añadirán o eliminarán los elementos\n",
    "* comando: \"add\" o \"remove\"\n",
    "* elemento: Por defecto es None."
   ]
  },
  {
   "cell_type": "code",
   "execution_count": 60,
   "metadata": {},
   "outputs": [],
   "source": [
    "def lista_add_remove(lista,comando,elemento):\n",
    "    if elemento == None or elemento == False: #quería contemplar que el usuario no escriba nada\n",
    "        return lista\n",
    "    if comando == \"add\":\n",
    "        lista.append(elemento)\n",
    "    elif comando == \"remove\":\n",
    "        lista.remove(elemento)\n",
    "    return lista\n"
   ]
  },
  {
   "cell_type": "code",
   "execution_count": null,
   "metadata": {},
   "outputs": [],
   "source": [
    "lista_add_remove([1,2,3,4,5,6,7,8,9,10],\"add\",11)"
   ]
  },
  {
   "cell_type": "code",
   "execution_count": null,
   "metadata": {},
   "outputs": [],
   "source": [
    "lista_add_remove([1,2,3],\"add\", 'e')"
   ]
  },
  {
   "cell_type": "markdown",
   "metadata": {},
   "source": [
    "## Ejercicio 7\n",
    "Crea una función que reciba un número arbitrario de palabras, y devuelva una frase completa, separando las palabras con espacios."
   ]
  },
  {
   "cell_type": "code",
   "execution_count": 72,
   "metadata": {},
   "outputs": [],
   "source": [
    "def frase(*palabras):\n",
    "    return \" \".join(palabras)"
   ]
  },
  {
   "cell_type": "code",
   "execution_count": null,
   "metadata": {},
   "outputs": [],
   "source": [
    "frase (\"En\",\"un\", \"lugar\", \"de\", \"la\", \"Mancha\", \"de\", \"cuyo\", \"...\")"
   ]
  },
  {
   "cell_type": "markdown",
   "metadata": {},
   "source": [
    "## Ejercicio 8\n",
    "Escribe un programa que obtenga el enésimo número de la [serie de Fibonacci](https://es.wikipedia.org/wiki/Sucesi%C3%B3n_de_Fibonacci). Tienes que crear una función recursiva con un único argumento.\n",
    "\n",
    "```Python\n",
    "fibonacci(2) = 1\n",
    "fibonacci(4) = 3\n",
    "fibonacci(5) = 5\n",
    "fibonacci(8) = 21\n",
    "```"
   ]
  },
  {
   "cell_type": "code",
   "execution_count": null,
   "metadata": {},
   "outputs": [],
   "source": [
    "#razonamiento de serie de Fibonacci\n",
    "n = 5\n",
    "\n",
    "casoB 1 y casoB 0\n",
    "\n",
    "fi(n-a) + fi(n-2)\n",
    "\n",
    "                            fi (4) +    fi (3)\n",
    "\n",
    "            (fi(3)      +fi (2))    +   (fi(2) + fi(1))\n",
    "         fi(2)+ fi(1)  + (1 + 0)    +   (1 + 0  + 1)\n",
    "        (1+1  + 0      +  1 + 0)    +   (1 +  0 + 1)\n"
   ]
  },
  {
   "cell_type": "code",
   "execution_count": 82,
   "metadata": {},
   "outputs": [],
   "source": [
    "n=5\n",
    "def fib (n:int) ->int:\n",
    "    print(n)\n",
    "    if n == 1:\n",
    "        return 1\n",
    "    elif n== 0:\n",
    "        return 0\n",
    "        \n",
    "    else:\n",
    "        return fib(n-1) + fib(n-2)\n"
   ]
  },
  {
   "cell_type": "code",
   "execution_count": null,
   "metadata": {},
   "outputs": [],
   "source": [
    "fib (5)"
   ]
  },
  {
   "cell_type": "code",
   "execution_count": null,
   "metadata": {},
   "outputs": [],
   "source": [
    "fib(2)"
   ]
  },
  {
   "cell_type": "markdown",
   "metadata": {},
   "source": [
    "celda probando con Git Hub Desktop"
   ]
  },
  {
   "cell_type": "code",
   "execution_count": null,
   "metadata": {},
   "outputs": [],
   "source": [
    "#despues de la entrega, probando un codigo que vi en internet\n",
    "import time\n",
    "def fib(n):    # write Fibonacci series less than n\n",
    "    \"\"\"Print a Fibonacci series less than n.\"\"\"\n",
    "    a, b = 0, 1\n",
    "    while a < n:\n",
    "        print(a, end=' ')\n",
    "        a, b = b, a+b\n",
    "        time.sleep(1)\n",
    "    print()\n",
    "\n",
    "# Now call the function we just defined:\n",
    "fib(2000)"
   ]
  },
  {
   "cell_type": "markdown",
   "metadata": {},
   "source": [
    "## Ejercicio 9\n",
    "Define en una única celda las siguientes funciones:\n",
    "* Función que calcule el área de un cuadrado\n",
    "* Función que calcule el area de un triángulo\n",
    "* Función que calcule el área de un círculo\n",
    "\n",
    "En otra celda, calcular el area de:\n",
    "* Dos círculos de radio 10 + un triángulo de base 3 y altura 7\n",
    "* Un cuadrado de lado = 10 + 3 círculos (uno de radio = 4 y los otros dos de radio = 6) + 5 triángulos de base = 2 + altura = 4"
   ]
  },
  {
   "cell_type": "code",
   "execution_count": 91,
   "metadata": {},
   "outputs": [],
   "source": [
    "def area_cuadrado(lado):\n",
    "    return lado*lado\n",
    "def area_triangulo(base,altura):\n",
    "    return base*altura/2\n",
    "def area_circulo(radio):\n",
    "    return 3.1416*radio**2\n"
   ]
  },
  {
   "cell_type": "code",
   "execution_count": null,
   "metadata": {},
   "outputs": [],
   "source": [
    "a1= area_circulo(10) + area_triangulo(3,7)\n",
    "print (a1)\n",
    "\n",
    "a2 = area_cuadrado(10) + area_circulo(4) + 2 * area_circulo(6) + 5 * area_triangulo(2,4)\n",
    "print (a2)\n"
   ]
  }
 ],
 "metadata": {
  "kernelspec": {
   "display_name": "Python 3",
   "language": "python",
   "name": "python3"
  },
  "language_info": {
   "codemirror_mode": {
    "name": "ipython",
    "version": 3
   },
   "file_extension": ".py",
   "mimetype": "text/x-python",
   "name": "python",
   "nbconvert_exporter": "python",
   "pygments_lexer": "ipython3",
   "version": "3.11.9"
  }
 },
 "nbformat": 4,
 "nbformat_minor": 4
}
