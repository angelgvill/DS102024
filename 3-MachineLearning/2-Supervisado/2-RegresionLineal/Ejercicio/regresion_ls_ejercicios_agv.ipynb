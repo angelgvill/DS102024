{
 "cells": [
  {
   "cell_type": "markdown",
   "metadata": {
    "id": "nTORVO-lwqQN"
   },
   "source": [
    "# Prediciendo ventas de productos\n",
    "\n",
    "En este ejercicio continuaremos viendo el dataset visto en la notebook anterior. Queremos predecir las ventas del producto y nuestro conjunto de datos tiene las ventas en 200 mercados, y el presupuesto dedicado en publicidad en 3 medios: TV, radio y diario.\n",
    "\n",
    "Carguemos este dataset y algunas librerías:"
   ]
  },
  {
   "cell_type": "code",
   "execution_count": 3,
   "metadata": {
    "id": "ilh4zsmcvsFK"
   },
   "outputs": [],
   "source": [
    "import pandas as pd\n",
    "import numpy as np\n",
    "import matplotlib.pyplot as plt\n",
    "import statsmodels.api as sm\n",
    "import seaborn as sns; sns.set()"
   ]
  },
  {
   "cell_type": "code",
   "execution_count": 4,
   "metadata": {
    "id": "USR-jTAYZGcW"
   },
   "outputs": [],
   "source": [
    "df = pd.read_csv('data/advertising_esp.csv')"
   ]
  },
  {
   "cell_type": "code",
   "execution_count": 5,
   "metadata": {},
   "outputs": [
    {
     "data": {
      "text/html": [
       "<div>\n",
       "<style scoped>\n",
       "    .dataframe tbody tr th:only-of-type {\n",
       "        vertical-align: middle;\n",
       "    }\n",
       "\n",
       "    .dataframe tbody tr th {\n",
       "        vertical-align: top;\n",
       "    }\n",
       "\n",
       "    .dataframe thead th {\n",
       "        text-align: right;\n",
       "    }\n",
       "</style>\n",
       "<table border=\"1\" class=\"dataframe\">\n",
       "  <thead>\n",
       "    <tr style=\"text-align: right;\">\n",
       "      <th></th>\n",
       "      <th>tv</th>\n",
       "      <th>radio</th>\n",
       "      <th>periodico</th>\n",
       "      <th>ventas</th>\n",
       "    </tr>\n",
       "  </thead>\n",
       "  <tbody>\n",
       "    <tr>\n",
       "      <th>0</th>\n",
       "      <td>230.1</td>\n",
       "      <td>37.8</td>\n",
       "      <td>69.2</td>\n",
       "      <td>22.1</td>\n",
       "    </tr>\n",
       "    <tr>\n",
       "      <th>1</th>\n",
       "      <td>44.5</td>\n",
       "      <td>39.3</td>\n",
       "      <td>45.1</td>\n",
       "      <td>10.4</td>\n",
       "    </tr>\n",
       "    <tr>\n",
       "      <th>2</th>\n",
       "      <td>17.2</td>\n",
       "      <td>45.9</td>\n",
       "      <td>69.3</td>\n",
       "      <td>9.3</td>\n",
       "    </tr>\n",
       "    <tr>\n",
       "      <th>3</th>\n",
       "      <td>151.5</td>\n",
       "      <td>41.3</td>\n",
       "      <td>58.5</td>\n",
       "      <td>18.5</td>\n",
       "    </tr>\n",
       "    <tr>\n",
       "      <th>4</th>\n",
       "      <td>180.8</td>\n",
       "      <td>10.8</td>\n",
       "      <td>58.4</td>\n",
       "      <td>12.9</td>\n",
       "    </tr>\n",
       "    <tr>\n",
       "      <th>...</th>\n",
       "      <td>...</td>\n",
       "      <td>...</td>\n",
       "      <td>...</td>\n",
       "      <td>...</td>\n",
       "    </tr>\n",
       "    <tr>\n",
       "      <th>195</th>\n",
       "      <td>38.2</td>\n",
       "      <td>3.7</td>\n",
       "      <td>13.8</td>\n",
       "      <td>7.6</td>\n",
       "    </tr>\n",
       "    <tr>\n",
       "      <th>196</th>\n",
       "      <td>94.2</td>\n",
       "      <td>4.9</td>\n",
       "      <td>8.1</td>\n",
       "      <td>9.7</td>\n",
       "    </tr>\n",
       "    <tr>\n",
       "      <th>197</th>\n",
       "      <td>177.0</td>\n",
       "      <td>9.3</td>\n",
       "      <td>6.4</td>\n",
       "      <td>12.8</td>\n",
       "    </tr>\n",
       "    <tr>\n",
       "      <th>198</th>\n",
       "      <td>283.6</td>\n",
       "      <td>42.0</td>\n",
       "      <td>66.2</td>\n",
       "      <td>25.5</td>\n",
       "    </tr>\n",
       "    <tr>\n",
       "      <th>199</th>\n",
       "      <td>232.1</td>\n",
       "      <td>8.6</td>\n",
       "      <td>8.7</td>\n",
       "      <td>13.4</td>\n",
       "    </tr>\n",
       "  </tbody>\n",
       "</table>\n",
       "<p>200 rows × 4 columns</p>\n",
       "</div>"
      ],
      "text/plain": [
       "        tv  radio  periodico  ventas\n",
       "0    230.1   37.8       69.2    22.1\n",
       "1     44.5   39.3       45.1    10.4\n",
       "2     17.2   45.9       69.3     9.3\n",
       "3    151.5   41.3       58.5    18.5\n",
       "4    180.8   10.8       58.4    12.9\n",
       "..     ...    ...        ...     ...\n",
       "195   38.2    3.7       13.8     7.6\n",
       "196   94.2    4.9        8.1     9.7\n",
       "197  177.0    9.3        6.4    12.8\n",
       "198  283.6   42.0       66.2    25.5\n",
       "199  232.1    8.6        8.7    13.4\n",
       "\n",
       "[200 rows x 4 columns]"
      ]
     },
     "execution_count": 5,
     "metadata": {},
     "output_type": "execute_result"
    }
   ],
   "source": [
    "df"
   ]
  },
  {
   "cell_type": "markdown",
   "metadata": {
    "id": "kWWoHD24xfMQ"
   },
   "source": [
    "Como habiamos visto antes la relación parece ser lineal con la variable TV, es decir cuanta plata se invirtió ahí. Crear un `X` dataframe que tenga solo las variables TV, Radio y Newspaper, y crear una variable `y` que tenga solo el dato de las ventas."
   ]
  },
  {
   "cell_type": "code",
   "execution_count": 6,
   "metadata": {
    "id": "pDsTqF60xeiW"
   },
   "outputs": [],
   "source": [
    "# Completar\n",
    "X = df[['tv', 'radio', 'periodico']]\n",
    "y = df['ventas']"
   ]
  },
  {
   "cell_type": "markdown",
   "metadata": {
    "id": "_yg1LtRexl_x"
   },
   "source": [
    "## Ejercicio 1 - Train Test Split\n",
    "\n",
    "a) En este ejericio elaborar una separación de datos en entrenamiento, dejando un 25% de datos para prueba. Para eso utilicen `train_test_split` de Scikit-Learn basandose en el ejemplo presente en la [documentación](https://scikit-learn.org/stable/modules/generated/sklearn.model_selection.train_test_split.html), deberían crear una variable `X_train`, `X_test`, con los features, y con los targets `y_train`, e `y_test`. ¿Qué tamaño tiene cada conjunto? ¿El conjunto que crearon tiene el mismo orden de filas?\n"
   ]
  },
  {
   "cell_type": "code",
   "execution_count": 7,
   "metadata": {
    "id": "k7TjRDZYyf9O"
   },
   "outputs": [],
   "source": [
    "from sklearn.model_selection import train_test_split\n",
    "\n",
    "X_train, X_test, y_train, y_test = train_test_split(\n",
    "                                        X,\n",
    "                                        y.values.reshape(-1,1),\n",
    "                                        train_size   = 0.75,\n",
    "                                        random_state = 1234,\n",
    "                                        shuffle      = True\n",
    "                                    )"
   ]
  },
  {
   "cell_type": "code",
   "execution_count": 35,
   "metadata": {},
   "outputs": [
    {
     "name": "stdout",
     "output_type": "stream",
     "text": [
      "tamaño de X_train (150, 3)\n",
      "tamaño de X_test (50, 3)\n",
      "tamaño de y_train (150, 1)\n",
      "tamaño de y_test (50, 1)\n"
     ]
    }
   ],
   "source": [
    "print (f'tamaño de X_train {X_train.shape}')\n",
    "print (f'tamaño de X_test {X_test.shape}')\n",
    "print (f'tamaño de y_train {y_train.shape}')\n",
    "print (f'tamaño de y_test {y_test.shape}')"
   ]
  },
  {
   "cell_type": "markdown",
   "metadata": {
    "id": "F4xtbz8a0x5M"
   },
   "source": [
    "b) Quedarse solo con la columna que corresponde a TV, y ajustar un modelo de regresion lineal al conjunto de entrenamiento con intercept. Tambien construir una matriz que tenga solo la columna de TV en el conjunto de test. "
   ]
  },
  {
   "cell_type": "code",
   "execution_count": 8,
   "metadata": {
    "id": "6wLIeb-U1ffP"
   },
   "outputs": [],
   "source": [
    "from sklearn.linear_model import LinearRegression\n",
    "\n",
    "# Se elimina la columna periodico del conjunto de train y test\n",
    "X_train_tv = X_train.drop(columns = ['radio','periodico'])  #dos formas de hacerlo, o eliminamos \n",
    "X_test_tv  = X_test[['tv']]                                 #o nos quedamos con la/las columnas que queremos\n",
    "#X_test_tv  = X_test[:,['tv']]"
   ]
  },
  {
   "cell_type": "code",
   "execution_count": 9,
   "metadata": {},
   "outputs": [
    {
     "name": "stdout",
     "output_type": "stream",
     "text": [
      "<class 'pandas.core.frame.DataFrame'>\n",
      "<class 'pandas.core.frame.DataFrame'>\n"
     ]
    }
   ],
   "source": [
    "print (type(X_train_tv))\n",
    "print (type(X_test_tv))"
   ]
  },
  {
   "cell_type": "code",
   "execution_count": 10,
   "metadata": {},
   "outputs": [
    {
     "name": "stdout",
     "output_type": "stream",
     "text": [
      "Intercepto: [7.07799047]\n",
      "Coeficiente de TV: [0.04844509]\n"
     ]
    }
   ],
   "source": [
    "# Crear y entrenar el modelo de regresión lineal\n",
    "modelo = LinearRegression()\n",
    "modelo.fit(X_train_tv, y_train)\n",
    "\n",
    "# Ver coeficientes del modelo\n",
    "print(f\"Intercepto: {modelo.intercept_}\")\n",
    "print(f\"Coeficiente de TV: {modelo.coef_[0]}\")\n"
   ]
  },
  {
   "cell_type": "markdown",
   "metadata": {
    "id": "I6epDgvv1qF7"
   },
   "source": [
    "c) Ahora vamos a querer evaluar nuestro modelo en nuestro conjunto de testeo, para eso tenemos que calcular las predicciones del modelo $\\hat{y}$, y para esto usamos el método `predict` sobre todo el conjunto de testeo.\n",
    "\n",
    "`y_predicted = modelo.predict(X_test)`\n",
    "\n",
    "Luego, usando los valores reales de `y` en el conjunto de test, nos interesa calcular el error de nuestro modelo en datos que no vio, justamente el conjunto de test. Para eso vamos a calcular uno de los errores más populares, el [Error Cuadrático Medio](https://es.wikipedia.org/wiki/Error_cuadr%C3%A1tico_medio):\n",
    "\n",
    "$ ECM = \\dfrac{1}{n} \\sum (y_i - \\hat{y}_i)^2$\n",
    "\n",
    "Es decir que el ECM es el promedio de la diferencia entre los vectores `y_test` e `y_predict` elevadas al cuadrado. Calcular el ECM usando solo herramientas de `numpy`:"
   ]
  },
  {
   "cell_type": "code",
   "execution_count": 11,
   "metadata": {
    "id": "r7qpBxyX1quB"
   },
   "outputs": [
    {
     "name": "stdout",
     "output_type": "stream",
     "text": [
      "El Error Cuadrático Medio (ECM/ RMSE) fue de:  11.235412479327138\n"
     ]
    }
   ],
   "source": [
    "# calculamos las predicciones sobre test\n",
    "y_predict = modelo.predict(X_test_tv)\n",
    "\n",
    "# calculamos el cuadrado de las diferencias de estos vectores\n",
    "ecm = np.mean ((y_test - y_predict) **2 )\n",
    "\n",
    "# calculamos el promedio usando mean\n",
    "print('El Error Cuadrático Medio (ECM/ RMSE) fue de: ', ecm)"
   ]
  },
  {
   "cell_type": "markdown",
   "metadata": {
    "id": "GIbJK_Ka29hK"
   },
   "source": [
    "d) Podemos usar el ECM que nos brinda SkLearn: [RMS](https://scikit-learn.org/stable/modules/generated/sklearn.metrics.mean_squared_error.html?highlight=rms). Calcularlo el ECM para cada conjunto, entrenamiento y test. ¿En que conjunto rindió mejor nuestro modelo?"
   ]
  },
  {
   "cell_type": "code",
   "execution_count": 39,
   "metadata": {},
   "outputs": [
    {
     "name": "stdout",
     "output_type": "stream",
     "text": [
      "ECM en entrenamiento: 3.2129\n"
     ]
    }
   ],
   "source": [
    "from sklearn.metrics import root_mean_squared_error\n",
    "\n",
    "# Predicciones en el conjunto de entrenamiento\n",
    "y_train_pred = modelo.predict(X_train_tv)\n",
    "\n",
    "# Calcular ECM en entrenamiento\n",
    "ecm_train = root_mean_squared_error(y_train, y_train_pred)\n",
    "print(f\"ECM en entrenamiento: {ecm_train:.4f}\")"
   ]
  },
  {
   "cell_type": "code",
   "execution_count": 40,
   "metadata": {},
   "outputs": [
    {
     "name": "stdout",
     "output_type": "stream",
     "text": [
      "ECM en test: 3.3519\n"
     ]
    }
   ],
   "source": [
    "# Predicciones en el conjunto de test\n",
    "y_test_pred = modelo.predict(X_test_tv)\n",
    "\n",
    "# Calcular ECM en test\n",
    "ecm_test = root_mean_squared_error(y_test, y_test_pred)\n",
    "print(f\"ECM en test: {ecm_test:.4f}\")"
   ]
  },
  {
   "cell_type": "markdown",
   "metadata": {
    "id": "rLhkpva20gBr"
   },
   "source": [
    "## Ejercicio 2 - Probando otras variables\n",
    "\n",
    "Ajustar un modelo lineal para cada variable sobre el conjunto que entrenamiento y calcular el error sobre cada conjunto para cada modelo. Comparar el rendimiento de cada modelo en ambos conjuntos, ¿cuál fue el mejor modelo?. Por lo visto en clase, ¿era esperable este resultado?"
   ]
  },
  {
   "cell_type": "code",
   "execution_count": null,
   "metadata": {
    "id": "hMsoUOCJ601-"
   },
   "outputs": [],
   "source": [
    "from sklearn.metrics import mean_squared_error\n",
    "\n",
    "# Completar\n",
    "\n",
    "# sugerencia (pueden no usarla)\n",
    "def regresion_ls(X_train:pd.DataFrame, \n",
    "                 X_test :pd.DataFrame,\n",
    "                 y_train:pd.Series, \n",
    "                 y_test :pd.Series,\n",
    "                 var: str):\n",
    "  \"\"\"\n",
    "  Input\n",
    "    X, y: Datos\n",
    "    var: Nombre del feature a utilizar para ajustar un modelo de regresion simple\n",
    "  Output\n",
    "    El modelo y métrica\n",
    "  \"\"\"\n",
    "  ...\n",
    "  \n",
    "  return modelo\n",
    "\n",
    "..."
   ]
  },
  {
   "cell_type": "markdown",
   "metadata": {
    "id": "AM2gOKfd9JKY"
   },
   "source": [
    "¿Cuál es el peso asignado a cada variable por nuestros modelos? ¿Utilizaría solo este dato para hacer una recomendación sobre donde invertir de los tres medios?"
   ]
  },
  {
   "cell_type": "code",
   "execution_count": null,
   "metadata": {
    "id": "Wn1mBdUA9G5E"
   },
   "outputs": [],
   "source": [
    "# Completar\n",
    "..."
   ]
  },
  {
   "cell_type": "markdown",
   "metadata": {
    "id": "mTz1eJgw2n8K"
   },
   "source": [
    "# Haciendo regresiones en conjuntos de juguete\n",
    "\n",
    "Scikit-Learn es una librería muy versátil que nos brinda herramientas no solo relacionados a los tipos de modelos, sino que tambíen nos deja crear datasets de juguete según la tarea que nos interese, en este caso la regresión. Para eso contamos con la función [`make_regresion`](https://scikit-learn.org/stable/modules/generated/sklearn.datasets.make_regression.html#sklearn.datasets.make_regression), donde no solo obtenemos las features y los targets, sino que también nos devuelve el coeficiente utilizado para generar este conjunto. "
   ]
  },
  {
   "cell_type": "code",
   "execution_count": null,
   "metadata": {
    "id": "19bqwWBrA8vX"
   },
   "outputs": [],
   "source": [
    "from sklearn.datasets import make_regression\n",
    "from sklearn.model_selection import train_test_split\n",
    "\n",
    "# Ejemplo\n",
    "n_samples_train, n_samples_test, n_features = 4000, 1000, 1\n",
    "\n",
    "X, y, coef = make_regression(\n",
    "    n_samples=n_samples_train + n_samples_test,\n",
    "    n_features=n_features,\n",
    "    n_informative=1,\n",
    "    shuffle=False,\n",
    "    noise=10.0,\n",
    "    coef=True,\n",
    "    bias = -7,\n",
    "    random_state = 2022\n",
    ")\n",
    "\n",
    "plt.scatter(X,y);\n",
    "print(coef)"
   ]
  },
  {
   "cell_type": "markdown",
   "metadata": {
    "id": "pF8SSslTPb1g"
   },
   "source": [
    "Esto nos crea un dataset donde con la cantidad de muestras solicitadas, la cantidad de features, pudiendo controlar el ruido que se utiliza para generar estas instancias. Vamos a utilizar este dataset para evaluar nuestros modelos de regresión, aprovechando que sabemos el *coeficiente* que se utilizó para generar los datos."
   ]
  },
  {
   "cell_type": "markdown",
   "metadata": {
    "id": "1QWS1iuC75Vt"
   },
   "source": [
    "## Ejercicio 1 - Toy Dataset\n",
    "\n",
    "A partir del X e y creados anteriormente, seleccione los últimos 1000 datos para el conjunto de testeo y los primeros 4000 para entrenamiento. Ajuste un modelo lineal con intercept y reporte el *error cuadrático* tanto en entrenamiento como en test. Reporten el error cuadrático en test."
   ]
  },
  {
   "cell_type": "code",
   "execution_count": null,
   "metadata": {
    "id": "PuFRMyfH745h"
   },
   "outputs": [],
   "source": [
    "# Completar\n",
    "X_train = ...\n",
    "y_train = ...\n",
    "X_test = ...\n",
    "y_test = ...\n",
    "\n",
    "..."
   ]
  },
  {
   "cell_type": "markdown",
   "metadata": {
    "id": "GUBpLmcIYXm9"
   },
   "source": [
    "¿Qué tan parecidos quedaron los coeficientes de nuestro modelo en comparación de los que se usaron para generar nuestro dataset?"
   ]
  },
  {
   "cell_type": "code",
   "execution_count": null,
   "metadata": {
    "id": "aWS93JkPYIe9"
   },
   "outputs": [],
   "source": [
    "# Completar\n",
    "..."
   ]
  },
  {
   "cell_type": "markdown",
   "metadata": {
    "id": "7XHUMrOoYmgp"
   },
   "source": [
    "Graficar los datos junto a nuestro modelo. "
   ]
  },
  {
   "cell_type": "code",
   "execution_count": null,
   "metadata": {
    "id": "6tP5nZKAYmLS"
   },
   "outputs": [],
   "source": [
    "# Completar\n",
    "\n",
    "# para graficar la recta\n",
    "xfit = np.linspace(-4, 4, 1000)\n",
    "yfit = ...\n",
    "\n",
    "plt.scatter(X_train, y_train, label = 'train')\n",
    "plt.scatter(X_test, y_test, label = 'test')\n",
    "plt.plot(xfit, yfit, 'r', label = 'modelo');\n",
    "plt.legend();"
   ]
  },
  {
   "cell_type": "markdown",
   "metadata": {
    "id": "p8CKHtzW0oAr"
   },
   "source": [
    "## Ejercicio 2 - Comparando nuestros modelos con $R^2$\n",
    "\n",
    "$R^2$ es una métrica que nos permite evaluar cuanta variabilidad del conjunto original de datos camptura nuestro modelo. Se lo conoce también como el [*coeficiente de determinación*](https://es.wikipedia.org/wiki/Coeficiente_de_determinaci%C3%B3n), y sklearn tiene su [implementación](https://scikit-learn.org/stable/modules/generated/sklearn.metrics.r2_score.html?highlight=r2#sklearn.metrics.r2_score). A diferencia del ECM, no se trata de una función de error, que mide que tan lejos esta nuestro modelo de los datos reales (errores más chicos es mejor), sino de un *score* o puntaje, es decir que más grande es mejor y lo máximo que pude valer es 1.\n",
    "\n",
    "$ R^2 = 1 - \\frac{\\text{variación no explicada}}{\\text{variación total}} = 1 - \\dfrac{(\\sum y_i - \\hat{y}_i)^2}{(\\sum y_i - \\bar{y})^2}$\n",
    "\n",
    "\n",
    "Calcular el valor de $R^2$ para nuestro modelo:"
   ]
  },
  {
   "cell_type": "code",
   "execution_count": null,
   "metadata": {
    "id": "KeFCAfFT1LGy"
   },
   "outputs": [],
   "source": [
    "from sklearn.metrics import r2_score\n",
    "\n",
    "# Completar\n",
    "r2 = ...\n",
    "print(r2)"
   ]
  },
  {
   "cell_type": "markdown",
   "metadata": {
    "id": "5DoQn-R38Cbu"
   },
   "source": [
    "## Ejercicio 3 - Efecto del conjunto de entrenamiento: Learning Curves\n",
    "\n",
    "Muchas veces escucharemos aseverar que tener más datos es mejor, pero eso no es necesariamente cierto. Para ver si nuestro modelo necesita mas datos para mejorar su rendimiento podemos armar lo que se conoce como *curvas de aprendizaje* o *Learning curves*.\n",
    "\n",
    "Básicamente lo que haremos es empezar de un conjunto de entrenamiento muy pequeño e iremos incrementando la cantidad de datos del mismo, para ver si el rendimiento de cada modelo mejor o no al incorporar más datos. Scikit Learn nos provee una [función](https://scikit-learn.org/stable/modules/generated/sklearn.model_selection.learning_curve.html#sklearn.model_selection.learning_curve) para hacerlo, sin embargo vamos a hacer algo similar pero de manera manual.\n",
    "\n",
    "Completar el código siguiente para calcular un modelo para cada subconjunto de entrenamiento considerado, en el cual nos iremos quedando con distintos porcentajes de entrenamiento desde el 5% al 100%. Guardarse los $R^2$ en entrenamiento y testeo para cada modelo y finalmente realizar un gráfico donde veamos el error en función del porcentaje total de datos usado."
   ]
  },
  {
   "cell_type": "code",
   "execution_count": null,
   "metadata": {
    "id": "tQRHyAt28BrQ"
   },
   "outputs": [],
   "source": [
    "# Completar - \n",
    "\n",
    "train_errs = []\n",
    "test_errs  = []\n",
    "\n",
    "...\n",
    "\n",
    "plt.plot(np.linspace(0.05,1,20), train_errs)\n",
    "plt.plot(np.linspace(0.05,1,20), test_errs)\n",
    "plt.legend(['train', 'test']);"
   ]
  },
  {
   "cell_type": "markdown",
   "metadata": {
    "id": "9KmQ8tyIWFxg"
   },
   "source": [
    "Vemos finalmente que nuestro modelo mejora con más datos de entrenamiento su rendimiento en entrenamiento, como era esperable. Sin embargo, satura rapidamente el rendimiento en test.\n",
    "\n",
    "*Aclaración*: Lo que acabamos de hacer no es exactamente una curva de aprendizaje, ya que deberiamos, para cada percentil, poder ajustar muchos conjuntos aleatorio con esa cantida de casos. Esto al menos nos garantizará poder estimar los desvíos para poder tener mayor rigurosidad estadística.\n",
    "\n",
    "Para más detalles analizar este [ejemplo](https://scikit-learn.org/stable/auto_examples/model_selection/plot_learning_curve.html)."
   ]
  }
 ],
 "metadata": {
  "colab": {
   "authorship_tag": "ABX9TyOtZDXHi7BNMnWif/uyryXu",
   "collapsed_sections": [],
   "name": "regresion_ls_ejercicios.ipynb",
   "provenance": [],
   "toc_visible": true
  },
  "kernelspec": {
   "display_name": ".venv",
   "language": "python",
   "name": "python3"
  },
  "language_info": {
   "codemirror_mode": {
    "name": "ipython",
    "version": 3
   },
   "file_extension": ".py",
   "mimetype": "text/x-python",
   "name": "python",
   "nbconvert_exporter": "python",
   "pygments_lexer": "ipython3",
   "version": "3.11.9"
  }
 },
 "nbformat": 4,
 "nbformat_minor": 0
}
