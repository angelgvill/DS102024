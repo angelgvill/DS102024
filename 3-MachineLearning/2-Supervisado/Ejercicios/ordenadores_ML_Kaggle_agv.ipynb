{
 "cells": [
  {
   "cell_type": "markdown",
   "metadata": {},
   "source": [
    "## Librerias"
   ]
  },
  {
   "cell_type": "code",
   "execution_count": 81,
   "metadata": {},
   "outputs": [],
   "source": [
    "\n",
    "# Tratamiento de datos\n",
    "import numpy as np\n",
    "import pandas as pd\n",
    "import re\n",
    "\n",
    "# Gráficos\n",
    "import matplotlib.pyplot as plt\n",
    "import seaborn as sns\n",
    "import plotly.graph_objects as go\n",
    "\n",
    "# Estadísticas\n",
    "import scipy.stats as stats\n",
    "from scipy.stats import f_oneway\n",
    "from scipy.stats import shapiro\n",
    "\n",
    "# modelos de aprendizaje supervisado \n",
    "from sklearn.linear_model import LinearRegression, LogisticRegression\n",
    "from sklearn.model_selection import train_test_split\n",
    "import pickle\n",
    " \n",
    "# mis cosas\n",
    "import sys\n",
    "import os\n",
    "\n",
    "import urllib.request\n",
    "from PIL import Image"
   ]
  },
  {
   "cell_type": "markdown",
   "metadata": {},
   "source": [
    "_________________________________\n",
    "INICIO BASELINE"
   ]
  },
  {
   "cell_type": "code",
   "execution_count": null,
   "metadata": {},
   "outputs": [],
   "source": [
    "def limp_pre_fe (df)\n"
   ]
  },
  {
   "cell_type": "markdown",
   "metadata": {},
   "source": [
    "FIN BASELINE\n",
    "_________________________________"
   ]
  },
  {
   "cell_type": "markdown",
   "metadata": {},
   "source": [
    "## Data"
   ]
  },
  {
   "cell_type": "markdown",
   "metadata": {},
   "source": [
    "Primero voy a probar con mi df limpio, y probar todos los metodos del modelo excepto preprocess pues ya lo tengo hecho. Una vez compruebe que funciona, puedo incorporar todo ese paquete de transformaciones en este metodo de Skmodel y ver si funciona también."
   ]
  },
  {
   "cell_type": "code",
   "execution_count": 82,
   "metadata": {},
   "outputs": [],
   "source": [
    "### Cargamos los datos procesados y limpios en el notebook anterior\n",
    "df = pd.read_parquet ('data/processed/com_proceso_2.parquet')"
   ]
  },
  {
   "cell_type": "code",
   "execution_count": 83,
   "metadata": {},
   "outputs": [
    {
     "data": {
      "text/html": [
       "<div>\n",
       "<style scoped>\n",
       "    .dataframe tbody tr th:only-of-type {\n",
       "        vertical-align: middle;\n",
       "    }\n",
       "\n",
       "    .dataframe tbody tr th {\n",
       "        vertical-align: top;\n",
       "    }\n",
       "\n",
       "    .dataframe thead th {\n",
       "        text-align: right;\n",
       "    }\n",
       "</style>\n",
       "<table border=\"1\" class=\"dataframe\">\n",
       "  <thead>\n",
       "    <tr style=\"text-align: right;\">\n",
       "      <th></th>\n",
       "      <th>Company</th>\n",
       "      <th>2 in 1 Convertible</th>\n",
       "      <th>Gaming</th>\n",
       "      <th>Netbook</th>\n",
       "      <th>Notebook</th>\n",
       "      <th>Ultrabook</th>\n",
       "      <th>Workstation</th>\n",
       "      <th>Inches(\")</th>\n",
       "      <th>Touchscreen</th>\n",
       "      <th>IPS</th>\n",
       "      <th>Pixels</th>\n",
       "      <th>CPU Maker</th>\n",
       "      <th>CPU(Ghz)</th>\n",
       "      <th>RAM (GB)</th>\n",
       "      <th>Memory SSD (GB)</th>\n",
       "      <th>Memory HDD (GB)</th>\n",
       "      <th>Memory SSHD (GB)</th>\n",
       "      <th>GPU Maker</th>\n",
       "      <th>Weight (kg)</th>\n",
       "      <th>Price_euros</th>\n",
       "    </tr>\n",
       "    <tr>\n",
       "      <th>laptop_ID</th>\n",
       "      <th></th>\n",
       "      <th></th>\n",
       "      <th></th>\n",
       "      <th></th>\n",
       "      <th></th>\n",
       "      <th></th>\n",
       "      <th></th>\n",
       "      <th></th>\n",
       "      <th></th>\n",
       "      <th></th>\n",
       "      <th></th>\n",
       "      <th></th>\n",
       "      <th></th>\n",
       "      <th></th>\n",
       "      <th></th>\n",
       "      <th></th>\n",
       "      <th></th>\n",
       "      <th></th>\n",
       "      <th></th>\n",
       "      <th></th>\n",
       "    </tr>\n",
       "  </thead>\n",
       "  <tbody>\n",
       "    <tr>\n",
       "      <th>599</th>\n",
       "      <td>1</td>\n",
       "      <td>1</td>\n",
       "      <td>0</td>\n",
       "      <td>0</td>\n",
       "      <td>0</td>\n",
       "      <td>0</td>\n",
       "      <td>0</td>\n",
       "      <td>11.6</td>\n",
       "      <td>1</td>\n",
       "      <td>0</td>\n",
       "      <td>1049088</td>\n",
       "      <td>0</td>\n",
       "      <td>1.0</td>\n",
       "      <td>4</td>\n",
       "      <td>128</td>\n",
       "      <td>0</td>\n",
       "      <td>0</td>\n",
       "      <td>0</td>\n",
       "      <td>1.39</td>\n",
       "      <td>603.00</td>\n",
       "    </tr>\n",
       "    <tr>\n",
       "      <th>92</th>\n",
       "      <td>2</td>\n",
       "      <td>0</td>\n",
       "      <td>1</td>\n",
       "      <td>0</td>\n",
       "      <td>0</td>\n",
       "      <td>0</td>\n",
       "      <td>0</td>\n",
       "      <td>15.6</td>\n",
       "      <td>0</td>\n",
       "      <td>0</td>\n",
       "      <td>2073600</td>\n",
       "      <td>1</td>\n",
       "      <td>3.0</td>\n",
       "      <td>8</td>\n",
       "      <td>0</td>\n",
       "      <td>1024</td>\n",
       "      <td>0</td>\n",
       "      <td>1</td>\n",
       "      <td>2.45</td>\n",
       "      <td>699.00</td>\n",
       "    </tr>\n",
       "    <tr>\n",
       "      <th>744</th>\n",
       "      <td>3</td>\n",
       "      <td>0</td>\n",
       "      <td>0</td>\n",
       "      <td>0</td>\n",
       "      <td>0</td>\n",
       "      <td>0</td>\n",
       "      <td>1</td>\n",
       "      <td>15.6</td>\n",
       "      <td>0</td>\n",
       "      <td>0</td>\n",
       "      <td>2073600</td>\n",
       "      <td>0</td>\n",
       "      <td>2.8</td>\n",
       "      <td>16</td>\n",
       "      <td>256</td>\n",
       "      <td>0</td>\n",
       "      <td>0</td>\n",
       "      <td>2</td>\n",
       "      <td>2.60</td>\n",
       "      <td>2419.00</td>\n",
       "    </tr>\n",
       "    <tr>\n",
       "      <th>729</th>\n",
       "      <td>3</td>\n",
       "      <td>1</td>\n",
       "      <td>0</td>\n",
       "      <td>0</td>\n",
       "      <td>0</td>\n",
       "      <td>0</td>\n",
       "      <td>0</td>\n",
       "      <td>13.3</td>\n",
       "      <td>1</td>\n",
       "      <td>1</td>\n",
       "      <td>1049088</td>\n",
       "      <td>0</td>\n",
       "      <td>2.5</td>\n",
       "      <td>8</td>\n",
       "      <td>256</td>\n",
       "      <td>0</td>\n",
       "      <td>0</td>\n",
       "      <td>0</td>\n",
       "      <td>1.58</td>\n",
       "      <td>836.60</td>\n",
       "    </tr>\n",
       "    <tr>\n",
       "      <th>957</th>\n",
       "      <td>4</td>\n",
       "      <td>0</td>\n",
       "      <td>0</td>\n",
       "      <td>0</td>\n",
       "      <td>1</td>\n",
       "      <td>0</td>\n",
       "      <td>0</td>\n",
       "      <td>15.6</td>\n",
       "      <td>0</td>\n",
       "      <td>0</td>\n",
       "      <td>1049088</td>\n",
       "      <td>0</td>\n",
       "      <td>2.3</td>\n",
       "      <td>8</td>\n",
       "      <td>256</td>\n",
       "      <td>0</td>\n",
       "      <td>0</td>\n",
       "      <td>0</td>\n",
       "      <td>2.20</td>\n",
       "      <td>1119.00</td>\n",
       "    </tr>\n",
       "    <tr>\n",
       "      <th>...</th>\n",
       "      <td>...</td>\n",
       "      <td>...</td>\n",
       "      <td>...</td>\n",
       "      <td>...</td>\n",
       "      <td>...</td>\n",
       "      <td>...</td>\n",
       "      <td>...</td>\n",
       "      <td>...</td>\n",
       "      <td>...</td>\n",
       "      <td>...</td>\n",
       "      <td>...</td>\n",
       "      <td>...</td>\n",
       "      <td>...</td>\n",
       "      <td>...</td>\n",
       "      <td>...</td>\n",
       "      <td>...</td>\n",
       "      <td>...</td>\n",
       "      <td>...</td>\n",
       "      <td>...</td>\n",
       "      <td>...</td>\n",
       "    </tr>\n",
       "    <tr>\n",
       "      <th>837</th>\n",
       "      <td>9</td>\n",
       "      <td>0</td>\n",
       "      <td>0</td>\n",
       "      <td>1</td>\n",
       "      <td>0</td>\n",
       "      <td>0</td>\n",
       "      <td>0</td>\n",
       "      <td>11.6</td>\n",
       "      <td>0</td>\n",
       "      <td>1</td>\n",
       "      <td>1049088</td>\n",
       "      <td>0</td>\n",
       "      <td>1.6</td>\n",
       "      <td>4</td>\n",
       "      <td>32</td>\n",
       "      <td>0</td>\n",
       "      <td>0</td>\n",
       "      <td>0</td>\n",
       "      <td>1.35</td>\n",
       "      <td>355.00</td>\n",
       "    </tr>\n",
       "    <tr>\n",
       "      <th>626</th>\n",
       "      <td>9</td>\n",
       "      <td>1</td>\n",
       "      <td>0</td>\n",
       "      <td>0</td>\n",
       "      <td>0</td>\n",
       "      <td>0</td>\n",
       "      <td>0</td>\n",
       "      <td>11.6</td>\n",
       "      <td>1</td>\n",
       "      <td>1</td>\n",
       "      <td>1049088</td>\n",
       "      <td>0</td>\n",
       "      <td>1.6</td>\n",
       "      <td>4</td>\n",
       "      <td>32</td>\n",
       "      <td>0</td>\n",
       "      <td>0</td>\n",
       "      <td>0</td>\n",
       "      <td>1.25</td>\n",
       "      <td>379.00</td>\n",
       "    </tr>\n",
       "    <tr>\n",
       "      <th>225</th>\n",
       "      <td>1</td>\n",
       "      <td>0</td>\n",
       "      <td>0</td>\n",
       "      <td>0</td>\n",
       "      <td>1</td>\n",
       "      <td>0</td>\n",
       "      <td>0</td>\n",
       "      <td>15.6</td>\n",
       "      <td>0</td>\n",
       "      <td>0</td>\n",
       "      <td>2073600</td>\n",
       "      <td>0</td>\n",
       "      <td>1.6</td>\n",
       "      <td>8</td>\n",
       "      <td>256</td>\n",
       "      <td>0</td>\n",
       "      <td>0</td>\n",
       "      <td>1</td>\n",
       "      <td>2.20</td>\n",
       "      <td>677.35</td>\n",
       "    </tr>\n",
       "    <tr>\n",
       "      <th>17</th>\n",
       "      <td>1</td>\n",
       "      <td>0</td>\n",
       "      <td>0</td>\n",
       "      <td>0</td>\n",
       "      <td>1</td>\n",
       "      <td>0</td>\n",
       "      <td>0</td>\n",
       "      <td>15.6</td>\n",
       "      <td>0</td>\n",
       "      <td>0</td>\n",
       "      <td>2073600</td>\n",
       "      <td>0</td>\n",
       "      <td>2.7</td>\n",
       "      <td>8</td>\n",
       "      <td>256</td>\n",
       "      <td>0</td>\n",
       "      <td>0</td>\n",
       "      <td>1</td>\n",
       "      <td>2.20</td>\n",
       "      <td>745.00</td>\n",
       "    </tr>\n",
       "    <tr>\n",
       "      <th>87</th>\n",
       "      <td>1</td>\n",
       "      <td>0</td>\n",
       "      <td>1</td>\n",
       "      <td>0</td>\n",
       "      <td>0</td>\n",
       "      <td>0</td>\n",
       "      <td>0</td>\n",
       "      <td>15.6</td>\n",
       "      <td>0</td>\n",
       "      <td>1</td>\n",
       "      <td>2073600</td>\n",
       "      <td>0</td>\n",
       "      <td>2.8</td>\n",
       "      <td>16</td>\n",
       "      <td>128</td>\n",
       "      <td>1024</td>\n",
       "      <td>0</td>\n",
       "      <td>2</td>\n",
       "      <td>2.65</td>\n",
       "      <td>1349.00</td>\n",
       "    </tr>\n",
       "  </tbody>\n",
       "</table>\n",
       "<p>912 rows × 20 columns</p>\n",
       "</div>"
      ],
      "text/plain": [
       "           Company  2 in 1 Convertible  Gaming  Netbook  Notebook  Ultrabook  \\\n",
       "laptop_ID                                                                      \n",
       "599              1                   1       0        0         0          0   \n",
       "92               2                   0       1        0         0          0   \n",
       "744              3                   0       0        0         0          0   \n",
       "729              3                   1       0        0         0          0   \n",
       "957              4                   0       0        0         1          0   \n",
       "...            ...                 ...     ...      ...       ...        ...   \n",
       "837              9                   0       0        1         0          0   \n",
       "626              9                   1       0        0         0          0   \n",
       "225              1                   0       0        0         1          0   \n",
       "17               1                   0       0        0         1          0   \n",
       "87               1                   0       1        0         0          0   \n",
       "\n",
       "           Workstation  Inches(\")  Touchscreen  IPS   Pixels  CPU Maker  \\\n",
       "laptop_ID                                                                 \n",
       "599                  0       11.6            1    0  1049088          0   \n",
       "92                   0       15.6            0    0  2073600          1   \n",
       "744                  1       15.6            0    0  2073600          0   \n",
       "729                  0       13.3            1    1  1049088          0   \n",
       "957                  0       15.6            0    0  1049088          0   \n",
       "...                ...        ...          ...  ...      ...        ...   \n",
       "837                  0       11.6            0    1  1049088          0   \n",
       "626                  0       11.6            1    1  1049088          0   \n",
       "225                  0       15.6            0    0  2073600          0   \n",
       "17                   0       15.6            0    0  2073600          0   \n",
       "87                   0       15.6            0    1  2073600          0   \n",
       "\n",
       "           CPU(Ghz)  RAM (GB)  Memory SSD (GB)  Memory HDD (GB)  \\\n",
       "laptop_ID                                                         \n",
       "599             1.0         4              128                0   \n",
       "92              3.0         8                0             1024   \n",
       "744             2.8        16              256                0   \n",
       "729             2.5         8              256                0   \n",
       "957             2.3         8              256                0   \n",
       "...             ...       ...              ...              ...   \n",
       "837             1.6         4               32                0   \n",
       "626             1.6         4               32                0   \n",
       "225             1.6         8              256                0   \n",
       "17              2.7         8              256                0   \n",
       "87              2.8        16              128             1024   \n",
       "\n",
       "           Memory SSHD (GB)  GPU Maker  Weight (kg)  Price_euros  \n",
       "laptop_ID                                                         \n",
       "599                       0          0         1.39       603.00  \n",
       "92                        0          1         2.45       699.00  \n",
       "744                       0          2         2.60      2419.00  \n",
       "729                       0          0         1.58       836.60  \n",
       "957                       0          0         2.20      1119.00  \n",
       "...                     ...        ...          ...          ...  \n",
       "837                       0          0         1.35       355.00  \n",
       "626                       0          0         1.25       379.00  \n",
       "225                       0          1         2.20       677.35  \n",
       "17                        0          1         2.20       745.00  \n",
       "87                        0          2         2.65      1349.00  \n",
       "\n",
       "[912 rows x 20 columns]"
      ]
     },
     "execution_count": 83,
     "metadata": {},
     "output_type": "execute_result"
    }
   ],
   "source": [
    "df"
   ]
  },
  {
   "cell_type": "code",
   "execution_count": 84,
   "metadata": {},
   "outputs": [],
   "source": [
    "import os\n",
    "import pickle\n",
    "import pandas as pd\n",
    "from sklearn.model_selection import train_test_split\n",
    "from sklearn.linear_model import LinearRegression, LogisticRegression\n",
    "\n",
    "class Skmodel:\n",
    "    def __init__(self, model_name, model_type, model_version):\n",
    "        self.model_name = model_name\n",
    "        self.model_type = model_type\n",
    "        self.model_version = model_version\n",
    "        \n",
    "        if model_type == 'Regresión Lineal':\n",
    "            self.model = LinearRegression()\n",
    "        elif model_type == 'Regresión Logística':\n",
    "            self.model = LogisticRegression()\n",
    "        else: \n",
    "            raise ValueError(\"Tipo de modelo no soportado: elija entre 'Regresión Lineal' o 'Regresión Logística'\")\n",
    "\n",
    "    def split(self, df):\n",
    "        \"\"\"Divide el dataset en entrenamiento y prueba.\"\"\"\n",
    "        target_column = 'Price_euros'  # Nombre de la variable objetivo\n",
    "        test_size = 0.2  # Porcentaje de prueba\n",
    "        random_state = 42  # Semilla para reproducibilidad\n",
    "        \n",
    "        X = df.drop(columns=[target_column])\n",
    "        y = df[target_column]\n",
    "        \n",
    "        self.X_train, self.X_test, self.y_train, self.y_test = train_test_split(\n",
    "            X, y, test_size=test_size, random_state=random_state\n",
    "        )\n",
    "        print(f\"Datos divididos: {len(self.X_train)} entrenamiento, {len(self.X_test)} prueba\")\n",
    "\n",
    "    def preprocess(self, df):\n",
    "        \"\"\"Preprocesa los datos seleccionando las columnas relevantes.\"\"\"\n",
    "        columns = ['RAM (GB)', 'Memory SSD (GB)', 'Memory HDD (GB)', 'Memory SSHD (GB)', 'Price_euros']\n",
    "        df = df[columns]\n",
    "        return df  # Devuelve el DataFrame procesado\n",
    "\n",
    "    def train(self):\n",
    "        \"\"\"Entrena el modelo con los datos divididos previamente.\"\"\"\n",
    "        if not hasattr(self, 'X_train'):\n",
    "            raise ValueError(\"Debes ejecutar 'split()' antes de entrenar el modelo.\")\n",
    "        \n",
    "        self.model.fit(self.X_train, self.y_train)\n",
    "        print(\"Modelo entrenado correctamente.\")\n",
    "\n",
    "    def predict(self, input_data):\n",
    "        \"\"\"Genera predicciones a partir del modelo entrenado.\"\"\"\n",
    "        return self.model.predict(input_data)\n",
    "\n",
    "    def evaluate(self):\n",
    "        \"\"\"Evalúa el modelo con los datos de prueba.\"\"\"\n",
    "        if not hasattr(self, 'X_test'):\n",
    "            raise ValueError(\"Debes ejecutar 'split()' antes de evaluar el modelo.\")\n",
    "        \n",
    "        score = self.model.score(self.X_test, self.y_test)\n",
    "        print(f\"Model Score: {score:.4f}\")\n",
    "        return score\n",
    "\n",
    "    def save(self, output_path=None):\n",
    "        \"\"\"Guarda el modelo entrenado en un archivo pickle.\"\"\"\n",
    "        if output_path is None:\n",
    "            output_path = f'data/results/{self.model_name}_v{self.model_version}.pkl'\n",
    "        \n",
    "        os.makedirs(os.path.dirname(output_path), exist_ok=True)\n",
    "        with open(output_path, 'wb') as f:\n",
    "            pickle.dump(self.model, f)\n",
    "        \n",
    "        print(f\"Modelo guardado en {output_path}\")\n"
   ]
  },
  {
   "cell_type": "code",
   "execution_count": 74,
   "metadata": {},
   "outputs": [],
   "source": [
    "class Skmodel:\n",
    "    def __init__(self, model_name, model_type, model_version):\n",
    "        self.model_name = model_name\n",
    "        self.model_type = model_type\n",
    "        self.model_version = model_version\n",
    "        if model_type == 'Regresión Lineal':\n",
    "            self.model = LinearRegression()\n",
    "        elif model_type == 'Regresión Logística':\n",
    "            self.model = LogisticRegression()\n",
    "        else: \n",
    "            raise ValueError(\"Tipo de modelo no soportado: elija entre 'Regresión Lineal' o 'Regresión Logística'\")\n",
    "        pass\n",
    "    \n",
    "    def split(self, df):\n",
    "        target_column = 'Price_euros'  # Define el nombre de la columna objetivo\n",
    "        test_size = 0.2  # Define el tamaño del conjunto de prueba\n",
    "        random_state = 42  # Define la semilla aleatoria\n",
    "        X = df.drop(columns=[target_column])\n",
    "        y = df[target_column]\n",
    "        self.X_train, self.X_test, self.y_train, self.y_test = train_test_split (X, y, test_size = test_size, random_state = random_state)\n",
    "\n",
    "    def preprocess(self, df):\n",
    "        # coloco aquí un ejemplo de lo que haría \n",
    "        df = df[['RAM (GB)','Memory SSD (GB)','Memory HDD (GB)','Memory SSHD (GB)','Price_euros']]\n",
    "        \n",
    "    \n",
    "    def train(self, train_data, test_data):\n",
    "        train_data = X_train, y_train\n",
    "        test_data = X_test, y_test \n",
    "        self.model.fit(X_train, y_train)\n",
    "        self.X_test = X_test\n",
    "        self.y_test = y_test\n",
    "\n",
    "    def predict(self, input_data):\n",
    "        return self.model.predict(input_data)\n",
    "\n",
    "    def evaluate(self, test_data):\n",
    "        X_test, y_test = test_data\n",
    "        score = self.model.score(X_test, y_test)\n",
    "        print(f\"Model Score: {score}\")\n",
    "        return score\n",
    "    \n",
    "    def save(self, output_path):\n",
    "        # crea el directorio si no existe. Si existe, nada.\n",
    "        os.makedirs(os.path.dirname(output_path), exist_ok=True)\n",
    "        output_path = 'data/results/example_model{model_version}'\n",
    "        with open(output_path, 'wb') as f:\n",
    "            pickle.dump(self.model, f)\n",
    "        print(f\"Model saved to {output_path}\")\n",
    "    "
   ]
  },
  {
   "cell_type": "code",
   "execution_count": 92,
   "metadata": {},
   "outputs": [],
   "source": [
    "model = Skmodel ('ordenadores', 'Regresión Lineal', '1.0')\n",
    "\n"
   ]
  },
  {
   "cell_type": "code",
   "execution_count": 93,
   "metadata": {},
   "outputs": [
    {
     "name": "stdout",
     "output_type": "stream",
     "text": [
      "Datos divididos: 729 entrenamiento, 183 prueba\n"
     ]
    }
   ],
   "source": [
    "model.split(df)"
   ]
  },
  {
   "cell_type": "code",
   "execution_count": 94,
   "metadata": {},
   "outputs": [
    {
     "data": {
      "text/html": [
       "<div>\n",
       "<style scoped>\n",
       "    .dataframe tbody tr th:only-of-type {\n",
       "        vertical-align: middle;\n",
       "    }\n",
       "\n",
       "    .dataframe tbody tr th {\n",
       "        vertical-align: top;\n",
       "    }\n",
       "\n",
       "    .dataframe thead th {\n",
       "        text-align: right;\n",
       "    }\n",
       "</style>\n",
       "<table border=\"1\" class=\"dataframe\">\n",
       "  <thead>\n",
       "    <tr style=\"text-align: right;\">\n",
       "      <th></th>\n",
       "      <th>RAM (GB)</th>\n",
       "      <th>Memory SSD (GB)</th>\n",
       "      <th>Memory HDD (GB)</th>\n",
       "      <th>Memory SSHD (GB)</th>\n",
       "      <th>Price_euros</th>\n",
       "    </tr>\n",
       "    <tr>\n",
       "      <th>laptop_ID</th>\n",
       "      <th></th>\n",
       "      <th></th>\n",
       "      <th></th>\n",
       "      <th></th>\n",
       "      <th></th>\n",
       "    </tr>\n",
       "  </thead>\n",
       "  <tbody>\n",
       "    <tr>\n",
       "      <th>599</th>\n",
       "      <td>4</td>\n",
       "      <td>128</td>\n",
       "      <td>0</td>\n",
       "      <td>0</td>\n",
       "      <td>603.00</td>\n",
       "    </tr>\n",
       "    <tr>\n",
       "      <th>92</th>\n",
       "      <td>8</td>\n",
       "      <td>0</td>\n",
       "      <td>1024</td>\n",
       "      <td>0</td>\n",
       "      <td>699.00</td>\n",
       "    </tr>\n",
       "    <tr>\n",
       "      <th>744</th>\n",
       "      <td>16</td>\n",
       "      <td>256</td>\n",
       "      <td>0</td>\n",
       "      <td>0</td>\n",
       "      <td>2419.00</td>\n",
       "    </tr>\n",
       "    <tr>\n",
       "      <th>729</th>\n",
       "      <td>8</td>\n",
       "      <td>256</td>\n",
       "      <td>0</td>\n",
       "      <td>0</td>\n",
       "      <td>836.60</td>\n",
       "    </tr>\n",
       "    <tr>\n",
       "      <th>957</th>\n",
       "      <td>8</td>\n",
       "      <td>256</td>\n",
       "      <td>0</td>\n",
       "      <td>0</td>\n",
       "      <td>1119.00</td>\n",
       "    </tr>\n",
       "    <tr>\n",
       "      <th>...</th>\n",
       "      <td>...</td>\n",
       "      <td>...</td>\n",
       "      <td>...</td>\n",
       "      <td>...</td>\n",
       "      <td>...</td>\n",
       "    </tr>\n",
       "    <tr>\n",
       "      <th>837</th>\n",
       "      <td>4</td>\n",
       "      <td>32</td>\n",
       "      <td>0</td>\n",
       "      <td>0</td>\n",
       "      <td>355.00</td>\n",
       "    </tr>\n",
       "    <tr>\n",
       "      <th>626</th>\n",
       "      <td>4</td>\n",
       "      <td>32</td>\n",
       "      <td>0</td>\n",
       "      <td>0</td>\n",
       "      <td>379.00</td>\n",
       "    </tr>\n",
       "    <tr>\n",
       "      <th>225</th>\n",
       "      <td>8</td>\n",
       "      <td>256</td>\n",
       "      <td>0</td>\n",
       "      <td>0</td>\n",
       "      <td>677.35</td>\n",
       "    </tr>\n",
       "    <tr>\n",
       "      <th>17</th>\n",
       "      <td>8</td>\n",
       "      <td>256</td>\n",
       "      <td>0</td>\n",
       "      <td>0</td>\n",
       "      <td>745.00</td>\n",
       "    </tr>\n",
       "    <tr>\n",
       "      <th>87</th>\n",
       "      <td>16</td>\n",
       "      <td>128</td>\n",
       "      <td>1024</td>\n",
       "      <td>0</td>\n",
       "      <td>1349.00</td>\n",
       "    </tr>\n",
       "  </tbody>\n",
       "</table>\n",
       "<p>912 rows × 5 columns</p>\n",
       "</div>"
      ],
      "text/plain": [
       "           RAM (GB)  Memory SSD (GB)  Memory HDD (GB)  Memory SSHD (GB)  \\\n",
       "laptop_ID                                                                 \n",
       "599               4              128                0                 0   \n",
       "92                8                0             1024                 0   \n",
       "744              16              256                0                 0   \n",
       "729               8              256                0                 0   \n",
       "957               8              256                0                 0   \n",
       "...             ...              ...              ...               ...   \n",
       "837               4               32                0                 0   \n",
       "626               4               32                0                 0   \n",
       "225               8              256                0                 0   \n",
       "17                8              256                0                 0   \n",
       "87               16              128             1024                 0   \n",
       "\n",
       "           Price_euros  \n",
       "laptop_ID               \n",
       "599             603.00  \n",
       "92              699.00  \n",
       "744            2419.00  \n",
       "729             836.60  \n",
       "957            1119.00  \n",
       "...                ...  \n",
       "837             355.00  \n",
       "626             379.00  \n",
       "225             677.35  \n",
       "17              745.00  \n",
       "87             1349.00  \n",
       "\n",
       "[912 rows x 5 columns]"
      ]
     },
     "execution_count": 94,
     "metadata": {},
     "output_type": "execute_result"
    }
   ],
   "source": [
    "model.preprocess(df)"
   ]
  },
  {
   "cell_type": "code",
   "execution_count": 95,
   "metadata": {},
   "outputs": [
    {
     "name": "stdout",
     "output_type": "stream",
     "text": [
      "Modelo entrenado correctamente.\n"
     ]
    }
   ],
   "source": [
    "model.train()"
   ]
  },
  {
   "cell_type": "code",
   "execution_count": 97,
   "metadata": {},
   "outputs": [
    {
     "name": "stdout",
     "output_type": "stream",
     "text": [
      "Model Score: 0.7977\n"
     ]
    },
    {
     "data": {
      "text/plain": [
       "0.7977131219682133"
      ]
     },
     "execution_count": 97,
     "metadata": {},
     "output_type": "execute_result"
    }
   ],
   "source": [
    "model.evaluate()"
   ]
  },
  {
   "cell_type": "code",
   "execution_count": 98,
   "metadata": {},
   "outputs": [
    {
     "name": "stdout",
     "output_type": "stream",
     "text": [
      "Modelo guardado en data/results/ordenadores_v1.0.pkl\n"
     ]
    }
   ],
   "source": [
    "model.save()"
   ]
  },
  {
   "cell_type": "markdown",
   "metadata": {},
   "source": []
  },
  {
   "cell_type": "markdown",
   "metadata": {},
   "source": []
  },
  {
   "cell_type": "markdown",
   "metadata": {},
   "source": [
    "## Data exploration"
   ]
  },
  {
   "cell_type": "code",
   "execution_count": null,
   "metadata": {},
   "outputs": [],
   "source": [
    "train.info()"
   ]
  },
  {
   "cell_type": "code",
   "execution_count": null,
   "metadata": {},
   "outputs": [],
   "source": [
    "train.head()"
   ]
  },
  {
   "cell_type": "markdown",
   "metadata": {},
   "source": [
    "## Data processing"
   ]
  },
  {
   "cell_type": "code",
   "execution_count": 5,
   "metadata": {},
   "outputs": [],
   "source": [
    "train = train[['laptop_ID','Inches','Price_euros']]"
   ]
  },
  {
   "cell_type": "code",
   "execution_count": null,
   "metadata": {},
   "outputs": [],
   "source": [
    "train"
   ]
  },
  {
   "cell_type": "code",
   "execution_count": 7,
   "metadata": {},
   "outputs": [],
   "source": [
    "# df.to_csv(\"Dataset/limpio.csv\")"
   ]
  },
  {
   "cell_type": "markdown",
   "metadata": {},
   "source": [
    "-----------------------------------------------------------------------------------------------------------------"
   ]
  },
  {
   "cell_type": "markdown",
   "metadata": {},
   "source": [
    "## Pasos que si o si debéis realizar para poder participar en la competición:"
   ]
  },
  {
   "cell_type": "markdown",
   "metadata": {},
   "source": [
    "### 1. Definir X e y"
   ]
  },
  {
   "cell_type": "code",
   "execution_count": null,
   "metadata": {},
   "outputs": [],
   "source": [
    "X = train.drop(['laptop_ID','Price_euros'], axis=1)\n",
    "y = train['Price_euros'].copy()\n",
    "X.shape"
   ]
  },
  {
   "cell_type": "code",
   "execution_count": null,
   "metadata": {},
   "outputs": [],
   "source": [
    "y.shape"
   ]
  },
  {
   "cell_type": "markdown",
   "metadata": {},
   "source": [
    "### 2. Dividir X_train, X_test, y_train, y_test"
   ]
  },
  {
   "cell_type": "code",
   "execution_count": 10,
   "metadata": {},
   "outputs": [],
   "source": [
    "from sklearn.model_selection import train_test_split\n",
    "X_train, X_test, y_train, y_test = train_test_split(X, y, test_size = 0.20, random_state = 42)"
   ]
  },
  {
   "cell_type": "code",
   "execution_count": null,
   "metadata": {},
   "outputs": [],
   "source": [
    "X_train"
   ]
  },
  {
   "cell_type": "markdown",
   "metadata": {},
   "source": [
    "### 3. Asignar el modelo (vacío) a una variable\n"
   ]
  },
  {
   "cell_type": "code",
   "execution_count": null,
   "metadata": {},
   "outputs": [],
   "source": [
    "from sklearn.linear_model import LinearRegression\n",
    "\n",
    "regressor = LinearRegression()\n",
    "\n",
    "regressor.fit(X_train, y_train)"
   ]
  },
  {
   "cell_type": "markdown",
   "metadata": {},
   "source": [
    "### 4. Sacar métricas, valorar el modelo \n",
    "\n",
    "Recuerda que en la competición se va a evaluar con la métrica de RMSE."
   ]
  },
  {
   "cell_type": "code",
   "execution_count": 13,
   "metadata": {},
   "outputs": [],
   "source": [
    "from sklearn.metrics import root_mean_squared_error\n",
    "\n",
    "predictions = regressor.predict(X_test)\n",
    "\n",
    "rmse = root_mean_squared_error(y_test, predictions)"
   ]
  },
  {
   "cell_type": "code",
   "execution_count": null,
   "metadata": {},
   "outputs": [],
   "source": [
    "print(rmse)"
   ]
  },
  {
   "cell_type": "markdown",
   "metadata": {},
   "source": [
    "-----------------------------------------------------------------"
   ]
  },
  {
   "cell_type": "markdown",
   "metadata": {},
   "source": [
    "## Una vez listo el modelo, toca predecir con el dataset de predicción "
   ]
  },
  {
   "cell_type": "markdown",
   "metadata": {},
   "source": [
    "Definición de **modelo que está listo**. \n",
    "\n",
    "Tras hacer suficientes pruebas, analizar los datos, hacer feature engineering, probar diferentes modelos con diferentes parámetros, es con este con el que observo mejores métricas y menos overfitting. ¡Cuidado con el overfitting aquí! Si vuestro modelo aprende muy bien de estos datos pero hay overfitting cuando le pasemos los datos desconocidos de `test.csv` nos arriesgamos a que digamos, no salga lo esperado."
   ]
  },
  {
   "cell_type": "markdown",
   "metadata": {},
   "source": [
    "### 1. Entrena dicho modelo con TODOS tus datos de train, esto es con `train.csv` al completo.\n",
    "\n",
    "\n",
    "**CON LAS TRANSFORMACIONES QUE LE HAYAS REALIZADO A `X` INCLUÍDAS.**\n",
    "\n",
    "\n",
    "Véase:\n",
    "- Estandarización/Normalización\n",
    "- Eliminación de Outliers\n",
    "- Eliminación de columnas\n",
    "- Creación de columnas nuevas\n",
    "- Gestión de valores nulos\n",
    "- Y un largo etcétera de técnicas que como Data Scientist hayas considerado las mejores para tu dataset."
   ]
  },
  {
   "cell_type": "markdown",
   "metadata": {},
   "source": [
    "### 2. Carga los datos de `test.csv` para predecir."
   ]
  },
  {
   "cell_type": "code",
   "execution_count": null,
   "metadata": {},
   "outputs": [],
   "source": [
    "X_pred = pd.read_csv(\"data/com_test.csv\")\n",
    "X_pred.head()"
   ]
  },
  {
   "cell_type": "code",
   "execution_count": null,
   "metadata": {},
   "outputs": [],
   "source": [
    "X_pred.shape"
   ]
  },
  {
   "cell_type": "markdown",
   "metadata": {},
   "source": [
    "**¿Por qué da error?** "
   ]
  },
  {
   "cell_type": "code",
   "execution_count": null,
   "metadata": {},
   "outputs": [],
   "source": [
    "predictions_submit = regressor.predict(X_pred)\n",
    "predictions_submit"
   ]
  },
  {
   "cell_type": "markdown",
   "metadata": {},
   "source": [
    "IMPORTANTE: APLICAR LO MISMO A ESTOS DATOS QUE HAYÁIS APLICADO A LOS DATOS DE ENTRENAMIENTO\n",
    "\n",
    "- SI EL ARRAY CON EL QUE HICISTEIS `.fit()` ERA DE 4 COLUMNAS, PARA `.predict()` DEBEN SER LAS MISMAS\n",
    "- SI AL ARRAY CON EL QUE HICISTEIS `.fit()` LO NORMALIZASTEIS, PARA `.predict()` DEBÉIS NORMALIZARLO\n",
    "- TODO IGUAL SALVO BORRAR FILAS, EL NÚMERO DE ROWS SE DEBE MANTENER EN ESTE SET, PUES LA PREDICCIÓN DEBE TENER 391 FILAS, SI O SI"
   ]
  },
  {
   "cell_type": "markdown",
   "metadata": {},
   "source": [
    "**Entonces, si al cargar los datos de train usé `index_col=0` para que utilizara la primera columna del conjunto de datos como índice, ¿tendré que hacerlo también para el conjunto `test.csv`?**"
   ]
  },
  {
   "cell_type": "code",
   "execution_count": null,
   "metadata": {},
   "outputs": [],
   "source": [
    "# ¿Qué opináis?\n",
    "# Sí"
   ]
  },
  {
   "cell_type": "markdown",
   "metadata": {},
   "source": [
    "![](https://www.tierraljelechu.com/web/img/wiki_up/1.996-SorpresaDto.-1-Red.jpg)"
   ]
  },
  {
   "cell_type": "code",
   "execution_count": null,
   "metadata": {},
   "outputs": [],
   "source": [
    "X_pred = pd.read_csv(\"data/com_test.csv\")\n",
    "X_pred.head()"
   ]
  },
  {
   "cell_type": "code",
   "execution_count": null,
   "metadata": {},
   "outputs": [],
   "source": [
    "X_pred = X_pred[['Inches']]\n",
    "X_pred"
   ]
  },
  {
   "cell_type": "markdown",
   "metadata": {},
   "source": [
    "### 3. AHORA puedo hacer la predicción que será lo que subirás a Kaggle. "
   ]
  },
  {
   "cell_type": "markdown",
   "metadata": {},
   "source": [
    "**¿Qué es lo que subirás a Kaggle?**"
   ]
  },
  {
   "cell_type": "code",
   "execution_count": null,
   "metadata": {},
   "outputs": [],
   "source": [
    "predictions_submit = regressor.predict(X_pred)\n",
    "predictions_submit"
   ]
  },
  {
   "cell_type": "markdown",
   "metadata": {},
   "source": [
    "**¡PERO! Para subir a Kaggle la predicción, ésta tendrá que tener una forma específica y no valdrá otra.**\n",
    "\n",
    "En este caso, la **MISMA** forma que `sample_submission.csv`. "
   ]
  },
  {
   "cell_type": "code",
   "execution_count": 22,
   "metadata": {},
   "outputs": [],
   "source": [
    "sample = pd.read_csv(\"data/com_sample_submission.csv\")"
   ]
  },
  {
   "cell_type": "code",
   "execution_count": null,
   "metadata": {},
   "outputs": [],
   "source": [
    "sample.head()"
   ]
  },
  {
   "cell_type": "code",
   "execution_count": null,
   "metadata": {},
   "outputs": [],
   "source": [
    "sample.shape"
   ]
  },
  {
   "cell_type": "markdown",
   "metadata": {},
   "source": [
    "### 4. Mete tus predicciones en un dataframe. \n",
    "\n",
    "En este caso, la **MISMA** forma que `sample_submission.csv`. "
   ]
  },
  {
   "cell_type": "code",
   "execution_count": 25,
   "metadata": {},
   "outputs": [],
   "source": [
    "submission = pd.DataFrame({\"laptop_ID\": sample['laptop_ID'], \"Price_euros\": predictions_submit})"
   ]
  },
  {
   "cell_type": "code",
   "execution_count": null,
   "metadata": {},
   "outputs": [],
   "source": [
    "submission.head()"
   ]
  },
  {
   "cell_type": "code",
   "execution_count": null,
   "metadata": {},
   "outputs": [],
   "source": [
    "submission.shape"
   ]
  },
  {
   "cell_type": "markdown",
   "metadata": {},
   "source": [
    "### 5. Pásale el CHEQUEATOR para comprobar que efectivamente está listo para subir a Kaggle."
   ]
  },
  {
   "cell_type": "code",
   "execution_count": 28,
   "metadata": {},
   "outputs": [],
   "source": [
    "def chequeator(df_to_submit,version):\n",
    "    \"\"\"\n",
    "    Esta función se asegura de que tu submission tenga la forma requerida por Kaggle.\n",
    "    \n",
    "    Si es así, se guardará el dataframe en un `csv` y estará listo para subir a Kaggle.\n",
    "    \n",
    "    Si no, LEE EL MENSAJE Y HAZLE CASO.\n",
    "    \n",
    "    Si aún no:\n",
    "    - apaga tu ordenador, \n",
    "    - date una vuelta, \n",
    "    - enciendelo otra vez, \n",
    "    - abre este notebook y \n",
    "    - leelo todo de nuevo. \n",
    "    Todos nos merecemos una segunda oportunidad. También tú.\n",
    "    \"\"\"\n",
    "    if df_to_submit.shape == sample.shape:\n",
    "        if df_to_submit.columns.all() == sample.columns.all():\n",
    "            if df_to_submit['laptop_ID'].all() == sample['laptop_ID'].all():\n",
    "                print(\"You're ready to submit!\")\n",
    "                submission.to_csv(f\"submission_{version}.csv\", index = False) #muy importante el index = False\n",
    "                urllib.request.urlretrieve(\"https://i.kym-cdn.com/photos/images/facebook/000/747/556/27a.jpg\", \"gfg.png\")     \n",
    "                img = Image.open(\"gfg.png\")\n",
    "                img.show()   \n",
    "            else:\n",
    "                print(\"Check the ids and try again\")\n",
    "        else:\n",
    "            print(\"Check the names of the columns and try again\")\n",
    "    else:\n",
    "        print(\"Check the number of rows and/or columns and try again\")\n",
    "        print(\"\\nMensaje secreto de Clara: No me puedo creer que después de todo este notebook hayas hecho algún cambio en las filas de `diamonds_test.csv`. Lloro.\")\n"
   ]
  },
  {
   "cell_type": "code",
   "execution_count": null,
   "metadata": {},
   "outputs": [],
   "source": [
    "chequeator(submission,1)"
   ]
  }
 ],
 "metadata": {
  "kernelspec": {
   "display_name": "bootcamp-ds-XDMmNXh0-py3.13",
   "language": "python",
   "name": "python3"
  },
  "language_info": {
   "codemirror_mode": {
    "name": "ipython",
    "version": 3
   },
   "file_extension": ".py",
   "mimetype": "text/x-python",
   "name": "python",
   "nbconvert_exporter": "python",
   "pygments_lexer": "ipython3",
   "version": "3.13.0"
  }
 },
 "nbformat": 4,
 "nbformat_minor": 4
}
