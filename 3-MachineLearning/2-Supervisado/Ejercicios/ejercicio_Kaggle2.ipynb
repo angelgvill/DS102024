{
 "cells": [
  {
   "cell_type": "markdown",
   "metadata": {},
   "source": [
    "Lo primero de todo, cargamos todas las librerías necesarias. "
   ]
  },
  {
   "cell_type": "code",
   "execution_count": 18,
   "metadata": {},
   "outputs": [],
   "source": [
    "import pandas as pd\n",
    "import numpy as np\n",
    "\n",
    "import sys\n",
    "import os\n",
    "import re\n",
    "\n",
    "import matplotlib.pyplot as plt\n",
    "import statsmodels.api as sm\n",
    "import seaborn as sns"
   ]
  },
  {
   "cell_type": "code",
   "execution_count": 11,
   "metadata": {},
   "outputs": [
    {
     "name": "stdout",
     "output_type": "stream",
     "text": [
      "0.7.3\n"
     ]
    }
   ],
   "source": [
    "import snappy\n",
    "print(snappy.__version__)"
   ]
  },
  {
   "cell_type": "code",
   "execution_count": 12,
   "metadata": {},
   "outputs": [
    {
     "name": "stdout",
     "output_type": "stream",
     "text": [
      "/Users/angelg.villanueva/Documents/04 DATA-CB-PROGRAM/DS102024_4/.venv/bin/python\n"
     ]
    }
   ],
   "source": [
    "import sys\n",
    "print(sys.executable)"
   ]
  },
  {
   "cell_type": "code",
   "execution_count": 15,
   "metadata": {},
   "outputs": [],
   "source": [
    "# contenido = snappy.decompress(open(\"data/train.snappy\", \"rb\").read()) if os.path.exists(\"data/train.snappy\") else \"Archivo no encontrado\""
   ]
  },
  {
   "cell_type": "code",
   "execution_count": 2,
   "metadata": {},
   "outputs": [
    {
     "data": {
      "text/html": [
       "<div>\n",
       "<style scoped>\n",
       "    .dataframe tbody tr th:only-of-type {\n",
       "        vertical-align: middle;\n",
       "    }\n",
       "\n",
       "    .dataframe tbody tr th {\n",
       "        vertical-align: top;\n",
       "    }\n",
       "\n",
       "    .dataframe thead th {\n",
       "        text-align: right;\n",
       "    }\n",
       "</style>\n",
       "<table border=\"1\" class=\"dataframe\">\n",
       "  <thead>\n",
       "    <tr style=\"text-align: right;\">\n",
       "      <th></th>\n",
       "      <th>descripcion</th>\n",
       "    </tr>\n",
       "  </thead>\n",
       "  <tbody>\n",
       "    <tr>\n",
       "      <th>0</th>\n",
       "      <td>**La observación** 367  describe una seta de *...</td>\n",
       "    </tr>\n",
       "    <tr>\n",
       "      <th>1</th>\n",
       "      <td>**La observación** 5123  describe una seta de ...</td>\n",
       "    </tr>\n",
       "    <tr>\n",
       "      <th>2</th>\n",
       "      <td>**La observación** 2864  describe una seta de ...</td>\n",
       "    </tr>\n",
       "    <tr>\n",
       "      <th>3</th>\n",
       "      <td>**La observación** 4674  describe una seta de ...</td>\n",
       "    </tr>\n",
       "    <tr>\n",
       "      <th>4</th>\n",
       "      <td>**La observación** 1210  describe una seta de ...</td>\n",
       "    </tr>\n",
       "    <tr>\n",
       "      <th>...</th>\n",
       "      <td>...</td>\n",
       "    </tr>\n",
       "    <tr>\n",
       "      <th>4598</th>\n",
       "      <td>**La observación** 1028  describe una seta de ...</td>\n",
       "    </tr>\n",
       "    <tr>\n",
       "      <th>4599</th>\n",
       "      <td>**La observación** 5591  describe una seta de ...</td>\n",
       "    </tr>\n",
       "    <tr>\n",
       "      <th>4600</th>\n",
       "      <td>**La observación** 2053  describe una seta de ...</td>\n",
       "    </tr>\n",
       "    <tr>\n",
       "      <th>4601</th>\n",
       "      <td>**La observación** 4604  describe una seta de ...</td>\n",
       "    </tr>\n",
       "    <tr>\n",
       "      <th>4602</th>\n",
       "      <td>**La observación** 4790  describe una seta de ...</td>\n",
       "    </tr>\n",
       "  </tbody>\n",
       "</table>\n",
       "<p>4603 rows × 1 columns</p>\n",
       "</div>"
      ],
      "text/plain": [
       "                                            descripcion\n",
       "0     **La observación** 367  describe una seta de *...\n",
       "1     **La observación** 5123  describe una seta de ...\n",
       "2     **La observación** 2864  describe una seta de ...\n",
       "3     **La observación** 4674  describe una seta de ...\n",
       "4     **La observación** 1210  describe una seta de ...\n",
       "...                                                 ...\n",
       "4598  **La observación** 1028  describe una seta de ...\n",
       "4599  **La observación** 5591  describe una seta de ...\n",
       "4600  **La observación** 2053  describe una seta de ...\n",
       "4601  **La observación** 4604  describe una seta de ...\n",
       "4602  **La observación** 4790  describe una seta de ...\n",
       "\n",
       "[4603 rows x 1 columns]"
      ]
     },
     "execution_count": 2,
     "metadata": {},
     "output_type": "execute_result"
    }
   ],
   "source": [
    "pd.read_parquet('data/train.snappy')"
   ]
  },
  {
   "cell_type": "code",
   "execution_count": 62,
   "metadata": {},
   "outputs": [
    {
     "data": {
      "text/html": [
       "<div>\n",
       "<style scoped>\n",
       "    .dataframe tbody tr th:only-of-type {\n",
       "        vertical-align: middle;\n",
       "    }\n",
       "\n",
       "    .dataframe tbody tr th {\n",
       "        vertical-align: top;\n",
       "    }\n",
       "\n",
       "    .dataframe thead th {\n",
       "        text-align: right;\n",
       "    }\n",
       "</style>\n",
       "<table border=\"1\" class=\"dataframe\">\n",
       "  <thead>\n",
       "    <tr style=\"text-align: right;\">\n",
       "      <th></th>\n",
       "      <th>descripcion</th>\n",
       "    </tr>\n",
       "  </thead>\n",
       "  <tbody>\n",
       "    <tr>\n",
       "      <th>0</th>\n",
       "      <td>**La observación** 367  describe una seta de **clase** edible.  Tiene una **forma de sombrero** bell  con una **superficie** scaly  **y un color** yellow.  **Presenta**  moretones y tiene un **olor** almond.  **Las branquias son de tipo** free  con una **separación** close  **y un tamaño** broad.  **El color de las branquias es** black.  **La forma del tallo** es enlarging  y la **raíz del tallo** es club.  **La superficie del tallo por encima del anillo** es smooth  **y por debajo del anillo** es smooth.  El **color del tallo por encima del anillo** es white  **y por debajo del anillo** es white.  **El tipo de velo** es partial  con un **color de velo** white.  Tiene one **anillo(s)**,  **de tipo** pendant  **y el color de la impresión de esporas** es brown.  Se encuentra en una **población** scattered  y su **hábitat es** grasses.</td>\n",
       "    </tr>\n",
       "    <tr>\n",
       "      <th>1</th>\n",
       "      <td>**La observación** 5123  describe una seta de **clase** poisonous.  Tiene una **forma de sombrero** convex  con una **superficie** smooth  **y un color** red.  **No presenta**  moretones y tiene un **olor** foul.  **Las branquias son de tipo** free  con una **separación** close  **y un tamaño** narrow.  **El color de las branquias es** buff.  **La forma del tallo** es tapering  y la **raíz del tallo** es ?.  **La superficie del tallo por encima del anillo** es silky  **y por debajo del anillo** es silky.  El **color del tallo por encima del anillo** es white  **y por debajo del anillo** es pink.  **El tipo de velo** es partial  con un **color de velo** white.  Tiene one **anillo(s)**,  **de tipo** evanescent  **y el color de la impresión de esporas** es white.  Se encuentra en una **población** several  y su **hábitat es** paths.</td>\n",
       "    </tr>\n",
       "    <tr>\n",
       "      <th>2</th>\n",
       "      <td>**La observación** 2864  describe una seta de **clase** edible.  Tiene una **forma de sombrero** convex  con una **superficie** fibrous  **y un color** green.  **Presenta**  moretones y tiene un **olor** null.  **Las branquias son de tipo** free  con una **separación** close  **y un tamaño** broad.  **El color de las branquias es** pink.  **La forma del tallo** es tapering  y la **raíz del tallo** es bulbous.  **La superficie del tallo por encima del anillo** es smooth  **y por debajo del anillo** es smooth.  El **color del tallo por encima del anillo** es pink  **y por debajo del anillo** es white.  **El tipo de velo** es partial  con un **color de velo** white.  Tiene one **anillo(s)**,  **de tipo** pendant  **y el color de la impresión de esporas** es brown.  Se encuentra en una **población** several  y su **hábitat es** wood.</td>\n",
       "    </tr>\n",
       "  </tbody>\n",
       "</table>\n",
       "</div>"
      ],
      "text/plain": [
       "                                                                                                                                                                                                                                                                                                                                                                                                                                                                                                                                                                                                                                                                                                                                                                                                                                                                      descripcion\n",
       "0  **La observación** 367  describe una seta de **clase** edible.  Tiene una **forma de sombrero** bell  con una **superficie** scaly  **y un color** yellow.  **Presenta**  moretones y tiene un **olor** almond.  **Las branquias son de tipo** free  con una **separación** close  **y un tamaño** broad.  **El color de las branquias es** black.  **La forma del tallo** es enlarging  y la **raíz del tallo** es club.  **La superficie del tallo por encima del anillo** es smooth  **y por debajo del anillo** es smooth.  El **color del tallo por encima del anillo** es white  **y por debajo del anillo** es white.  **El tipo de velo** es partial  con un **color de velo** white.  Tiene one **anillo(s)**,  **de tipo** pendant  **y el color de la impresión de esporas** es brown.  Se encuentra en una **población** scattered  y su **hábitat es** grasses.  \n",
       "1     **La observación** 5123  describe una seta de **clase** poisonous.  Tiene una **forma de sombrero** convex  con una **superficie** smooth  **y un color** red.  **No presenta**  moretones y tiene un **olor** foul.  **Las branquias son de tipo** free  con una **separación** close  **y un tamaño** narrow.  **El color de las branquias es** buff.  **La forma del tallo** es tapering  y la **raíz del tallo** es ?.  **La superficie del tallo por encima del anillo** es silky  **y por debajo del anillo** es silky.  El **color del tallo por encima del anillo** es white  **y por debajo del anillo** es pink.  **El tipo de velo** es partial  con un **color de velo** white.  Tiene one **anillo(s)**,  **de tipo** evanescent  **y el color de la impresión de esporas** es white.  Se encuentra en una **población** several  y su **hábitat es** paths.  \n",
       "2     **La observación** 2864  describe una seta de **clase** edible.  Tiene una **forma de sombrero** convex  con una **superficie** fibrous  **y un color** green.  **Presenta**  moretones y tiene un **olor** null.  **Las branquias son de tipo** free  con una **separación** close  **y un tamaño** broad.  **El color de las branquias es** pink.  **La forma del tallo** es tapering  y la **raíz del tallo** es bulbous.  **La superficie del tallo por encima del anillo** es smooth  **y por debajo del anillo** es smooth.  El **color del tallo por encima del anillo** es pink  **y por debajo del anillo** es white.  **El tipo de velo** es partial  con un **color de velo** white.  Tiene one **anillo(s)**,  **de tipo** pendant  **y el color de la impresión de esporas** es brown.  Se encuentra en una **población** several  y su **hábitat es** wood.  "
      ]
     },
     "execution_count": 62,
     "metadata": {},
     "output_type": "execute_result"
    }
   ],
   "source": [
    "pd.set_option('display.max_colwidth', None)\n",
    "pd.read_parquet('data/train.snappy').iloc[0:3]"
   ]
  },
  {
   "cell_type": "code",
   "execution_count": null,
   "metadata": {},
   "outputs": [
    {
     "data": {
      "text/plain": [
       "descripcion    **La observación** 367  describe una seta de **clase** edible.  Tiene una **forma de sombrero** bell  con una **superficie** scaly  **y un color** yellow.  **Presenta**  moretones y tiene un **olor** almond.  **Las branquias son de tipo** free  con una **separación** close  **y un tamaño** broad.  **El color de las branquias es** black.  **La forma del tallo** es enlarging  y la **raíz del tallo** es club.  **La superficie del tallo por encima del anillo** es smooth  **y por debajo del anillo** es smooth.  El **color del tallo por encima del anillo** es white  **y por debajo del anillo** es white.  **El tipo de velo** es partial  con un **color de velo** white.  Tiene one **anillo(s)**,  **de tipo** pendant  **y el color de la impresión de esporas** es brown.  Se encuentra en una **población** scattered  y su **hábitat es** grasses.  \n",
       "Name: 0, dtype: object"
      ]
     },
     "execution_count": 52,
     "metadata": {},
     "output_type": "execute_result"
    }
   ],
   "source": [
    "pd.read_parquet('data/train.snappy').iloc[0]"
   ]
  },
  {
   "cell_type": "code",
   "execution_count": 91,
   "metadata": {},
   "outputs": [
    {
     "name": "stdout",
     "output_type": "stream",
     "text": [
      "{'ID': '367', 'clase': 'edible', 'forma_sombrero': 'bell', 'superficie': 'scaly', 'color': 'yellow', 'presenta': 'moretones', 'olor': 'almond', 'branquias': 'free', 'separacion_branquias': 'close', 'tamano_branquias': 'broad', 'color_branquias': 'black', 'forma_tallo': None, 'raiz_tallo': 'es club.', 'superficie_tallo_arriba': 'es smooth', 'superficie_tallo_abajo': 'es smooth.', 'color_tallo_arriba': None, 'tipo_velo': 'es partial', 'color_velo': 'white', 'anillo': '', 'tipo_anillo': 'pendant', 'color_impresion_esporas': 'es brown.', 'poblacion': 'scattered', 'habitat': ''}\n"
     ]
    }
   ],
   "source": [
    "#hecho con Gemini\n",
    "import re\n",
    "\n",
    "fila1 = \"**La observación** 367 describe una seta de **clase** edible. Tiene una **forma de sombrero** bell con una **superficie** scaly **y un color** yellow. **Presenta** moretones y tiene un **olor** almond. **Las branquias son de tipo** free con una **separación** close **y un tamaño** broad. **El color de las branquias es** black. **La forma del tallo** es enlarging y la **raíz del tallo** es club. **La superficie del tallo por encima del anillo** es smooth y **por debajo del anillo** es smooth. El **color del tallo por encima del anillo** es white y **por debajo del anillo** es white. **El tipo de velo** es partial con un **color de velo** white. Tiene one **anillo(s)**, **de tipo** pendant y **el color de la impresión de esporas** es brown. Se encuentra en una **población** scattered y su **hábitat es** grasses.\"\n",
    "\n",
    "diccionario_fila1 = {\n",
    "    'ID': re.search(r'\\*\\*La observación\\*\\*(.*?) describe', fila1).group(1).strip() if re.search(r'\\*\\*La observación\\*\\*(.*?) describe', fila1) else None,\n",
    "    'clase': re.search(r'\\*\\*clase\\*\\*(.*?)\\. Tiene', fila1).group(1).strip() if re.search(r'\\*\\*clase\\*\\*(.*?)\\. Tiene', fila1) else None,\n",
    "    'forma_sombrero': re.search(r'\\*\\*forma de sombrero\\*\\*(.*?) con', fila1).group(1).strip() if re.search(r'\\*\\*forma de sombrero\\*\\*(.*?) con', fila1) else None,\n",
    "    'superficie': re.search(r'\\*\\*superficie\\*\\*(.*?) \\*\\*y', fila1).group(1).strip() if re.search(r'\\*\\*superficie\\*\\*(.*?) \\*\\*y', fila1) else None,\n",
    "    'color': re.search(r'\\*\\*y un color\\*\\*(.*?)\\. \\*\\*Presenta', fila1).group(1).strip() if re.search(r'\\*\\*y un color\\*\\*(.*?)\\. \\*\\*Presenta', fila1) else None,\n",
    "    'presenta': re.search(r'\\*\\*Presenta\\*\\*(.*?) y', fila1).group(1).strip() if re.search(r'\\*\\*Presenta\\*\\*(.*?) y', fila1) else None,\n",
    "    'olor': re.search(r'\\*\\*olor\\*\\*(.*?)\\. \\*\\*Las', fila1).group(1).strip() if re.search(r'\\*\\*olor\\*\\*(.*?)\\. \\*\\*Las', fila1) else None,\n",
    "    'branquias': re.search(r'\\*\\*Las branquias son de tipo\\*\\*(.*?) con', fila1).group(1).strip() if re.search(r'\\*\\*Las branquias son de tipo\\*\\*(.*?) con', fila1) else None,\n",
    "    'separacion_branquias': re.search(r'\\*\\*separación\\*\\*(.*?) \\*\\*y', fila1).group(1).strip() if re.search(r'\\*\\*separación\\*\\*(.*?) \\*\\*y', fila1) else None,\n",
    "    'tamano_branquias': re.search(r'\\*\\*y un tamaño\\*\\*(.*?)\\. \\*\\*El', fila1).group(1).strip() if re.search(r'\\*\\*y un tamaño\\*\\*(.*?)\\. \\*\\*El', fila1) else None,\n",
    "    'color_branquias': re.search(r'\\*\\*El color de las branquias es\\*\\*(.*?). \\*\\*La', fila1).group(1).strip() if re.search(r'\\*\\*El color de las branquias es\\*\\*(.*?). \\*\\*La', fila1) else None,\n",
    "    'forma_tallo': re.search(r'\\*\\*La forma del tallo\\*\\*(?:es) (.*?) y', fila1).group(1).strip() if re.search(r'\\*\\*La forma del tallo\\*\\*(?:es) (.*?) y', fila1) else None,\n",
    "    'raiz_tallo': re.search(r'\\*\\*raíz del tallo\\*\\*(.*?) \\*\\*La', fila1).group(1).strip() if re.search(r'\\*\\*raíz del tallo\\*\\*(.*?) \\*\\*La', fila1) else None,\n",
    "    'superficie_tallo_arriba': re.search(r'\\*\\*La superficie del tallo por encima del anillo\\*\\*(.*?) y', fila1).group(1).strip() if re.search(r'\\*\\*La superficie del tallo por encima del anillo\\*\\*(.*?) y', fila1) else None,\n",
    "    'superficie_tallo_abajo': re.search(r'\\*\\*por debajo del anillo\\*\\*(.*?) El', fila1).group(1).strip() if re.search(r'\\*\\*por debajo del anillo\\*\\*(.*?) El', fila1) else None,\n",
    "    'color_tallo_arriba': re.search(r'\\*\\*El color del tallo por encima del anillo\\*\\*(.*?) y', fila1).group(1).strip() if re.search(r'\\*\\*El color del tallo por encima del anillo\\*\\*(.*?) y', fila1) else None,\n",
    "    'tipo_velo': re.search(r'\\*\\*El tipo de velo\\*\\*(.*?) con', fila1).group(1).strip() if re.search(r'\\*\\*El tipo de velo\\*\\*(.*?) con', fila1) else None,\n",
    "    'color_velo': re.search(r'\\*\\*color de velo\\*\\*(.*?). Tiene', fila1).group(1).strip() if re.search(r'\\*\\*color de velo\\*\\*(.*?). Tiene', fila1) else None,\n",
    "    'anillo': re.search(r'\\*\\*anillo\\(s\\)\\*\\*(.*?),', fila1).group(1).strip() if re.search(r'\\*\\*anillo\\(s\\)\\*\\*(.*?),', fila1) else None,\n",
    "    'tipo_anillo': re.search(r'\\*\\*de tipo\\*\\*(.*?) y', fila1).group(1).strip() if re.search(r'\\*\\*de tipo\\*\\*(.*?) y', fila1) else None,\n",
    "    'color_impresion_esporas': re.search(r'\\*\\*el color de la impresión de esporas\\*\\*(.*?) Se', fila1).group(1).strip() if re.search(r'\\*\\*el color de la impresión de esporas\\*\\*(.*?) Se', fila1) else None,\n",
    "    'poblacion': re.search(r'\\*\\*población\\*\\*(.*?) y', fila1).group(1).strip() if re.search(r'\\*\\*población\\*\\*(.*?) y', fila1) else None,\n",
    "    'habitat': re.search(r'\\*\\*hábitat es\\*\\*(.*?).', fila1).group(1).strip() if re.search(r'\\*\\*hábitat es\\*\\*(.*?).', fila1) else None\n",
    "}\n",
    "\n",
    "print(diccionario_fila1)"
   ]
  }
 ],
 "metadata": {
  "kernelspec": {
   "display_name": ".venv",
   "language": "python",
   "name": "python3"
  },
  "language_info": {
   "codemirror_mode": {
    "name": "ipython",
    "version": 3
   },
   "file_extension": ".py",
   "mimetype": "text/x-python",
   "name": "python",
   "nbconvert_exporter": "python",
   "pygments_lexer": "ipython3",
   "version": "3.11.9"
  }
 },
 "nbformat": 4,
 "nbformat_minor": 2
}
