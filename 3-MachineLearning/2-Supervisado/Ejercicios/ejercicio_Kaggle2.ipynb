{
 "cells": [
  {
   "cell_type": "markdown",
   "metadata": {},
   "source": [
    "# Setas para Ronald"
   ]
  },
  {
   "cell_type": "markdown",
   "metadata": {},
   "source": [
    "![setas en el bosque](data/setas_ilustracion.jpg)"
   ]
  },
  {
   "cell_type": "markdown",
   "metadata": {},
   "source": [
    "Lo primero de todo, cargamos todas las librerías necesarias. "
   ]
  },
  {
   "cell_type": "code",
   "execution_count": 145,
   "metadata": {},
   "outputs": [],
   "source": [
    "import pandas as pd\n",
    "import numpy as np\n",
    "\n",
    "import sys\n",
    "import os\n",
    "import re\n",
    "\n",
    "import matplotlib.pyplot as plt\n",
    "import statsmodels.api as sm\n",
    "import seaborn as sns\n",
    "\n",
    "from sklearn.preprocessing import LabelEncoder, LabelBinarizer, MultiLabelBinarizer, OneHotEncoder "
   ]
  },
  {
   "cell_type": "code",
   "execution_count": 3,
   "metadata": {},
   "outputs": [
    {
     "name": "stdout",
     "output_type": "stream",
     "text": [
      "0.7.3\n"
     ]
    }
   ],
   "source": [
    "import snappy\n",
    "print(snappy.__version__)"
   ]
  },
  {
   "cell_type": "code",
   "execution_count": 5,
   "metadata": {},
   "outputs": [],
   "source": [
    "# contenido = snappy.decompress(open(\"data/train.snappy\", \"rb\").read()) if os.path.exists(\"data/train.snappy\") else \"Archivo no encontrado\""
   ]
  },
  {
   "cell_type": "code",
   "execution_count": 6,
   "metadata": {},
   "outputs": [
    {
     "data": {
      "text/html": [
       "<div>\n",
       "<style scoped>\n",
       "    .dataframe tbody tr th:only-of-type {\n",
       "        vertical-align: middle;\n",
       "    }\n",
       "\n",
       "    .dataframe tbody tr th {\n",
       "        vertical-align: top;\n",
       "    }\n",
       "\n",
       "    .dataframe thead th {\n",
       "        text-align: right;\n",
       "    }\n",
       "</style>\n",
       "<table border=\"1\" class=\"dataframe\">\n",
       "  <thead>\n",
       "    <tr style=\"text-align: right;\">\n",
       "      <th></th>\n",
       "      <th>descripcion</th>\n",
       "    </tr>\n",
       "  </thead>\n",
       "  <tbody>\n",
       "    <tr>\n",
       "      <th>0</th>\n",
       "      <td>**La observación** 367  describe una seta de *...</td>\n",
       "    </tr>\n",
       "    <tr>\n",
       "      <th>1</th>\n",
       "      <td>**La observación** 5123  describe una seta de ...</td>\n",
       "    </tr>\n",
       "    <tr>\n",
       "      <th>2</th>\n",
       "      <td>**La observación** 2864  describe una seta de ...</td>\n",
       "    </tr>\n",
       "    <tr>\n",
       "      <th>3</th>\n",
       "      <td>**La observación** 4674  describe una seta de ...</td>\n",
       "    </tr>\n",
       "    <tr>\n",
       "      <th>4</th>\n",
       "      <td>**La observación** 1210  describe una seta de ...</td>\n",
       "    </tr>\n",
       "    <tr>\n",
       "      <th>...</th>\n",
       "      <td>...</td>\n",
       "    </tr>\n",
       "    <tr>\n",
       "      <th>4598</th>\n",
       "      <td>**La observación** 1028  describe una seta de ...</td>\n",
       "    </tr>\n",
       "    <tr>\n",
       "      <th>4599</th>\n",
       "      <td>**La observación** 5591  describe una seta de ...</td>\n",
       "    </tr>\n",
       "    <tr>\n",
       "      <th>4600</th>\n",
       "      <td>**La observación** 2053  describe una seta de ...</td>\n",
       "    </tr>\n",
       "    <tr>\n",
       "      <th>4601</th>\n",
       "      <td>**La observación** 4604  describe una seta de ...</td>\n",
       "    </tr>\n",
       "    <tr>\n",
       "      <th>4602</th>\n",
       "      <td>**La observación** 4790  describe una seta de ...</td>\n",
       "    </tr>\n",
       "  </tbody>\n",
       "</table>\n",
       "<p>4603 rows × 1 columns</p>\n",
       "</div>"
      ],
      "text/plain": [
       "                                            descripcion\n",
       "0     **La observación** 367  describe una seta de *...\n",
       "1     **La observación** 5123  describe una seta de ...\n",
       "2     **La observación** 2864  describe una seta de ...\n",
       "3     **La observación** 4674  describe una seta de ...\n",
       "4     **La observación** 1210  describe una seta de ...\n",
       "...                                                 ...\n",
       "4598  **La observación** 1028  describe una seta de ...\n",
       "4599  **La observación** 5591  describe una seta de ...\n",
       "4600  **La observación** 2053  describe una seta de ...\n",
       "4601  **La observación** 4604  describe una seta de ...\n",
       "4602  **La observación** 4790  describe una seta de ...\n",
       "\n",
       "[4603 rows x 1 columns]"
      ]
     },
     "execution_count": 6,
     "metadata": {},
     "output_type": "execute_result"
    }
   ],
   "source": [
    "pd.read_parquet('data/train.snappy')"
   ]
  },
  {
   "cell_type": "code",
   "execution_count": null,
   "metadata": {},
   "outputs": [],
   "source": [
    "pd.set_option('display.max_colwidth', None)\n",
    "pd.read_parquet('data/train.snappy').iloc[5:9]"
   ]
  },
  {
   "cell_type": "code",
   "execution_count": null,
   "metadata": {},
   "outputs": [],
   "source": [
    "pd.read_parquet('data/train.snappy').iloc[0]"
   ]
  },
  {
   "cell_type": "code",
   "execution_count": 9,
   "metadata": {},
   "outputs": [],
   "source": [
    "datos = pd.read_parquet('data/train.snappy')"
   ]
  },
  {
   "cell_type": "code",
   "execution_count": 99,
   "metadata": {},
   "outputs": [
    {
     "data": {
      "text/html": [
       "<div>\n",
       "<style scoped>\n",
       "    .dataframe tbody tr th:only-of-type {\n",
       "        vertical-align: middle;\n",
       "    }\n",
       "\n",
       "    .dataframe tbody tr th {\n",
       "        vertical-align: top;\n",
       "    }\n",
       "\n",
       "    .dataframe thead th {\n",
       "        text-align: right;\n",
       "    }\n",
       "</style>\n",
       "<table border=\"1\" class=\"dataframe\">\n",
       "  <thead>\n",
       "    <tr style=\"text-align: right;\">\n",
       "      <th></th>\n",
       "      <th>descripcion</th>\n",
       "    </tr>\n",
       "  </thead>\n",
       "  <tbody>\n",
       "    <tr>\n",
       "      <th>0</th>\n",
       "      <td>**La observación** 367  describe una seta de **clase** edible.  Tiene una **forma de sombrero** bell  con una **superficie** scaly  **y un color** yellow.  **Presenta**  moretones y tiene un **olor** almond.  **Las branquias son de tipo** free  con una **separación** close  **y un tamaño** broad.  **El color de las branquias es** black.  **La forma del tallo** es enlarging  y la **raíz del tallo** es club.  **La superficie del tallo por encima del anillo** es smooth  **y por debajo del anillo** es smooth.  El **color del tallo por encima del anillo** es white  **y por debajo del anillo** es white.  **El tipo de velo** es partial  con un **color de velo** white.  Tiene one **anillo(s)**,  **de tipo** pendant  **y el color de la impresión de esporas** es brown.  Se encuentra en una **población** scattered  y su **hábitat es** grasses.</td>\n",
       "    </tr>\n",
       "    <tr>\n",
       "      <th>1</th>\n",
       "      <td>**La observación** 5123  describe una seta de **clase** poisonous.  Tiene una **forma de sombrero** convex  con una **superficie** smooth  **y un color** red.  **No presenta**  moretones y tiene un **olor** foul.  **Las branquias son de tipo** free  con una **separación** close  **y un tamaño** narrow.  **El color de las branquias es** buff.  **La forma del tallo** es tapering  y la **raíz del tallo** es ?.  **La superficie del tallo por encima del anillo** es silky  **y por debajo del anillo** es silky.  El **color del tallo por encima del anillo** es white  **y por debajo del anillo** es pink.  **El tipo de velo** es partial  con un **color de velo** white.  Tiene one **anillo(s)**,  **de tipo** evanescent  **y el color de la impresión de esporas** es white.  Se encuentra en una **población** several  y su **hábitat es** paths.</td>\n",
       "    </tr>\n",
       "    <tr>\n",
       "      <th>2</th>\n",
       "      <td>**La observación** 2864  describe una seta de **clase** edible.  Tiene una **forma de sombrero** convex  con una **superficie** fibrous  **y un color** green.  **Presenta**  moretones y tiene un **olor** null.  **Las branquias son de tipo** free  con una **separación** close  **y un tamaño** broad.  **El color de las branquias es** pink.  **La forma del tallo** es tapering  y la **raíz del tallo** es bulbous.  **La superficie del tallo por encima del anillo** es smooth  **y por debajo del anillo** es smooth.  El **color del tallo por encima del anillo** es pink  **y por debajo del anillo** es white.  **El tipo de velo** es partial  con un **color de velo** white.  Tiene one **anillo(s)**,  **de tipo** pendant  **y el color de la impresión de esporas** es brown.  Se encuentra en una **población** several  y su **hábitat es** wood.</td>\n",
       "    </tr>\n",
       "  </tbody>\n",
       "</table>\n",
       "</div>"
      ],
      "text/plain": [
       "                                                                                                                                                                                                                                                                                                                                                                                                                                                                                                                                                                                                                                                                                                                                                                                                                                                                      descripcion\n",
       "0  **La observación** 367  describe una seta de **clase** edible.  Tiene una **forma de sombrero** bell  con una **superficie** scaly  **y un color** yellow.  **Presenta**  moretones y tiene un **olor** almond.  **Las branquias son de tipo** free  con una **separación** close  **y un tamaño** broad.  **El color de las branquias es** black.  **La forma del tallo** es enlarging  y la **raíz del tallo** es club.  **La superficie del tallo por encima del anillo** es smooth  **y por debajo del anillo** es smooth.  El **color del tallo por encima del anillo** es white  **y por debajo del anillo** es white.  **El tipo de velo** es partial  con un **color de velo** white.  Tiene one **anillo(s)**,  **de tipo** pendant  **y el color de la impresión de esporas** es brown.  Se encuentra en una **población** scattered  y su **hábitat es** grasses.  \n",
       "1     **La observación** 5123  describe una seta de **clase** poisonous.  Tiene una **forma de sombrero** convex  con una **superficie** smooth  **y un color** red.  **No presenta**  moretones y tiene un **olor** foul.  **Las branquias son de tipo** free  con una **separación** close  **y un tamaño** narrow.  **El color de las branquias es** buff.  **La forma del tallo** es tapering  y la **raíz del tallo** es ?.  **La superficie del tallo por encima del anillo** es silky  **y por debajo del anillo** es silky.  El **color del tallo por encima del anillo** es white  **y por debajo del anillo** es pink.  **El tipo de velo** es partial  con un **color de velo** white.  Tiene one **anillo(s)**,  **de tipo** evanescent  **y el color de la impresión de esporas** es white.  Se encuentra en una **población** several  y su **hábitat es** paths.  \n",
       "2     **La observación** 2864  describe una seta de **clase** edible.  Tiene una **forma de sombrero** convex  con una **superficie** fibrous  **y un color** green.  **Presenta**  moretones y tiene un **olor** null.  **Las branquias son de tipo** free  con una **separación** close  **y un tamaño** broad.  **El color de las branquias es** pink.  **La forma del tallo** es tapering  y la **raíz del tallo** es bulbous.  **La superficie del tallo por encima del anillo** es smooth  **y por debajo del anillo** es smooth.  El **color del tallo por encima del anillo** es pink  **y por debajo del anillo** es white.  **El tipo de velo** es partial  con un **color de velo** white.  Tiene one **anillo(s)**,  **de tipo** pendant  **y el color de la impresión de esporas** es brown.  Se encuentra en una **población** several  y su **hábitat es** wood.  "
      ]
     },
     "execution_count": 99,
     "metadata": {},
     "output_type": "execute_result"
    }
   ],
   "source": [
    "#voy a ir alimentando la función con filas de prueba para ver si toma bien los valores\n",
    "fila= datos.iloc[0:3]\n",
    "fila"
   ]
  },
  {
   "cell_type": "code",
   "execution_count": 11,
   "metadata": {},
   "outputs": [
    {
     "data": {
      "text/plain": [
       "pandas.core.series.Series"
      ]
     },
     "execution_count": 11,
     "metadata": {},
     "output_type": "execute_result"
    }
   ],
   "source": [
    "type(fila)"
   ]
  },
  {
   "cell_type": "code",
   "execution_count": 131,
   "metadata": {},
   "outputs": [
    {
     "name": "stdout",
     "output_type": "stream",
     "text": [
      "{'ID': '4674', 'clase': 'poisonous', 'forma_sombrero': 'flat', 'superficie': 'smooth', 'color': 'white', 'moretones': 'moretones', 'olor': 'foul', 'tipo_branquias': 'free', 'separacion_branquias': 'close', 'tamano_branquias': 'broad', 'color_branquias': 'pink', 'forma_tallo': 'tapering', 'raiz_tallo': 'bulbous', 'superficie_tallo_arriba': 'fibrous', 'superficie_tallo_abajo': 'fibrous', 'color_tallo_arriba': 'white', 'color_tallo_abajo': 'white', 'tipo_velo': 'partial', 'color_velo': 'white', 'anillo': 'one', 'tipo_anillo': 'pendant', 'color_impresion_esporas': 'chocolate', 'poblacion': 'scattered', 'habitat': 'grasses'}\n"
     ]
    }
   ],
   "source": [
    "#prueba extracción Regex de filas de prueba (ayuda Gemini)\n",
    "import re\n",
    "\n",
    "#fila_n = \"**La observación** 367 describe una seta de **clase** edible. Tiene una **forma de sombrero** bell con una **superficie** scaly **y un color** yellow. **Presenta** moretones y tiene un **olor** almond. **Las branquias son de tipo** free con una **separación** close **y un tamaño** broad. **El color de las branquias es** black. **La forma del tallo** es enlarging y la **raíz del tallo** es club. **La superficie del tallo por encima del anillo** es smooth y **por debajo del anillo** es smooth. El **color del tallo por encima del anillo** es white y **por debajo del anillo** es white. **El tipo de velo** es partial con un **color de velo** white. Tiene one **anillo(s)**, **de tipo** pendant y **el color de la impresión de esporas** es brown. Se encuentra en una **población** scattered y su **hábitat es** grasses.\"\n",
    "\n",
    "fila_n = datos['descripcion'].iloc[3]\n",
    "\n",
    "diccionario_fila_n = {\n",
    "    'ID': re.search(r'\\*\\*La observación\\*\\*(.*?) describe', fila_n).group(1).strip() if re.search(r'\\*\\*La observación\\*\\*(.*?) describe', fila_n) else None,\n",
    "    'clase': re.search(r'\\*\\*clase\\*\\*(.*?)\\.', fila_n).group(1).strip() if re.search(r'\\*\\*clase\\*\\*(.*?)\\.', fila_n) else None,\n",
    "    'forma_sombrero': re.search(r'\\*\\*forma de sombrero\\*\\* (.*?) ', fila_n).group(1).strip() if re.search(r'\\*\\*forma de sombrero\\*\\* (.*?) ', fila_n) else None,\n",
    "    'superficie': re.search(r'\\*\\*superficie\\*\\*(.*?) \\*\\*y', fila_n).group(1).strip() if re.search(r'\\*\\*superficie\\*\\*(.*?) \\*\\*y', fila_n) else None,\n",
    "    'color': re.search(r'\\*\\*y un color\\*\\*(.*?)\\.', fila_n).group(1).strip() if re.search(r'\\*\\*y un color\\*\\*(.*?)\\.', fila_n) else None,\n",
    "   \n",
    "    'moretones': re.search(r'\\*\\*Presenta\\*\\*(.*?) y', fila_n).group(1).strip() if re.search(r'\\*\\*Presenta\\*\\*(.*?) y', fila_n) else None,\n",
    "   \n",
    "    'olor': re.search(r'\\*\\*olor\\*\\*(.*?)\\.', fila_n).group(1).strip() if re.search(r'\\*\\*olor\\*\\*(.*?)\\.', fila_n) else None,\n",
    "    'tipo_branquias': re.search(r'\\*\\*Las branquias son de tipo\\*\\*(.*?) con', fila_n).group(1).strip() if re.search(r'\\*\\*Las branquias son de tipo\\*\\*(.*?) con', fila_n) else None,\n",
    "    'separacion_branquias': re.search(r'\\*\\*separación\\*\\*(.*?) \\*\\*y', fila_n).group(1).strip() if re.search(r'\\*\\*separación\\*\\*(.*?) \\*\\*y', fila_n) else None,\n",
    "    'tamano_branquias': re.search(r'\\*\\*y un tamaño\\*\\*(.*?)\\.', fila_n).group(1).strip() if re.search(r'\\*\\*y un tamaño\\*\\*(.*?)\\.', fila_n) else None,\n",
    "    'color_branquias': re.search(r'\\*\\*El color de las branquias es\\*\\*(.*?)\\.', fila_n).group(1).strip() if re.search(r'\\*\\*El color de las branquias es\\*\\*(.*?)\\.', fila_n) else None,\n",
    "    'forma_tallo': re.search(r'\\*\\*La forma del tallo\\*\\* (?:es) (.*?) y', fila_n).group(1).strip() if re.search(r'\\*\\*La forma del tallo\\*\\* (?:es) (.*?) y', fila_n) else None,\n",
    "    'raiz_tallo': re.search(r'\\*\\*raíz del tallo\\*\\* (?:es) (.*?)\\.', fila_n).group(1).strip() if re.search(r'\\*\\*raíz del tallo\\*\\* (?:es) (.*?)\\.', fila_n) else None,\n",
    "    'superficie_tallo_arriba': re.search(r'\\*\\*La superficie del tallo por encima del anillo\\*\\* (?:es) (.*?) ', fila_n).group(1).strip() if re.search(r'\\*\\*La superficie del tallo por encima del anillo\\*\\* (?:es) (.*?) ', fila_n) else None,\n",
    "    'superficie_tallo_abajo': re.search(r'\\*\\*y por debajo del anillo\\*\\* (?:es) (.*?)\\.', fila_n).group(1).strip() if re.search(r'\\*\\*y por debajo del anillo\\*\\* (?:es) (.*?)\\.', fila_n) else None,\n",
    "    'color_tallo_arriba': re.search(r'\\*\\*color del tallo por encima del anillo\\*\\* (?:es) (.*?) ', fila_n).group(1).strip() if re.search(r'\\*\\*color del tallo por encima del anillo\\*\\* (?:es) (.*?) ', fila_n) else None,\n",
    "   \n",
    "    'color_tallo_abajo': re.findall(r'\\*\\*y por debajo del anillo\\*\\* (?:es) (.*?)\\.', fila_n)[1] if re.findall(r'\\*\\*y por debajo del anillo\\*\\* (?:es) (.*?)\\.', fila_n)[1] else None,\n",
    "    \n",
    "    'tipo_velo': re.search(r'\\*\\*El tipo de velo\\*\\* (?:es) (.*?) con', fila_n).group(1).strip() if re.search(r'\\*\\*El tipo de velo\\*\\* (?:es) (.*?) con', fila_n) else None,\n",
    "    'color_velo': re.search(r'\\*\\*color de velo\\*\\*(.*?)\\.', fila_n).group(1).strip() if re.search(r'\\*\\*color de velo\\*\\*(.*?)\\.', fila_n) else None,\n",
    "    \n",
    "    'anillo': re.search(r'\\.?\\s*Tiene ([^.]*?) \\*\\*anillo\\(s\\)\\*\\*', fila_n).group(1).strip() if re.search(r'\\.?\\s*Tiene ([^.]*?) \\*\\*anillo\\(s\\)\\*\\*', fila_n) else None,\n",
    "    'tipo_anillo': re.search(r'\\*\\*de tipo\\*\\* (.*?) ', fila_n).group(1).strip() if re.search(r'\\*\\*de tipo\\*\\* (.*?) ', fila_n) else None,\n",
    "    'color_impresion_esporas': re.search(r'\\*\\*y el color de la impresión de esporas\\*\\* (?:es) (.*?)\\.', fila_n).group(1).strip() if re.search(r'\\*\\*y el color de la impresión de esporas\\*\\* (?:es)(.*?)\\.', fila_n) else None,\n",
    "    'poblacion': re.search(r'\\*\\*población\\*\\*(.*?) y', fila_n).group(1).strip() if re.search(r'\\*\\*población\\*\\*(.*?) y', fila_n) else None,\n",
    "    'habitat': re.search(r'\\*\\*hábitat es\\*\\*(.*?)\\.', fila_n).group(1).strip() if re.search(r'\\*\\*hábitat es\\*\\*(.*?)\\.', fila_n) else None\n",
    "}\n",
    "\n",
    "print(diccionario_fila_n)"
   ]
  },
  {
   "cell_type": "code",
   "execution_count": 92,
   "metadata": {},
   "outputs": [
    {
     "data": {
      "text/html": [
       "<div>\n",
       "<style scoped>\n",
       "    .dataframe tbody tr th:only-of-type {\n",
       "        vertical-align: middle;\n",
       "    }\n",
       "\n",
       "    .dataframe tbody tr th {\n",
       "        vertical-align: top;\n",
       "    }\n",
       "\n",
       "    .dataframe thead th {\n",
       "        text-align: right;\n",
       "    }\n",
       "</style>\n",
       "<table border=\"1\" class=\"dataframe\">\n",
       "  <thead>\n",
       "    <tr style=\"text-align: right;\">\n",
       "      <th></th>\n",
       "      <th>descripcion</th>\n",
       "    </tr>\n",
       "  </thead>\n",
       "  <tbody>\n",
       "    <tr>\n",
       "      <th>0</th>\n",
       "      <td>**La observación** 367  describe una seta de **clase** edible.  Tiene una **forma de sombrero** bell  con una **superficie** scaly  **y un color** yellow.  **Presenta**  moretones y tiene un **olor** almond.  **Las branquias son de tipo** free  con una **separación** close  **y un tamaño** broad.  **El color de las branquias es** black.  **La forma del tallo** es enlarging  y la **raíz del tallo** es club.  **La superficie del tallo por encima del anillo** es smooth  **y por debajo del anillo** es smooth.  El **color del tallo por encima del anillo** es white  **y por debajo del anillo** es white.  **El tipo de velo** es partial  con un **color de velo** white.  Tiene one **anillo(s)**,  **de tipo** pendant  **y el color de la impresión de esporas** es brown.  Se encuentra en una **población** scattered  y su **hábitat es** grasses.</td>\n",
       "    </tr>\n",
       "    <tr>\n",
       "      <th>1</th>\n",
       "      <td>**La observación** 5123  describe una seta de **clase** poisonous.  Tiene una **forma de sombrero** convex  con una **superficie** smooth  **y un color** red.  **No presenta**  moretones y tiene un **olor** foul.  **Las branquias son de tipo** free  con una **separación** close  **y un tamaño** narrow.  **El color de las branquias es** buff.  **La forma del tallo** es tapering  y la **raíz del tallo** es ?.  **La superficie del tallo por encima del anillo** es silky  **y por debajo del anillo** es silky.  El **color del tallo por encima del anillo** es white  **y por debajo del anillo** es pink.  **El tipo de velo** es partial  con un **color de velo** white.  Tiene one **anillo(s)**,  **de tipo** evanescent  **y el color de la impresión de esporas** es white.  Se encuentra en una **población** several  y su **hábitat es** paths.</td>\n",
       "    </tr>\n",
       "  </tbody>\n",
       "</table>\n",
       "</div>"
      ],
      "text/plain": [
       "                                                                                                                                                                                                                                                                                                                                                                                                                                                                                                                                                                                                                                                                                                                                                                                                                                                                      descripcion\n",
       "0  **La observación** 367  describe una seta de **clase** edible.  Tiene una **forma de sombrero** bell  con una **superficie** scaly  **y un color** yellow.  **Presenta**  moretones y tiene un **olor** almond.  **Las branquias son de tipo** free  con una **separación** close  **y un tamaño** broad.  **El color de las branquias es** black.  **La forma del tallo** es enlarging  y la **raíz del tallo** es club.  **La superficie del tallo por encima del anillo** es smooth  **y por debajo del anillo** es smooth.  El **color del tallo por encima del anillo** es white  **y por debajo del anillo** es white.  **El tipo de velo** es partial  con un **color de velo** white.  Tiene one **anillo(s)**,  **de tipo** pendant  **y el color de la impresión de esporas** es brown.  Se encuentra en una **población** scattered  y su **hábitat es** grasses.  \n",
       "1     **La observación** 5123  describe una seta de **clase** poisonous.  Tiene una **forma de sombrero** convex  con una **superficie** smooth  **y un color** red.  **No presenta**  moretones y tiene un **olor** foul.  **Las branquias son de tipo** free  con una **separación** close  **y un tamaño** narrow.  **El color de las branquias es** buff.  **La forma del tallo** es tapering  y la **raíz del tallo** es ?.  **La superficie del tallo por encima del anillo** es silky  **y por debajo del anillo** es silky.  El **color del tallo por encima del anillo** es white  **y por debajo del anillo** es pink.  **El tipo de velo** es partial  con un **color de velo** white.  Tiene one **anillo(s)**,  **de tipo** evanescent  **y el color de la impresión de esporas** es white.  Se encuentra en una **población** several  y su **hábitat es** paths.  "
      ]
     },
     "execution_count": 92,
     "metadata": {},
     "output_type": "execute_result"
    }
   ],
   "source": [
    "fila"
   ]
  },
  {
   "cell_type": "code",
   "execution_count": 46,
   "metadata": {},
   "outputs": [
    {
     "data": {
      "text/plain": [
       "'white'"
      ]
     },
     "execution_count": 46,
     "metadata": {},
     "output_type": "execute_result"
    }
   ],
   "source": [
    "re.findall(r'\\*\\*y por debajo del anillo\\*\\* (?:es) (.*?)\\.', fila_n)[1]"
   ]
  },
  {
   "cell_type": "code",
   "execution_count": 85,
   "metadata": {},
   "outputs": [],
   "source": [
    "re.search(r'(?:^|\\. )Tiene (.*?) \\*\\*anillo\\(s\\)\\*\\*,', fila_n)"
   ]
  },
  {
   "cell_type": "code",
   "execution_count": 64,
   "metadata": {},
   "outputs": [],
   "source": [
    "re.search(r'\\*\\*clase\\*\\*(.*?)\\. Tiene', fila_n)"
   ]
  },
  {
   "cell_type": "markdown",
   "metadata": {},
   "source": [
    "Ahora construyo dicho diccionario para todas las filas u observaciones, recorriendo mis datos con una función."
   ]
  },
  {
   "cell_type": "code",
   "execution_count": null,
   "metadata": {},
   "outputs": [],
   "source": [
    "\n",
    "def extraer_atributos(fila_n):\n",
    "    \"\"\"Extrae los atributos de una fila de descripción usando regex.\"\"\"\n",
    "    \n",
    "    return {\n",
    "    'ID': re.search(r'\\*\\*La observación\\*\\*(.*?) describe', fila_n).group(1).strip() if re.search(r'\\*\\*La observación\\*\\*(.*?) describe', fila_n) else None,\n",
    "    'clase': re.search(r'\\*\\*clase\\*\\*(.*?)\\.', fila_n).group(1).strip() if re.search(r'\\*\\*clase\\*\\*(.*?)\\.', fila_n) else None,\n",
    "    'forma_sombrero': re.search(r'\\*\\*forma de sombrero\\*\\* (.*?) ', fila_n).group(1).strip() if re.search(r'\\*\\*forma de sombrero\\*\\* (.*?) ', fila_n) else None,\n",
    "    'superficie': re.search(r'\\*\\*superficie\\*\\*(.*?) \\*\\*y', fila_n).group(1).strip() if re.search(r'\\*\\*superficie\\*\\*(.*?) \\*\\*y', fila_n) else None,\n",
    "    'color': re.search(r'\\*\\*y un color\\*\\*(.*?)\\.', fila_n).group(1).strip() if re.search(r'\\*\\*y un color\\*\\*(.*?)\\.', fila_n) else None,\n",
    "    'moretones': re.search(r'\\*\\*Presenta\\*\\*(.*?) y', fila_n).group(1).strip() if re.search(r'\\*\\*Presenta\\*\\*(.*?) y', fila_n) else None,\n",
    "    'olor': re.search(r'\\*\\*olor\\*\\*(.*?)\\.', fila_n).group(1).strip() if re.search(r'\\*\\*olor\\*\\*(.*?)\\.', fila_n) else None,\n",
    "    'tipo_branquias': re.search(r'\\*\\*Las branquias son de tipo\\*\\*(.*?) con', fila_n).group(1).strip() if re.search(r'\\*\\*Las branquias son de tipo\\*\\*(.*?) con', fila_n) else None,\n",
    "    'separacion_branquias': re.search(r'\\*\\*separación\\*\\*(.*?) \\*\\*y', fila_n).group(1).strip() if re.search(r'\\*\\*separación\\*\\*(.*?) \\*\\*y', fila_n) else None,\n",
    "    'tamano_branquias': re.search(r'\\*\\*y un tamaño\\*\\*(.*?)\\.', fila_n).group(1).strip() if re.search(r'\\*\\*y un tamaño\\*\\*(.*?)\\.', fila_n) else None,\n",
    "    'color_branquias': re.search(r'\\*\\*El color de las branquias es\\*\\*(.*?)\\.', fila_n).group(1).strip() if re.search(r'\\*\\*El color de las branquias es\\*\\*(.*?)\\.', fila_n) else None,\n",
    "    'forma_tallo': re.search(r'\\*\\*La forma del tallo\\*\\* (?:es) (.*?) y', fila_n).group(1).strip() if re.search(r'\\*\\*La forma del tallo\\*\\* (?:es) (.*?) y', fila_n) else None,\n",
    "    'raiz_tallo': re.search(r'\\*\\*raíz del tallo\\*\\* (?:es) (.*?)\\.', fila_n).group(1).strip() if re.search(r'\\*\\*raíz del tallo\\*\\* (?:es) (.*?)\\.', fila_n) else None,\n",
    "    'superficie_tallo_arriba': re.search(r'\\*\\*La superficie del tallo por encima del anillo\\*\\* (?:es) (.*?) ', fila_n).group(1).strip() if re.search(r'\\*\\*La superficie del tallo por encima del anillo\\*\\* (?:es) (.*?) ', fila_n) else None,\n",
    "    'superficie_tallo_abajo': re.search(r'\\*\\*y por debajo del anillo\\*\\* (?:es) (.*?)\\.', fila_n).group(1).strip() if re.search(r'\\*\\*y por debajo del anillo\\*\\* (?:es) (.*?)\\.', fila_n) else None,\n",
    "    'color_tallo_arriba': re.search(r'\\*\\*color del tallo por encima del anillo\\*\\* (?:es) (.*?) ', fila_n).group(1).strip() if re.search(r'\\*\\*color del tallo por encima del anillo\\*\\* (?:es) (.*?) ', fila_n) else None,\n",
    "    'color_tallo_abajo': re.findall(r'\\*\\*y por debajo del anillo\\*\\* (?:es) (.*?)\\.', fila_n)[1] if re.findall(r'\\*\\*y por debajo del anillo\\*\\* (?:es) (.*?)\\.', fila_n)[1] else None,\n",
    "    'tipo_velo': re.search(r'\\*\\*El tipo de velo\\*\\* (?:es) (.*?) con', fila_n).group(1).strip() if re.search(r'\\*\\*El tipo de velo\\*\\* (?:es) (.*?) con', fila_n) else None,\n",
    "    'color_velo': re.search(r'\\*\\*color de velo\\*\\*(.*?)\\.', fila_n).group(1).strip() if re.search(r'\\*\\*color de velo\\*\\*(.*?)\\.', fila_n) else None,\n",
    "    'anillo': re.search(r'\\.?\\s*Tiene ([^.]*?) \\*\\*anillo\\(s\\)\\*\\*', fila_n).group(1).strip() if re.search(r'\\.?\\s*Tiene ([^.]*?) \\*\\*anillo\\(s\\)\\*\\*', fila_n) else None,\n",
    "    'tipo_anillo': re.search(r'\\*\\*de tipo\\*\\* (.*?) ', fila_n).group(1).strip() if re.search(r'\\*\\*de tipo\\*\\* (.*?) ', fila_n) else None,\n",
    "    'color_impresion_esporas': re.search(r'\\*\\*y el color de la impresión de esporas\\*\\* (?:es) (.*?)\\.', fila_n).group(1).strip() if re.search(r'\\*\\*y el color de la impresión de esporas\\*\\* (?:es)(.*?)\\.', fila_n) else None,\n",
    "    'poblacion': re.search(r'\\*\\*población\\*\\*(.*?) y', fila_n).group(1).strip() if re.search(r'\\*\\*población\\*\\*(.*?) y', fila_n) else None,\n",
    "    'habitat': re.search(r'\\*\\*hábitat es\\*\\*(.*?)\\.', fila_n).group(1).strip() if re.search(r'\\*\\*hábitat es\\*\\*(.*?)\\.', fila_n) else None\n",
    "}\n",
    "\n",
    "\n",
    "# Aplicar la función a todas las filas\n",
    "datos_extraidos = datos['descripcion'].apply(extraer_atributos)\n",
    "\n"
   ]
  },
  {
   "cell_type": "code",
   "execution_count": 133,
   "metadata": {},
   "outputs": [
    {
     "data": {
      "text/plain": [
       "0                {'ID': '367', 'clase': 'edible', 'forma_sombrero': 'bell', 'superficie': 'scaly', 'color': 'yellow', 'moretones': 'moretones', 'olor': 'almond', 'tipo_branquias': 'free', 'separacion_branquias': 'close', 'tamano_branquias': 'broad', 'color_branquias': 'black', 'forma_tallo': 'enlarging', 'raiz_tallo': 'club', 'superficie_tallo_arriba': 'smooth', 'superficie_tallo_abajo': 'smooth', 'color_tallo_arriba': 'white', 'color_tallo_abajo': 'white', 'tipo_velo': 'partial', 'color_velo': 'white', 'anillo': 'one', 'tipo_anillo': 'pendant', 'color_impresion_esporas': 'brown', 'poblacion': 'scattered', 'habitat': 'grasses'}\n",
       "1                             {'ID': '5123', 'clase': 'poisonous', 'forma_sombrero': 'convex', 'superficie': 'smooth', 'color': 'red', 'moretones': None, 'olor': 'foul', 'tipo_branquias': 'free', 'separacion_branquias': 'close', 'tamano_branquias': 'narrow', 'color_branquias': 'buff', 'forma_tallo': 'tapering', 'raiz_tallo': '?', 'superficie_tallo_arriba': 'silky', 'superficie_tallo_abajo': 'silky', 'color_tallo_arriba': 'white', 'color_tallo_abajo': 'pink', 'tipo_velo': 'partial', 'color_velo': 'white', 'anillo': 'one', 'tipo_anillo': 'evanescent', 'color_impresion_esporas': 'white', 'poblacion': 'several', 'habitat': 'paths'}\n",
       "2                   {'ID': '2864', 'clase': 'edible', 'forma_sombrero': 'convex', 'superficie': 'fibrous', 'color': 'green', 'moretones': 'moretones', 'olor': 'null', 'tipo_branquias': 'free', 'separacion_branquias': 'close', 'tamano_branquias': 'broad', 'color_branquias': 'pink', 'forma_tallo': 'tapering', 'raiz_tallo': 'bulbous', 'superficie_tallo_arriba': 'smooth', 'superficie_tallo_abajo': 'smooth', 'color_tallo_arriba': 'pink', 'color_tallo_abajo': 'white', 'tipo_velo': 'partial', 'color_velo': 'white', 'anillo': 'one', 'tipo_anillo': 'pendant', 'color_impresion_esporas': 'brown', 'poblacion': 'several', 'habitat': 'wood'}\n",
       "3       {'ID': '4674', 'clase': 'poisonous', 'forma_sombrero': 'flat', 'superficie': 'smooth', 'color': 'white', 'moretones': 'moretones', 'olor': 'foul', 'tipo_branquias': 'free', 'separacion_branquias': 'close', 'tamano_branquias': 'broad', 'color_branquias': 'pink', 'forma_tallo': 'tapering', 'raiz_tallo': 'bulbous', 'superficie_tallo_arriba': 'fibrous', 'superficie_tallo_abajo': 'fibrous', 'color_tallo_arriba': 'white', 'color_tallo_abajo': 'white', 'tipo_velo': 'partial', 'color_velo': 'white', 'anillo': 'one', 'tipo_anillo': 'pendant', 'color_impresion_esporas': 'chocolate', 'poblacion': 'scattered', 'habitat': 'grasses'}\n",
       "4                {'ID': '1210', 'clase': 'edible', 'forma_sombrero': 'convex', 'superficie': 'smooth', 'color': 'white', 'moretones': None, 'olor': 'null', 'tipo_branquias': 'free', 'separacion_branquias': 'crowded', 'tamano_branquias': 'broad', 'color_branquias': 'black', 'forma_tallo': 'tapering', 'raiz_tallo': 'equal', 'superficie_tallo_arriba': 'fibrous', 'superficie_tallo_abajo': 'fibrous', 'color_tallo_arriba': 'white', 'color_tallo_abajo': 'white', 'tipo_velo': 'partial', 'color_velo': 'white', 'anillo': 'one', 'tipo_anillo': 'evanescent', 'color_impresion_esporas': 'black', 'poblacion': 'abundant', 'habitat': 'grasses'}\n",
       "                                                                                                                                                                                                                                                                                                                               ...                                                                                                                                                                                                                                                                                                                         \n",
       "4598               {'ID': '1028', 'clase': 'edible', 'forma_sombrero': 'convex', 'superficie': 'fibrous', 'color': 'brown', 'moretones': 'moretones', 'olor': 'null', 'tipo_branquias': 'free', 'separacion_branquias': 'close', 'tamano_branquias': 'broad', 'color_branquias': 'purple', 'forma_tallo': 'tapering', 'raiz_tallo': 'bulbous', 'superficie_tallo_arriba': 'smooth', 'superficie_tallo_abajo': 'smooth', 'color_tallo_arriba': 'gray', 'color_tallo_abajo': 'gray', 'tipo_velo': 'partial', 'color_velo': 'white', 'anillo': 'one', 'tipo_anillo': 'pendant', 'color_impresion_esporas': 'black', 'poblacion': 'several', 'habitat': 'wood'}\n",
       "4599                         {'ID': '5591', 'clase': 'poisonous', 'forma_sombrero': 'convex', 'superficie': 'smooth', 'color': 'red', 'moretones': None, 'olor': 'fishy', 'tipo_branquias': 'free', 'separacion_branquias': 'close', 'tamano_branquias': 'narrow', 'color_branquias': 'buff', 'forma_tallo': 'tapering', 'raiz_tallo': '?', 'superficie_tallo_arriba': 'smooth', 'superficie_tallo_abajo': 'silky', 'color_tallo_arriba': 'pink', 'color_tallo_abajo': 'white', 'tipo_velo': 'partial', 'color_velo': 'white', 'anillo': 'one', 'tipo_anillo': 'evanescent', 'color_impresion_esporas': 'white', 'poblacion': 'several', 'habitat': 'wood'}\n",
       "4600                {'ID': '2053', 'clase': 'edible', 'forma_sombrero': 'convex', 'superficie': 'fibrous', 'color': 'red', 'moretones': 'moretones', 'olor': 'null', 'tipo_branquias': 'free', 'separacion_branquias': 'close', 'tamano_branquias': 'broad', 'color_branquias': 'brown', 'forma_tallo': 'tapering', 'raiz_tallo': 'bulbous', 'superficie_tallo_arriba': 'smooth', 'superficie_tallo_abajo': 'smooth', 'color_tallo_arriba': 'white', 'color_tallo_abajo': 'gray', 'tipo_velo': 'partial', 'color_velo': 'white', 'anillo': 'one', 'tipo_anillo': 'pendant', 'color_impresion_esporas': 'brown', 'poblacion': 'solitary', 'habitat': 'wood'}\n",
       "4601                        {'ID': '4604', 'clase': 'poisonous', 'forma_sombrero': 'convex', 'superficie': 'scaly', 'color': 'brown', 'moretones': None, 'olor': 'foul', 'tipo_branquias': 'free', 'separacion_branquias': 'close', 'tamano_branquias': 'narrow', 'color_branquias': 'buff', 'forma_tallo': 'tapering', 'raiz_tallo': '?', 'superficie_tallo_arriba': 'smooth', 'superficie_tallo_abajo': 'smooth', 'color_tallo_arriba': 'pink', 'color_tallo_abajo': 'pink', 'tipo_velo': 'partial', 'color_velo': 'white', 'anillo': 'one', 'tipo_anillo': 'evanescent', 'color_impresion_esporas': 'white', 'poblacion': 'several', 'habitat': 'paths'}\n",
       "4602                  {'ID': '4790', 'clase': 'poisonous', 'forma_sombrero': 'convex', 'superficie': 'fibrous', 'color': 'yellow', 'moretones': None, 'olor': 'foul', 'tipo_branquias': 'free', 'separacion_branquias': 'close', 'tamano_branquias': 'broad', 'color_branquias': 'pink', 'forma_tallo': 'enlarging', 'raiz_tallo': 'bulbous', 'superficie_tallo_arriba': 'silky', 'superficie_tallo_abajo': 'silky', 'color_tallo_arriba': 'pink', 'color_tallo_abajo': 'pink', 'tipo_velo': 'partial', 'color_velo': 'white', 'anillo': 'one', 'tipo_anillo': 'large', 'color_impresion_esporas': 'chocolate', 'poblacion': 'solitary', 'habitat': 'wood'}\n",
       "Name: descripcion, Length: 4603, dtype: object"
      ]
     },
     "execution_count": 133,
     "metadata": {},
     "output_type": "execute_result"
    }
   ],
   "source": [
    "datos_extraidos"
   ]
  },
  {
   "cell_type": "code",
   "execution_count": 134,
   "metadata": {},
   "outputs": [
    {
     "data": {
      "text/html": [
       "<div>\n",
       "<style scoped>\n",
       "    .dataframe tbody tr th:only-of-type {\n",
       "        vertical-align: middle;\n",
       "    }\n",
       "\n",
       "    .dataframe tbody tr th {\n",
       "        vertical-align: top;\n",
       "    }\n",
       "\n",
       "    .dataframe thead th {\n",
       "        text-align: right;\n",
       "    }\n",
       "</style>\n",
       "<table border=\"1\" class=\"dataframe\">\n",
       "  <thead>\n",
       "    <tr style=\"text-align: right;\">\n",
       "      <th></th>\n",
       "      <th>clase</th>\n",
       "      <th>forma_sombrero</th>\n",
       "      <th>superficie</th>\n",
       "      <th>color</th>\n",
       "      <th>moretones</th>\n",
       "      <th>olor</th>\n",
       "      <th>tipo_branquias</th>\n",
       "      <th>separacion_branquias</th>\n",
       "      <th>tamano_branquias</th>\n",
       "      <th>color_branquias</th>\n",
       "      <th>...</th>\n",
       "      <th>superficie_tallo_abajo</th>\n",
       "      <th>color_tallo_arriba</th>\n",
       "      <th>color_tallo_abajo</th>\n",
       "      <th>tipo_velo</th>\n",
       "      <th>color_velo</th>\n",
       "      <th>anillo</th>\n",
       "      <th>tipo_anillo</th>\n",
       "      <th>color_impresion_esporas</th>\n",
       "      <th>poblacion</th>\n",
       "      <th>habitat</th>\n",
       "    </tr>\n",
       "    <tr>\n",
       "      <th>ID</th>\n",
       "      <th></th>\n",
       "      <th></th>\n",
       "      <th></th>\n",
       "      <th></th>\n",
       "      <th></th>\n",
       "      <th></th>\n",
       "      <th></th>\n",
       "      <th></th>\n",
       "      <th></th>\n",
       "      <th></th>\n",
       "      <th></th>\n",
       "      <th></th>\n",
       "      <th></th>\n",
       "      <th></th>\n",
       "      <th></th>\n",
       "      <th></th>\n",
       "      <th></th>\n",
       "      <th></th>\n",
       "      <th></th>\n",
       "      <th></th>\n",
       "      <th></th>\n",
       "    </tr>\n",
       "  </thead>\n",
       "  <tbody>\n",
       "    <tr>\n",
       "      <th>367</th>\n",
       "      <td>edible</td>\n",
       "      <td>bell</td>\n",
       "      <td>scaly</td>\n",
       "      <td>yellow</td>\n",
       "      <td>moretones</td>\n",
       "      <td>almond</td>\n",
       "      <td>free</td>\n",
       "      <td>close</td>\n",
       "      <td>broad</td>\n",
       "      <td>black</td>\n",
       "      <td>...</td>\n",
       "      <td>smooth</td>\n",
       "      <td>white</td>\n",
       "      <td>white</td>\n",
       "      <td>partial</td>\n",
       "      <td>white</td>\n",
       "      <td>one</td>\n",
       "      <td>pendant</td>\n",
       "      <td>brown</td>\n",
       "      <td>scattered</td>\n",
       "      <td>grasses</td>\n",
       "    </tr>\n",
       "    <tr>\n",
       "      <th>5123</th>\n",
       "      <td>poisonous</td>\n",
       "      <td>convex</td>\n",
       "      <td>smooth</td>\n",
       "      <td>red</td>\n",
       "      <td>None</td>\n",
       "      <td>foul</td>\n",
       "      <td>free</td>\n",
       "      <td>close</td>\n",
       "      <td>narrow</td>\n",
       "      <td>buff</td>\n",
       "      <td>...</td>\n",
       "      <td>silky</td>\n",
       "      <td>white</td>\n",
       "      <td>pink</td>\n",
       "      <td>partial</td>\n",
       "      <td>white</td>\n",
       "      <td>one</td>\n",
       "      <td>evanescent</td>\n",
       "      <td>white</td>\n",
       "      <td>several</td>\n",
       "      <td>paths</td>\n",
       "    </tr>\n",
       "    <tr>\n",
       "      <th>2864</th>\n",
       "      <td>edible</td>\n",
       "      <td>convex</td>\n",
       "      <td>fibrous</td>\n",
       "      <td>green</td>\n",
       "      <td>moretones</td>\n",
       "      <td>null</td>\n",
       "      <td>free</td>\n",
       "      <td>close</td>\n",
       "      <td>broad</td>\n",
       "      <td>pink</td>\n",
       "      <td>...</td>\n",
       "      <td>smooth</td>\n",
       "      <td>pink</td>\n",
       "      <td>white</td>\n",
       "      <td>partial</td>\n",
       "      <td>white</td>\n",
       "      <td>one</td>\n",
       "      <td>pendant</td>\n",
       "      <td>brown</td>\n",
       "      <td>several</td>\n",
       "      <td>wood</td>\n",
       "    </tr>\n",
       "    <tr>\n",
       "      <th>4674</th>\n",
       "      <td>poisonous</td>\n",
       "      <td>flat</td>\n",
       "      <td>smooth</td>\n",
       "      <td>white</td>\n",
       "      <td>moretones</td>\n",
       "      <td>foul</td>\n",
       "      <td>free</td>\n",
       "      <td>close</td>\n",
       "      <td>broad</td>\n",
       "      <td>pink</td>\n",
       "      <td>...</td>\n",
       "      <td>fibrous</td>\n",
       "      <td>white</td>\n",
       "      <td>white</td>\n",
       "      <td>partial</td>\n",
       "      <td>white</td>\n",
       "      <td>one</td>\n",
       "      <td>pendant</td>\n",
       "      <td>chocolate</td>\n",
       "      <td>scattered</td>\n",
       "      <td>grasses</td>\n",
       "    </tr>\n",
       "    <tr>\n",
       "      <th>1210</th>\n",
       "      <td>edible</td>\n",
       "      <td>convex</td>\n",
       "      <td>smooth</td>\n",
       "      <td>white</td>\n",
       "      <td>None</td>\n",
       "      <td>null</td>\n",
       "      <td>free</td>\n",
       "      <td>crowded</td>\n",
       "      <td>broad</td>\n",
       "      <td>black</td>\n",
       "      <td>...</td>\n",
       "      <td>fibrous</td>\n",
       "      <td>white</td>\n",
       "      <td>white</td>\n",
       "      <td>partial</td>\n",
       "      <td>white</td>\n",
       "      <td>one</td>\n",
       "      <td>evanescent</td>\n",
       "      <td>black</td>\n",
       "      <td>abundant</td>\n",
       "      <td>grasses</td>\n",
       "    </tr>\n",
       "    <tr>\n",
       "      <th>5381</th>\n",
       "      <td>poisonous</td>\n",
       "      <td>flat</td>\n",
       "      <td>smooth</td>\n",
       "      <td>red</td>\n",
       "      <td>None</td>\n",
       "      <td>spicy</td>\n",
       "      <td>free</td>\n",
       "      <td>close</td>\n",
       "      <td>narrow</td>\n",
       "      <td>buff</td>\n",
       "      <td>...</td>\n",
       "      <td>silky</td>\n",
       "      <td>pink</td>\n",
       "      <td>white</td>\n",
       "      <td>partial</td>\n",
       "      <td>white</td>\n",
       "      <td>one</td>\n",
       "      <td>evanescent</td>\n",
       "      <td>white</td>\n",
       "      <td>several</td>\n",
       "      <td>leaves</td>\n",
       "    </tr>\n",
       "    <tr>\n",
       "      <th>4001</th>\n",
       "      <td>poisonous</td>\n",
       "      <td>convex</td>\n",
       "      <td>smooth</td>\n",
       "      <td>green</td>\n",
       "      <td>None</td>\n",
       "      <td>creosote</td>\n",
       "      <td>free</td>\n",
       "      <td>close</td>\n",
       "      <td>narrow</td>\n",
       "      <td>pink</td>\n",
       "      <td>...</td>\n",
       "      <td>smooth</td>\n",
       "      <td>white</td>\n",
       "      <td>white</td>\n",
       "      <td>partial</td>\n",
       "      <td>white</td>\n",
       "      <td>one</td>\n",
       "      <td>pendant</td>\n",
       "      <td>black</td>\n",
       "      <td>several</td>\n",
       "      <td>wood</td>\n",
       "    </tr>\n",
       "    <tr>\n",
       "      <th>5168</th>\n",
       "      <td>poisonous</td>\n",
       "      <td>convex</td>\n",
       "      <td>scaly</td>\n",
       "      <td>red</td>\n",
       "      <td>None</td>\n",
       "      <td>spicy</td>\n",
       "      <td>free</td>\n",
       "      <td>close</td>\n",
       "      <td>narrow</td>\n",
       "      <td>buff</td>\n",
       "      <td>...</td>\n",
       "      <td>silky</td>\n",
       "      <td>white</td>\n",
       "      <td>white</td>\n",
       "      <td>partial</td>\n",
       "      <td>white</td>\n",
       "      <td>one</td>\n",
       "      <td>evanescent</td>\n",
       "      <td>white</td>\n",
       "      <td>several</td>\n",
       "      <td>paths</td>\n",
       "    </tr>\n",
       "    <tr>\n",
       "      <th>14</th>\n",
       "      <td>edible</td>\n",
       "      <td>sunken</td>\n",
       "      <td>fibrous</td>\n",
       "      <td>green</td>\n",
       "      <td>None</td>\n",
       "      <td>null</td>\n",
       "      <td>free</td>\n",
       "      <td>close</td>\n",
       "      <td>narrow</td>\n",
       "      <td>black</td>\n",
       "      <td>...</td>\n",
       "      <td>smooth</td>\n",
       "      <td>white</td>\n",
       "      <td>white</td>\n",
       "      <td>partial</td>\n",
       "      <td>white</td>\n",
       "      <td>one</td>\n",
       "      <td>pendant</td>\n",
       "      <td>brown</td>\n",
       "      <td>solitary</td>\n",
       "      <td>urban</td>\n",
       "    </tr>\n",
       "    <tr>\n",
       "      <th>2540</th>\n",
       "      <td>edible</td>\n",
       "      <td>convex</td>\n",
       "      <td>scaly</td>\n",
       "      <td>brown</td>\n",
       "      <td>moretones</td>\n",
       "      <td>null</td>\n",
       "      <td>free</td>\n",
       "      <td>close</td>\n",
       "      <td>broad</td>\n",
       "      <td>purple</td>\n",
       "      <td>...</td>\n",
       "      <td>smooth</td>\n",
       "      <td>gray</td>\n",
       "      <td>gray</td>\n",
       "      <td>partial</td>\n",
       "      <td>white</td>\n",
       "      <td>one</td>\n",
       "      <td>pendant</td>\n",
       "      <td>brown</td>\n",
       "      <td>solitary</td>\n",
       "      <td>wood</td>\n",
       "    </tr>\n",
       "  </tbody>\n",
       "</table>\n",
       "<p>10 rows × 23 columns</p>\n",
       "</div>"
      ],
      "text/plain": [
       "          clase forma_sombrero superficie   color  moretones      olor  \\\n",
       "ID                                                                       \n",
       "367      edible           bell      scaly  yellow  moretones    almond   \n",
       "5123  poisonous         convex     smooth     red       None      foul   \n",
       "2864     edible         convex    fibrous   green  moretones      null   \n",
       "4674  poisonous           flat     smooth   white  moretones      foul   \n",
       "1210     edible         convex     smooth   white       None      null   \n",
       "5381  poisonous           flat     smooth     red       None     spicy   \n",
       "4001  poisonous         convex     smooth   green       None  creosote   \n",
       "5168  poisonous         convex      scaly     red       None     spicy   \n",
       "14       edible         sunken    fibrous   green       None      null   \n",
       "2540     edible         convex      scaly   brown  moretones      null   \n",
       "\n",
       "     tipo_branquias separacion_branquias tamano_branquias color_branquias  \\\n",
       "ID                                                                          \n",
       "367            free                close            broad           black   \n",
       "5123           free                close           narrow            buff   \n",
       "2864           free                close            broad            pink   \n",
       "4674           free                close            broad            pink   \n",
       "1210           free              crowded            broad           black   \n",
       "5381           free                close           narrow            buff   \n",
       "4001           free                close           narrow            pink   \n",
       "5168           free                close           narrow            buff   \n",
       "14             free                close           narrow           black   \n",
       "2540           free                close            broad          purple   \n",
       "\n",
       "      ... superficie_tallo_abajo color_tallo_arriba color_tallo_abajo  \\\n",
       "ID    ...                                                               \n",
       "367   ...                 smooth              white             white   \n",
       "5123  ...                  silky              white              pink   \n",
       "2864  ...                 smooth               pink             white   \n",
       "4674  ...                fibrous              white             white   \n",
       "1210  ...                fibrous              white             white   \n",
       "5381  ...                  silky               pink             white   \n",
       "4001  ...                 smooth              white             white   \n",
       "5168  ...                  silky              white             white   \n",
       "14    ...                 smooth              white             white   \n",
       "2540  ...                 smooth               gray              gray   \n",
       "\n",
       "     tipo_velo color_velo anillo tipo_anillo color_impresion_esporas  \\\n",
       "ID                                                                     \n",
       "367    partial      white    one     pendant                   brown   \n",
       "5123   partial      white    one  evanescent                   white   \n",
       "2864   partial      white    one     pendant                   brown   \n",
       "4674   partial      white    one     pendant               chocolate   \n",
       "1210   partial      white    one  evanescent                   black   \n",
       "5381   partial      white    one  evanescent                   white   \n",
       "4001   partial      white    one     pendant                   black   \n",
       "5168   partial      white    one  evanescent                   white   \n",
       "14     partial      white    one     pendant                   brown   \n",
       "2540   partial      white    one     pendant                   brown   \n",
       "\n",
       "      poblacion  habitat  \n",
       "ID                        \n",
       "367   scattered  grasses  \n",
       "5123    several    paths  \n",
       "2864    several     wood  \n",
       "4674  scattered  grasses  \n",
       "1210   abundant  grasses  \n",
       "5381    several   leaves  \n",
       "4001    several     wood  \n",
       "5168    several    paths  \n",
       "14     solitary    urban  \n",
       "2540   solitary     wood  \n",
       "\n",
       "[10 rows x 23 columns]"
      ]
     },
     "execution_count": 134,
     "metadata": {},
     "output_type": "execute_result"
    }
   ],
   "source": [
    "# Convertir a DataFrame\n",
    "df_0 = pd.DataFrame(datos_extraidos.tolist()).set_index('ID')\n",
    "\n",
    "\n",
    "df_0.head(10)"
   ]
  },
  {
   "cell_type": "code",
   "execution_count": 135,
   "metadata": {},
   "outputs": [
    {
     "name": "stdout",
     "output_type": "stream",
     "text": [
      "<class 'pandas.core.frame.DataFrame'>\n",
      "Index: 4603 entries, 367 to 4790\n",
      "Data columns (total 23 columns):\n",
      " #   Column                   Non-Null Count  Dtype \n",
      "---  ------                   --------------  ----- \n",
      " 0   clase                    4603 non-null   object\n",
      " 1   forma_sombrero           4603 non-null   object\n",
      " 2   superficie               4603 non-null   object\n",
      " 3   color                    4603 non-null   object\n",
      " 4   moretones                2170 non-null   object\n",
      " 5   olor                     4603 non-null   object\n",
      " 6   tipo_branquias           4603 non-null   object\n",
      " 7   separacion_branquias     4603 non-null   object\n",
      " 8   tamano_branquias         4603 non-null   object\n",
      " 9   color_branquias          4603 non-null   object\n",
      " 10  forma_tallo              4603 non-null   object\n",
      " 11  raiz_tallo               4603 non-null   object\n",
      " 12  superficie_tallo_arriba  4603 non-null   object\n",
      " 13  superficie_tallo_abajo   4603 non-null   object\n",
      " 14  color_tallo_arriba       4603 non-null   object\n",
      " 15  color_tallo_abajo        4603 non-null   object\n",
      " 16  tipo_velo                4603 non-null   object\n",
      " 17  color_velo               4603 non-null   object\n",
      " 18  anillo                   4603 non-null   object\n",
      " 19  tipo_anillo              4603 non-null   object\n",
      " 20  color_impresion_esporas  4603 non-null   object\n",
      " 21  poblacion                4603 non-null   object\n",
      " 22  habitat                  4603 non-null   object\n",
      "dtypes: object(23)\n",
      "memory usage: 863.1+ KB\n"
     ]
    }
   ],
   "source": [
    "df_0.info()"
   ]
  },
  {
   "cell_type": "code",
   "execution_count": 136,
   "metadata": {},
   "outputs": [
    {
     "name": "stdout",
     "output_type": "stream",
     "text": [
      "clase                         0\n",
      "forma_sombrero                0\n",
      "superficie                    0\n",
      "color                         0\n",
      "moretones                  2433\n",
      "olor                          0\n",
      "tipo_branquias                0\n",
      "separacion_branquias          0\n",
      "tamano_branquias              0\n",
      "color_branquias               0\n",
      "forma_tallo                   0\n",
      "raiz_tallo                    0\n",
      "superficie_tallo_arriba       0\n",
      "superficie_tallo_abajo        0\n",
      "color_tallo_arriba            0\n",
      "color_tallo_abajo             0\n",
      "tipo_velo                     0\n",
      "color_velo                    0\n",
      "anillo                        0\n",
      "tipo_anillo                   0\n",
      "color_impresion_esporas       0\n",
      "poblacion                     0\n",
      "habitat                       0\n",
      "dtype: int64\n"
     ]
    }
   ],
   "source": [
    "print(df_0.isnull().sum())"
   ]
  },
  {
   "cell_type": "markdown",
   "metadata": {},
   "source": [
    "Ya observo problemas con la columna 'moretones'. Donde aparezca 'None', entendemos que no presenta moretones."
   ]
  },
  {
   "cell_type": "code",
   "execution_count": 137,
   "metadata": {},
   "outputs": [
    {
     "data": {
      "text/plain": [
       "array(['moretones', None], dtype=object)"
      ]
     },
     "execution_count": 137,
     "metadata": {},
     "output_type": "execute_result"
    }
   ],
   "source": [
    "df_0['moretones'].unique()"
   ]
  },
  {
   "cell_type": "code",
   "execution_count": 141,
   "metadata": {},
   "outputs": [
    {
     "data": {
      "text/plain": [
       "array(['one', 'two', 'null'], dtype=object)"
      ]
     },
     "execution_count": 141,
     "metadata": {},
     "output_type": "execute_result"
    }
   ],
   "source": [
    "df_0['anillo'].unique()"
   ]
  },
  {
   "cell_type": "markdown",
   "metadata": {},
   "source": [
    "Observo que 'clase' solo existe comestible o venenosa."
   ]
  },
  {
   "cell_type": "code",
   "execution_count": 138,
   "metadata": {},
   "outputs": [
    {
     "data": {
      "text/plain": [
       "array(['edible', 'poisonous'], dtype=object)"
      ]
     },
     "execution_count": 138,
     "metadata": {},
     "output_type": "execute_result"
    }
   ],
   "source": [
    "df_0['clase'].unique()"
   ]
  },
  {
   "cell_type": "code",
   "execution_count": 139,
   "metadata": {},
   "outputs": [
    {
     "data": {
      "image/png": "[encoded data removed]",
      "text/plain": [
       "<Figure size 800x600 with 1 Axes>"
      ]
     },
     "metadata": {},
     "output_type": "display_data"
    }
   ],
   "source": [
    "import matplotlib.pyplot as plt\n",
    "\n",
    "# Contamos la frecuencia de los valores en la columna 'clase'\n",
    "frecuencia_clase = df_resultado['clase'].value_counts()\n",
    "\n",
    "# Calculamos el porcentaje de cada clase con respecto al total\n",
    "porcentaje_clase = (frecuencia_clase / len(df_resultado)) * 100\n",
    "\n",
    "# Crear el histograma\n",
    "plt.figure(figsize=(8, 6))\n",
    "bars = plt.bar(frecuencia_clase.index, frecuencia_clase.values, color='skyblue')\n",
    "\n",
    "# Agregar títulos y etiquetas\n",
    "plt.title('Histograma de la columna \"clase\"', fontsize=14)\n",
    "plt.xlabel('Clase: comestible/ venenosa', fontsize=12)\n",
    "plt.ylabel('Frecuencia', fontsize=12)\n",
    "\n",
    "# Agregar el número total y porcentaje dentro de cada barra\n",
    "for bar, count, percentage in zip(bars, frecuencia_clase.values, porcentaje_clase):\n",
    "    yval = bar.get_height()\n",
    "    plt.text(bar.get_x() + bar.get_width()/2, yval + 10, \n",
    "             f'{count} ({percentage:.1f}%)', ha='center', va='bottom', fontsize=10)\n",
    "\n",
    "# Mostrar la gráfica\n",
    "plt.show()\n"
   ]
  },
  {
   "cell_type": "markdown",
   "metadata": {},
   "source": [
    "- Se trata de un problema de clasificación binaria.\n",
    "- Vamos a trabajar con modelos supervisados, dado que conocemos la target a predecir, pero nos apoyaremos antes en modelos no-supervisados para clusterizar grupos con características similares, que nos puedan ayudar. \n",
    "- Observo un desbalance importante en la target a predecir, lo cual habremos de considerar y cuidar."
   ]
  },
  {
   "cell_type": "markdown",
   "metadata": {},
   "source": [
    "Voy a convertir todos mis valores a numéricos"
   ]
  },
  {
   "cell_type": "code",
   "execution_count": 147,
   "metadata": {},
   "outputs": [],
   "source": [
    "# función conversión a numerícos (ayuda Claude)\n",
    "def convert_to_numeric(df):\n",
    "    \"\"\"\n",
    "    Convierte todas las columnas categóricas a numéricas usando MultiLabelBinarizer\n",
    "    \n",
    "    Args:\n",
    "        df: DataFrame original con columnas tipo 'object'\n",
    "    \n",
    "    Returns:\n",
    "        DataFrame con todas las columnas convertidas a numéricas\n",
    "    \"\"\"\n",
    "    # Crear una copia del DataFrame\n",
    "    df_numeric = df_0.copy()\n",
    "    \n",
    "    # Para cada columna en el DataFrame\n",
    "    for column in df_numeric.columns:\n",
    "        # Convertir cada valor a una lista para MultiLabelBinarizer\n",
    "        values = [[val] for val in df_numeric[column]]\n",
    "        \n",
    "        # Crear y ajustar el MultiLabelBinarizer\n",
    "        mlb = MultiLabelBinarizer()\n",
    "        # Transformar la columna\n",
    "        encoded = mlb.fit_transform(values)\n",
    "        \n",
    "        # Crear nombres para las nuevas columnas\n",
    "        new_columns = [f\"{column}_{class_name}\" for class_name in mlb.classes_]\n",
    "        \n",
    "        # Convertir a DataFrame\n",
    "        encoded_df = pd.DataFrame(encoded, columns=new_columns, index=df.index)\n",
    "        \n",
    "        # Eliminar la columna original y añadir las nuevas\n",
    "        df_numeric = df_numeric.drop(column, axis=1)\n",
    "        df_numeric = pd.concat([df_numeric, encoded_df], axis=1)\n",
    "    \n",
    "    return df_numeric\n",
    "\n",
    "# Ejemplo de uso:\n",
    "# df_numeric = convert_to_numeric(df)"
   ]
  }
 ],
 "metadata": {
  "kernelspec": {
   "display_name": ".venv",
   "language": "python",
   "name": "python3"
  },
  "language_info": {
   "codemirror_mode": {
    "name": "ipython",
    "version": 3
   },
   "file_extension": ".py",
   "mimetype": "text/x-python",
   "name": "python",
   "nbconvert_exporter": "python",
   "pygments_lexer": "ipython3",
   "version": "3.11.9"
  }
 },
 "nbformat": 4,
 "nbformat_minor": 2
}
