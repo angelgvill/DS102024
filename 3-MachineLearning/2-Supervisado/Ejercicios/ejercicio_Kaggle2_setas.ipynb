{
 "cells": [
  {
   "cell_type": "markdown",
   "metadata": {},
   "source": [
    "# Setas para Ronald"
   ]
  },
  {
   "cell_type": "markdown",
   "metadata": {},
   "source": [
    "![setas en el bosque](data/setas_ilustracion.jpg)"
   ]
  },
  {
   "cell_type": "markdown",
   "metadata": {},
   "source": [
    "## Definición del problema"
   ]
  },
  {
   "cell_type": "markdown",
   "metadata": {},
   "source": [
    "Se trata de ayudar a Ronald con un modelo que le prediga perfectamente cuales setas on venenosa y cuál no. "
   ]
  },
  {
   "cell_type": "markdown",
   "metadata": {},
   "source": [
    "## Recolección y exploración de Datos"
   ]
  },
  {
   "cell_type": "markdown",
   "metadata": {},
   "source": [
    "Lo primero de todo, cargamos todas las librerías necesarias. "
   ]
  },
  {
   "cell_type": "code",
   "execution_count": null,
   "metadata": {},
   "outputs": [],
   "source": [
    "import pandas as pd\n",
    "import numpy as np\n",
    "\n",
    "import sys\n",
    "import os\n",
    "import re\n",
    "\n",
    "import matplotlib.pyplot as plt\n",
    "import statsmodels.api as sm\n",
    "import seaborn as sns\n",
    "\n",
    "from sklearn.preprocessing import OrdinalEncoder, LabelEncoder, LabelBinarizer, MultiLabelBinarizer, OneHotEncoder "
   ]
  },
  {
   "cell_type": "code",
   "execution_count": null,
   "metadata": {},
   "outputs": [],
   "source": [
    "import snappy\n",
    "print(snappy.__version__)"
   ]
  },
  {
   "cell_type": "code",
   "execution_count": null,
   "metadata": {},
   "outputs": [],
   "source": [
    "# contenido = snappy.decompress(open(\"data/train.snappy\", \"rb\").read()) if os.path.exists(\"data/train.snappy\") else \"Archivo no encontrado\""
   ]
  },
  {
   "cell_type": "code",
   "execution_count": null,
   "metadata": {},
   "outputs": [],
   "source": [
    "pd.read_parquet('data/raw/train.snappy')"
   ]
  },
  {
   "cell_type": "code",
   "execution_count": null,
   "metadata": {},
   "outputs": [],
   "source": [
    "pd.set_option('display.max_colwidth', None)\n",
    "pd.read_parquet('data/raw/train.snappy').iloc[5:9]"
   ]
  },
  {
   "cell_type": "code",
   "execution_count": null,
   "metadata": {},
   "outputs": [],
   "source": [
    "pd.read_parquet('data/raw/train.snappy').iloc[0]"
   ]
  },
  {
   "cell_type": "code",
   "execution_count": null,
   "metadata": {},
   "outputs": [],
   "source": [
    "datos = pd.read_parquet('data/raw/train.snappy')"
   ]
  },
  {
   "cell_type": "code",
   "execution_count": null,
   "metadata": {},
   "outputs": [],
   "source": [
    "#voy a ir alimentando la función con filas de prueba para ver si toma bien los valores\n",
    "fila= datos.iloc[0:3]\n",
    "fila"
   ]
  },
  {
   "cell_type": "code",
   "execution_count": null,
   "metadata": {},
   "outputs": [],
   "source": [
    "type(fila)"
   ]
  },
  {
   "cell_type": "code",
   "execution_count": null,
   "metadata": {},
   "outputs": [],
   "source": [
    "#prueba extracción Regex de filas de prueba (ayuda Gemini)\n",
    "import re\n",
    "\n",
    "#fila_n = \"**La observación** 367 describe una seta de **clase** edible. Tiene una **forma de sombrero** bell con una **superficie** scaly **y un color** yellow. **Presenta** moretones y tiene un **olor** almond. **Las branquias son de tipo** free con una **separación** close **y un tamaño** broad. **El color de las branquias es** black. **La forma del tallo** es enlarging y la **raíz del tallo** es club. **La superficie del tallo por encima del anillo** es smooth y **por debajo del anillo** es smooth. El **color del tallo por encima del anillo** es white y **por debajo del anillo** es white. **El tipo de velo** es partial con un **color de velo** white. Tiene one **anillo(s)**, **de tipo** pendant y **el color de la impresión de esporas** es brown. Se encuentra en una **población** scattered y su **hábitat es** grasses.\"\n",
    "\n",
    "fila_n = datos['descripcion'].iloc[3]\n",
    "\n",
    "diccionario_fila_n = {\n",
    "    'ID': re.search(r'\\*\\*La observación\\*\\*(.*?) describe', fila_n).group(1).strip() if re.search(r'\\*\\*La observación\\*\\*(.*?) describe', fila_n) else None,\n",
    "    'clase': re.search(r'\\*\\*clase\\*\\*(.*?)\\.', fila_n).group(1).strip() if re.search(r'\\*\\*clase\\*\\*(.*?)\\.', fila_n) else None,\n",
    "    'forma_sombrero': re.search(r'\\*\\*forma de sombrero\\*\\* (.*?) ', fila_n).group(1).strip() if re.search(r'\\*\\*forma de sombrero\\*\\* (.*?) ', fila_n) else None,\n",
    "    'superficie': re.search(r'\\*\\*superficie\\*\\*(.*?) \\*\\*y', fila_n).group(1).strip() if re.search(r'\\*\\*superficie\\*\\*(.*?) \\*\\*y', fila_n) else None,\n",
    "    'color': re.search(r'\\*\\*y un color\\*\\*(.*?)\\.', fila_n).group(1).strip() if re.search(r'\\*\\*y un color\\*\\*(.*?)\\.', fila_n) else None,\n",
    "   \n",
    "    'moretones': re.search(r'\\*\\*Presenta\\*\\*(.*?) y', fila_n).group(1).strip() if re.search(r'\\*\\*Presenta\\*\\*(.*?) y', fila_n) else None,\n",
    "   \n",
    "    'olor': re.search(r'\\*\\*olor\\*\\*(.*?)\\.', fila_n).group(1).strip() if re.search(r'\\*\\*olor\\*\\*(.*?)\\.', fila_n) else None,\n",
    "    'tipo_branquias': re.search(r'\\*\\*Las branquias son de tipo\\*\\*(.*?) con', fila_n).group(1).strip() if re.search(r'\\*\\*Las branquias son de tipo\\*\\*(.*?) con', fila_n) else None,\n",
    "    'separacion_branquias': re.search(r'\\*\\*separación\\*\\*(.*?) \\*\\*y', fila_n).group(1).strip() if re.search(r'\\*\\*separación\\*\\*(.*?) \\*\\*y', fila_n) else None,\n",
    "    'tamano_branquias': re.search(r'\\*\\*y un tamaño\\*\\*(.*?)\\.', fila_n).group(1).strip() if re.search(r'\\*\\*y un tamaño\\*\\*(.*?)\\.', fila_n) else None,\n",
    "    'color_branquias': re.search(r'\\*\\*El color de las branquias es\\*\\*(.*?)\\.', fila_n).group(1).strip() if re.search(r'\\*\\*El color de las branquias es\\*\\*(.*?)\\.', fila_n) else None,\n",
    "    'forma_tallo': re.search(r'\\*\\*La forma del tallo\\*\\* (?:es) (.*?) y', fila_n).group(1).strip() if re.search(r'\\*\\*La forma del tallo\\*\\* (?:es) (.*?) y', fila_n) else None,\n",
    "    'raiz_tallo': re.search(r'\\*\\*raíz del tallo\\*\\* (?:es) (.*?)\\.', fila_n).group(1).strip() if re.search(r'\\*\\*raíz del tallo\\*\\* (?:es) (.*?)\\.', fila_n) else None,\n",
    "    'superficie_tallo_arriba': re.search(r'\\*\\*La superficie del tallo por encima del anillo\\*\\* (?:es) (.*?) ', fila_n).group(1).strip() if re.search(r'\\*\\*La superficie del tallo por encima del anillo\\*\\* (?:es) (.*?) ', fila_n) else None,\n",
    "    'superficie_tallo_abajo': re.search(r'\\*\\*y por debajo del anillo\\*\\* (?:es) (.*?)\\.', fila_n).group(1).strip() if re.search(r'\\*\\*y por debajo del anillo\\*\\* (?:es) (.*?)\\.', fila_n) else None,\n",
    "    'color_tallo_arriba': re.search(r'\\*\\*color del tallo por encima del anillo\\*\\* (?:es) (.*?) ', fila_n).group(1).strip() if re.search(r'\\*\\*color del tallo por encima del anillo\\*\\* (?:es) (.*?) ', fila_n) else None,\n",
    "   \n",
    "    'color_tallo_abajo': re.findall(r'\\*\\*y por debajo del anillo\\*\\* (?:es) (.*?)\\.', fila_n)[1] if re.findall(r'\\*\\*y por debajo del anillo\\*\\* (?:es) (.*?)\\.', fila_n)[1] else None,\n",
    "    \n",
    "    'tipo_velo': re.search(r'\\*\\*El tipo de velo\\*\\* (?:es) (.*?) con', fila_n).group(1).strip() if re.search(r'\\*\\*El tipo de velo\\*\\* (?:es) (.*?) con', fila_n) else None,\n",
    "    'color_velo': re.search(r'\\*\\*color de velo\\*\\*(.*?)\\.', fila_n).group(1).strip() if re.search(r'\\*\\*color de velo\\*\\*(.*?)\\.', fila_n) else None,\n",
    "    \n",
    "    'anillo': re.search(r'\\.?\\s*Tiene ([^.]*?) \\*\\*anillo\\(s\\)\\*\\*', fila_n).group(1).strip() if re.search(r'\\.?\\s*Tiene ([^.]*?) \\*\\*anillo\\(s\\)\\*\\*', fila_n) else None,\n",
    "    'tipo_anillo': re.search(r'\\*\\*de tipo\\*\\* (.*?) ', fila_n).group(1).strip() if re.search(r'\\*\\*de tipo\\*\\* (.*?) ', fila_n) else None,\n",
    "    'color_impresion_esporas': re.search(r'\\*\\*y el color de la impresión de esporas\\*\\* (?:es) (.*?)\\.', fila_n).group(1).strip() if re.search(r'\\*\\*y el color de la impresión de esporas\\*\\* (?:es)(.*?)\\.', fila_n) else None,\n",
    "    'poblacion': re.search(r'\\*\\*población\\*\\*(.*?) y', fila_n).group(1).strip() if re.search(r'\\*\\*población\\*\\*(.*?) y', fila_n) else None,\n",
    "    'habitat': re.search(r'\\*\\*hábitat es\\*\\*(.*?)\\.', fila_n).group(1).strip() if re.search(r'\\*\\*hábitat es\\*\\*(.*?)\\.', fila_n) else None\n",
    "}\n",
    "\n",
    "print(diccionario_fila_n)"
   ]
  },
  {
   "cell_type": "code",
   "execution_count": null,
   "metadata": {},
   "outputs": [],
   "source": [
    "fila"
   ]
  },
  {
   "cell_type": "code",
   "execution_count": null,
   "metadata": {},
   "outputs": [],
   "source": [
    "re.findall(r'\\*\\*y por debajo del anillo\\*\\* (?:es) (.*?)\\.', fila_n)[1]"
   ]
  },
  {
   "cell_type": "code",
   "execution_count": null,
   "metadata": {},
   "outputs": [],
   "source": [
    "re.search(r'(?:^|\\. )Tiene (.*?) \\*\\*anillo\\(s\\)\\*\\*,', fila_n)"
   ]
  },
  {
   "cell_type": "code",
   "execution_count": null,
   "metadata": {},
   "outputs": [],
   "source": [
    "re.search(r'\\*\\*clase\\*\\*(.*?)\\. Tiene', fila_n)"
   ]
  },
  {
   "cell_type": "markdown",
   "metadata": {},
   "source": [
    "Ahora construyo dicho diccionario para todas las filas u observaciones, recorriendo mis datos con una función."
   ]
  },
  {
   "cell_type": "code",
   "execution_count": null,
   "metadata": {},
   "outputs": [],
   "source": [
    "\n",
    "def extraer_atributos(fila_n):\n",
    "    \"\"\"Extrae los atributos de una fila de descripción usando regex.\"\"\"\n",
    "    \n",
    "    return {\n",
    "    'ID': re.search(r'\\*\\*La observación\\*\\*(.*?) describe', fila_n).group(1).strip() if re.search(r'\\*\\*La observación\\*\\*(.*?) describe', fila_n) else None,\n",
    "    'clase': re.search(r'\\*\\*clase\\*\\*(.*?)\\.', fila_n).group(1).strip() if re.search(r'\\*\\*clase\\*\\*(.*?)\\.', fila_n) else None,\n",
    "    'forma_sombrero': re.search(r'\\*\\*forma de sombrero\\*\\* (.*?) ', fila_n).group(1).strip() if re.search(r'\\*\\*forma de sombrero\\*\\* (.*?) ', fila_n) else None,\n",
    "    'superficie': re.search(r'\\*\\*superficie\\*\\*(.*?) \\*\\*y', fila_n).group(1).strip() if re.search(r'\\*\\*superficie\\*\\*(.*?) \\*\\*y', fila_n) else None,\n",
    "    'color': re.search(r'\\*\\*y un color\\*\\*(.*?)\\.', fila_n).group(1).strip() if re.search(r'\\*\\*y un color\\*\\*(.*?)\\.', fila_n) else None,\n",
    "    'moretones': re.search(r'\\*\\*Presenta\\*\\*(.*?) y', fila_n).group(1).strip() if re.search(r'\\*\\*Presenta\\*\\*(.*?) y', fila_n) else None,\n",
    "    'olor': re.search(r'\\*\\*olor\\*\\*(.*?)\\.', fila_n).group(1).strip() if re.search(r'\\*\\*olor\\*\\*(.*?)\\.', fila_n) else None,\n",
    "    'tipo_branquias': re.search(r'\\*\\*Las branquias son de tipo\\*\\*(.*?) con', fila_n).group(1).strip() if re.search(r'\\*\\*Las branquias son de tipo\\*\\*(.*?) con', fila_n) else None,\n",
    "    'separacion_branquias': re.search(r'\\*\\*separación\\*\\*(.*?) \\*\\*y', fila_n).group(1).strip() if re.search(r'\\*\\*separación\\*\\*(.*?) \\*\\*y', fila_n) else None,\n",
    "    'tamano_branquias': re.search(r'\\*\\*y un tamaño\\*\\*(.*?)\\.', fila_n).group(1).strip() if re.search(r'\\*\\*y un tamaño\\*\\*(.*?)\\.', fila_n) else None,\n",
    "    'color_branquias': re.search(r'\\*\\*El color de las branquias es\\*\\*(.*?)\\.', fila_n).group(1).strip() if re.search(r'\\*\\*El color de las branquias es\\*\\*(.*?)\\.', fila_n) else None,\n",
    "    'forma_tallo': re.search(r'\\*\\*La forma del tallo\\*\\* (?:es) (.*?) y', fila_n).group(1).strip() if re.search(r'\\*\\*La forma del tallo\\*\\* (?:es) (.*?) y', fila_n) else None,\n",
    "    'raiz_tallo': re.search(r'\\*\\*raíz del tallo\\*\\* (?:es) (.*?)\\.', fila_n).group(1).strip() if re.search(r'\\*\\*raíz del tallo\\*\\* (?:es) (.*?)\\.', fila_n) else None,\n",
    "    'superficie_tallo_arriba': re.search(r'\\*\\*La superficie del tallo por encima del anillo\\*\\* (?:es) (.*?) ', fila_n).group(1).strip() if re.search(r'\\*\\*La superficie del tallo por encima del anillo\\*\\* (?:es) (.*?) ', fila_n) else None,\n",
    "    'superficie_tallo_abajo': re.search(r'\\*\\*y por debajo del anillo\\*\\* (?:es) (.*?)\\.', fila_n).group(1).strip() if re.search(r'\\*\\*y por debajo del anillo\\*\\* (?:es) (.*?)\\.', fila_n) else None,\n",
    "    'color_tallo_arriba': re.search(r'\\*\\*color del tallo por encima del anillo\\*\\* (?:es) (.*?) ', fila_n).group(1).strip() if re.search(r'\\*\\*color del tallo por encima del anillo\\*\\* (?:es) (.*?) ', fila_n) else None,\n",
    "    'color_tallo_abajo': re.findall(r'\\*\\*y por debajo del anillo\\*\\* (?:es) (.*?)\\.', fila_n)[1] if re.findall(r'\\*\\*y por debajo del anillo\\*\\* (?:es) (.*?)\\.', fila_n)[1] else None,\n",
    "    'tipo_velo': re.search(r'\\*\\*El tipo de velo\\*\\* (?:es) (.*?) con', fila_n).group(1).strip() if re.search(r'\\*\\*El tipo de velo\\*\\* (?:es) (.*?) con', fila_n) else None,\n",
    "    'color_velo': re.search(r'\\*\\*color de velo\\*\\*(.*?)\\.', fila_n).group(1).strip() if re.search(r'\\*\\*color de velo\\*\\*(.*?)\\.', fila_n) else None,\n",
    "    'anillo': re.search(r'\\.?\\s*Tiene ([^.]*?) \\*\\*anillo\\(s\\)\\*\\*', fila_n).group(1).strip() if re.search(r'\\.?\\s*Tiene ([^.]*?) \\*\\*anillo\\(s\\)\\*\\*', fila_n) else None,\n",
    "    'tipo_anillo': re.search(r'\\*\\*de tipo\\*\\* (.*?) ', fila_n).group(1).strip() if re.search(r'\\*\\*de tipo\\*\\* (.*?) ', fila_n) else None,\n",
    "    'color_impresion_esporas': re.search(r'\\*\\*y el color de la impresión de esporas\\*\\* (?:es) (.*?)\\.', fila_n).group(1).strip() if re.search(r'\\*\\*y el color de la impresión de esporas\\*\\* (?:es)(.*?)\\.', fila_n) else None,\n",
    "    'poblacion': re.search(r'\\*\\*población\\*\\*(.*?) y', fila_n).group(1).strip() if re.search(r'\\*\\*población\\*\\*(.*?) y', fila_n) else None,\n",
    "    'habitat': re.search(r'\\*\\*hábitat es\\*\\*(.*?)\\.', fila_n).group(1).strip() if re.search(r'\\*\\*hábitat es\\*\\*(.*?)\\.', fila_n) else None\n",
    "}\n",
    "\n",
    "\n",
    "# Aplicar la función a todas las filas\n",
    "datos_extraidos = datos['descripcion'].apply(extraer_atributos)\n",
    "\n"
   ]
  },
  {
   "cell_type": "code",
   "execution_count": null,
   "metadata": {},
   "outputs": [],
   "source": [
    "datos_extraidos"
   ]
  },
  {
   "cell_type": "code",
   "execution_count": null,
   "metadata": {},
   "outputs": [],
   "source": [
    "# Convertir a DataFrame\n",
    "df_0 = pd.DataFrame(datos_extraidos.tolist()).set_index('ID')\n",
    "\n",
    "\n",
    "df_0.head(10)"
   ]
  },
  {
   "cell_type": "code",
   "execution_count": null,
   "metadata": {},
   "outputs": [],
   "source": [
    "df_0.info()"
   ]
  },
  {
   "cell_type": "code",
   "execution_count": null,
   "metadata": {},
   "outputs": [],
   "source": [
    "print(df_0.isnull().sum())"
   ]
  },
  {
   "cell_type": "markdown",
   "metadata": {},
   "source": [
    "Ya observo problemas con la columna 'moretones'. Donde aparezca 'None', entendemos que no presenta moretones."
   ]
  },
  {
   "cell_type": "code",
   "execution_count": null,
   "metadata": {},
   "outputs": [],
   "source": [
    "df_0['moretones'].unique()"
   ]
  },
  {
   "cell_type": "code",
   "execution_count": null,
   "metadata": {},
   "outputs": [],
   "source": [
    "df_0['anillo'].unique()"
   ]
  },
  {
   "cell_type": "markdown",
   "metadata": {},
   "source": [
    "Veamos qué columnas solamente tienen dos valores, para estar atento y poder quedarme solo con una columna y no aumentar innecesariamente el numero de columnas."
   ]
  },
  {
   "cell_type": "code",
   "execution_count": null,
   "metadata": {},
   "outputs": [],
   "source": [
    "# Encontrar columnas con exactamente dos valores únicos\n",
    "binary_columns = []\n",
    "for column in df_0.columns:\n",
    "    unique_values = df_0[column].nunique()\n",
    "    if unique_values == 2:\n",
    "        print(f\"Columna: {column}\")\n",
    "        print(f\"Valores únicos: {df_0[column].unique()}\")\n",
    "        print(\"---\")\n",
    "        binary_columns.append(column)\n",
    "\n",
    "print(\"\\nTotal de columnas binarias:\", len(binary_columns))\n",
    "print(\"Lista de columnas binarias:\", binary_columns)"
   ]
  },
  {
   "cell_type": "markdown",
   "metadata": {},
   "source": [
    "Antes de proceder a convertir en numéricos y para entender mejor los valores que aparecen en cada columna, voy a obtener sus valores únicos. "
   ]
  },
  {
   "cell_type": "code",
   "execution_count": null,
   "metadata": {},
   "outputs": [],
   "source": [
    "# Obtener valores únicos por cada columna\n",
    "for column in df_0.columns:\n",
    "    unique_values = df_0[column].unique()\n",
    "    unique_values_str = \", \".join(map(str, unique_values))  # Convertir valores a string para impresión\n",
    "    print(f\"Columna: {column}, Valores únicos: {unique_values_str}\")\n",
    "    print(\"---\")"
   ]
  },
  {
   "cell_type": "markdown",
   "metadata": {},
   "source": [
    "Observo algún valor extraño que investigo por si hay algún error."
   ]
  },
  {
   "cell_type": "code",
   "execution_count": null,
   "metadata": {},
   "outputs": [],
   "source": [
    "df_c = df_0[df_0['forma_sombrero'] == 'c']\n",
    "df_c\n"
   ]
  },
  {
   "cell_type": "code",
   "execution_count": null,
   "metadata": {},
   "outputs": [],
   "source": [
    "# Filtrar filas donde la columna 'descripcion' contiene '4711' o '6246'\n",
    "datos_filtrados = datos[datos['descripcion'].str.contains('4711|6246', regex=True, na=False)]\n",
    "datos_filtrados\n"
   ]
  },
  {
   "cell_type": "markdown",
   "metadata": {},
   "source": [
    "Observo que esa rareza del valor 'forma_sombrero' no es un error sino que debe ser en forma de C"
   ]
  },
  {
   "cell_type": "markdown",
   "metadata": {},
   "source": [
    "Procede considerar lo siguiente:\n",
    "- clase (target), binaria: edible, poisonous\n",
    "\n",
    "- forma_sombrero, Valores únicos: bell, convex, flat, sunken, knobbed, c. Columnas binarias.\n",
    "- superficie, Valores únicos: scaly, smooth, fibrous. Columnas binarias.\n",
    "- color, Valores únicos: yellow, red, green, white, brown, pink, cinnamon, buff, purple. Columnas binarias.\n",
    "- color_branquias, Valores únicos: black, buff, pink, purple, chocolate, white, brown, gray, red, orange, yellow, green. Columnas binarias.\n",
    "- superficie_tallo_arriba, Valores únicos: smooth, silky, fibrous, scaly. Columnas binarias.\n",
    "- superficie_tallo_abajo, Valores únicos: smooth, silky, fibrous, scaly. Columnas binarias.\n",
    "- color_tallo_arriba, Valores únicos: white, pink, gray, red, buff, brown, orange, cinnamon, yellow. Columnas binarias.\n",
    "- color_tallo_abajo, Valores únicos: white, pink, gray, buff, brown, red, orange, cinnamon, yellow. Columnas binarias.\n",
    "- color_velo, Valores únicos: white, orange, brown, yellow. Columnas binarias.\n",
    "- color_impresion_esporas, Valores únicos: brown, white, chocolate, black, purple, buff, yellow, green, orange. Columnas binarias.\n",
    "- habitat, Valores únicos: grasses, paths, wood, leaves, urban, waste, meadows. Columnas binarias.\n",
    "\n",
    "- olor, Valores únicos: almond, foul, null, spicy, creosote, anise, fishy, pungent, musty. Columnas binarias. Elimino null.\n",
    "- raiz_tallo, Valores únicos: club, ?, bulbous, equal, rooted. Columnas binarias. Elimino ?.\n",
    "- tipo_anillo, Valores únicos: pendant, evanescent, large, flaring, null. Columnas binarias. Elimino null.\n",
    "- moretones, Valores únicos: moretones, None. Columna binaria. Elimino None.\n",
    "\n",
    "- tipo_branquias, Valores únicos: free, attached. Columna binaria, descartando una.\n",
    "- separacion_branquias, Valores únicos: close, crowded. Columna binaria, descartando una.\n",
    "- tamano_branquias, Valores únicos: broad, narrow. Columna binaria, descartando una.\n",
    "- forma_tallo, Valores únicos: enlarging, tapering. Columna binaria, descartando una. \n",
    "\n",
    "- tipo_velo, Valores únicos: partial. Columna binaria.\n",
    "\n",
    "- anillo, Valores únicos: one, two, null. Columna ordinal, usaré OrdinalEncoder donde null será 0.\n",
    "\n",
    "- poblacion, Valores únicos: scattered=1, several=2, abundant=5, solitary=0, clustered=3, numerous=4, usaré OrdinalEncoder "
   ]
  },
  {
   "cell_type": "markdown",
   "metadata": {},
   "source": [
    "Respecto a la clase, target del objetivo, observo que solo existe comestible o venenosa, como parecía lógico (se ha omitido clase 'tóxica'."
   ]
  },
  {
   "cell_type": "code",
   "execution_count": null,
   "metadata": {},
   "outputs": [],
   "source": [
    "df_0['clase'].unique()"
   ]
  },
  {
   "cell_type": "code",
   "execution_count": null,
   "metadata": {},
   "outputs": [],
   "source": [
    "import matplotlib.pyplot as plt\n",
    "\n",
    "# Contamos la frecuencia de los valores en la columna 'clase'\n",
    "frecuencia_clase = df_0['clase'].value_counts()\n",
    "\n",
    "# Calculamos el porcentaje de cada clase con respecto al total\n",
    "porcentaje_clase = (frecuencia_clase / len(df_0)) * 100\n",
    "\n",
    "# Crear el histograma\n",
    "plt.figure(figsize=(8, 6))\n",
    "bars = plt.bar(frecuencia_clase.index, frecuencia_clase.values, color='skyblue')\n",
    "\n",
    "# Agregar títulos y etiquetas\n",
    "plt.title('Histograma de la columna \"clase\"', fontsize=14)\n",
    "plt.xlabel('Clase: comestible/ venenosa', fontsize=12)\n",
    "plt.ylabel('Frecuencia', fontsize=12)\n",
    "\n",
    "# Agregar el número total y porcentaje dentro de cada barra\n",
    "for bar, count, percentage in zip(bars, frecuencia_clase.values, porcentaje_clase):\n",
    "    yval = bar.get_height()\n",
    "    plt.text(bar.get_x() + bar.get_width()/2, yval + 10, \n",
    "             f'{count} ({percentage:.1f}%)', ha='center', va='bottom', fontsize=10)\n",
    "\n",
    "# Mostrar la gráfica\n",
    "plt.show()\n"
   ]
  },
  {
   "cell_type": "markdown",
   "metadata": {},
   "source": [
    "- Se trata de un problema de clasificación binaria.\n",
    "- Vamos a trabajar con modelos supervisados, dado que conocemos la target a predecir, pero nos apoyaremos antes en modelos no-supervisados para clusterizar grupos con características similares, que nos puedan ayudar. \n",
    "- Observo un desbalance importante en la target a predecir, lo cual habremos de considerar y cuidar."
   ]
  },
  {
   "cell_type": "markdown",
   "metadata": {},
   "source": [
    "## Preprocesamiento de Datos Inicial"
   ]
  },
  {
   "cell_type": "markdown",
   "metadata": {},
   "source": [
    "Voy a convertir todos mis valores a numéricos"
   ]
  },
  {
   "cell_type": "code",
   "execution_count": null,
   "metadata": {},
   "outputs": [],
   "source": [
    "# función conversión a numerícos (ayuda Claude)\n",
    "def convert_to_numeric(df):\n",
    "    \"\"\"\n",
    "    Convierte todas las columnas categóricas a numéricas usando MultiLabelBinarizer\n",
    "    manejando adecuadamente los valores nulos\n",
    "    Args:\n",
    "        df: DataFrame original con columnas tipo 'object'\n",
    "    Returns:\n",
    "        DataFrame con todas las columnas convertidas a numéricas\n",
    "    \"\"\"\n",
    "    # Crear una copia del DataFrame\n",
    "    df_numeric = df.copy()\n",
    "    \n",
    "    # Para cada columna en el DataFrame\n",
    "    for column in df_numeric.columns:\n",
    "        # Reemplazar valores nulos con 'missing'\n",
    "        df_numeric[column] = df_numeric[column].fillna('missing')\n",
    "        \n",
    "        # Convertir cada valor a una lista para MultiLabelBinarizer\n",
    "        values = [[val] for val in df_numeric[column]]\n",
    "        \n",
    "        # Crear y ajustar el MultiLabelBinarizer\n",
    "        mlb = MultiLabelBinarizer()\n",
    "        # Transformar la columna\n",
    "        encoded = mlb.fit_transform(values)\n",
    "        \n",
    "        # Crear nombres para las nuevas columnas\n",
    "        new_columns = [f\"{column}_{class_name}\" for class_name in mlb.classes_]\n",
    "        \n",
    "        # Convertir a DataFrame\n",
    "        encoded_df = pd.DataFrame(encoded, columns=new_columns, index=df.index)\n",
    "        \n",
    "        # Eliminar la columna original y añadir las nuevas\n",
    "        df_numeric = df_numeric.drop(column, axis=1)\n",
    "        df_numeric = pd.concat([df_numeric, encoded_df], axis=1)\n",
    "    \n",
    "    return df_numeric"
   ]
  },
  {
   "cell_type": "code",
   "execution_count": null,
   "metadata": {},
   "outputs": [],
   "source": [
    "df_numeric = convert_to_numeric(df_0)\n",
    "df_numeric"
   ]
  },
  {
   "cell_type": "markdown",
   "metadata": {},
   "source": [
    "Antes de proseguir, voy a ver eliminar algunas columnas según mi análisis, a la vez que convertir algunas en numero ordinal para tener un conjunto de datos más compacto y adecuado."
   ]
  },
  {
   "cell_type": "code",
   "execution_count": null,
   "metadata": {},
   "outputs": [],
   "source": [
    "def convert_to_numeric_better(df):\n",
    "    df_numeric2 = df.copy()  # Copia para no modificar el original\n",
    "    \n",
    "    \n",
    "    # Para las columnas específicas, usamos OrdinalEncoder\n",
    "    encoder_anillo = OrdinalEncoder(categories=[['null', 'one', 'two']])\n",
    "    \n",
    "    # Agregar las categorías que ya existen en los datos\n",
    "    encoder_poblacion = OrdinalEncoder(categories=[['solitary', 'scattered', 'several', 'clustered', 'numerous', 'abundant']])\n",
    "    \n",
    "    # Convertir 'anillo' con OrdinalEncoder\n",
    "    df_numeric2['anillo'] = encoder_anillo.fit_transform(df_numeric2[['anillo']])\n",
    "    \n",
    "    # Convertir 'población' con OrdinalEncoder\n",
    "    df_numeric2['poblacion'] = encoder_poblacion.fit_transform(df_numeric2[['poblacion']])\n",
    "    \n",
    "    # Para el resto de las columnas, usamos MultiLabelBinarizer\n",
    "    mlb = MultiLabelBinarizer()\n",
    "    for column in df_numeric2.columns:\n",
    "        if column not in ['anillo', 'poblacion']:  # Evitar las columnas que ya hemos procesado\n",
    "            # Convertimos a lista de etiquetas\n",
    "            df_numeric2[column] = df_numeric2[column].apply(lambda x: [x] if isinstance(x, str) else [])\n",
    "\n",
    "            # Aplicamos el MultiLabelBinarizer\n",
    "            binarized = mlb.fit_transform(df_numeric2[column])\n",
    "            labels = mlb.classes_\n",
    "            \n",
    "            # Creamos nuevas columnas para las etiquetas\n",
    "            for idx, label in enumerate(labels):\n",
    "                df_numeric2[f'{column}_{label}'] = binarized[:, idx]\n",
    "            \n",
    "            # Eliminamos la columna original\n",
    "            df_numeric2.drop(columns=[column], inplace=True)\n",
    "\n",
    "    # Eliminamos las columnas cuyo nombre contenga 'null', 'None' o '?'\n",
    "    columns_to_drop = [col for col in df_numeric2.columns if 'null' in col or 'None' in col or '?' in col]\n",
    "    df_numeric2.drop(columns=columns_to_drop, inplace=True)\n",
    "    \n",
    "    return df_numeric2\n"
   ]
  },
  {
   "cell_type": "code",
   "execution_count": null,
   "metadata": {},
   "outputs": [],
   "source": [
    "df_numeric2 = convert_to_numeric_better (df_0)\n",
    "df_numeric2.head()"
   ]
  },
  {
   "cell_type": "code",
   "execution_count": null,
   "metadata": {},
   "outputs": [],
   "source": [
    "columnas = df_numeric2.columns.tolist()\n",
    "columnas"
   ]
  },
  {
   "cell_type": "markdown",
   "metadata": {},
   "source": [
    "Voy a hacer un ajuste en la target, de acuerdo a lo solicitado en la Competición de Kaggle. \n"
   ]
  },
  {
   "cell_type": "code",
   "execution_count": null,
   "metadata": {},
   "outputs": [],
   "source": [
    "def ajuste_target(df):\n",
    "    \"\"\"\n",
    "    Elimina la columna 'clase_edible' y renombra 'clase_poisonous' a 'death'\n",
    "    \n",
    "    Args:\n",
    "        df: DataFrame con las columnas 'clase_edible' y 'clase_poisonous'\n",
    "    \n",
    "    Returns:\n",
    "        DataFrame sin 'clase_edible' y con 'clase_poisonous' renombrada a 'death'\n",
    "    \"\"\"\n",
    "    # Crear una copia del DataFrame\n",
    "    df_ML = df.copy()\n",
    "    \n",
    "    # Eliminar la columna 'clase_edible'\n",
    "    if 'clase_edible' in df_ML.columns:\n",
    "        df_ML = df_ML.drop('clase_edible', axis=1)\n",
    "    \n",
    "    # Renombrar 'clase_poisonous' a 'death'\n",
    "    if 'clase_poisonous' in df_ML.columns:\n",
    "        df_ML = df_ML.rename(columns={'clase_poisonous': 'death'})\n",
    "    \n",
    "    # Colocar la columna 'death' en la primera posición\n",
    "    if 'death' in df_ML.columns:\n",
    "        death_column = df_ML.pop('death')\n",
    "        df_ML.insert(0, 'death', death_column)\n",
    "    \n",
    "    return df_ML"
   ]
  },
  {
   "cell_type": "code",
   "execution_count": null,
   "metadata": {},
   "outputs": [],
   "source": [
    "ajuste_target(df_numeric2)"
   ]
  },
  {
   "cell_type": "code",
   "execution_count": null,
   "metadata": {},
   "outputs": [],
   "source": [
    "df_final= ajuste_target(df_numeric2)"
   ]
  },
  {
   "cell_type": "code",
   "execution_count": null,
   "metadata": {},
   "outputs": [],
   "source": [
    "df_final.head(3)"
   ]
  },
  {
   "cell_type": "code",
   "execution_count": null,
   "metadata": {},
   "outputs": [],
   "source": [
    "# Guardar en formato JSON optimizado\n",
    "df_final.to_json('data/processed/setas_Ronald_ML_Kaggle.json', \n",
    "                 orient='records',  # Cada fila como objeto JSON independiente\n",
    "                 indent=4       # Formato legible #\n",
    "            )"
   ]
  },
  {
   "cell_type": "markdown",
   "metadata": {},
   "source": [
    "## Feature Engineering\n"
   ]
  },
  {
   "cell_type": "markdown",
   "metadata": {},
   "source": [
    "Voy a evaluar la importancia de cada variable en la predicción, para poder realizar una reducción de dimensionalidad si así puedo concluirlo. "
   ]
  },
  {
   "cell_type": "code",
   "execution_count": null,
   "metadata": {},
   "outputs": [],
   "source": [
    "from sklearn.ensemble import RandomForestClassifier\n",
    "from sklearn.model_selection import train_test_split\n",
    "\n",
    "# Definir variables predictoras (X) y la variable objetivo (y)\n",
    "X = df_final.drop(columns=['death'])  # Todas las columnas excepto 'death'\n",
    "y = df_final['death']  # Target\n",
    "\n",
    "# Dividir en conjunto de entrenamiento y prueba (opcional, pero recomendado)\n",
    "X_train, X_test, y_train, y_test = train_test_split(X, y, test_size=0.2, random_state=42)\n",
    "\n",
    "# Crear y entrenar el modelo de Random Forest\n",
    "model = RandomForestClassifier(n_estimators=100, random_state=42)\n",
    "model.fit(X_train, y_train)\n",
    "\n",
    "# Obtener la importancia de las características\n",
    "importancias = model.feature_importances_\n",
    "\n",
    "# Crear un DataFrame con las importancias y las columnas\n",
    "feature_importance_df = pd.DataFrame({'Feature': X.columns, 'Importance': importancias})\n",
    "feature_importance_df = feature_importance_df.sort_values(by='Importance', ascending=False)\n",
    "\n",
    "# Visualizar las 20 características más importantes\n",
    "plt.figure(figsize=(10, 6))\n",
    "plt.barh(feature_importance_df['Feature'][:20], feature_importance_df['Importance'][:20], color='skyblue')\n",
    "plt.xlabel('Importancia')\n",
    "plt.ylabel('Características')\n",
    "plt.title('Importancia de las Características - Random Forest')\n",
    "plt.gca().invert_yaxis()  # Para que la más importante esté arriba\n",
    "plt.show()\n",
    "\n"
   ]
  },
  {
   "cell_type": "code",
   "execution_count": null,
   "metadata": {},
   "outputs": [],
   "source": [
    "# Mostrar las 20 características más importantes en tabla\n",
    "feature_importance_df.head(20)"
   ]
  },
  {
   "cell_type": "code",
   "execution_count": null,
   "metadata": {},
   "outputs": [],
   "source": [
    "df_final.head(3)"
   ]
  },
  {
   "cell_type": "code",
   "execution_count": null,
   "metadata": {},
   "outputs": [],
   "source": [
    "import pandas as pd\n",
    "import seaborn as sns\n",
    "import matplotlib.pyplot as plt\n",
    "\n",
    "# Suponiendo que df es tu DataFrame con las columnas numéricas\n",
    "plt.figure(figsize=(12, 10))\n",
    "\n",
    "# Calcular la matriz de correlación\n",
    "corr_matrix = df_final.corr()\n",
    "\n",
    "# Crear un mapa de calor con seaborn\n",
    "sns.heatmap(corr_matrix, cmap=\"coolwarm\", annot=False, fmt=\".2f\", linewidths=0.5)\n",
    "\n",
    "# Agregar título\n",
    "plt.title(\"Matriz de Correlación\", fontsize=14)\n",
    "plt.show()\n"
   ]
  },
  {
   "cell_type": "markdown",
   "metadata": {},
   "source": [
    "Eliminamos aquellas columnas que tienen alta correlación entre sí. Fijamos 80%."
   ]
  },
  {
   "cell_type": "code",
   "execution_count": null,
   "metadata": {},
   "outputs": [],
   "source": [
    "corr_matrix = df_final.corr().abs()\n",
    "upper_tri = corr_matrix.where(np.triu(np.ones(corr_matrix.shape), k=1).astype(bool))\n",
    "\n",
    "# Encontrar columnas con alta correlación (por ejemplo, >0.8)\n",
    "to_drop = [column for column in upper_tri.columns if any(upper_tri[column] > 0.8)]\n",
    "\n",
    "df_reducido1 = df_final.drop(columns=to_drop)\n",
    "\n",
    "df_reducido1.head()\n"
   ]
  },
  {
   "cell_type": "markdown",
   "metadata": {},
   "source": [
    "Eliminamos aquellas columnas que NO tienen correlación mínima con la variable a predecir, target. Fijamos 10%."
   ]
  },
  {
   "cell_type": "code",
   "execution_count": null,
   "metadata": {},
   "outputs": [],
   "source": [
    "correlaciones = df_reducido1.corr()[\"death\"].abs().sort_values(ascending=False)\n",
    "top_features = correlaciones[correlaciones > 0.1].index  # Se pueden ajustar los valores\n",
    "df_reducido2 = df_reducido1[top_features]\n",
    "\n",
    "df_reducido2.head()\n"
   ]
  },
  {
   "cell_type": "markdown",
   "metadata": {},
   "source": [
    "Tercer paso, voy a explorar si Recursive Feature Elimination (RFE), haciendo una selección del modelo funciona mejor."
   ]
  },
  {
   "cell_type": "code",
   "execution_count": null,
   "metadata": {},
   "outputs": [],
   "source": [
    "from sklearn.feature_selection import RFE\n",
    "from sklearn.ensemble import RandomForestClassifier\n",
    "\n",
    "X = df_reducido2.drop(columns=[\"death\"])\n",
    "y = df_reducido2[\"death\"]\n",
    "\n",
    "model = RandomForestClassifier()\n",
    "selector = RFE(model, n_features_to_select=30)  # Ajusta a la mitad de las columnas que tengo\n",
    "X_new = selector.fit_transform(X, y)\n",
    "selected_features = X.columns[selector.get_support()]\n",
    "df_reducido3 = df_reducido2[selected_features.insert(0, \"death\")]\n",
    "\n",
    "df_reducido3.head()"
   ]
  },
  {
   "cell_type": "markdown",
   "metadata": {},
   "source": [
    "_________________________________\n",
    "### Baseline de trabajo\n",
    "Realizo una función pack de modelos para evaluar cuál funciona mejor. "
   ]
  },
  {
   "cell_type": "code",
   "execution_count": null,
   "metadata": {},
   "outputs": [],
   "source": [
    "import numpy as np\n",
    "import pandas as pd\n",
    "import matplotlib.pyplot as plt\n",
    "import seaborn as sns\n",
    "from sklearn.model_selection import train_test_split, cross_val_predict, StratifiedKFold\n",
    "from sklearn.metrics import confusion_matrix, classification_report\n",
    "from sklearn.linear_model import LogisticRegression\n",
    "from sklearn.neighbors import KNeighborsClassifier\n",
    "from sklearn.svm import SVC\n",
    "from sklearn.tree import DecisionTreeClassifier\n",
    "from sklearn.ensemble import BaggingClassifier, RandomForestClassifier\n",
    "\n",
    "def evaluar_modelos(X, y):\n",
    "    \"\"\"\n",
    "    Evalúa varios modelos de clasificación binaria con validación cruzada\n",
    "    y muestra su matriz de confusión promedio.\n",
    "\n",
    "    Parámetros:\n",
    "        X: DataFrame con las características\n",
    "        y: Serie con la variable objetivo ('death')\n",
    "\n",
    "    Retorna:\n",
    "        Un DataFrame con métricas de rendimiento de cada modelo.\n",
    "    \"\"\"\n",
    "    # División en entrenamiento y validación (80%-20%)\n",
    "    X_train, X_valid, y_train, y_valid = train_test_split(X, y, test_size=0.2, random_state=42, stratify=y)\n",
    "\n",
    "    modelos = {\n",
    "        \"Logistic Regression\": LogisticRegression(max_iter=1000),\n",
    "        \"KNN\": KNeighborsClassifier(),\n",
    "        \"SVM\": SVC(),\n",
    "        \"Decision Tree\": DecisionTreeClassifier(),\n",
    "        \"Bagging Classifier\": BaggingClassifier(),\n",
    "        \"Random Forest\": RandomForestClassifier()\n",
    "    }\n",
    "    \n",
    "    resultados = []\n",
    "    skf = StratifiedKFold(n_splits=5, shuffle=True, random_state=42)\n",
    "\n",
    "    for nombre, modelo in modelos.items():\n",
    "        print(f\"\\nEvaluando modelo: {nombre}\")\n",
    "\n",
    "        # Entrenar el modelo con los datos de entrenamiento\n",
    "        modelo.fit(X_train, y_train)\n",
    "        \n",
    "        # Validación cruzada con predicciones\n",
    "        y_pred = cross_val_predict(modelo, X_valid, y_valid, cv=skf)\n",
    "\n",
    "        # Calcular matriz de confusión\n",
    "        cm = confusion_matrix(y_valid, y_pred)\n",
    "        \n",
    "        # Normalizar matriz de confusión\n",
    "        cm_normalized = cm.astype(\"float\") / cm.sum(axis=1)[:, np.newaxis]\n",
    "\n",
    "        # Reporte de clasificación\n",
    "        reporte = classification_report(y_valid, y_pred, output_dict=True)\n",
    "        accuracy = reporte[\"accuracy\"]\n",
    "        precision = reporte[\"1\"][\"precision\"]\n",
    "        recall = reporte[\"1\"][\"recall\"]\n",
    "        f1_score = reporte[\"1\"][\"f1-score\"]\n",
    "\n",
    "        resultados.append({\n",
    "            \"Modelo\": nombre,\n",
    "            \"Accuracy\": accuracy,\n",
    "            \"Precision\": precision,\n",
    "            \"Recall\": recall,\n",
    "            \"F1 Score\": f1_score\n",
    "        })\n",
    "\n",
    "        # Graficar matriz de confusión\n",
    "        plt.figure(figsize=(5, 4))\n",
    "        sns.heatmap(cm, annot=True, fmt=\".2f\", cmap=\"Blues\", xticklabels=[\"No Death\", \"Death\"], yticklabels=[\"No Death\", \"Death\"])\n",
    "        plt.xlabel(\"Predicción\")\n",
    "        plt.ylabel(\"Real\")\n",
    "        plt.title(f\"Matriz de Confusión - {nombre}\")\n",
    "        plt.show()\n",
    "\n",
    "    # Convertir resultados en DataFrame\n",
    "    df_resultados = pd.DataFrame(resultados).sort_values(by=\"F1 Score\", ascending=False)\n",
    "    return df_resultados\n",
    "\n",
    "\n"
   ]
  },
  {
   "cell_type": "code",
   "execution_count": null,
   "metadata": {},
   "outputs": [],
   "source": [
    "# df es el DataFrame con los datos, donde 'death' es la columna objetivo\n",
    "df = df_reducido3\n",
    "\n",
    "X = df.drop(columns=[\"death\"])\n",
    "y = df[\"death\"]\n",
    "\n",
    "resultados = evaluar_modelos(X, y)\n",
    "\n",
    "# Guardar el nombre manualmente\n",
    "# nombre_df = \"df_reducido3\"\n",
    "\n",
    "# Imprimir el nombre del conjunto de datos\n",
    "# print(f\"Nombre del Conjunto de Datos: {nombre_df}\")\n",
    "\n",
    "print(resultados)"
   ]
  },
  {
   "cell_type": "markdown",
   "metadata": {},
   "source": [
    "El modelo que mejor predice y mejor Recall tiene, que es, en el fondo, lo que más nos interesa, es Random Forest. \n",
    "\n",
    "Por otro lado, veo que funciona mejor el conjunto de datos con todos los datos (df_final) que cuando empiezo a eliminar columnas. Solo observo que df_reducido3, en el modelo de SVM o RandomForest.\n",
    "\n"
   ]
  },
  {
   "cell_type": "markdown",
   "metadata": {},
   "source": [
    "___________________\n",
    "Voy a probar a aplicar la técnica / herramienta de Principal Component Analysis, PCA de SKlearn, para estudiar si puedo reducir la complejidad, dimensiones, y evitar el sobreajuste."
   ]
  },
  {
   "cell_type": "code",
   "execution_count": null,
   "metadata": {},
   "outputs": [],
   "source": [
    "df_final.head(2)"
   ]
  },
  {
   "cell_type": "code",
   "execution_count": null,
   "metadata": {},
   "outputs": [],
   "source": [
    "from sklearn.feature_selection import VarianceThreshold\n",
    "\n",
    "X = df_final.select_dtypes(include=['number'])  # Filtra solo columnas numéricas\n",
    "\n",
    "selector = VarianceThreshold(threshold=0.0)  # Elimina columnas con varianza 0\n",
    "X_filtered = selector.fit_transform(X)  # Aplica filtro\n",
    "\n",
    "print(\"Forma antes de filtrar:\", X.shape)\n",
    "print(\"Forma después de filtrar:\", X_filtered.shape)\n"
   ]
  },
  {
   "cell_type": "code",
   "execution_count": null,
   "metadata": {},
   "outputs": [],
   "source": [
    "from sklearn.decomposition import PCA\n",
    "from sklearn.preprocessing import StandardScaler\n",
    "\n",
    "# Asegurar que no incluimos la variable objetivo en PCA\n",
    "X = df_final.drop(columns=[\"death\"])  \n",
    "y = df_final[\"death\"]\n",
    "\n",
    "# Normalizar los datos antes de aplicar PCA\n",
    "scaler = StandardScaler()\n",
    "X_scaled = scaler.fit_transform(X_filtered)\n",
    "\n",
    "# Aplicar PCA\n",
    "pca = PCA(n_components=0.95)  # Mantener el 95% de la varianza\n",
    "X_pca = pca.fit_transform(X_scaled)\n",
    "\n",
    "# Convertir a DataFrame y conservar los índices originales\n",
    "df_pca = pd.DataFrame(X_pca, columns=[f\"PC{i+1}\" for i in range(X_pca.shape[1])], index=X.index)\n",
    "\n",
    "# Agregar la variable objetivo sin NaN\n",
    "df_pca[\"death\"] = y\n",
    "\n",
    "# Explicar cuánta varianza explica cada componente\n",
    "explained_variance = pca.explained_variance_ratio_\n",
    "\n",
    "# Graficar la varianza explicada por cada componente principal\n",
    "plt.figure(figsize=(8, 5))\n",
    "plt.plot(range(1, len(explained_variance) + 1), explained_variance, marker=\"o\", linestyle=\"--\", color=\"b\")\n",
    "plt.xlabel(\"Número de Componentes\")\n",
    "plt.ylabel(\"Varianza Explicada\")\n",
    "plt.title(\"Varianza Explicada por cada Componente Principal\")\n",
    "plt.show()\n",
    "\n",
    "# Mostrar el nuevo DataFrame reducido\n",
    "print(f\"Dimensiones originales: {X.shape[1]}\")\n",
    "print(f\"Dimensiones después de PCA: {df_pca.shape[1] - 1}\")  # -1 porque incluye \"death\"\n",
    "df_pca.head()\n"
   ]
  },
  {
   "cell_type": "markdown",
   "metadata": {},
   "source": [
    "Aplico mi baseline de trabajo al dataframe obtenido para ver los resultados. "
   ]
  },
  {
   "cell_type": "code",
   "execution_count": null,
   "metadata": {},
   "outputs": [],
   "source": [
    "# df es el DataFrame con los datos, donde 'death' es la columna objetivo\n",
    "df = df_pca\n",
    "\n",
    "X = df.drop(columns=[\"death\"])\n",
    "y = df[\"death\"]\n",
    "\n",
    "resultados = evaluar_modelos(X, y)\n",
    "\n",
    "# Guardar el nombre manualmente\n",
    "nombre_df = \"df_PCA\"\n",
    "\n",
    "# Imprimir el nombre del conjunto de datos\n",
    "# print(f\"Nombre del Conjunto de Datos: {nombre_df}\")\n",
    "\n",
    "print(resultados)"
   ]
  },
  {
   "cell_type": "markdown",
   "metadata": {},
   "source": [
    "_________________________________CONCLUSIÓN: MODELO ELEGIDO\n",
    "\n",
    "Ahora obtengo con el modelo reducido por PCA y limitado a 58 columnas, un valor 'perfecto' con el modelo RandomForest.Así pues, ahora acumulo el codigo para aplicar a 'test' y probar y subir a Kaggle."
   ]
  },
  {
   "cell_type": "code",
   "execution_count": 1,
   "metadata": {},
   "outputs": [],
   "source": [
    "import pandas as pd\n",
    "import numpy as np\n",
    "\n",
    "import sys\n",
    "import os\n",
    "import re\n",
    "\n",
    "import matplotlib.pyplot as plt\n",
    "import statsmodels.api as sm\n",
    "import seaborn as sns\n",
    "\n",
    "from sklearn.preprocessing import OrdinalEncoder, MultiLabelBinarizer\n",
    "\n",
    "from sklearn.feature_selection import RFE\n",
    "from sklearn.ensemble import RandomForestClassifier\n",
    "from sklearn.decomposition import PCA\n",
    "from sklearn.preprocessing import StandardScaler\n",
    "\n",
    "from sklearn.model_selection import train_test_split, cross_val_predict, StratifiedKFold\n",
    "from sklearn.metrics import confusion_matrix, classification_report\n",
    "\n",
    "\n",
    "datos = pd.read_parquet('data/raw/train.snappy')"
   ]
  },
  {
   "cell_type": "code",
   "execution_count": 2,
   "metadata": {},
   "outputs": [],
   "source": [
    "\n",
    "def extraer_atributos(fila_n):\n",
    "    \"\"\"Extrae los atributos de una fila de descripción usando regex.\"\"\"\n",
    "    \n",
    "    return {\n",
    "    'ID': re.search(r'\\*\\*La observación\\*\\*(.*?) describe', fila_n).group(1).strip() if re.search(r'\\*\\*La observación\\*\\*(.*?) describe', fila_n) else None,\n",
    "    'clase': re.search(r'\\*\\*clase\\*\\*(.*?)\\.', fila_n).group(1).strip() if re.search(r'\\*\\*clase\\*\\*(.*?)\\.', fila_n) else None,\n",
    "    'forma_sombrero': re.search(r'\\*\\*forma de sombrero\\*\\* (.*?) ', fila_n).group(1).strip() if re.search(r'\\*\\*forma de sombrero\\*\\* (.*?) ', fila_n) else None,\n",
    "    'superficie': re.search(r'\\*\\*superficie\\*\\*(.*?) \\*\\*y', fila_n).group(1).strip() if re.search(r'\\*\\*superficie\\*\\*(.*?) \\*\\*y', fila_n) else None,\n",
    "    'color': re.search(r'\\*\\*y un color\\*\\*(.*?)\\.', fila_n).group(1).strip() if re.search(r'\\*\\*y un color\\*\\*(.*?)\\.', fila_n) else None,\n",
    "    'moretones': re.search(r'\\*\\*Presenta\\*\\*(.*?) y', fila_n).group(1).strip() if re.search(r'\\*\\*Presenta\\*\\*(.*?) y', fila_n) else None,\n",
    "    'olor': re.search(r'\\*\\*olor\\*\\*(.*?)\\.', fila_n).group(1).strip() if re.search(r'\\*\\*olor\\*\\*(.*?)\\.', fila_n) else None,\n",
    "    'tipo_branquias': re.search(r'\\*\\*Las branquias son de tipo\\*\\*(.*?) con', fila_n).group(1).strip() if re.search(r'\\*\\*Las branquias son de tipo\\*\\*(.*?) con', fila_n) else None,\n",
    "    'separacion_branquias': re.search(r'\\*\\*separación\\*\\*(.*?) \\*\\*y', fila_n).group(1).strip() if re.search(r'\\*\\*separación\\*\\*(.*?) \\*\\*y', fila_n) else None,\n",
    "    'tamano_branquias': re.search(r'\\*\\*y un tamaño\\*\\*(.*?)\\.', fila_n).group(1).strip() if re.search(r'\\*\\*y un tamaño\\*\\*(.*?)\\.', fila_n) else None,\n",
    "    'color_branquias': re.search(r'\\*\\*El color de las branquias es\\*\\*(.*?)\\.', fila_n).group(1).strip() if re.search(r'\\*\\*El color de las branquias es\\*\\*(.*?)\\.', fila_n) else None,\n",
    "    'forma_tallo': re.search(r'\\*\\*La forma del tallo\\*\\* (?:es) (.*?) y', fila_n).group(1).strip() if re.search(r'\\*\\*La forma del tallo\\*\\* (?:es) (.*?) y', fila_n) else None,\n",
    "    'raiz_tallo': re.search(r'\\*\\*raíz del tallo\\*\\* (?:es) (.*?)\\.', fila_n).group(1).strip() if re.search(r'\\*\\*raíz del tallo\\*\\* (?:es) (.*?)\\.', fila_n) else None,\n",
    "    'superficie_tallo_arriba': re.search(r'\\*\\*La superficie del tallo por encima del anillo\\*\\* (?:es) (.*?) ', fila_n).group(1).strip() if re.search(r'\\*\\*La superficie del tallo por encima del anillo\\*\\* (?:es) (.*?) ', fila_n) else None,\n",
    "    'superficie_tallo_abajo': re.search(r'\\*\\*y por debajo del anillo\\*\\* (?:es) (.*?)\\.', fila_n).group(1).strip() if re.search(r'\\*\\*y por debajo del anillo\\*\\* (?:es) (.*?)\\.', fila_n) else None,\n",
    "    'color_tallo_arriba': re.search(r'\\*\\*color del tallo por encima del anillo\\*\\* (?:es) (.*?) ', fila_n).group(1).strip() if re.search(r'\\*\\*color del tallo por encima del anillo\\*\\* (?:es) (.*?) ', fila_n) else None,\n",
    "    'color_tallo_abajo': re.findall(r'\\*\\*y por debajo del anillo\\*\\* (?:es) (.*?)\\.', fila_n)[1] if re.findall(r'\\*\\*y por debajo del anillo\\*\\* (?:es) (.*?)\\.', fila_n)[1] else None,\n",
    "    'tipo_velo': re.search(r'\\*\\*El tipo de velo\\*\\* (?:es) (.*?) con', fila_n).group(1).strip() if re.search(r'\\*\\*El tipo de velo\\*\\* (?:es) (.*?) con', fila_n) else None,\n",
    "    'color_velo': re.search(r'\\*\\*color de velo\\*\\*(.*?)\\.', fila_n).group(1).strip() if re.search(r'\\*\\*color de velo\\*\\*(.*?)\\.', fila_n) else None,\n",
    "    'anillo': re.search(r'\\.?\\s*Tiene ([^.]*?) \\*\\*anillo\\(s\\)\\*\\*', fila_n).group(1).strip() if re.search(r'\\.?\\s*Tiene ([^.]*?) \\*\\*anillo\\(s\\)\\*\\*', fila_n) else None,\n",
    "    'tipo_anillo': re.search(r'\\*\\*de tipo\\*\\* (.*?) ', fila_n).group(1).strip() if re.search(r'\\*\\*de tipo\\*\\* (.*?) ', fila_n) else None,\n",
    "    'color_impresion_esporas': re.search(r'\\*\\*y el color de la impresión de esporas\\*\\* (?:es) (.*?)\\.', fila_n).group(1).strip() if re.search(r'\\*\\*y el color de la impresión de esporas\\*\\* (?:es)(.*?)\\.', fila_n) else None,\n",
    "    'poblacion': re.search(r'\\*\\*población\\*\\*(.*?) y', fila_n).group(1).strip() if re.search(r'\\*\\*población\\*\\*(.*?) y', fila_n) else None,\n",
    "    'habitat': re.search(r'\\*\\*hábitat es\\*\\*(.*?)\\.', fila_n).group(1).strip() if re.search(r'\\*\\*hábitat es\\*\\*(.*?)\\.', fila_n) else None\n",
    "}\n",
    "\n",
    "\n",
    "# Aplicar la función a todas las filas\n",
    "datos_extraidos = datos['descripcion'].apply(extraer_atributos)\n",
    "\n"
   ]
  },
  {
   "cell_type": "code",
   "execution_count": 3,
   "metadata": {},
   "outputs": [],
   "source": [
    "def convert_to_numeric_better(df):\n",
    "    df_numeric2 = df.copy()  # Copia para no modificar el original\n",
    "    \n",
    "    \n",
    "    # Para las columnas específicas, usamos OrdinalEncoder\n",
    "    encoder_anillo = OrdinalEncoder(categories=[['null', 'one', 'two']])\n",
    "    \n",
    "    # Agregar las categorías que ya existen en los datos\n",
    "    encoder_poblacion = OrdinalEncoder(categories=[['solitary', 'scattered', 'several', 'clustered', 'numerous', 'abundant']])\n",
    "    \n",
    "    # Convertir 'anillo' con OrdinalEncoder\n",
    "    df_numeric2['anillo'] = encoder_anillo.fit_transform(df_numeric2[['anillo']])\n",
    "    \n",
    "    # Convertir 'población' con OrdinalEncoder\n",
    "    df_numeric2['poblacion'] = encoder_poblacion.fit_transform(df_numeric2[['poblacion']])\n",
    "    \n",
    "    # Para el resto de las columnas, usamos MultiLabelBinarizer\n",
    "    mlb = MultiLabelBinarizer()\n",
    "    for column in df_numeric2.columns:\n",
    "        if column not in ['anillo', 'poblacion']:  # Evitar las columnas que ya hemos procesado\n",
    "            # Convertimos a lista de etiquetas\n",
    "            df_numeric2[column] = df_numeric2[column].apply(lambda x: [x] if isinstance(x, str) else [])\n",
    "\n",
    "            # Aplicamos el MultiLabelBinarizer\n",
    "            binarized = mlb.fit_transform(df_numeric2[column])\n",
    "            labels = mlb.classes_\n",
    "            \n",
    "            # Creamos nuevas columnas para las etiquetas\n",
    "            for idx, label in enumerate(labels):\n",
    "                df_numeric2[f'{column}_{label}'] = binarized[:, idx]\n",
    "            \n",
    "            # Eliminamos la columna original\n",
    "            df_numeric2.drop(columns=[column], inplace=True)\n",
    "\n",
    "    # Eliminamos las columnas cuyo nombre contenga 'null', 'None' o '?'\n",
    "    columns_to_drop = [col for col in df_numeric2.columns if 'null' in col or 'None' in col or '?' in col]\n",
    "    df_numeric2.drop(columns=columns_to_drop, inplace=True)\n",
    "    \n",
    "    return df_numeric2\n"
   ]
  },
  {
   "cell_type": "code",
   "execution_count": 4,
   "metadata": {},
   "outputs": [
    {
     "name": "stderr",
     "output_type": "stream",
     "text": [
      "/var/folders/lh/mx1_xdkx76s1jt00m2qwl2km0000gn/T/ipykernel_70258/2184919210.py:30: PerformanceWarning: DataFrame is highly fragmented.  This is usually the result of calling `frame.insert` many times, which has poor performance.  Consider joining all columns at once using pd.concat(axis=1) instead. To get a de-fragmented frame, use `newframe = frame.copy()`\n",
      "  df_numeric2[f'{column}_{label}'] = binarized[:, idx]\n",
      "/var/folders/lh/mx1_xdkx76s1jt00m2qwl2km0000gn/T/ipykernel_70258/2184919210.py:30: PerformanceWarning: DataFrame is highly fragmented.  This is usually the result of calling `frame.insert` many times, which has poor performance.  Consider joining all columns at once using pd.concat(axis=1) instead. To get a de-fragmented frame, use `newframe = frame.copy()`\n",
      "  df_numeric2[f'{column}_{label}'] = binarized[:, idx]\n",
      "/var/folders/lh/mx1_xdkx76s1jt00m2qwl2km0000gn/T/ipykernel_70258/2184919210.py:30: PerformanceWarning: DataFrame is highly fragmented.  This is usually the result of calling `frame.insert` many times, which has poor performance.  Consider joining all columns at once using pd.concat(axis=1) instead. To get a de-fragmented frame, use `newframe = frame.copy()`\n",
      "  df_numeric2[f'{column}_{label}'] = binarized[:, idx]\n",
      "/var/folders/lh/mx1_xdkx76s1jt00m2qwl2km0000gn/T/ipykernel_70258/2184919210.py:30: PerformanceWarning: DataFrame is highly fragmented.  This is usually the result of calling `frame.insert` many times, which has poor performance.  Consider joining all columns at once using pd.concat(axis=1) instead. To get a de-fragmented frame, use `newframe = frame.copy()`\n",
      "  df_numeric2[f'{column}_{label}'] = binarized[:, idx]\n",
      "/var/folders/lh/mx1_xdkx76s1jt00m2qwl2km0000gn/T/ipykernel_70258/2184919210.py:30: PerformanceWarning: DataFrame is highly fragmented.  This is usually the result of calling `frame.insert` many times, which has poor performance.  Consider joining all columns at once using pd.concat(axis=1) instead. To get a de-fragmented frame, use `newframe = frame.copy()`\n",
      "  df_numeric2[f'{column}_{label}'] = binarized[:, idx]\n",
      "/var/folders/lh/mx1_xdkx76s1jt00m2qwl2km0000gn/T/ipykernel_70258/2184919210.py:30: PerformanceWarning: DataFrame is highly fragmented.  This is usually the result of calling `frame.insert` many times, which has poor performance.  Consider joining all columns at once using pd.concat(axis=1) instead. To get a de-fragmented frame, use `newframe = frame.copy()`\n",
      "  df_numeric2[f'{column}_{label}'] = binarized[:, idx]\n",
      "/var/folders/lh/mx1_xdkx76s1jt00m2qwl2km0000gn/T/ipykernel_70258/2184919210.py:30: PerformanceWarning: DataFrame is highly fragmented.  This is usually the result of calling `frame.insert` many times, which has poor performance.  Consider joining all columns at once using pd.concat(axis=1) instead. To get a de-fragmented frame, use `newframe = frame.copy()`\n",
      "  df_numeric2[f'{column}_{label}'] = binarized[:, idx]\n",
      "/var/folders/lh/mx1_xdkx76s1jt00m2qwl2km0000gn/T/ipykernel_70258/2184919210.py:30: PerformanceWarning: DataFrame is highly fragmented.  This is usually the result of calling `frame.insert` many times, which has poor performance.  Consider joining all columns at once using pd.concat(axis=1) instead. To get a de-fragmented frame, use `newframe = frame.copy()`\n",
      "  df_numeric2[f'{column}_{label}'] = binarized[:, idx]\n",
      "/var/folders/lh/mx1_xdkx76s1jt00m2qwl2km0000gn/T/ipykernel_70258/2184919210.py:30: PerformanceWarning: DataFrame is highly fragmented.  This is usually the result of calling `frame.insert` many times, which has poor performance.  Consider joining all columns at once using pd.concat(axis=1) instead. To get a de-fragmented frame, use `newframe = frame.copy()`\n",
      "  df_numeric2[f'{column}_{label}'] = binarized[:, idx]\n",
      "/var/folders/lh/mx1_xdkx76s1jt00m2qwl2km0000gn/T/ipykernel_70258/2184919210.py:30: PerformanceWarning: DataFrame is highly fragmented.  This is usually the result of calling `frame.insert` many times, which has poor performance.  Consider joining all columns at once using pd.concat(axis=1) instead. To get a de-fragmented frame, use `newframe = frame.copy()`\n",
      "  df_numeric2[f'{column}_{label}'] = binarized[:, idx]\n",
      "/var/folders/lh/mx1_xdkx76s1jt00m2qwl2km0000gn/T/ipykernel_70258/2184919210.py:30: PerformanceWarning: DataFrame is highly fragmented.  This is usually the result of calling `frame.insert` many times, which has poor performance.  Consider joining all columns at once using pd.concat(axis=1) instead. To get a de-fragmented frame, use `newframe = frame.copy()`\n",
      "  df_numeric2[f'{column}_{label}'] = binarized[:, idx]\n"
     ]
    }
   ],
   "source": [
    "df_0 = pd.DataFrame(datos_extraidos.tolist()).set_index('ID')\n",
    "\n",
    "df_numeric2 = convert_to_numeric_better (df_0)"
   ]
  },
  {
   "cell_type": "code",
   "execution_count": 5,
   "metadata": {},
   "outputs": [],
   "source": [
    "def ajuste_target(df):\n",
    "    \"\"\"\n",
    "    Elimina la columna 'clase_edible' y renombra 'clase_poisonous' a 'death'\n",
    "    \n",
    "    Args:\n",
    "        df: DataFrame con las columnas 'clase_edible' y 'clase_poisonous'\n",
    "    \n",
    "    Returns:\n",
    "        DataFrame sin 'clase_edible' y con 'clase_poisonous' renombrada a 'death'\n",
    "    \"\"\"\n",
    "    # Crear una copia del DataFrame\n",
    "    df_ML = df.copy()\n",
    "    \n",
    "    # Eliminar la columna 'clase_edible'\n",
    "    if 'clase_edible' in df_ML.columns:\n",
    "        df_ML = df_ML.drop('clase_edible', axis=1)\n",
    "    \n",
    "    # Renombrar 'clase_poisonous' a 'death'\n",
    "    if 'clase_poisonous' in df_ML.columns:\n",
    "        df_ML = df_ML.rename(columns={'clase_poisonous': 'death'})\n",
    "    \n",
    "    # Colocar la columna 'death' en la primera posición\n",
    "    if 'death' in df_ML.columns:\n",
    "        death_column = df_ML.pop('death')\n",
    "        df_ML.insert(0, 'death', death_column)\n",
    "    \n",
    "    return df_ML"
   ]
  },
  {
   "cell_type": "code",
   "execution_count": 6,
   "metadata": {},
   "outputs": [],
   "source": [
    "df_final= ajuste_target(df_numeric2)"
   ]
  },
  {
   "cell_type": "code",
   "execution_count": 7,
   "metadata": {},
   "outputs": [],
   "source": [
    "corr_matrix = df_final.corr().abs()\n",
    "upper_tri = corr_matrix.where(np.triu(np.ones(corr_matrix.shape), k=1).astype(bool))\n",
    "\n",
    "# Encontrar columnas con alta correlación (por ejemplo, >0.8)\n",
    "to_drop = [column for column in upper_tri.columns if any(upper_tri[column] > 0.8)]\n",
    "\n",
    "df_reducido1 = df_final.drop(columns=to_drop)"
   ]
  },
  {
   "cell_type": "code",
   "execution_count": 8,
   "metadata": {},
   "outputs": [],
   "source": [
    "correlaciones = df_reducido1.corr()[\"death\"].abs().sort_values(ascending=False)\n",
    "top_features = correlaciones[correlaciones > 0.1].index  # Se pueden ajustar los valores\n",
    "df_reducido2 = df_reducido1[top_features]"
   ]
  },
  {
   "cell_type": "code",
   "execution_count": 9,
   "metadata": {},
   "outputs": [],
   "source": [
    "X = df_reducido2.drop(columns=[\"death\"])\n",
    "y = df_reducido2[\"death\"]\n",
    "\n",
    "model = RandomForestClassifier()\n",
    "selector = RFE(model, n_features_to_select=30)  # Ajusta a la mitad de las columnas que tengo\n",
    "X_new = selector.fit_transform(X, y)\n",
    "selected_features = X.columns[selector.get_support()]\n",
    "df_reducido3 = df_reducido2[selected_features.insert(0, \"death\")]"
   ]
  },
  {
   "cell_type": "markdown",
   "metadata": {},
   "source": [
    "Ahora me vale con hacer solamente un PCA"
   ]
  },
  {
   "cell_type": "code",
   "execution_count": 10,
   "metadata": {},
   "outputs": [
    {
     "name": "stdout",
     "output_type": "stream",
     "text": [
      "Dimensiones originales: 30\n",
      "Dimensiones después de PCA: 19\n"
     ]
    },
    {
     "data": {
      "text/html": [
       "<div>\n",
       "<style scoped>\n",
       "    .dataframe tbody tr th:only-of-type {\n",
       "        vertical-align: middle;\n",
       "    }\n",
       "\n",
       "    .dataframe tbody tr th {\n",
       "        vertical-align: top;\n",
       "    }\n",
       "\n",
       "    .dataframe thead th {\n",
       "        text-align: right;\n",
       "    }\n",
       "</style>\n",
       "<table border=\"1\" class=\"dataframe\">\n",
       "  <thead>\n",
       "    <tr style=\"text-align: right;\">\n",
       "      <th></th>\n",
       "      <th>PC1</th>\n",
       "      <th>PC2</th>\n",
       "      <th>PC3</th>\n",
       "      <th>PC4</th>\n",
       "      <th>PC5</th>\n",
       "      <th>PC6</th>\n",
       "      <th>PC7</th>\n",
       "      <th>PC8</th>\n",
       "      <th>PC9</th>\n",
       "      <th>PC10</th>\n",
       "      <th>PC11</th>\n",
       "      <th>PC12</th>\n",
       "      <th>PC13</th>\n",
       "      <th>PC14</th>\n",
       "      <th>PC15</th>\n",
       "      <th>PC16</th>\n",
       "      <th>PC17</th>\n",
       "      <th>PC18</th>\n",
       "      <th>PC19</th>\n",
       "      <th>death</th>\n",
       "    </tr>\n",
       "    <tr>\n",
       "      <th>ID</th>\n",
       "      <th></th>\n",
       "      <th></th>\n",
       "      <th></th>\n",
       "      <th></th>\n",
       "      <th></th>\n",
       "      <th></th>\n",
       "      <th></th>\n",
       "      <th></th>\n",
       "      <th></th>\n",
       "      <th></th>\n",
       "      <th></th>\n",
       "      <th></th>\n",
       "      <th></th>\n",
       "      <th></th>\n",
       "      <th></th>\n",
       "      <th></th>\n",
       "      <th></th>\n",
       "      <th></th>\n",
       "      <th></th>\n",
       "      <th></th>\n",
       "    </tr>\n",
       "  </thead>\n",
       "  <tbody>\n",
       "    <tr>\n",
       "      <th>367</th>\n",
       "      <td>2.171017</td>\n",
       "      <td>-0.189112</td>\n",
       "      <td>0.001222</td>\n",
       "      <td>0.676746</td>\n",
       "      <td>0.542294</td>\n",
       "      <td>1.716801</td>\n",
       "      <td>0.414581</td>\n",
       "      <td>-0.321832</td>\n",
       "      <td>-0.439918</td>\n",
       "      <td>0.409589</td>\n",
       "      <td>1.135330</td>\n",
       "      <td>-1.262906</td>\n",
       "      <td>-0.389509</td>\n",
       "      <td>0.724571</td>\n",
       "      <td>0.398110</td>\n",
       "      <td>-0.235816</td>\n",
       "      <td>-0.193070</td>\n",
       "      <td>-0.538558</td>\n",
       "      <td>-0.154216</td>\n",
       "      <td>0</td>\n",
       "    </tr>\n",
       "    <tr>\n",
       "      <th>5123</th>\n",
       "      <td>-5.340571</td>\n",
       "      <td>-0.033188</td>\n",
       "      <td>-0.883459</td>\n",
       "      <td>0.273352</td>\n",
       "      <td>1.019675</td>\n",
       "      <td>0.326874</td>\n",
       "      <td>-0.039784</td>\n",
       "      <td>-0.802718</td>\n",
       "      <td>-0.675831</td>\n",
       "      <td>-0.439636</td>\n",
       "      <td>0.500330</td>\n",
       "      <td>0.976518</td>\n",
       "      <td>0.352925</td>\n",
       "      <td>0.384190</td>\n",
       "      <td>-0.998874</td>\n",
       "      <td>-0.361252</td>\n",
       "      <td>-1.233708</td>\n",
       "      <td>0.913995</td>\n",
       "      <td>-0.745589</td>\n",
       "      <td>1</td>\n",
       "    </tr>\n",
       "    <tr>\n",
       "      <th>2864</th>\n",
       "      <td>2.174337</td>\n",
       "      <td>1.615480</td>\n",
       "      <td>-0.032224</td>\n",
       "      <td>-0.832643</td>\n",
       "      <td>-1.101932</td>\n",
       "      <td>1.043947</td>\n",
       "      <td>0.695353</td>\n",
       "      <td>0.269105</td>\n",
       "      <td>0.264770</td>\n",
       "      <td>0.316872</td>\n",
       "      <td>0.370839</td>\n",
       "      <td>0.350829</td>\n",
       "      <td>-0.854351</td>\n",
       "      <td>0.371299</td>\n",
       "      <td>-0.876804</td>\n",
       "      <td>0.050211</td>\n",
       "      <td>1.338940</td>\n",
       "      <td>-0.283111</td>\n",
       "      <td>0.175326</td>\n",
       "      <td>0</td>\n",
       "    </tr>\n",
       "    <tr>\n",
       "      <th>4674</th>\n",
       "      <td>0.828970</td>\n",
       "      <td>-2.082356</td>\n",
       "      <td>2.184547</td>\n",
       "      <td>0.130761</td>\n",
       "      <td>0.512174</td>\n",
       "      <td>0.809935</td>\n",
       "      <td>-1.630647</td>\n",
       "      <td>-2.053166</td>\n",
       "      <td>-2.360948</td>\n",
       "      <td>-0.293068</td>\n",
       "      <td>-1.194974</td>\n",
       "      <td>-1.132164</td>\n",
       "      <td>0.773866</td>\n",
       "      <td>1.111733</td>\n",
       "      <td>-2.005691</td>\n",
       "      <td>2.046439</td>\n",
       "      <td>-0.273227</td>\n",
       "      <td>-1.815317</td>\n",
       "      <td>0.464794</td>\n",
       "      <td>1</td>\n",
       "    </tr>\n",
       "    <tr>\n",
       "      <th>1210</th>\n",
       "      <td>0.517835</td>\n",
       "      <td>-5.814715</td>\n",
       "      <td>2.065106</td>\n",
       "      <td>-1.260010</td>\n",
       "      <td>-0.196803</td>\n",
       "      <td>-0.994133</td>\n",
       "      <td>-2.063684</td>\n",
       "      <td>-0.867605</td>\n",
       "      <td>-0.977125</td>\n",
       "      <td>-0.008348</td>\n",
       "      <td>-0.905456</td>\n",
       "      <td>-0.214091</td>\n",
       "      <td>0.607117</td>\n",
       "      <td>-0.592283</td>\n",
       "      <td>-0.003063</td>\n",
       "      <td>1.188462</td>\n",
       "      <td>0.224636</td>\n",
       "      <td>0.156098</td>\n",
       "      <td>0.446493</td>\n",
       "      <td>0</td>\n",
       "    </tr>\n",
       "  </tbody>\n",
       "</table>\n",
       "</div>"
      ],
      "text/plain": [
       "           PC1       PC2       PC3       PC4       PC5       PC6       PC7  \\\n",
       "ID                                                                           \n",
       "367   2.171017 -0.189112  0.001222  0.676746  0.542294  1.716801  0.414581   \n",
       "5123 -5.340571 -0.033188 -0.883459  0.273352  1.019675  0.326874 -0.039784   \n",
       "2864  2.174337  1.615480 -0.032224 -0.832643 -1.101932  1.043947  0.695353   \n",
       "4674  0.828970 -2.082356  2.184547  0.130761  0.512174  0.809935 -1.630647   \n",
       "1210  0.517835 -5.814715  2.065106 -1.260010 -0.196803 -0.994133 -2.063684   \n",
       "\n",
       "           PC8       PC9      PC10      PC11      PC12      PC13      PC14  \\\n",
       "ID                                                                           \n",
       "367  -0.321832 -0.439918  0.409589  1.135330 -1.262906 -0.389509  0.724571   \n",
       "5123 -0.802718 -0.675831 -0.439636  0.500330  0.976518  0.352925  0.384190   \n",
       "2864  0.269105  0.264770  0.316872  0.370839  0.350829 -0.854351  0.371299   \n",
       "4674 -2.053166 -2.360948 -0.293068 -1.194974 -1.132164  0.773866  1.111733   \n",
       "1210 -0.867605 -0.977125 -0.008348 -0.905456 -0.214091  0.607117 -0.592283   \n",
       "\n",
       "          PC15      PC16      PC17      PC18      PC19  death  \n",
       "ID                                                             \n",
       "367   0.398110 -0.235816 -0.193070 -0.538558 -0.154216      0  \n",
       "5123 -0.998874 -0.361252 -1.233708  0.913995 -0.745589      1  \n",
       "2864 -0.876804  0.050211  1.338940 -0.283111  0.175326      0  \n",
       "4674 -2.005691  2.046439 -0.273227 -1.815317  0.464794      1  \n",
       "1210 -0.003063  1.188462  0.224636  0.156098  0.446493      0  "
      ]
     },
     "execution_count": 10,
     "metadata": {},
     "output_type": "execute_result"
    }
   ],
   "source": [
    "# Asegurar que no incluimos la variable objetivo en PCA\n",
    "X = df_reducido3.drop(columns=[\"death\"])  \n",
    "y = df_reducido3[\"death\"]\n",
    "\n",
    "# Normalizar los datos antes de aplicar PCA\n",
    "scaler = StandardScaler()\n",
    "X_scaled = scaler.fit_transform(X)\n",
    "\n",
    "# Aplicar PCA\n",
    "pca = PCA(n_components=0.95)  # Mantener el 95% de la varianza\n",
    "X_pca = pca.fit_transform(X_scaled)\n",
    "\n",
    "# Convertir a DataFrame y conservar los índices originales\n",
    "df_pca = pd.DataFrame(X_pca, columns=[f\"PC{i+1}\" for i in range(X_pca.shape[1])], index=X.index)\n",
    "\n",
    "# Agregar la variable objetivo sin NaN\n",
    "df_pca[\"death\"] = y\n",
    "\n",
    "# Mostrar el nuevo DataFrame reducido\n",
    "print(f\"Dimensiones originales: {X.shape[1]}\")\n",
    "print(f\"Dimensiones después de PCA: {df_pca.shape[1] - 1}\")  # -1 porque incluye \"death\"\n",
    "df_pca.head()\n"
   ]
  },
  {
   "cell_type": "code",
   "execution_count": 11,
   "metadata": {},
   "outputs": [],
   "source": [
    "def evaluar_random_forest(X, y):\n",
    "    \"\"\"\n",
    "    Evalúa el modelo RandomForestClassifier con validación cruzada\n",
    "    y muestra su matriz de confusión promedio.\n",
    "\n",
    "    Parámetros:\n",
    "        X: DataFrame con las características\n",
    "        y: Serie con la variable objetivo ('death')\n",
    "\n",
    "    Retorna:\n",
    "        Un DataFrame con métricas de rendimiento del modelo.\n",
    "    \"\"\"\n",
    "    # División en entrenamiento y validación (80%-20%)\n",
    "    X_train, X_valid, y_train, y_valid = train_test_split(X, y, test_size=0.2, random_state=42, stratify=y)\n",
    "\n",
    "    modelo = RandomForestClassifier()\n",
    "    \n",
    "    skf = StratifiedKFold(n_splits=5, shuffle=True, random_state=42)\n",
    "\n",
    "    # Entrenar el modelo con los datos de entrenamiento\n",
    "    modelo.fit(X_train, y_train)\n",
    "    \n",
    "    # Validación cruzada con predicciones\n",
    "    y_pred = cross_val_predict(modelo, X_valid, y_valid, cv=skf)\n",
    "\n",
    "    # Calcular matriz de confusión\n",
    "    cm = confusion_matrix(y_valid, y_pred)\n",
    "    \n",
    "    # Normalizar matriz de confusión\n",
    "    cm_normalized = cm.astype(\"float\") / cm.sum(axis=1)[:, np.newaxis]\n",
    "\n",
    "    # Reporte de clasificación\n",
    "    reporte = classification_report(y_valid, y_pred, output_dict=True)\n",
    "    \n",
    "    resultados = {\n",
    "        \"Modelo\": \"Random Forest\",\n",
    "        \"Accuracy\": reporte[\"accuracy\"],\n",
    "        \"Precision\": reporte[\"1\"][\"precision\"],\n",
    "        \"Recall\": reporte[\"1\"][\"recall\"],\n",
    "        \"F1 Score\": reporte[\"1\"][\"f1-score\"]\n",
    "    }\n",
    "\n",
    "    # Graficar matriz de confusión\n",
    "    plt.figure(figsize=(5, 4))\n",
    "    sns.heatmap(cm, annot=True, fmt=\".2f\", cmap=\"Blues\", xticklabels=[\"No Death\", \"Death\"], yticklabels=[\"No Death\", \"Death\"])\n",
    "    plt.xlabel(\"Predicción\")\n",
    "    plt.ylabel(\"Real\")\n",
    "    plt.title(\"Matriz de Confusión - Random Forest\")\n",
    "    plt.show()\n",
    "\n",
    "    # Convertir resultados en DataFrame\n",
    "    df_resultado = pd.DataFrame([resultados])\n",
    "    return df_resultado\n"
   ]
  },
  {
   "cell_type": "code",
   "execution_count": 12,
   "metadata": {},
   "outputs": [
    {
     "data": {
      "image/png": "[encoded data removed]",
      "text/plain": [
       "<Figure size 500x400 with 2 Axes>"
      ]
     },
     "metadata": {},
     "output_type": "display_data"
    },
    {
     "name": "stdout",
     "output_type": "stream",
     "text": [
      "          Modelo  Accuracy  Precision  Recall  F1 Score\n",
      "0  Random Forest       1.0        1.0     1.0       1.0\n"
     ]
    }
   ],
   "source": [
    "# df es el DataFrame con los datos, donde 'death' es la columna objetivo\n",
    "df = df_pca\n",
    "\n",
    "X = df.drop(columns=[\"death\"])\n",
    "y = df[\"death\"]\n",
    "\n",
    "resultados = evaluar_random_forest(X, y)\n",
    "\n",
    "# Guardar el nombre manualmente\n",
    "nombre_df = \"df_PCA\"\n",
    "\n",
    "# Imprimir el nombre del conjunto de datos\n",
    "# print(f\"Nombre del Conjunto de Datos: {nombre_df}\")\n",
    "\n",
    "print(resultados)"
   ]
  }
 ],
 "metadata": {
  "kernelspec": {
   "display_name": ".venv",
   "language": "python",
   "name": "python3"
  },
  "language_info": {
   "codemirror_mode": {
    "name": "ipython",
    "version": 3
   },
   "file_extension": ".py",
   "mimetype": "text/x-python",
   "name": "python",
   "nbconvert_exporter": "python",
   "pygments_lexer": "ipython3",
   "version": "3.11.9"
  }
 },
 "nbformat": 4,
 "nbformat_minor": 2
}
