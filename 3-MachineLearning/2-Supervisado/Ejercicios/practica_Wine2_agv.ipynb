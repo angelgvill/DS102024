{
 "cells": [
  {
   "cell_type": "code",
   "execution_count": 2,
   "metadata": {},
   "outputs": [],
   "source": [
    "import pandas as pd\n",
    "import seaborn as sns\n",
    "import numpy as np\n",
    "\n",
    "from sklearn.metrics import root_mean_squared_error, r2_score ,mean_absolute_percentage_error "
   ]
  },
  {
   "cell_type": "code",
   "execution_count": 3,
   "metadata": {},
   "outputs": [
    {
     "data": {
      "text/html": [
       "<div>\n",
       "<style scoped>\n",
       "    .dataframe tbody tr th:only-of-type {\n",
       "        vertical-align: middle;\n",
       "    }\n",
       "\n",
       "    .dataframe tbody tr th {\n",
       "        vertical-align: top;\n",
       "    }\n",
       "\n",
       "    .dataframe thead th {\n",
       "        text-align: right;\n",
       "    }\n",
       "</style>\n",
       "<table border=\"1\" class=\"dataframe\">\n",
       "  <thead>\n",
       "    <tr style=\"text-align: right;\">\n",
       "      <th></th>\n",
       "      <th>fixed acidity</th>\n",
       "      <th>volatile acidity</th>\n",
       "      <th>citric acid</th>\n",
       "      <th>residual sugar</th>\n",
       "      <th>chlorides</th>\n",
       "      <th>free sulfur dioxide</th>\n",
       "      <th>total sulfur dioxide</th>\n",
       "      <th>density</th>\n",
       "      <th>pH</th>\n",
       "      <th>sulphates</th>\n",
       "      <th>alcohol</th>\n",
       "      <th>quality</th>\n",
       "    </tr>\n",
       "  </thead>\n",
       "  <tbody>\n",
       "    <tr>\n",
       "      <th>0</th>\n",
       "      <td>7.4</td>\n",
       "      <td>0.70</td>\n",
       "      <td>0.00</td>\n",
       "      <td>1.9</td>\n",
       "      <td>0.076</td>\n",
       "      <td>11.0</td>\n",
       "      <td>34.0</td>\n",
       "      <td>0.9978</td>\n",
       "      <td>3.51</td>\n",
       "      <td>0.56</td>\n",
       "      <td>9.4</td>\n",
       "      <td>5</td>\n",
       "    </tr>\n",
       "    <tr>\n",
       "      <th>1</th>\n",
       "      <td>7.8</td>\n",
       "      <td>0.88</td>\n",
       "      <td>0.00</td>\n",
       "      <td>2.6</td>\n",
       "      <td>0.098</td>\n",
       "      <td>25.0</td>\n",
       "      <td>67.0</td>\n",
       "      <td>0.9968</td>\n",
       "      <td>3.20</td>\n",
       "      <td>0.68</td>\n",
       "      <td>9.8</td>\n",
       "      <td>5</td>\n",
       "    </tr>\n",
       "    <tr>\n",
       "      <th>2</th>\n",
       "      <td>7.8</td>\n",
       "      <td>0.76</td>\n",
       "      <td>0.04</td>\n",
       "      <td>2.3</td>\n",
       "      <td>0.092</td>\n",
       "      <td>15.0</td>\n",
       "      <td>54.0</td>\n",
       "      <td>0.9970</td>\n",
       "      <td>3.26</td>\n",
       "      <td>0.65</td>\n",
       "      <td>9.8</td>\n",
       "      <td>5</td>\n",
       "    </tr>\n",
       "    <tr>\n",
       "      <th>3</th>\n",
       "      <td>11.2</td>\n",
       "      <td>0.28</td>\n",
       "      <td>0.56</td>\n",
       "      <td>1.9</td>\n",
       "      <td>0.075</td>\n",
       "      <td>17.0</td>\n",
       "      <td>60.0</td>\n",
       "      <td>0.9980</td>\n",
       "      <td>3.16</td>\n",
       "      <td>0.58</td>\n",
       "      <td>9.8</td>\n",
       "      <td>6</td>\n",
       "    </tr>\n",
       "    <tr>\n",
       "      <th>4</th>\n",
       "      <td>7.4</td>\n",
       "      <td>0.70</td>\n",
       "      <td>0.00</td>\n",
       "      <td>1.9</td>\n",
       "      <td>0.076</td>\n",
       "      <td>11.0</td>\n",
       "      <td>34.0</td>\n",
       "      <td>0.9978</td>\n",
       "      <td>3.51</td>\n",
       "      <td>0.56</td>\n",
       "      <td>9.4</td>\n",
       "      <td>5</td>\n",
       "    </tr>\n",
       "    <tr>\n",
       "      <th>5</th>\n",
       "      <td>7.4</td>\n",
       "      <td>0.66</td>\n",
       "      <td>0.00</td>\n",
       "      <td>1.8</td>\n",
       "      <td>0.075</td>\n",
       "      <td>13.0</td>\n",
       "      <td>40.0</td>\n",
       "      <td>0.9978</td>\n",
       "      <td>3.51</td>\n",
       "      <td>0.56</td>\n",
       "      <td>9.4</td>\n",
       "      <td>5</td>\n",
       "    </tr>\n",
       "    <tr>\n",
       "      <th>6</th>\n",
       "      <td>7.9</td>\n",
       "      <td>0.60</td>\n",
       "      <td>0.06</td>\n",
       "      <td>1.6</td>\n",
       "      <td>0.069</td>\n",
       "      <td>15.0</td>\n",
       "      <td>59.0</td>\n",
       "      <td>0.9964</td>\n",
       "      <td>3.30</td>\n",
       "      <td>0.46</td>\n",
       "      <td>9.4</td>\n",
       "      <td>5</td>\n",
       "    </tr>\n",
       "    <tr>\n",
       "      <th>7</th>\n",
       "      <td>7.3</td>\n",
       "      <td>0.65</td>\n",
       "      <td>0.00</td>\n",
       "      <td>1.2</td>\n",
       "      <td>0.065</td>\n",
       "      <td>15.0</td>\n",
       "      <td>21.0</td>\n",
       "      <td>0.9946</td>\n",
       "      <td>3.39</td>\n",
       "      <td>0.47</td>\n",
       "      <td>10.0</td>\n",
       "      <td>7</td>\n",
       "    </tr>\n",
       "    <tr>\n",
       "      <th>8</th>\n",
       "      <td>7.8</td>\n",
       "      <td>0.58</td>\n",
       "      <td>0.02</td>\n",
       "      <td>2.0</td>\n",
       "      <td>0.073</td>\n",
       "      <td>9.0</td>\n",
       "      <td>18.0</td>\n",
       "      <td>0.9968</td>\n",
       "      <td>3.36</td>\n",
       "      <td>0.57</td>\n",
       "      <td>9.5</td>\n",
       "      <td>7</td>\n",
       "    </tr>\n",
       "    <tr>\n",
       "      <th>9</th>\n",
       "      <td>7.5</td>\n",
       "      <td>0.50</td>\n",
       "      <td>0.36</td>\n",
       "      <td>6.1</td>\n",
       "      <td>0.071</td>\n",
       "      <td>17.0</td>\n",
       "      <td>102.0</td>\n",
       "      <td>0.9978</td>\n",
       "      <td>3.35</td>\n",
       "      <td>0.80</td>\n",
       "      <td>10.5</td>\n",
       "      <td>5</td>\n",
       "    </tr>\n",
       "  </tbody>\n",
       "</table>\n",
       "</div>"
      ],
      "text/plain": [
       "   fixed acidity  volatile acidity  citric acid  residual sugar  chlorides  \\\n",
       "0            7.4              0.70         0.00             1.9      0.076   \n",
       "1            7.8              0.88         0.00             2.6      0.098   \n",
       "2            7.8              0.76         0.04             2.3      0.092   \n",
       "3           11.2              0.28         0.56             1.9      0.075   \n",
       "4            7.4              0.70         0.00             1.9      0.076   \n",
       "5            7.4              0.66         0.00             1.8      0.075   \n",
       "6            7.9              0.60         0.06             1.6      0.069   \n",
       "7            7.3              0.65         0.00             1.2      0.065   \n",
       "8            7.8              0.58         0.02             2.0      0.073   \n",
       "9            7.5              0.50         0.36             6.1      0.071   \n",
       "\n",
       "   free sulfur dioxide  total sulfur dioxide  density    pH  sulphates  \\\n",
       "0                 11.0                  34.0   0.9978  3.51       0.56   \n",
       "1                 25.0                  67.0   0.9968  3.20       0.68   \n",
       "2                 15.0                  54.0   0.9970  3.26       0.65   \n",
       "3                 17.0                  60.0   0.9980  3.16       0.58   \n",
       "4                 11.0                  34.0   0.9978  3.51       0.56   \n",
       "5                 13.0                  40.0   0.9978  3.51       0.56   \n",
       "6                 15.0                  59.0   0.9964  3.30       0.46   \n",
       "7                 15.0                  21.0   0.9946  3.39       0.47   \n",
       "8                  9.0                  18.0   0.9968  3.36       0.57   \n",
       "9                 17.0                 102.0   0.9978  3.35       0.80   \n",
       "\n",
       "   alcohol  quality  \n",
       "0      9.4        5  \n",
       "1      9.8        5  \n",
       "2      9.8        5  \n",
       "3      9.8        6  \n",
       "4      9.4        5  \n",
       "5      9.4        5  \n",
       "6      9.4        5  \n",
       "7     10.0        7  \n",
       "8      9.5        7  \n",
       "9     10.5        5  "
      ]
     },
     "execution_count": 3,
     "metadata": {},
     "output_type": "execute_result"
    }
   ],
   "source": [
    "data = pd.read_csv('./data/winequality-red.csv', sep = ';') #aquí dejo el original de lectura de datos\n",
    "\n",
    "data.head(10)"
   ]
  },
  {
   "cell_type": "code",
   "execution_count": 4,
   "metadata": {},
   "outputs": [],
   "source": [
    "df = data.copy()"
   ]
  },
  {
   "cell_type": "code",
   "execution_count": 5,
   "metadata": {},
   "outputs": [],
   "source": [
    "# sns.pairplot (df)"
   ]
  },
  {
   "cell_type": "code",
   "execution_count": 6,
   "metadata": {},
   "outputs": [],
   "source": [
    "X = df.drop (columns ='quality')\n",
    "y = df ['quality']"
   ]
  },
  {
   "cell_type": "code",
   "execution_count": 7,
   "metadata": {},
   "outputs": [
    {
     "data": {
      "text/plain": [
       "<Axes: ylabel='Frequency'>"
      ]
     },
     "execution_count": 7,
     "metadata": {},
     "output_type": "execute_result"
    },
    {
     "data": {
      "image/png": "[encoded data removed]",
      "text/plain": [
       "<Figure size 640x480 with 1 Axes>"
      ]
     },
     "metadata": {},
     "output_type": "display_data"
    }
   ],
   "source": [
    "np.log(y).plot (kind='hist')"
   ]
  },
  {
   "cell_type": "code",
   "execution_count": 8,
   "metadata": {},
   "outputs": [
    {
     "data": {
      "text/plain": [
       "count    1599.000000\n",
       "mean        5.636023\n",
       "std         0.807569\n",
       "min         3.000000\n",
       "25%         5.000000\n",
       "50%         6.000000\n",
       "75%         6.000000\n",
       "max         8.000000\n",
       "Name: quality, dtype: float64"
      ]
     },
     "execution_count": 8,
     "metadata": {},
     "output_type": "execute_result"
    }
   ],
   "source": [
    "y.describe()"
   ]
  },
  {
   "cell_type": "markdown",
   "metadata": {},
   "source": [
    "\n",
    " primero hemos probado a predecir 'quality', que se trata de una variable discreta, con lo cual se trataría de un modelo de clasificación. \n",
    " ________________________________________________________________________________________________________________________________\n",
    "\n",
    " Así pues, vamos a probar a predecir el 'alcohol', que es una variable numérica continua, con lo que será un modelo de regresión."
   ]
  },
  {
   "cell_type": "code",
   "execution_count": 9,
   "metadata": {},
   "outputs": [],
   "source": [
    "df = data.copy()"
   ]
  },
  {
   "cell_type": "code",
   "execution_count": 10,
   "metadata": {},
   "outputs": [],
   "source": [
    "X = df.drop (columns ='alcohol')\n",
    "y = df ['alcohol']"
   ]
  },
  {
   "cell_type": "code",
   "execution_count": 11,
   "metadata": {},
   "outputs": [],
   "source": [
    "# from sklearn.preprocessing import StandardScaler, MinMaxScaler\n",
    "\n",
    "# esc = StandardScaler()\n",
    "\n",
    "# esc.fit(X)\n",
    "\n",
    "# X_esc = esc.transform(X)"
   ]
  },
  {
   "cell_type": "code",
   "execution_count": 12,
   "metadata": {},
   "outputs": [],
   "source": [
    "from sklearn.preprocessing import StandardScaler, MinMaxScaler, PowerTransformer\n",
    "\n",
    "esc = PowerTransformer()\n",
    "\n",
    "esc.fit(X)\n",
    "\n",
    "X_esc = esc.transform(X)"
   ]
  },
  {
   "cell_type": "code",
   "execution_count": 13,
   "metadata": {},
   "outputs": [],
   "source": [
    "X = X_esc"
   ]
  },
  {
   "cell_type": "code",
   "execution_count": 14,
   "metadata": {},
   "outputs": [
    {
     "data": {
      "text/plain": [
       "<Axes: ylabel='Frequency'>"
      ]
     },
     "execution_count": 14,
     "metadata": {},
     "output_type": "execute_result"
    },
    {
     "data": {
      "image/png": "[encoded data removed]",
      "text/plain": [
       "<Figure size 640x480 with 1 Axes>"
      ]
     },
     "metadata": {},
     "output_type": "display_data"
    }
   ],
   "source": [
    "y.plot (kind='hist')"
   ]
  },
  {
   "cell_type": "code",
   "execution_count": 15,
   "metadata": {},
   "outputs": [
    {
     "data": {
      "text/plain": [
       "count    1599.000000\n",
       "mean       10.422983\n",
       "std         1.065668\n",
       "min         8.400000\n",
       "25%         9.500000\n",
       "50%        10.200000\n",
       "75%        11.100000\n",
       "max        14.900000\n",
       "Name: alcohol, dtype: float64"
      ]
     },
     "execution_count": 15,
     "metadata": {},
     "output_type": "execute_result"
    }
   ],
   "source": [
    "y.describe()"
   ]
  },
  {
   "cell_type": "code",
   "execution_count": 16,
   "metadata": {},
   "outputs": [
    {
     "data": {
      "text/plain": [
       "0    2.251292\n",
       "Name: alcohol, dtype: float64"
      ]
     },
     "execution_count": 16,
     "metadata": {},
     "output_type": "execute_result"
    }
   ],
   "source": [
    "np.log(y).mode()"
   ]
  },
  {
   "cell_type": "code",
   "execution_count": 17,
   "metadata": {},
   "outputs": [
    {
     "data": {
      "text/plain": [
       "count    1599.000000\n",
       "mean        2.339021\n",
       "std         0.098899\n",
       "min         2.128232\n",
       "25%         2.251292\n",
       "50%         2.322388\n",
       "75%         2.406945\n",
       "max         2.701361\n",
       "Name: alcohol, dtype: float64"
      ]
     },
     "execution_count": 17,
     "metadata": {},
     "output_type": "execute_result"
    }
   ],
   "source": [
    "np.log(y).describe()"
   ]
  },
  {
   "cell_type": "code",
   "execution_count": 18,
   "metadata": {},
   "outputs": [
    {
     "data": {
      "text/plain": [
       "<Axes: ylabel='Frequency'>"
      ]
     },
     "execution_count": 18,
     "metadata": {},
     "output_type": "execute_result"
    },
    {
     "data": {
      "image/png": "[encoded data removed]",
      "text/plain": [
       "<Figure size 640x480 with 1 Axes>"
      ]
     },
     "metadata": {},
     "output_type": "display_data"
    }
   ],
   "source": [
    "y.plot (kind='hist')"
   ]
  },
  {
   "cell_type": "code",
   "execution_count": 19,
   "metadata": {},
   "outputs": [],
   "source": [
    "y = np.log(y)   # muy importante esta línea, pues aplicamos el logaritmo a la variable a predecir\n",
    "# para hacer los test con esta nueva variable\n"
   ]
  },
  {
   "cell_type": "code",
   "execution_count": 20,
   "metadata": {},
   "outputs": [
    {
     "data": {
      "text/plain": [
       "array([[-4.42665887e-01,  9.95541630e-01, -1.53110932e+00, ...,\n",
       "         1.27568966e+00, -5.81649810e-01, -7.77467217e-01],\n",
       "       [-1.61307687e-01,  1.77129874e+00, -1.53110932e+00, ...,\n",
       "        -7.09517443e-01,  3.95139954e-01, -7.77467217e-01],\n",
       "       [-1.61307687e-01,  1.26980139e+00, -1.25535866e+00, ...,\n",
       "        -3.10054090e-01,  1.83771552e-01, -7.77467217e-01],\n",
       "       ...,\n",
       "       [-1.36436736e+00,  3.87059824e-04, -6.83293826e-01, ...,\n",
       "         7.18868608e-01,  8.20841495e-01,  4.73370362e-01],\n",
       "       [-1.76745837e+00,  7.28552768e-01, -7.43826364e-01, ...,\n",
       "         1.63859531e+00,  5.88343819e-01, -7.77467217e-01],\n",
       "       [-1.66263981e+00, -1.32045850e+00,  1.03107021e+00, ...,\n",
       "         5.29831604e-01,  2.56369273e-01,  4.73370362e-01]],\n",
       "      shape=(1599, 11))"
      ]
     },
     "execution_count": 20,
     "metadata": {},
     "output_type": "execute_result"
    }
   ],
   "source": [
    "X"
   ]
  },
  {
   "cell_type": "code",
   "execution_count": 21,
   "metadata": {},
   "outputs": [],
   "source": [
    "# sns.heatmap(X.corr(), annot= True, cmap = 'Reds')"
   ]
  },
  {
   "cell_type": "code",
   "execution_count": 25,
   "metadata": {},
   "outputs": [],
   "source": [
    "filt_corr = np.where(np.abs(X.corr())>0.5, X.corr(), 0)\n",
    "\n",
    "#creamos un nuevo dataframe\n",
    "f_corr_df = pd.DataFrame(filt_corr, index=X.corr().index, columns=X.corr().columns)"
   ]
  },
  {
   "cell_type": "code",
   "execution_count": 57,
   "metadata": {},
   "outputs": [
    {
     "data": {
      "text/plain": [
       "<Axes: >"
      ]
     },
     "execution_count": 57,
     "metadata": {},
     "output_type": "execute_result"
    },
    {
     "data": {
      "image/png": "[encoded data removed]",
      "text/plain": [
       "<Figure size 640x480 with 2 Axes>"
      ]
     },
     "metadata": {},
     "output_type": "display_data"
    }
   ],
   "source": [
    "sns.heatmap(f_corr_df, annot= True, cmap = 'Reds')\n",
    "# sns.heatmap(np.where(np.abs(X.corr())>0.5, X.corr(), 0), annot = True, cmap = 'Reds')"
   ]
  },
  {
   "cell_type": "markdown",
   "metadata": {},
   "source": [
    "quiero hacer un modelo para ..."
   ]
  },
  {
   "cell_type": "code",
   "execution_count": 26,
   "metadata": {},
   "outputs": [],
   "source": [
    "from sklearn.model_selection import train_test_split\n",
    "from sklearn.linear_model import LinearRegression"
   ]
  },
  {
   "cell_type": "code",
   "execution_count": 27,
   "metadata": {},
   "outputs": [],
   "source": [
    "X_train, X_test, y_train, y_test = train_test_split(X, y, test_size=.2, random_state=69)"
   ]
  },
  {
   "cell_type": "code",
   "execution_count": 28,
   "metadata": {},
   "outputs": [
    {
     "name": "stdout",
     "output_type": "stream",
     "text": [
      "RMSE: 0.6428867300055872\n",
      "R2: 0.6416592761143471\n",
      "MAPE: 0.04778630450600939\n"
     ]
    }
   ],
   "source": [
    "lr = LinearRegression()\n",
    "lr.fit(X_train, y_train)\n",
    "\n",
    "y_pred = lr.predict (X_test)\n",
    "\n",
    "print('RMSE:',root_mean_squared_error (y_test, y_pred))\n",
    "print('R2:',r2_score(y_test, y_pred))\n",
    "print('MAPE:',mean_absolute_percentage_error (y_test, y_pred))"
   ]
  },
  {
   "cell_type": "markdown",
   "metadata": {},
   "source": [
    "A ver si podemos entrenar mejor al modelo, cambiar variables, combinarlas, juntarlas, etc.. y/o probar modelos de "
   ]
  },
  {
   "cell_type": "markdown",
   "metadata": {},
   "source": [
    "lo primero, la distribución de la y estaba sesgada y ya mejora cuando le aplicamos el logaritmo, cosa que ya hicimos."
   ]
  },
  {
   "cell_type": "code",
   "execution_count": 29,
   "metadata": {},
   "outputs": [
    {
     "data": {
      "text/html": [
       "<div>\n",
       "<style scoped>\n",
       "    .dataframe tbody tr th:only-of-type {\n",
       "        vertical-align: middle;\n",
       "    }\n",
       "\n",
       "    .dataframe tbody tr th {\n",
       "        vertical-align: top;\n",
       "    }\n",
       "\n",
       "    .dataframe thead th {\n",
       "        text-align: right;\n",
       "    }\n",
       "</style>\n",
       "<table border=\"1\" class=\"dataframe\">\n",
       "  <thead>\n",
       "    <tr style=\"text-align: right;\">\n",
       "      <th></th>\n",
       "      <th>fixed acidity</th>\n",
       "      <th>volatile acidity</th>\n",
       "      <th>citric acid</th>\n",
       "      <th>residual sugar</th>\n",
       "      <th>chlorides</th>\n",
       "      <th>free sulfur dioxide</th>\n",
       "      <th>total sulfur dioxide</th>\n",
       "      <th>density</th>\n",
       "      <th>pH</th>\n",
       "      <th>sulphates</th>\n",
       "      <th>quality</th>\n",
       "    </tr>\n",
       "  </thead>\n",
       "  <tbody>\n",
       "    <tr>\n",
       "      <th>count</th>\n",
       "      <td>1599.000000</td>\n",
       "      <td>1599.000000</td>\n",
       "      <td>1599.000000</td>\n",
       "      <td>1599.000000</td>\n",
       "      <td>1599.000000</td>\n",
       "      <td>1599.000000</td>\n",
       "      <td>1599.000000</td>\n",
       "      <td>1599.000000</td>\n",
       "      <td>1599.000000</td>\n",
       "      <td>1599.000000</td>\n",
       "      <td>1599.000000</td>\n",
       "    </tr>\n",
       "    <tr>\n",
       "      <th>mean</th>\n",
       "      <td>8.319637</td>\n",
       "      <td>0.527821</td>\n",
       "      <td>0.270976</td>\n",
       "      <td>2.538806</td>\n",
       "      <td>0.087467</td>\n",
       "      <td>15.874922</td>\n",
       "      <td>46.467792</td>\n",
       "      <td>0.996747</td>\n",
       "      <td>3.311113</td>\n",
       "      <td>0.658149</td>\n",
       "      <td>5.636023</td>\n",
       "    </tr>\n",
       "    <tr>\n",
       "      <th>std</th>\n",
       "      <td>1.741096</td>\n",
       "      <td>0.179060</td>\n",
       "      <td>0.194801</td>\n",
       "      <td>1.409928</td>\n",
       "      <td>0.047065</td>\n",
       "      <td>10.460157</td>\n",
       "      <td>32.895324</td>\n",
       "      <td>0.001887</td>\n",
       "      <td>0.154386</td>\n",
       "      <td>0.169507</td>\n",
       "      <td>0.807569</td>\n",
       "    </tr>\n",
       "    <tr>\n",
       "      <th>min</th>\n",
       "      <td>4.600000</td>\n",
       "      <td>0.120000</td>\n",
       "      <td>0.000000</td>\n",
       "      <td>0.900000</td>\n",
       "      <td>0.012000</td>\n",
       "      <td>1.000000</td>\n",
       "      <td>6.000000</td>\n",
       "      <td>0.990070</td>\n",
       "      <td>2.740000</td>\n",
       "      <td>0.330000</td>\n",
       "      <td>3.000000</td>\n",
       "    </tr>\n",
       "    <tr>\n",
       "      <th>25%</th>\n",
       "      <td>7.100000</td>\n",
       "      <td>0.390000</td>\n",
       "      <td>0.090000</td>\n",
       "      <td>1.900000</td>\n",
       "      <td>0.070000</td>\n",
       "      <td>7.000000</td>\n",
       "      <td>22.000000</td>\n",
       "      <td>0.995600</td>\n",
       "      <td>3.210000</td>\n",
       "      <td>0.550000</td>\n",
       "      <td>5.000000</td>\n",
       "    </tr>\n",
       "    <tr>\n",
       "      <th>50%</th>\n",
       "      <td>7.900000</td>\n",
       "      <td>0.520000</td>\n",
       "      <td>0.260000</td>\n",
       "      <td>2.200000</td>\n",
       "      <td>0.079000</td>\n",
       "      <td>14.000000</td>\n",
       "      <td>38.000000</td>\n",
       "      <td>0.996750</td>\n",
       "      <td>3.310000</td>\n",
       "      <td>0.620000</td>\n",
       "      <td>6.000000</td>\n",
       "    </tr>\n",
       "    <tr>\n",
       "      <th>75%</th>\n",
       "      <td>9.200000</td>\n",
       "      <td>0.640000</td>\n",
       "      <td>0.420000</td>\n",
       "      <td>2.600000</td>\n",
       "      <td>0.090000</td>\n",
       "      <td>21.000000</td>\n",
       "      <td>62.000000</td>\n",
       "      <td>0.997835</td>\n",
       "      <td>3.400000</td>\n",
       "      <td>0.730000</td>\n",
       "      <td>6.000000</td>\n",
       "    </tr>\n",
       "    <tr>\n",
       "      <th>max</th>\n",
       "      <td>15.900000</td>\n",
       "      <td>1.580000</td>\n",
       "      <td>1.000000</td>\n",
       "      <td>15.500000</td>\n",
       "      <td>0.611000</td>\n",
       "      <td>72.000000</td>\n",
       "      <td>289.000000</td>\n",
       "      <td>1.003690</td>\n",
       "      <td>4.010000</td>\n",
       "      <td>2.000000</td>\n",
       "      <td>8.000000</td>\n",
       "    </tr>\n",
       "  </tbody>\n",
       "</table>\n",
       "</div>"
      ],
      "text/plain": [
       "       fixed acidity  volatile acidity  citric acid  residual sugar  \\\n",
       "count    1599.000000       1599.000000  1599.000000     1599.000000   \n",
       "mean        8.319637          0.527821     0.270976        2.538806   \n",
       "std         1.741096          0.179060     0.194801        1.409928   \n",
       "min         4.600000          0.120000     0.000000        0.900000   \n",
       "25%         7.100000          0.390000     0.090000        1.900000   \n",
       "50%         7.900000          0.520000     0.260000        2.200000   \n",
       "75%         9.200000          0.640000     0.420000        2.600000   \n",
       "max        15.900000          1.580000     1.000000       15.500000   \n",
       "\n",
       "         chlorides  free sulfur dioxide  total sulfur dioxide      density  \\\n",
       "count  1599.000000          1599.000000           1599.000000  1599.000000   \n",
       "mean      0.087467            15.874922             46.467792     0.996747   \n",
       "std       0.047065            10.460157             32.895324     0.001887   \n",
       "min       0.012000             1.000000              6.000000     0.990070   \n",
       "25%       0.070000             7.000000             22.000000     0.995600   \n",
       "50%       0.079000            14.000000             38.000000     0.996750   \n",
       "75%       0.090000            21.000000             62.000000     0.997835   \n",
       "max       0.611000            72.000000            289.000000     1.003690   \n",
       "\n",
       "                pH    sulphates      quality  \n",
       "count  1599.000000  1599.000000  1599.000000  \n",
       "mean      3.311113     0.658149     5.636023  \n",
       "std       0.154386     0.169507     0.807569  \n",
       "min       2.740000     0.330000     3.000000  \n",
       "25%       3.210000     0.550000     5.000000  \n",
       "50%       3.310000     0.620000     6.000000  \n",
       "75%       3.400000     0.730000     6.000000  \n",
       "max       4.010000     2.000000     8.000000  "
      ]
     },
     "execution_count": 29,
     "metadata": {},
     "output_type": "execute_result"
    }
   ],
   "source": [
    "pd.DataFrame(X).describe()"
   ]
  },
  {
   "cell_type": "markdown",
   "metadata": {},
   "source": [
    "_________________"
   ]
  },
  {
   "cell_type": "markdown",
   "metadata": {},
   "source": [
    "## Clase para regresión lineal\n"
   ]
  },
  {
   "cell_type": "code",
   "execution_count": 30,
   "metadata": {},
   "outputs": [],
   "source": [
    "import numpy as np\n",
    "import pandas as pd\n",
    "\n",
    "class LinearRegressionBootcamp:\n",
    "    def __init__(self, normalized = False):\n",
    "        self.coeficientes = None\n",
    "        self.intercept = None\n",
    "        self.media = None\n",
    "        self.desviacion_estandar = None\n",
    "        self.normalized = normalized\n",
    "        \n",
    "    def _normalizado_features (self,X:pd.DataFrame):\n",
    "        self.media = X.mean (axis=0)\n",
    "        self.desviacion_estandar = X.std (axis=0)\n",
    "        \n",
    "        return (X - self.media)/ self.desviacion_estandar\n",
    "    \n",
    "    def fit (self,df:pd.DataFrame, target:str):\n",
    "        X = df.drop (columns = target)\n",
    "        self.feature_columns = X.columns\n",
    "        y = df[target].values\n",
    "        \n",
    "        if self.normalized:\n",
    "            X = self._normalizado_features (X)\n",
    "            \n",
    "        X = np.c_[np.ones(X.shape[0]),X]    # agrega la columna de unos para el intercepto\n",
    "        \n",
    "        theta = np.linalg.solve(X.T @ X, X.T @ y)\n",
    "        \n",
    "        self.intercepto = theta[0]\n",
    "        self.coeficientes = theta[1:]\n",
    "    \n",
    "    def predict (self, df: pd.DataFrame):\n",
    "        \n",
    "        if self.coeficientes is None or self.intercepto is None:\n",
    "            raise ValueError (\"El modelo no ha sido entrenado.\")\n",
    "        \n",
    "        X = df[self.feature_columns].copy()\n",
    "        \n",
    "        if self.normalized:\n",
    "            X = self._normalizado_features(X)\n",
    "            \n",
    "        X = X.values\n",
    "            \n",
    "        #print (X.shape)\n",
    "        #print(self.coeficientes.shape)    \n",
    "        y_pred = self.intercepto +np.dot (X, self.coeficientes)\n",
    "        \n",
    "        return y_pred  "
   ]
  },
  {
   "cell_type": "code",
   "execution_count": 38,
   "metadata": {},
   "outputs": [
    {
     "name": "stdout",
     "output_type": "stream",
     "text": [
      "Interepto: 10.422983114446494\n",
      "Coeficientes: [ 0.85745535  0.10552457  0.15968768  0.36993179 -0.04390991 -0.03157529\n",
      " -0.04573902 -1.08263909  0.55842251  0.1617152   0.18753436]\n",
      "RMSE: 0.5919529738606677\n",
      "R2: 0.6912531089251452\n",
      "MAPE: 0.043295300438974574\n"
     ]
    }
   ],
   "source": [
    "# X_train, X_test, y_train, y_test = train_test_split( df.drop( columns='alcohol'), 'alcohol', test_size=.2, random_state=69)\n",
    "\n",
    "\n",
    "model = LinearRegressionBootcamp(normalized = True)\n",
    "\n",
    "model.fit (df, 'alcohol')\n",
    "\n",
    "print ('Interepto:', model.intercepto)\n",
    "print ('Coeficientes:', model.coeficientes)\n",
    "\n",
    "y_pred = model.predict (df)\n",
    "\n",
    "print('RMSE:',root_mean_squared_error (df['alcohol'], y_pred))\n",
    "print('R2:',r2_score(df['alcohol'], y_pred))\n",
    "print('MAPE:',mean_absolute_percentage_error (df['alcohol'], y_pred))\n",
    "\n"
   ]
  },
  {
   "cell_type": "code",
   "execution_count": 52,
   "metadata": {},
   "outputs": [
    {
     "name": "stdout",
     "output_type": "stream",
     "text": [
      "<class 'pandas.core.frame.DataFrame'>\n",
      "<class 'pandas.core.series.Series'>\n"
     ]
    }
   ],
   "source": [
    "print (type(X))\n",
    "print (type(y))"
   ]
  },
  {
   "cell_type": "code",
   "execution_count": 45,
   "metadata": {},
   "outputs": [
    {
     "ename": "KeyError",
     "evalue": "'[9.4, 10.0, 9.7, 10.5, 10.2, 10.0, 10.9, 9.0, 9.5, 9.9, 12.2, 11.2, 11.1, 10.5, 11.9, 11.3, 9.5, 11.5, 10.6, 9.8, 9.5, 10.0, 10.9, 10.4, 9.9, 14.0, 10.6, 10.0, 9.7, 10.2, 11.4, 9.4, 11.3, 12.8, 10.2, 11.8, 9.6, 10.6, 11.6, 9.3, 10.6, 9.6, 9.7, 9.4, 10.4, 9.4, 9.3, 11.3, 9.5, 9.0, 9.4, 10.2, 10.2, 11.8, 9.4, 9.3, 10.4, 9.6, 10.8, 10.8, 11.1, 12.0, 9.5, 9.8, 10.0, 10.7, 10.9, 9.7, 9.5, 9.5, 11.4, 11.1, 9.6, 11.7, 9.8, 10.6, 10.8, 9.5, 9.4, 10.5, 11.8, 12.4, 9.4, 10.0, 9.2, 10.4, 14.0, 9.5, 9.25, 11.8, 9.4, 11.5, 12.0, 10.3, 10.4, 11.9, 9.7, 9.5, 11.6, 9.5, 12.3, 11.5, 9.8, 10.4, 10.5, 9.1, 9.7, 9.55, 11.0, 12.2, 11.6, 10.9, 10.5, 10.0, 8.8, 10.2, 11.0, 10.3, 9.3, 10.5, 9.9, 9.5, 10.8, 11.9, 12.4, 9.3, 10.2, 11.2, 10.75, 9.3, 11.6, 10.1, 11.3, 9.2, 9.2, 11.3, 10.8, 9.9, 10.8, 9.4, 11.2, 9.4, 13.2, 9.3, 11.0, 11.7, 11.8, 9.6, 9.5, 9.3, 12.3, 11.4, 10.3, 10.9, 10.3, 10.0, 9.8, 11.0, 10.7, 10.2, 9.0, 9.1, 11.2, 9.2, 9.56666666666667, 11.3, 10.0, 11.0, 9.3, 9.5, 10.5, 9.5, 10.1, 9.5, 10.0, 11.0, 10.1, 10.7, 10.8, 12.9, 11.3, 8.7, 11.3, 10.2, 11.0, 11.4, 9.8, 9.6, 9.6, 10.5, 9.5, 9.55, 10.8, 9.9, 10.9, 11.2, 10.6, 11.6, 9.3, 9.4, 10.9, 10.9, 10.4, 9.5, 10.4, 9.4, 9.4, 9.5, 11.7, 10.3, 9.4, 11.8, 9.3, 13.3, 9.4, 12.0, 11.5, 11.3, 10.0, 9.9, 10.9, 9.5, 12.8, 10.4, 10.9, 9.4, 10.0, 9.5, 9.5, 12.8, 11.9, 9.5, 9.8, 10.1, 12.8, 9.5, 11.8, 10.0, 9.5, 10.5, 10.6, 9.5, 9.8, 9.2, 9.5, 11.8, 12.2, 10.1, 9.6, 10.0, 9.5, 12.1, 10.2, 9.2, 9.5, 11.1, 9.5, 11.5, 10.7, 10.0, 9.1, 10.0, 10.8, 13.6, 10.8, 10.8, 11.2, 11.5, 11.5, 10.0, 10.3, 11.9, 10.0, 9.7, 11.6, 10.8, 11.0, 11.3, 9.7, 11.5, 12.5, 9.7, 9.6, 10.2, 11.0, 9.6, 10.7, 9.2, 9.8, 9.8, 12.9, 10.0333333333333, 9.4, 9.3, 9.6, 10.9, 10.5, 11.3, 10.2, 10.1, 11.8, 9.4, 11.0, 11.2, 9.9, 11.1, 9.3, 10.6, 12.1, 9.6, 9.5, 9.7, 11.0, 9.6, 11.4, 9.8, 10.4, 10.3, 10.1, 9.6, 10.4, 9.5, 9.0, 12.8, 11.4, 9.2, 12.5, 9.4, 13.3, 10.4, 9.0, 9.4, 9.8, 11.0, 12.9, 9.9, 10.1, 11.3, 9.4, 9.7, 10.9, 9.6, 10.5, 9.6, 9.3, 11.5, 10.6, 12.7, 10.2, 9.4, 9.9, 10.5, 10.5, 10.0, 10.5, 9.2, 9.1, 9.5, 12.5, 9.4, 9.4, 11.4, 9.7, 10.5, 9.8, 10.9, 9.9, 10.4, 12.3, 12.4, 10.2, 11.2, 9.4, 10.8, 9.5, 10.7, 9.7, 12.8, 9.0, 9.3, 10.3, 12.4, 9.3, 11.0, 10.8, 9.4, 9.3, 9.8, 11.1, 11.8, 9.5, 9.3, 9.5, 10.5, 9.2, 9.4, 9.9, 10.9, 9.0, 12.9, 10.0, 10.4, 11.6, 10.4, 9.9, 10.2, 10.3, 9.5, 9.3, 12.7, 11.2, 9.8, 9.5, 10.8, 10.0, 10.6, 10.0, 10.5, 10.7, 9.5, 12.1, 10.5, 12.0, 10.7, 9.4, 11.7, 10.0, 10.8, 11.2, 12.2, 9.9, 10.1, 11.0, 11.7, 10.9, 11.3, 9.5, 9.0, 10.9, 10.2, 12.2, 11.5, 10.4, 9.0, 13.6, 9.9, 11.6, 10.0, 12.8, 11.6, 10.5, 9.5, 12.4, 9.0, 13.4, 10.6, 9.9, 10.8, 9.7, 9.3, 12.8, 10.1, 9.7, 10.8, 10.9, 9.3, 13.0, 9.3, 12.8, 11.0, 10.6, 10.5, 9.6, 11.5, 9.8, 9.9, 9.2, 11.0, 10.5, 9.2, 11.3, 9.4, 12.0, 9.2, 9.5, 13.5, 11.7, 9.2, 9.5, 9.0, 11.1, 9.9, 10.9, 9.7, 9.9, 9.9, 9.7, 9.5, 11.6, 10.1, 10.5, 9.6, 9.3, 9.5, 9.4, 11.9, 10.2, 10.3, 9.8, 11.7, 11.2, 11.0, 12.7, 11.7, 12.9, 13.0, 9.4, 11.2, 11.4, 9.4, 11.7, 10.7, 11.3, 10.7, 12.9, 11.1, 11.4, 12.3, 9.8, 9.4, 11.3, 9.4, 9.7, 9.2, 9.8, 9.6, 9.4, 9.2, 10.9, 9.6, 9.3, 14.9, 9.2, 9.5, 9.6, 9.6, 9.5, 12.3, 13.5666666666667, 9.4, 12.4, 10.1, 11.3, 10.3, 10.0333333333333, 9.2, 10.4, 10.8, 10.0, 9.4, 10.8, 10.0, 10.0, 10.2, 9.8, 9.4, 9.9, 10.2, 11.0, 9.3, 9.2, 11.6, 9.3, 9.2, 10.9, 9.2, 9.7, 9.6, 9.4, 10.1, 11.4, 12.6, 10.4, 10.5, 9.9, 10.2, 10.1, 10.2, 12.0, 10.1, 9.5, 9.5, 9.3, 12.8, 9.6, 9.5, 10.4, 9.1, 10.1, 9.8, 12.7, 11.8, 11.9, 13.0, 10.2, 10.1, 12.1, 9.9, 11.95, 12.4, 9.2, 10.8, 9.5, 11.8, 10.5, 9.5, 10.2, 9.4, 10.8, 11.2, 9.8, 10.8, 11.0, 9.23333333333333, 10.7, 9.5, 9.2, 9.9, 11.2, 10.5, 10.0, 9.5, 10.1, 12.1, 11.0, 10.0, 11.2, 9.5, 10.2, 9.0, 9.3, 11.4, 9.8, 12.0, 9.5, 11.2, 9.3, 11.6, 10.5, 11.0, 9.9, 12.2, 9.3, 11.0, 12.5, 10.4, 11.4, 9.6, 9.4, 10.3, 12.0, 9.8, 9.5, 11.3, 12.5, 12.4, 10.7, 10.2, 11.4, 9.6, 10.0, 10.3, 10.7, 11.0, 10.4, 10.4, 9.4, 10.3, 9.4, 10.3, 9.9, 9.2, 9.1, 9.8, 10.4, 9.4, 11.3, 12.5, 10.8, 9.4, 9.7, 12.5, 11.4, 10.5, 11.0, 9.7, 9.2, 11.9, 9.8, 10.0, 11.7, 10.5, 9.4, 9.6, 11.2, 9.5, 9.4, 10.0, 11.5, 9.8, 10.2, 10.1, 10.6, 9.6, 9.3, 11.0, 10.7, 9.4, 11.1, 10.0, 10.6, 10.1, 10.1, 12.6, 9.0, 11.4, 9.8, 9.3, 9.5, 9.4, 12.0, 9.8, 10.8, 9.4, 11.7, 11.5, 11.5, 11.0, 10.3, 10.6, 10.7, 11.2, 9.5, 11.5, 10.1, 10.0, 9.1, 9.8, 10.6, 11.0, 9.95, 10.5, 9.2, 9.8, 8.4, 9.5, 9.8, 11.5, 9.8, 9.5, 12.7, 9.5, 9.5, 9.3, 9.3, 10.2, 9.5, 10.0, 13.0, 12.2, 9.8, 11.1, 10.0, 11.1, 11.0, 14.0, 10.8, 10.5, 10.3, 9.5, 11.5, 11.0, 10.3, 9.5, 9.4, 9.4, 10.9, 12.5, 12.1, 9.8, 10.1, 9.5, 9.9, 9.9, 11.1, 10.9, 9.4, 11.2, 9.3, 10.7, 8.8, 9.8, 9.2, 10.7, 11.8, 11.0, 9.5, 9.6, 9.4, 9.9, 10.2, 9.4, 11.8, 9.7, 9.8, 9.8, 9.7, 11.8, 11.8, 9.0, 11.4, 9.9, 11.3, 12.8, 10.0, 11.7, 10.7, 12.8, 9.9, 9.5, 9.5, 10.3, 11.0, 14.0, 11.4, 12.9, 11.7, 9.5, 11.9, 9.3, 12.0, 11.4, 11.3, 9.0, 9.8, 9.8, 9.7, 9.4, 12.0, 9.9, 10.8, 11.0, 9.5, 10.9, 12.3, 10.8, 9.5, 10.5, 10.5, 9.4, 9.3, 9.5, 9.4, 10.7, 11.1, 9.5, 9.0, 9.8, 9.1, 9.5, 11.2, 9.7, 9.8, 11.1, 9.4, 9.5, 11.0, 11.1, 8.4, 9.0, 9.5, 11.5, 9.4, 9.2, 11.5, 10.3, 9.2, 10.3, 9.7, 11.7, 12.2, 9.9, 9.4, 11.4, 10.0, 9.5, 10.2, 9.5, 12.3, 11.9, 14.0, 10.1, 9.5, 9.7, 9.5, 9.2, 12.4, 10.0, 10.2, 9.2, 10.5, 11.2, 9.2, 10.1, 12.1, 9.7, 9.6, 12.5, 11.4, 12.2, 9.2, 9.7, 10.9, 10.1, 11.1, 10.5, 9.4, 9.5, 11.3, 10.8, 10.1, 12.3, 11.3, 11.9, 11.3, 10.6, 11.0, 9.9, 12.0, 10.1, 11.0, 10.0, 10.5, 9.8, 10.6, 9.9, 10.4, 10.2, 10.5, 13.1, 11.1, 11.0, 9.7, 9.9, 10.5, 9.8, 12.8, 9.2, 11.3, 11.2, 9.4, 9.8, 10.5, 9.8, 11.6, 12.3, 9.1, 10.6, 9.6, 9.0, 9.7, 9.7, 9.2, 9.7, 11.3, 10.0, 10.1, 10.3, 12.7, 9.4, 9.5, 9.8, 8.7, 11.4, 11.4, 9.3, 11.4, 10.3, 11.2, 10.7, 11.8, 9.1, 10.6, 11.2, 12.6, 11.8, 10.0, 10.4, 9.5, 9.7, 10.9, 10.55, 10.5, 11.4, 12.4, 9.4, 9.5, 10.7, 9.4, 9.8, 11.3, 10.5, 11.0, 10.6, 10.5, 9.1, 9.5, 10.2, 9.5, 9.7, 11.9, 10.5, 9.2, 11.4, 11.2, 9.5, 9.8, 9.2, 9.6, 9.3, 9.1, 9.3, 10.9, 10.9, 12.3, 10.8, 9.4, 9.5, 12.1, 10.4, 12.0, 11.8, 9.8, 10.4, 9.4, 10.0, 9.5, 12.7, 9.8, 10.2, 11.5, 9.8, 9.5, 12.2, 9.9, 11.7, 10.1, 10.2, 12.5, 9.1, 11.3, 11.3, 11.1, 10.0, 9.7, 11.2, 9.4, 9.2, 9.1, 9.0, 10.1, 10.4, 9.5, 10.3, 11.5, 9.8, 9.7, 12.8, 9.8, 10.6, 12.3, 9.8, 10.4, 9.5, 9.5, 9.2, 9.6, 10.6, 9.6, 10.9, 11.0, 10.4, 9.6, 10.6, 9.9, 11.2, 9.7, 9.6, 10.9, 9.2, 10.0, 10.8, 9.4, 9.5, 9.6, 10.4, 9.5, 12.0, 12.3, 9.5, 10.8, 10.8, 10.2, 9.2, 9.7, 10.2, 10.4, 9.6, 9.6, 12.5, 11.1, 10.2, 9.2, 10.2, 10.3, 9.0, 9.6, 9.5, 9.9, 9.8, 13.0, 9.4, 10.0, 12.7, 9.4, 9.5, 9.5, 12.9, 9.5, 11.2, 10.8, 10.1, 12.5, 10.7, 10.8, 10.5, 10.3, 11.1, 12.5, 9.6, 9.2, 9.2, 9.4, 9.8, 9.2, 9.4, 11.9, 12.0, 9.2, 11.8, 10.5, 9.8, 12.4, 10.7, 9.9, 9.3, 9.1, 9.6, 10.5, 9.4, 9.6, 11.8, 10.1, 9.8, 13.3, 11.8, 8.5, 11.0, 10.3, 12.5, 9.7, 11.8, 12.0, 10.0, 11.5, 12.6, 10.5, 10.9, 11.4, 11.0, 9.7, 10.0, 9.3, 10.5, 9.9, 9.0, 11.0, 10.9, 9.5, 10.0, 9.6, 9.1, 10.2, 11.4, 9.6, 9.8, 10.1, 9.4, 9.0, 9.1, 10.4, 10.2, 9.4, 10.0, 9.5, 10.9, 9.5, 9.2, 10.2, 9.3, 11.2, 11.4, 9.8, 10.9, 10.4, 9.4, 10.9, 10.8, 9.5, 9.7, 12.8, 11.1, 11.4, 9.6, 9.6, 10.1, 10.4, 10.0, 11.1, 10.0, 10.9, 10.6, 9.6, 10.5, 11.3, 14.0, 11.1, 11.3, 9.9, 11.7, 9.4, 13.6, 10.4, 9.7, 9.7, 10.5, 11.8, 10.1, 9.4, 9.9, 9.0, 10.9, 10.2, 9.4, 9.3, 9.8, 9.8, 9.5, 10.0, 10.9, 11.0, 10.4, 12.6, 11.5, 9.1, 9.3, 9.3, 9.6, 11.0] not found in axis'",
     "output_type": "error",
     "traceback": [
      "\u001b[0;31m---------------------------------------------------------------------------\u001b[0m",
      "\u001b[0;31mKeyError\u001b[0m                                  Traceback (most recent call last)",
      "Cell \u001b[0;32mIn[45], line 22\u001b[0m\n\u001b[1;32m     20\u001b[0m \u001b[38;5;66;03m# Crear y entrenar el modelo\u001b[39;00m\n\u001b[1;32m     21\u001b[0m model \u001b[38;5;241m=\u001b[39m LinearRegressionBootcamp(normalized\u001b[38;5;241m=\u001b[39m\u001b[38;5;28;01mFalse\u001b[39;00m)  \u001b[38;5;66;03m# Ya estamos normalizando con StandardScaler\u001b[39;00m\n\u001b[0;32m---> 22\u001b[0m \u001b[43mmodel\u001b[49m\u001b[38;5;241;43m.\u001b[39;49m\u001b[43mfit\u001b[49m\u001b[43m(\u001b[49m\u001b[43mX_train_scaled\u001b[49m\u001b[43m,\u001b[49m\u001b[43m \u001b[49m\u001b[43my_train\u001b[49m\u001b[43m)\u001b[49m\n\u001b[1;32m     24\u001b[0m \u001b[38;5;66;03m# Obtener coeficientes e intercepto\u001b[39;00m\n\u001b[1;32m     25\u001b[0m \u001b[38;5;28mprint\u001b[39m(\u001b[38;5;124m\"\u001b[39m\u001b[38;5;124mIntercepto:\u001b[39m\u001b[38;5;124m\"\u001b[39m, model\u001b[38;5;241m.\u001b[39mintercepto)\n",
      "Cell \u001b[0;32mIn[30], line 19\u001b[0m, in \u001b[0;36mLinearRegressionBootcamp.fit\u001b[0;34m(self, df, target)\u001b[0m\n\u001b[1;32m     18\u001b[0m \u001b[38;5;28;01mdef\u001b[39;00m\u001b[38;5;250m \u001b[39m\u001b[38;5;21mfit\u001b[39m (\u001b[38;5;28mself\u001b[39m,df:pd\u001b[38;5;241m.\u001b[39mDataFrame, target:\u001b[38;5;28mstr\u001b[39m):\n\u001b[0;32m---> 19\u001b[0m     X \u001b[38;5;241m=\u001b[39m \u001b[43mdf\u001b[49m\u001b[38;5;241;43m.\u001b[39;49m\u001b[43mdrop\u001b[49m\u001b[43m \u001b[49m\u001b[43m(\u001b[49m\u001b[43mcolumns\u001b[49m\u001b[43m \u001b[49m\u001b[38;5;241;43m=\u001b[39;49m\u001b[43m \u001b[49m\u001b[43mtarget\u001b[49m\u001b[43m)\u001b[49m\n\u001b[1;32m     20\u001b[0m     \u001b[38;5;28mself\u001b[39m\u001b[38;5;241m.\u001b[39mfeature_columns \u001b[38;5;241m=\u001b[39m X\u001b[38;5;241m.\u001b[39mcolumns\n\u001b[1;32m     21\u001b[0m     y \u001b[38;5;241m=\u001b[39m df[target]\u001b[38;5;241m.\u001b[39mvalues\n",
      "File \u001b[0;32m~/Library/Caches/pypoetry/virtualenvs/bootcamp-ds-XDMmNXh0-py3.13/lib/python3.13/site-packages/pandas/core/frame.py:5581\u001b[0m, in \u001b[0;36mDataFrame.drop\u001b[0;34m(self, labels, axis, index, columns, level, inplace, errors)\u001b[0m\n\u001b[1;32m   5433\u001b[0m \u001b[38;5;28;01mdef\u001b[39;00m\u001b[38;5;250m \u001b[39m\u001b[38;5;21mdrop\u001b[39m(\n\u001b[1;32m   5434\u001b[0m     \u001b[38;5;28mself\u001b[39m,\n\u001b[1;32m   5435\u001b[0m     labels: IndexLabel \u001b[38;5;241m|\u001b[39m \u001b[38;5;28;01mNone\u001b[39;00m \u001b[38;5;241m=\u001b[39m \u001b[38;5;28;01mNone\u001b[39;00m,\n\u001b[0;32m   (...)\u001b[0m\n\u001b[1;32m   5442\u001b[0m     errors: IgnoreRaise \u001b[38;5;241m=\u001b[39m \u001b[38;5;124m\"\u001b[39m\u001b[38;5;124mraise\u001b[39m\u001b[38;5;124m\"\u001b[39m,\n\u001b[1;32m   5443\u001b[0m ) \u001b[38;5;241m-\u001b[39m\u001b[38;5;241m>\u001b[39m DataFrame \u001b[38;5;241m|\u001b[39m \u001b[38;5;28;01mNone\u001b[39;00m:\n\u001b[1;32m   5444\u001b[0m \u001b[38;5;250m    \u001b[39m\u001b[38;5;124;03m\"\"\"\u001b[39;00m\n\u001b[1;32m   5445\u001b[0m \u001b[38;5;124;03m    Drop specified labels from rows or columns.\u001b[39;00m\n\u001b[1;32m   5446\u001b[0m \n\u001b[0;32m   (...)\u001b[0m\n\u001b[1;32m   5579\u001b[0m \u001b[38;5;124;03m            weight  1.0     0.8\u001b[39;00m\n\u001b[1;32m   5580\u001b[0m \u001b[38;5;124;03m    \"\"\"\u001b[39;00m\n\u001b[0;32m-> 5581\u001b[0m     \u001b[38;5;28;01mreturn\u001b[39;00m \u001b[38;5;28;43msuper\u001b[39;49m\u001b[43m(\u001b[49m\u001b[43m)\u001b[49m\u001b[38;5;241;43m.\u001b[39;49m\u001b[43mdrop\u001b[49m\u001b[43m(\u001b[49m\n\u001b[1;32m   5582\u001b[0m \u001b[43m        \u001b[49m\u001b[43mlabels\u001b[49m\u001b[38;5;241;43m=\u001b[39;49m\u001b[43mlabels\u001b[49m\u001b[43m,\u001b[49m\n\u001b[1;32m   5583\u001b[0m \u001b[43m        \u001b[49m\u001b[43maxis\u001b[49m\u001b[38;5;241;43m=\u001b[39;49m\u001b[43maxis\u001b[49m\u001b[43m,\u001b[49m\n\u001b[1;32m   5584\u001b[0m \u001b[43m        \u001b[49m\u001b[43mindex\u001b[49m\u001b[38;5;241;43m=\u001b[39;49m\u001b[43mindex\u001b[49m\u001b[43m,\u001b[49m\n\u001b[1;32m   5585\u001b[0m \u001b[43m        \u001b[49m\u001b[43mcolumns\u001b[49m\u001b[38;5;241;43m=\u001b[39;49m\u001b[43mcolumns\u001b[49m\u001b[43m,\u001b[49m\n\u001b[1;32m   5586\u001b[0m \u001b[43m        \u001b[49m\u001b[43mlevel\u001b[49m\u001b[38;5;241;43m=\u001b[39;49m\u001b[43mlevel\u001b[49m\u001b[43m,\u001b[49m\n\u001b[1;32m   5587\u001b[0m \u001b[43m        \u001b[49m\u001b[43minplace\u001b[49m\u001b[38;5;241;43m=\u001b[39;49m\u001b[43minplace\u001b[49m\u001b[43m,\u001b[49m\n\u001b[1;32m   5588\u001b[0m \u001b[43m        \u001b[49m\u001b[43merrors\u001b[49m\u001b[38;5;241;43m=\u001b[39;49m\u001b[43merrors\u001b[49m\u001b[43m,\u001b[49m\n\u001b[1;32m   5589\u001b[0m \u001b[43m    \u001b[49m\u001b[43m)\u001b[49m\n",
      "File \u001b[0;32m~/Library/Caches/pypoetry/virtualenvs/bootcamp-ds-XDMmNXh0-py3.13/lib/python3.13/site-packages/pandas/core/generic.py:4788\u001b[0m, in \u001b[0;36mNDFrame.drop\u001b[0;34m(self, labels, axis, index, columns, level, inplace, errors)\u001b[0m\n\u001b[1;32m   4786\u001b[0m \u001b[38;5;28;01mfor\u001b[39;00m axis, labels \u001b[38;5;129;01min\u001b[39;00m axes\u001b[38;5;241m.\u001b[39mitems():\n\u001b[1;32m   4787\u001b[0m     \u001b[38;5;28;01mif\u001b[39;00m labels \u001b[38;5;129;01mis\u001b[39;00m \u001b[38;5;129;01mnot\u001b[39;00m \u001b[38;5;28;01mNone\u001b[39;00m:\n\u001b[0;32m-> 4788\u001b[0m         obj \u001b[38;5;241m=\u001b[39m \u001b[43mobj\u001b[49m\u001b[38;5;241;43m.\u001b[39;49m\u001b[43m_drop_axis\u001b[49m\u001b[43m(\u001b[49m\u001b[43mlabels\u001b[49m\u001b[43m,\u001b[49m\u001b[43m \u001b[49m\u001b[43maxis\u001b[49m\u001b[43m,\u001b[49m\u001b[43m \u001b[49m\u001b[43mlevel\u001b[49m\u001b[38;5;241;43m=\u001b[39;49m\u001b[43mlevel\u001b[49m\u001b[43m,\u001b[49m\u001b[43m \u001b[49m\u001b[43merrors\u001b[49m\u001b[38;5;241;43m=\u001b[39;49m\u001b[43merrors\u001b[49m\u001b[43m)\u001b[49m\n\u001b[1;32m   4790\u001b[0m \u001b[38;5;28;01mif\u001b[39;00m inplace:\n\u001b[1;32m   4791\u001b[0m     \u001b[38;5;28mself\u001b[39m\u001b[38;5;241m.\u001b[39m_update_inplace(obj)\n",
      "File \u001b[0;32m~/Library/Caches/pypoetry/virtualenvs/bootcamp-ds-XDMmNXh0-py3.13/lib/python3.13/site-packages/pandas/core/generic.py:4830\u001b[0m, in \u001b[0;36mNDFrame._drop_axis\u001b[0;34m(self, labels, axis, level, errors, only_slice)\u001b[0m\n\u001b[1;32m   4828\u001b[0m         new_axis \u001b[38;5;241m=\u001b[39m axis\u001b[38;5;241m.\u001b[39mdrop(labels, level\u001b[38;5;241m=\u001b[39mlevel, errors\u001b[38;5;241m=\u001b[39merrors)\n\u001b[1;32m   4829\u001b[0m     \u001b[38;5;28;01melse\u001b[39;00m:\n\u001b[0;32m-> 4830\u001b[0m         new_axis \u001b[38;5;241m=\u001b[39m \u001b[43maxis\u001b[49m\u001b[38;5;241;43m.\u001b[39;49m\u001b[43mdrop\u001b[49m\u001b[43m(\u001b[49m\u001b[43mlabels\u001b[49m\u001b[43m,\u001b[49m\u001b[43m \u001b[49m\u001b[43merrors\u001b[49m\u001b[38;5;241;43m=\u001b[39;49m\u001b[43merrors\u001b[49m\u001b[43m)\u001b[49m\n\u001b[1;32m   4831\u001b[0m     indexer \u001b[38;5;241m=\u001b[39m axis\u001b[38;5;241m.\u001b[39mget_indexer(new_axis)\n\u001b[1;32m   4833\u001b[0m \u001b[38;5;66;03m# Case for non-unique axis\u001b[39;00m\n\u001b[1;32m   4834\u001b[0m \u001b[38;5;28;01melse\u001b[39;00m:\n",
      "File \u001b[0;32m~/Library/Caches/pypoetry/virtualenvs/bootcamp-ds-XDMmNXh0-py3.13/lib/python3.13/site-packages/pandas/core/indexes/base.py:7070\u001b[0m, in \u001b[0;36mIndex.drop\u001b[0;34m(self, labels, errors)\u001b[0m\n\u001b[1;32m   7068\u001b[0m \u001b[38;5;28;01mif\u001b[39;00m mask\u001b[38;5;241m.\u001b[39many():\n\u001b[1;32m   7069\u001b[0m     \u001b[38;5;28;01mif\u001b[39;00m errors \u001b[38;5;241m!=\u001b[39m \u001b[38;5;124m\"\u001b[39m\u001b[38;5;124mignore\u001b[39m\u001b[38;5;124m\"\u001b[39m:\n\u001b[0;32m-> 7070\u001b[0m         \u001b[38;5;28;01mraise\u001b[39;00m \u001b[38;5;167;01mKeyError\u001b[39;00m(\u001b[38;5;124mf\u001b[39m\u001b[38;5;124m\"\u001b[39m\u001b[38;5;132;01m{\u001b[39;00mlabels[mask]\u001b[38;5;241m.\u001b[39mtolist()\u001b[38;5;132;01m}\u001b[39;00m\u001b[38;5;124m not found in axis\u001b[39m\u001b[38;5;124m\"\u001b[39m)\n\u001b[1;32m   7071\u001b[0m     indexer \u001b[38;5;241m=\u001b[39m indexer[\u001b[38;5;241m~\u001b[39mmask]\n\u001b[1;32m   7072\u001b[0m \u001b[38;5;28;01mreturn\u001b[39;00m \u001b[38;5;28mself\u001b[39m\u001b[38;5;241m.\u001b[39mdelete(indexer)\n",
      "\u001b[0;31mKeyError\u001b[0m: '[9.4, 10.0, 9.7, 10.5, 10.2, 10.0, 10.9, 9.0, 9.5, 9.9, 12.2, 11.2, 11.1, 10.5, 11.9, 11.3, 9.5, 11.5, 10.6, 9.8, 9.5, 10.0, 10.9, 10.4, 9.9, 14.0, 10.6, 10.0, 9.7, 10.2, 11.4, 9.4, 11.3, 12.8, 10.2, 11.8, 9.6, 10.6, 11.6, 9.3, 10.6, 9.6, 9.7, 9.4, 10.4, 9.4, 9.3, 11.3, 9.5, 9.0, 9.4, 10.2, 10.2, 11.8, 9.4, 9.3, 10.4, 9.6, 10.8, 10.8, 11.1, 12.0, 9.5, 9.8, 10.0, 10.7, 10.9, 9.7, 9.5, 9.5, 11.4, 11.1, 9.6, 11.7, 9.8, 10.6, 10.8, 9.5, 9.4, 10.5, 11.8, 12.4, 9.4, 10.0, 9.2, 10.4, 14.0, 9.5, 9.25, 11.8, 9.4, 11.5, 12.0, 10.3, 10.4, 11.9, 9.7, 9.5, 11.6, 9.5, 12.3, 11.5, 9.8, 10.4, 10.5, 9.1, 9.7, 9.55, 11.0, 12.2, 11.6, 10.9, 10.5, 10.0, 8.8, 10.2, 11.0, 10.3, 9.3, 10.5, 9.9, 9.5, 10.8, 11.9, 12.4, 9.3, 10.2, 11.2, 10.75, 9.3, 11.6, 10.1, 11.3, 9.2, 9.2, 11.3, 10.8, 9.9, 10.8, 9.4, 11.2, 9.4, 13.2, 9.3, 11.0, 11.7, 11.8, 9.6, 9.5, 9.3, 12.3, 11.4, 10.3, 10.9, 10.3, 10.0, 9.8, 11.0, 10.7, 10.2, 9.0, 9.1, 11.2, 9.2, 9.56666666666667, 11.3, 10.0, 11.0, 9.3, 9.5, 10.5, 9.5, 10.1, 9.5, 10.0, 11.0, 10.1, 10.7, 10.8, 12.9, 11.3, 8.7, 11.3, 10.2, 11.0, 11.4, 9.8, 9.6, 9.6, 10.5, 9.5, 9.55, 10.8, 9.9, 10.9, 11.2, 10.6, 11.6, 9.3, 9.4, 10.9, 10.9, 10.4, 9.5, 10.4, 9.4, 9.4, 9.5, 11.7, 10.3, 9.4, 11.8, 9.3, 13.3, 9.4, 12.0, 11.5, 11.3, 10.0, 9.9, 10.9, 9.5, 12.8, 10.4, 10.9, 9.4, 10.0, 9.5, 9.5, 12.8, 11.9, 9.5, 9.8, 10.1, 12.8, 9.5, 11.8, 10.0, 9.5, 10.5, 10.6, 9.5, 9.8, 9.2, 9.5, 11.8, 12.2, 10.1, 9.6, 10.0, 9.5, 12.1, 10.2, 9.2, 9.5, 11.1, 9.5, 11.5, 10.7, 10.0, 9.1, 10.0, 10.8, 13.6, 10.8, 10.8, 11.2, 11.5, 11.5, 10.0, 10.3, 11.9, 10.0, 9.7, 11.6, 10.8, 11.0, 11.3, 9.7, 11.5, 12.5, 9.7, 9.6, 10.2, 11.0, 9.6, 10.7, 9.2, 9.8, 9.8, 12.9, 10.0333333333333, 9.4, 9.3, 9.6, 10.9, 10.5, 11.3, 10.2, 10.1, 11.8, 9.4, 11.0, 11.2, 9.9, 11.1, 9.3, 10.6, 12.1, 9.6, 9.5, 9.7, 11.0, 9.6, 11.4, 9.8, 10.4, 10.3, 10.1, 9.6, 10.4, 9.5, 9.0, 12.8, 11.4, 9.2, 12.5, 9.4, 13.3, 10.4, 9.0, 9.4, 9.8, 11.0, 12.9, 9.9, 10.1, 11.3, 9.4, 9.7, 10.9, 9.6, 10.5, 9.6, 9.3, 11.5, 10.6, 12.7, 10.2, 9.4, 9.9, 10.5, 10.5, 10.0, 10.5, 9.2, 9.1, 9.5, 12.5, 9.4, 9.4, 11.4, 9.7, 10.5, 9.8, 10.9, 9.9, 10.4, 12.3, 12.4, 10.2, 11.2, 9.4, 10.8, 9.5, 10.7, 9.7, 12.8, 9.0, 9.3, 10.3, 12.4, 9.3, 11.0, 10.8, 9.4, 9.3, 9.8, 11.1, 11.8, 9.5, 9.3, 9.5, 10.5, 9.2, 9.4, 9.9, 10.9, 9.0, 12.9, 10.0, 10.4, 11.6, 10.4, 9.9, 10.2, 10.3, 9.5, 9.3, 12.7, 11.2, 9.8, 9.5, 10.8, 10.0, 10.6, 10.0, 10.5, 10.7, 9.5, 12.1, 10.5, 12.0, 10.7, 9.4, 11.7, 10.0, 10.8, 11.2, 12.2, 9.9, 10.1, 11.0, 11.7, 10.9, 11.3, 9.5, 9.0, 10.9, 10.2, 12.2, 11.5, 10.4, 9.0, 13.6, 9.9, 11.6, 10.0, 12.8, 11.6, 10.5, 9.5, 12.4, 9.0, 13.4, 10.6, 9.9, 10.8, 9.7, 9.3, 12.8, 10.1, 9.7, 10.8, 10.9, 9.3, 13.0, 9.3, 12.8, 11.0, 10.6, 10.5, 9.6, 11.5, 9.8, 9.9, 9.2, 11.0, 10.5, 9.2, 11.3, 9.4, 12.0, 9.2, 9.5, 13.5, 11.7, 9.2, 9.5, 9.0, 11.1, 9.9, 10.9, 9.7, 9.9, 9.9, 9.7, 9.5, 11.6, 10.1, 10.5, 9.6, 9.3, 9.5, 9.4, 11.9, 10.2, 10.3, 9.8, 11.7, 11.2, 11.0, 12.7, 11.7, 12.9, 13.0, 9.4, 11.2, 11.4, 9.4, 11.7, 10.7, 11.3, 10.7, 12.9, 11.1, 11.4, 12.3, 9.8, 9.4, 11.3, 9.4, 9.7, 9.2, 9.8, 9.6, 9.4, 9.2, 10.9, 9.6, 9.3, 14.9, 9.2, 9.5, 9.6, 9.6, 9.5, 12.3, 13.5666666666667, 9.4, 12.4, 10.1, 11.3, 10.3, 10.0333333333333, 9.2, 10.4, 10.8, 10.0, 9.4, 10.8, 10.0, 10.0, 10.2, 9.8, 9.4, 9.9, 10.2, 11.0, 9.3, 9.2, 11.6, 9.3, 9.2, 10.9, 9.2, 9.7, 9.6, 9.4, 10.1, 11.4, 12.6, 10.4, 10.5, 9.9, 10.2, 10.1, 10.2, 12.0, 10.1, 9.5, 9.5, 9.3, 12.8, 9.6, 9.5, 10.4, 9.1, 10.1, 9.8, 12.7, 11.8, 11.9, 13.0, 10.2, 10.1, 12.1, 9.9, 11.95, 12.4, 9.2, 10.8, 9.5, 11.8, 10.5, 9.5, 10.2, 9.4, 10.8, 11.2, 9.8, 10.8, 11.0, 9.23333333333333, 10.7, 9.5, 9.2, 9.9, 11.2, 10.5, 10.0, 9.5, 10.1, 12.1, 11.0, 10.0, 11.2, 9.5, 10.2, 9.0, 9.3, 11.4, 9.8, 12.0, 9.5, 11.2, 9.3, 11.6, 10.5, 11.0, 9.9, 12.2, 9.3, 11.0, 12.5, 10.4, 11.4, 9.6, 9.4, 10.3, 12.0, 9.8, 9.5, 11.3, 12.5, 12.4, 10.7, 10.2, 11.4, 9.6, 10.0, 10.3, 10.7, 11.0, 10.4, 10.4, 9.4, 10.3, 9.4, 10.3, 9.9, 9.2, 9.1, 9.8, 10.4, 9.4, 11.3, 12.5, 10.8, 9.4, 9.7, 12.5, 11.4, 10.5, 11.0, 9.7, 9.2, 11.9, 9.8, 10.0, 11.7, 10.5, 9.4, 9.6, 11.2, 9.5, 9.4, 10.0, 11.5, 9.8, 10.2, 10.1, 10.6, 9.6, 9.3, 11.0, 10.7, 9.4, 11.1, 10.0, 10.6, 10.1, 10.1, 12.6, 9.0, 11.4, 9.8, 9.3, 9.5, 9.4, 12.0, 9.8, 10.8, 9.4, 11.7, 11.5, 11.5, 11.0, 10.3, 10.6, 10.7, 11.2, 9.5, 11.5, 10.1, 10.0, 9.1, 9.8, 10.6, 11.0, 9.95, 10.5, 9.2, 9.8, 8.4, 9.5, 9.8, 11.5, 9.8, 9.5, 12.7, 9.5, 9.5, 9.3, 9.3, 10.2, 9.5, 10.0, 13.0, 12.2, 9.8, 11.1, 10.0, 11.1, 11.0, 14.0, 10.8, 10.5, 10.3, 9.5, 11.5, 11.0, 10.3, 9.5, 9.4, 9.4, 10.9, 12.5, 12.1, 9.8, 10.1, 9.5, 9.9, 9.9, 11.1, 10.9, 9.4, 11.2, 9.3, 10.7, 8.8, 9.8, 9.2, 10.7, 11.8, 11.0, 9.5, 9.6, 9.4, 9.9, 10.2, 9.4, 11.8, 9.7, 9.8, 9.8, 9.7, 11.8, 11.8, 9.0, 11.4, 9.9, 11.3, 12.8, 10.0, 11.7, 10.7, 12.8, 9.9, 9.5, 9.5, 10.3, 11.0, 14.0, 11.4, 12.9, 11.7, 9.5, 11.9, 9.3, 12.0, 11.4, 11.3, 9.0, 9.8, 9.8, 9.7, 9.4, 12.0, 9.9, 10.8, 11.0, 9.5, 10.9, 12.3, 10.8, 9.5, 10.5, 10.5, 9.4, 9.3, 9.5, 9.4, 10.7, 11.1, 9.5, 9.0, 9.8, 9.1, 9.5, 11.2, 9.7, 9.8, 11.1, 9.4, 9.5, 11.0, 11.1, 8.4, 9.0, 9.5, 11.5, 9.4, 9.2, 11.5, 10.3, 9.2, 10.3, 9.7, 11.7, 12.2, 9.9, 9.4, 11.4, 10.0, 9.5, 10.2, 9.5, 12.3, 11.9, 14.0, 10.1, 9.5, 9.7, 9.5, 9.2, 12.4, 10.0, 10.2, 9.2, 10.5, 11.2, 9.2, 10.1, 12.1, 9.7, 9.6, 12.5, 11.4, 12.2, 9.2, 9.7, 10.9, 10.1, 11.1, 10.5, 9.4, 9.5, 11.3, 10.8, 10.1, 12.3, 11.3, 11.9, 11.3, 10.6, 11.0, 9.9, 12.0, 10.1, 11.0, 10.0, 10.5, 9.8, 10.6, 9.9, 10.4, 10.2, 10.5, 13.1, 11.1, 11.0, 9.7, 9.9, 10.5, 9.8, 12.8, 9.2, 11.3, 11.2, 9.4, 9.8, 10.5, 9.8, 11.6, 12.3, 9.1, 10.6, 9.6, 9.0, 9.7, 9.7, 9.2, 9.7, 11.3, 10.0, 10.1, 10.3, 12.7, 9.4, 9.5, 9.8, 8.7, 11.4, 11.4, 9.3, 11.4, 10.3, 11.2, 10.7, 11.8, 9.1, 10.6, 11.2, 12.6, 11.8, 10.0, 10.4, 9.5, 9.7, 10.9, 10.55, 10.5, 11.4, 12.4, 9.4, 9.5, 10.7, 9.4, 9.8, 11.3, 10.5, 11.0, 10.6, 10.5, 9.1, 9.5, 10.2, 9.5, 9.7, 11.9, 10.5, 9.2, 11.4, 11.2, 9.5, 9.8, 9.2, 9.6, 9.3, 9.1, 9.3, 10.9, 10.9, 12.3, 10.8, 9.4, 9.5, 12.1, 10.4, 12.0, 11.8, 9.8, 10.4, 9.4, 10.0, 9.5, 12.7, 9.8, 10.2, 11.5, 9.8, 9.5, 12.2, 9.9, 11.7, 10.1, 10.2, 12.5, 9.1, 11.3, 11.3, 11.1, 10.0, 9.7, 11.2, 9.4, 9.2, 9.1, 9.0, 10.1, 10.4, 9.5, 10.3, 11.5, 9.8, 9.7, 12.8, 9.8, 10.6, 12.3, 9.8, 10.4, 9.5, 9.5, 9.2, 9.6, 10.6, 9.6, 10.9, 11.0, 10.4, 9.6, 10.6, 9.9, 11.2, 9.7, 9.6, 10.9, 9.2, 10.0, 10.8, 9.4, 9.5, 9.6, 10.4, 9.5, 12.0, 12.3, 9.5, 10.8, 10.8, 10.2, 9.2, 9.7, 10.2, 10.4, 9.6, 9.6, 12.5, 11.1, 10.2, 9.2, 10.2, 10.3, 9.0, 9.6, 9.5, 9.9, 9.8, 13.0, 9.4, 10.0, 12.7, 9.4, 9.5, 9.5, 12.9, 9.5, 11.2, 10.8, 10.1, 12.5, 10.7, 10.8, 10.5, 10.3, 11.1, 12.5, 9.6, 9.2, 9.2, 9.4, 9.8, 9.2, 9.4, 11.9, 12.0, 9.2, 11.8, 10.5, 9.8, 12.4, 10.7, 9.9, 9.3, 9.1, 9.6, 10.5, 9.4, 9.6, 11.8, 10.1, 9.8, 13.3, 11.8, 8.5, 11.0, 10.3, 12.5, 9.7, 11.8, 12.0, 10.0, 11.5, 12.6, 10.5, 10.9, 11.4, 11.0, 9.7, 10.0, 9.3, 10.5, 9.9, 9.0, 11.0, 10.9, 9.5, 10.0, 9.6, 9.1, 10.2, 11.4, 9.6, 9.8, 10.1, 9.4, 9.0, 9.1, 10.4, 10.2, 9.4, 10.0, 9.5, 10.9, 9.5, 9.2, 10.2, 9.3, 11.2, 11.4, 9.8, 10.9, 10.4, 9.4, 10.9, 10.8, 9.5, 9.7, 12.8, 11.1, 11.4, 9.6, 9.6, 10.1, 10.4, 10.0, 11.1, 10.0, 10.9, 10.6, 9.6, 10.5, 11.3, 14.0, 11.1, 11.3, 9.9, 11.7, 9.4, 13.6, 10.4, 9.7, 9.7, 10.5, 11.8, 10.1, 9.4, 9.9, 9.0, 10.9, 10.2, 9.4, 9.3, 9.8, 9.8, 9.5, 10.0, 10.9, 11.0, 10.4, 12.6, 11.5, 9.1, 9.3, 9.3, 9.6, 11.0] not found in axis'"
     ]
    }
   ],
   "source": [
    "from sklearn.preprocessing import StandardScaler\n",
    "\n",
    "# Separar variables predictoras (X) y variable objetivo (y)\n",
    "X = df.drop(columns='alcohol')\n",
    "y = df['alcohol']\n",
    "\n",
    "# Dividir en conjunto de entrenamiento y prueba\n",
    "X_train, X_test, y_train, y_test = train_test_split(X, y, test_size=0.2, random_state=69)\n",
    "\n",
    "# Aplicar StandardScaler solo a las variables predictoras\n",
    "scaler = StandardScaler()\n",
    "X_train_scaled = scaler.fit_transform(X_train)\n",
    "X_test_scaled = scaler.transform(X_test)  # Usar los mismos parámetros de escalado\n",
    "\n",
    "# 🔹 Convertir de vuelta a DataFrame para evitar problemas\n",
    "X_train_scaled = pd.DataFrame(X_train_scaled, columns=X_train.columns, index=X_train.index)\n",
    "X_test_scaled = pd.DataFrame(X_test_scaled, columns=X_test.columns, index=X_test.index)\n",
    "\n",
    "\n",
    "# Crear y entrenar el modelo\n",
    "model = LinearRegressionBootcamp(normalized=False)  # Ya estamos normalizando con StandardScaler\n",
    "model.fit(X_train_scaled, y_train)\n",
    "\n",
    "# Obtener coeficientes e intercepto\n",
    "print(\"Intercepto:\", model.intercepto)\n",
    "print(\"Coeficientes:\", model.coeficientes)\n",
    "\n",
    "# Hacer predicciones\n",
    "y_pred = model.predict(X_test_scaled)\n",
    "\n",
    "# Evaluar el modelo\n",
    "rmse = np.sqrt(mean_squared_error(y_test, y_pred))\n",
    "r2 = r2_score(y_test, y_pred)\n",
    "mape = mean_absolute_percentage_error(y_test, y_pred)\n",
    "\n",
    "print(\"RMSE:\", rmse)\n",
    "print(\"R2:\", r2)\n",
    "print(\"MAPE:\", mape)"
   ]
  }
 ],
 "metadata": {
  "kernelspec": {
   "display_name": "bootcamp-ds-XDMmNXh0-py3.13",
   "language": "python",
   "name": "python3"
  },
  "language_info": {
   "codemirror_mode": {
    "name": "ipython",
    "version": 3
   },
   "file_extension": ".py",
   "mimetype": "text/x-python",
   "name": "python",
   "nbconvert_exporter": "python",
   "pygments_lexer": "ipython3",
   "version": "3.13.0"
  }
 },
 "nbformat": 4,
 "nbformat_minor": 2
}
